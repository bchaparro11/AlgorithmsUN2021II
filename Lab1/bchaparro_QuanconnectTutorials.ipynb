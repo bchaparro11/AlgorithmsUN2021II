{
  "nbformat": 4,
  "nbformat_minor": 0,
  "metadata": {
    "colab": {
      "name": "bchaparro_QuanconnectTutorials.ipynb",
      "provenance": []
    },
    "kernelspec": {
      "name": "python3",
      "display_name": "Python 3"
    },
    "language_info": {
      "name": "python"
    }
  },
  "cells": [
    {
      "cell_type": "markdown",
      "metadata": {
        "id": "0mVMIBTvdjSZ"
      },
      "source": [
        "# **Introduction to Financial Python**"
      ]
    },
    {
      "cell_type": "markdown",
      "metadata": {
        "id": "ZKUnd6CidReB"
      },
      "source": [
        "## **Data Types and Data Structures (Tutorial #1)** "
      ]
    },
    {
      "cell_type": "markdown",
      "metadata": {
        "id": "_8OZCIQS63Bu"
      },
      "source": [
        "**1. Basic Variable Types**\n",
        "\n",
        "The basic types of variables in Python are: strings, integers, floating point numbers and booleans.\n",
        "\n",
        "Strings in python are identified as a contiguous set of characters represented in either single quotes (' ') or double quotes (\" \")."
      ]
    },
    {
      "cell_type": "code",
      "metadata": {
        "colab": {
          "base_uri": "https://localhost:8080/"
        },
        "id": "cQ36mseH5wmg",
        "outputId": "a5812705-8912-4c35-ff64-207a5e41a961"
      },
      "source": [
        "my_string1 = 'Welcome to'\n",
        "my_string2 = \"QuantConnect\"\n",
        "print(my_string1 + ' ' + my_string2)"
      ],
      "execution_count": null,
      "outputs": [
        {
          "output_type": "stream",
          "name": "stdout",
          "text": [
            "Welcome to QuantConnect\n"
          ]
        }
      ]
    },
    {
      "cell_type": "markdown",
      "metadata": {
        "id": "hBYPTaYA8Z1H"
      },
      "source": [
        "**My code:**"
      ]
    },
    {
      "cell_type": "code",
      "metadata": {
        "colab": {
          "base_uri": "https://localhost:8080/"
        },
        "id": "42mLiTs_8gT3",
        "outputId": "1711d9e6-6133-451a-aea7-f60f60bc562a"
      },
      "source": [
        "string1 = 'Welcome to'\n",
        "string2 = \"My first code\"\n",
        "print(string1 + ' ' + string2)"
      ],
      "execution_count": null,
      "outputs": [
        {
          "output_type": "stream",
          "name": "stdout",
          "text": [
            "Welcome to My first code\n"
          ]
        }
      ]
    },
    {
      "cell_type": "markdown",
      "metadata": {
        "id": "Cx8XzR_A9A9x"
      },
      "source": [
        "**2.** An integer is a round number with no values after the decimal point"
      ]
    },
    {
      "cell_type": "code",
      "metadata": {
        "colab": {
          "base_uri": "https://localhost:8080/"
        },
        "id": "5OCXcpne9Ggf",
        "outputId": "9402e2f0-1abd-457f-e88d-8fcf79c17202"
      },
      "source": [
        "my_int = 10\n",
        "print(my_int)\n",
        "print(type(my_int))"
      ],
      "execution_count": null,
      "outputs": [
        {
          "output_type": "stream",
          "name": "stdout",
          "text": [
            "10\n",
            "<class 'int'>\n"
          ]
        }
      ]
    },
    {
      "cell_type": "markdown",
      "metadata": {
        "id": "xqwzY16h9P4P"
      },
      "source": [
        "**My code:**"
      ]
    },
    {
      "cell_type": "code",
      "metadata": {
        "colab": {
          "base_uri": "https://localhost:8080/"
        },
        "id": "NVkYB0GR9UFA",
        "outputId": "0a518c96-ebfe-466f-c328-ed2723728f13"
      },
      "source": [
        "integer = 777\n",
        "print(integer)\n",
        "print(type(integer))"
      ],
      "execution_count": null,
      "outputs": [
        {
          "output_type": "stream",
          "name": "stdout",
          "text": [
            "777\n",
            "<class 'int'>\n"
          ]
        }
      ]
    },
    {
      "cell_type": "markdown",
      "metadata": {
        "id": "KC3hgfZL9cmm"
      },
      "source": [
        "**3.** The built-in function int() can convert a string into an integer"
      ]
    },
    {
      "cell_type": "code",
      "metadata": {
        "colab": {
          "base_uri": "https://localhost:8080/"
        },
        "id": "Cb-iUtCI9tCp",
        "outputId": "6d1eabe7-697d-4ead-d16c-49981cfdbb5e"
      },
      "source": [
        "my_string = \"100\"\n",
        "print(type(my_string))\n",
        "my_int = int(my_string)\n",
        "print(type(my_int))\n"
      ],
      "execution_count": null,
      "outputs": [
        {
          "output_type": "stream",
          "name": "stdout",
          "text": [
            "<class 'str'>\n",
            "<class 'int'>\n"
          ]
        }
      ]
    },
    {
      "cell_type": "markdown",
      "metadata": {
        "id": "2Z__lHOH9zgx"
      },
      "source": [
        "**My code:**"
      ]
    },
    {
      "cell_type": "code",
      "metadata": {
        "colab": {
          "base_uri": "https://localhost:8080/"
        },
        "id": "6UQNApgL940Z",
        "outputId": "a6798261-eaa1-4696-e66a-8ceb7d7b1a05"
      },
      "source": [
        "string = \"777\"\n",
        "print(type(string))\n",
        "integer = int(integer)\n",
        "print(type(integer))"
      ],
      "execution_count": null,
      "outputs": [
        {
          "output_type": "stream",
          "name": "stdout",
          "text": [
            "<class 'str'>\n",
            "<class 'int'>\n"
          ]
        }
      ]
    },
    {
      "cell_type": "markdown",
      "metadata": {
        "id": "_K8CW2EnMpSl"
      },
      "source": [
        "**4.** A floating point number, or a float, is a real number in mathematics. In Python we need to include a value after a decimal point to define it as a float"
      ]
    },
    {
      "cell_type": "code",
      "metadata": {
        "colab": {
          "base_uri": "https://localhost:8080/"
        },
        "id": "Z-H83bC3M6_l",
        "outputId": "284befc2-5354-4878-e24a-7fd24a315e70"
      },
      "source": [
        "my_float = 1.0\n",
        "print(type(my_float))\n",
        "my_int = 1\n",
        "print(type(my_int))"
      ],
      "execution_count": null,
      "outputs": [
        {
          "output_type": "stream",
          "name": "stdout",
          "text": [
            "<class 'float'>\n",
            "<class 'int'>\n"
          ]
        }
      ]
    },
    {
      "cell_type": "markdown",
      "metadata": {
        "id": "vPQqUjgYNKl7"
      },
      "source": [
        "**My code:**"
      ]
    },
    {
      "cell_type": "code",
      "metadata": {
        "colab": {
          "base_uri": "https://localhost:8080/"
        },
        "id": "U_aOUWEyNPOj",
        "outputId": "f6edc2c4-37a3-46bf-f447-60743aa698c0"
      },
      "source": [
        "floating = 434.7\n",
        "print(type(floating))\n",
        "integer = 209\n",
        "print(type(integer))"
      ],
      "execution_count": null,
      "outputs": [
        {
          "output_type": "stream",
          "name": "stdout",
          "text": [
            "<class 'float'>\n",
            "<class 'int'>\n"
          ]
        }
      ]
    },
    {
      "cell_type": "markdown",
      "metadata": {
        "id": "mcUwCu2GNsX7"
      },
      "source": [
        "**5.** As you can see above, if we don't include a decimal value, the variable would be defined as an integer. The built-in function float() can convert a string or an integer into a float"
      ]
    },
    {
      "cell_type": "code",
      "metadata": {
        "colab": {
          "base_uri": "https://localhost:8080/"
        },
        "id": "IM1jmxxWNxTF",
        "outputId": "9d093d09-2095-4791-eac2-f420de2125fb"
      },
      "source": [
        "my_string = \"100\"\n",
        "my_float = float(my_string)\n",
        "print(type(my_float))"
      ],
      "execution_count": null,
      "outputs": [
        {
          "output_type": "stream",
          "name": "stdout",
          "text": [
            "<class 'float'>\n"
          ]
        }
      ]
    },
    {
      "cell_type": "markdown",
      "metadata": {
        "id": "rc_dnCFSN1lb"
      },
      "source": [
        "**My code:**"
      ]
    },
    {
      "cell_type": "code",
      "metadata": {
        "colab": {
          "base_uri": "https://localhost:8080/"
        },
        "id": "OFuAbOi6N5jN",
        "outputId": "d19512a1-ae18-479c-b519-b3d5db31c7f4"
      },
      "source": [
        "string = \"434.7\"\n",
        "float1 = float(string)\n",
        "print(type(float1))"
      ],
      "execution_count": null,
      "outputs": [
        {
          "output_type": "stream",
          "name": "stdout",
          "text": [
            "<class 'float'>\n"
          ]
        }
      ]
    },
    {
      "cell_type": "markdown",
      "metadata": {
        "id": "tR_GGnLtOEkj"
      },
      "source": [
        "**6.** A boolean, or bool, is a binary variable. Its value can only be True or False. It is useful when we do some logic operations, which would be covered in our next chapter"
      ]
    },
    {
      "cell_type": "code",
      "metadata": {
        "colab": {
          "base_uri": "https://localhost:8080/"
        },
        "id": "yv13i4UtOP9p",
        "outputId": "6454137e-2fd2-4106-da40-56ebbee5d59b"
      },
      "source": [
        "my_bool = False\n",
        "print(my_bool)\n",
        "print(type(my_bool))"
      ],
      "execution_count": null,
      "outputs": [
        {
          "output_type": "stream",
          "name": "stdout",
          "text": [
            "False\n",
            "<class 'bool'>\n"
          ]
        }
      ]
    },
    {
      "cell_type": "markdown",
      "metadata": {
        "id": "YvPqrsumOTZr"
      },
      "source": [
        "**My code:**"
      ]
    },
    {
      "cell_type": "code",
      "metadata": {
        "colab": {
          "base_uri": "https://localhost:8080/"
        },
        "id": "Ru4L4CUCOXdi",
        "outputId": "791bab75-4d42-4880-858a-32ae0f383ef3"
      },
      "source": [
        "boolean = False\n",
        "print(boolean)\n",
        "print(type(boolean))"
      ],
      "execution_count": null,
      "outputs": [
        {
          "output_type": "stream",
          "name": "stdout",
          "text": [
            "False\n",
            "<class 'bool'>\n"
          ]
        }
      ]
    },
    {
      "cell_type": "markdown",
      "metadata": {
        "id": "0EMioVtpOeCa"
      },
      "source": [
        "**7. Basic Math Operations**\n",
        "\n",
        "The basic math operators in python are demonstrated below:"
      ]
    },
    {
      "cell_type": "code",
      "metadata": {
        "colab": {
          "base_uri": "https://localhost:8080/"
        },
        "id": "st9VsOQMOvXt",
        "outputId": "9fe9a4ae-57eb-4488-da65-556e8768f29a"
      },
      "source": [
        "print(\"Addition \", 1+1)\n",
        "print(\"Subtraction \", 5-2)\n",
        "print(\"Multiplication \", 2*3)\n",
        "print(\"Division\", 10/2)\n",
        "print(\"exponent\", 2**3)"
      ],
      "execution_count": null,
      "outputs": [
        {
          "output_type": "stream",
          "name": "stdout",
          "text": [
            "Addition  2\n",
            "Subtraction  3\n",
            "Multiplication  6\n",
            "Division 5.0\n",
            "exponent 8\n"
          ]
        }
      ]
    },
    {
      "cell_type": "markdown",
      "metadata": {
        "id": "doBNYri2O-B7"
      },
      "source": [
        "**My code:**"
      ]
    },
    {
      "cell_type": "code",
      "metadata": {
        "colab": {
          "base_uri": "https://localhost:8080/"
        },
        "id": "7pzt2ELyPAmz",
        "outputId": "a9300615-f383-4bf7-adde-cf0ebbaa8714"
      },
      "source": [
        "print(\"Addition \", 100+1)\n",
        "print(\"Subtraction \", 5-245)\n",
        "print(\"Multiplication \", 2*300)\n",
        "print(\"Division\", 500/2)\n",
        "print(\"exponent\", 2**8)"
      ],
      "execution_count": null,
      "outputs": [
        {
          "output_type": "stream",
          "name": "stdout",
          "text": [
            "Addition  101\n",
            "Subtraction  -240\n",
            "Multiplication  600\n",
            "Division 250.0\n",
            "exponent 256\n"
          ]
        }
      ]
    },
    {
      "cell_type": "markdown",
      "metadata": {
        "id": "nuV6fo4RPUEY"
      },
      "source": [
        "**8. Data Collections**\n",
        "\n",
        "**List**\n",
        "\n",
        "A list is an ordered collection of values. A list is mutable, which means you can change a list's value without changing the list itself. Creating a list is simply putting different comma-separated values between square brackets."
      ]
    },
    {
      "cell_type": "code",
      "metadata": {
        "colab": {
          "base_uri": "https://localhost:8080/"
        },
        "id": "f7Es0AsJPsEd",
        "outputId": "22ae2ad3-7b54-4717-c81a-7c8b9fcc07bf"
      },
      "source": [
        "my_list = ['Quant', 'Connect', 1,2,3]\n",
        "print(my_list)"
      ],
      "execution_count": null,
      "outputs": [
        {
          "output_type": "stream",
          "name": "stdout",
          "text": [
            "['Quant', 'Connect', 1, 2, 3]\n"
          ]
        }
      ]
    },
    {
      "cell_type": "markdown",
      "metadata": {
        "id": "JRcpckPFPu97"
      },
      "source": [
        "**My code:**"
      ]
    },
    {
      "cell_type": "code",
      "metadata": {
        "colab": {
          "base_uri": "https://localhost:8080/"
        },
        "id": "gH0zvuVxPzFT",
        "outputId": "85f301a2-9e39-4514-ec1e-f91b1e20f74d"
      },
      "source": [
        "list1 = ['Algorithms', 'UNAL', 1,2,3]\n",
        "print(list1)"
      ],
      "execution_count": null,
      "outputs": [
        {
          "output_type": "stream",
          "name": "stdout",
          "text": [
            "['Algorithms', 'UNAL', 1, 2, 3]\n"
          ]
        }
      ]
    },
    {
      "cell_type": "markdown",
      "metadata": {
        "id": "RmdwXHdyP_Zu"
      },
      "source": [
        "**9.** The values in a list are called \"elements\". We can access list elements by indexing. Python index starts from 0. So if you have a list of length n, the index of the first element will be 0, and that of the last element will be n − 1. By the way, the length of a list can be obtained by the built-in function len()."
      ]
    },
    {
      "cell_type": "code",
      "metadata": {
        "colab": {
          "base_uri": "https://localhost:8080/"
        },
        "id": "UEOy1qj5RhsQ",
        "outputId": "d542b930-e6f0-48a0-82ae-96bd7c453855"
      },
      "source": [
        "my_list = ['Quant', 'Connect', 1,2,3]\n",
        "print(len(my_list))\n",
        "print(my_list[0])\n",
        "print(my_list[len(my_list) - 1])"
      ],
      "execution_count": null,
      "outputs": [
        {
          "output_type": "stream",
          "name": "stdout",
          "text": [
            "5\n",
            "Quant\n",
            "3\n"
          ]
        }
      ]
    },
    {
      "cell_type": "markdown",
      "metadata": {
        "id": "nLiK17TyRvJS"
      },
      "source": [
        "**My code:**"
      ]
    },
    {
      "cell_type": "code",
      "metadata": {
        "colab": {
          "base_uri": "https://localhost:8080/"
        },
        "id": "NBb3lQUHRxyI",
        "outputId": "0424098d-8b9d-49e2-fe43-e6984cd247ab"
      },
      "source": [
        "list1 = ['Algorithms', 'UNAL', 1,2,3]\n",
        "print(len(list1))\n",
        "print(list1[0])\n",
        "print(list1[len(list1) - 1])"
      ],
      "execution_count": null,
      "outputs": [
        {
          "output_type": "stream",
          "name": "stdout",
          "text": [
            "5\n",
            "Algorithms\n",
            "3\n"
          ]
        }
      ]
    },
    {
      "cell_type": "markdown",
      "metadata": {
        "id": "NUcjXyQFSVip"
      },
      "source": [
        "**10.** You can also change the elements in the list by accessing an index and assigning a new value."
      ]
    },
    {
      "cell_type": "code",
      "metadata": {
        "colab": {
          "base_uri": "https://localhost:8080/"
        },
        "id": "piEaegzuSaFw",
        "outputId": "d9bb9a7c-430a-4455-e958-1a847d24be56"
      },
      "source": [
        "my_list = ['Quant','Connect',1,2,3]\n",
        "my_list[2] = 'go'\n",
        "print(my_list)"
      ],
      "execution_count": null,
      "outputs": [
        {
          "output_type": "stream",
          "name": "stdout",
          "text": [
            "['Quant', 'Connect', 'go', 2, 3]\n"
          ]
        }
      ]
    },
    {
      "cell_type": "markdown",
      "metadata": {
        "id": "6_2AeetCSdFo"
      },
      "source": [
        "**My code:**"
      ]
    },
    {
      "cell_type": "code",
      "metadata": {
        "colab": {
          "base_uri": "https://localhost:8080/"
        },
        "id": "m0DI38EISkcH",
        "outputId": "0fc6ed2b-4fa8-43c2-807f-fbc8ff5f626d"
      },
      "source": [
        "list1 = ['Alhorithms','UNAL',1,2,3]\n",
        "list1[2] = 'Bogota'\n",
        "print(list1)"
      ],
      "execution_count": null,
      "outputs": [
        {
          "output_type": "stream",
          "name": "stdout",
          "text": [
            "['Alhorithms', 'UNAL', 'Bogota', 2, 3]\n"
          ]
        }
      ]
    },
    {
      "cell_type": "markdown",
      "metadata": {
        "id": "ZWfqtturS_qw"
      },
      "source": [
        "**11.** A list can also be sliced with a colon:"
      ]
    },
    {
      "cell_type": "code",
      "metadata": {
        "colab": {
          "base_uri": "https://localhost:8080/"
        },
        "id": "SpknNUjPTMPA",
        "outputId": "fdb91746-097a-484e-b0f6-c42bd566badb"
      },
      "source": [
        "my_list = ['Quant','Connect',1,2,3]\n",
        "print(my_list[1:3])"
      ],
      "execution_count": null,
      "outputs": [
        {
          "output_type": "stream",
          "name": "stdout",
          "text": [
            "['Connect', 1]\n"
          ]
        }
      ]
    },
    {
      "cell_type": "markdown",
      "metadata": {
        "id": "V2lPh2OyTOkw"
      },
      "source": [
        "**My code:**"
      ]
    },
    {
      "cell_type": "code",
      "metadata": {
        "colab": {
          "base_uri": "https://localhost:8080/"
        },
        "id": "iKqH3XE8TSAw",
        "outputId": "8ab192a1-1dc6-4cbf-d82f-c79ebc838ece"
      },
      "source": [
        "list1 = ['Algorithms','UNAL',1,2,3]\n",
        "print(list1[1:4])"
      ],
      "execution_count": null,
      "outputs": [
        {
          "output_type": "stream",
          "name": "stdout",
          "text": [
            "['UNAL', 1, 2]\n"
          ]
        }
      ]
    },
    {
      "cell_type": "markdown",
      "metadata": {
        "id": "c3N4zWtUThsB"
      },
      "source": [
        "**12.** The slice starts from the first element indicated, but excludes the last element indicated. Here we select all elements starting from index 1, which refers to the second element:"
      ]
    },
    {
      "cell_type": "code",
      "metadata": {
        "colab": {
          "base_uri": "https://localhost:8080/"
        },
        "id": "B5t59gM0Tpng",
        "outputId": "619a8dad-048a-4abe-954d-54c35323519c"
      },
      "source": [
        "print(my_list[1:])"
      ],
      "execution_count": null,
      "outputs": [
        {
          "output_type": "stream",
          "name": "stdout",
          "text": [
            "['Connect', 1, 2, 3]\n"
          ]
        }
      ]
    },
    {
      "cell_type": "markdown",
      "metadata": {
        "id": "IfwaqqpGTtC7"
      },
      "source": [
        "**My code (The slice starts form the second element):**"
      ]
    },
    {
      "cell_type": "code",
      "metadata": {
        "colab": {
          "base_uri": "https://localhost:8080/"
        },
        "id": "hzwCz7XCTwS5",
        "outputId": "36a315b8-4427-4817-be57-aa5ce3adeb68"
      },
      "source": [
        "print(list1[2:])"
      ],
      "execution_count": null,
      "outputs": [
        {
          "output_type": "stream",
          "name": "stdout",
          "text": [
            "[1, 2, 3]\n"
          ]
        }
      ]
    },
    {
      "cell_type": "markdown",
      "metadata": {
        "id": "bmRkH12PT3B3"
      },
      "source": [
        "**13.** And all elements up to but excluding index 3:"
      ]
    },
    {
      "cell_type": "code",
      "metadata": {
        "colab": {
          "base_uri": "https://localhost:8080/"
        },
        "id": "IqKzeEq5UOIA",
        "outputId": "5c3434e4-1ae6-44a3-de09-ac19b702f4b9"
      },
      "source": [
        "print(my_list[:3])"
      ],
      "execution_count": null,
      "outputs": [
        {
          "output_type": "stream",
          "name": "stdout",
          "text": [
            "['Quant', 'Connect', 1]\n"
          ]
        }
      ]
    },
    {
      "cell_type": "markdown",
      "metadata": {
        "id": "SkGOrhfAUTGZ"
      },
      "source": [
        "**My code (And all elements up to but excluding index 4:):**"
      ]
    },
    {
      "cell_type": "code",
      "metadata": {
        "colab": {
          "base_uri": "https://localhost:8080/"
        },
        "id": "e76_zvIWUiAI",
        "outputId": "6077f724-1d60-46c4-8a1d-b5eb6bca2981"
      },
      "source": [
        "print(list1[:4])"
      ],
      "execution_count": null,
      "outputs": [
        {
          "output_type": "stream",
          "name": "stdout",
          "text": [
            "['Algorithms', 'UNAL', 1, 2]\n"
          ]
        }
      ]
    },
    {
      "cell_type": "markdown",
      "metadata": {
        "id": "6gleGADyUmCg"
      },
      "source": [
        "**14.** If you wish to add or remove an element from a list, you can use the append() and remove() methods for lists as follows:"
      ]
    },
    {
      "cell_type": "code",
      "metadata": {
        "colab": {
          "base_uri": "https://localhost:8080/"
        },
        "id": "YA4wmWO7UxWn",
        "outputId": "cd2d499c-2f1c-4469-ee48-23c1af227497"
      },
      "source": [
        "my_list = ['Hello', 'Quant']\n",
        "my_list.append('Hello')\n",
        "print(my_list)\n",
        "my_list.remove('Hello')\n",
        "print(my_list)"
      ],
      "execution_count": null,
      "outputs": [
        {
          "output_type": "stream",
          "name": "stdout",
          "text": [
            "['Hello', 'Quant', 'Hello']\n",
            "['Quant', 'Hello']\n"
          ]
        }
      ]
    },
    {
      "cell_type": "markdown",
      "metadata": {
        "id": "M9NfBHvPU4_h"
      },
      "source": [
        "**My code:**"
      ]
    },
    {
      "cell_type": "code",
      "metadata": {
        "colab": {
          "base_uri": "https://localhost:8080/"
        },
        "id": "HDxGLxUDU8QA",
        "outputId": "1b7a44ec-fe8f-44cc-fcd3-171e927a7b21"
      },
      "source": [
        "list1 = ['Algorithms', 'UNAL']\n",
        "list1.append('Algorithms')\n",
        "print(list1)\n",
        "list1.remove('Algorithms')\n",
        "print(list1)"
      ],
      "execution_count": null,
      "outputs": [
        {
          "output_type": "stream",
          "name": "stdout",
          "text": [
            "['Algorithms', 'UNAL', 'Algorithms']\n",
            "['UNAL', 'Algorithms']\n"
          ]
        }
      ]
    },
    {
      "cell_type": "markdown",
      "metadata": {
        "id": "dC3pk343VQCR"
      },
      "source": [
        "**15. Tuple**\n",
        "\n",
        "A tuple is a data structure type similar to a list. The difference is that a tuple is immutable, which means you can't change the elements in it once it's defined. We create a tuple by putting comma-separated values between parentheses."
      ]
    },
    {
      "cell_type": "code",
      "metadata": {
        "id": "IgBd7dsoVcyY"
      },
      "source": [
        "my_tuple = ('Welcome','to','QuantConnect')"
      ],
      "execution_count": null,
      "outputs": []
    },
    {
      "cell_type": "markdown",
      "metadata": {
        "id": "uSKAhVtFVmfC"
      },
      "source": [
        "**My code:**"
      ]
    },
    {
      "cell_type": "code",
      "metadata": {
        "id": "q_XyiJdlVorp"
      },
      "source": [
        "tuple1 = ('Welcome','to','UNAL')"
      ],
      "execution_count": null,
      "outputs": []
    },
    {
      "cell_type": "markdown",
      "metadata": {
        "id": "tQhP31fHVtQp"
      },
      "source": [
        "**16.** Just like a list, a tuple can be sliced by using index."
      ]
    },
    {
      "cell_type": "code",
      "metadata": {
        "colab": {
          "base_uri": "https://localhost:8080/"
        },
        "id": "H0BNsm1PV1OR",
        "outputId": "3feb9c3f-40fd-49c1-ecaf-0d99b24f0edd"
      },
      "source": [
        "my_tuple = ('Welcome','to','QuantConnect')\n",
        "print(my_tuple[1:])"
      ],
      "execution_count": null,
      "outputs": [
        {
          "output_type": "stream",
          "name": "stdout",
          "text": [
            "('to', 'QuantConnect')\n"
          ]
        }
      ]
    },
    {
      "cell_type": "markdown",
      "metadata": {
        "id": "dHEUjldaV51x"
      },
      "source": [
        "**My code:**"
      ]
    },
    {
      "cell_type": "code",
      "metadata": {
        "colab": {
          "base_uri": "https://localhost:8080/"
        },
        "id": "YYUJaSNLV-Jf",
        "outputId": "891ba0e1-9fb4-4bd6-fdf2-53b91f7c28b2"
      },
      "source": [
        "tuple1 = ('Welcome','to','UNAL')\n",
        "print(tuple1[1:])"
      ],
      "execution_count": null,
      "outputs": [
        {
          "output_type": "stream",
          "name": "stdout",
          "text": [
            "('to', 'UNAL')\n"
          ]
        }
      ]
    },
    {
      "cell_type": "markdown",
      "metadata": {
        "id": "65YIP1sOWDsX"
      },
      "source": [
        "**17.** **Set**\n",
        "\n",
        "A set is an unordered collection with no duplicate elements. The built-in function set() can be used to create sets."
      ]
    },
    {
      "cell_type": "code",
      "metadata": {
        "colab": {
          "base_uri": "https://localhost:8080/"
        },
        "id": "JlHj1tcZWTGi",
        "outputId": "eab67adb-0b93-4c84-f7ba-fc4b938b7a9b"
      },
      "source": [
        "stock_list = ['AAPL','GOOG','IBM','AAPL','IBM','FB','F','GOOG']\n",
        "stock_set = set(stock_list)\n",
        "print(stock_set)"
      ],
      "execution_count": null,
      "outputs": [
        {
          "output_type": "stream",
          "name": "stdout",
          "text": [
            "{'F', 'AAPL', 'GOOG', 'IBM', 'FB'}\n"
          ]
        }
      ]
    },
    {
      "cell_type": "markdown",
      "metadata": {
        "id": "B12GrCreWb7h"
      },
      "source": [
        "**My code:**"
      ]
    },
    {
      "cell_type": "code",
      "metadata": {
        "colab": {
          "base_uri": "https://localhost:8080/"
        },
        "id": "gna1UGSKXWvk",
        "outputId": "2cc63a3d-387c-48ba-d137-0a4a10150a16"
      },
      "source": [
        "listin = ['UNAL','DISTRITAL','PEDAGOGICA','UIS','UNAL','UNAL','UIS','UNAL']\n",
        "setin = set(listin)\n",
        "print(setin)"
      ],
      "execution_count": null,
      "outputs": [
        {
          "output_type": "stream",
          "name": "stdout",
          "text": [
            "{'DISTRITAL', 'UNAL', 'PEDAGOGICA', 'UIS'}\n"
          ]
        }
      ]
    },
    {
      "cell_type": "markdown",
      "metadata": {
        "id": "9AFcOz-7XqM9"
      },
      "source": [
        "**18. Dictionary**\n",
        "\n",
        "A dictionary is one of the most important data structures in Python. Unlike sequences which are indexed by integers, dictionaries are indexed by keys which can be either strings or floats.\n",
        "\n",
        "A dictionary is an unordered collection of key : value pairs, with the requirement that the keys are unique. We create a dictionary by placing a comma-separated list of key : value pairs within the braces."
      ]
    },
    {
      "cell_type": "code",
      "metadata": {
        "id": "KApG-VAvYba2"
      },
      "source": [
        "my_dic = {'AAPL': 'Apple', 'FB': 'FaceBook', 'GOOG': 'Alphabet'}"
      ],
      "execution_count": null,
      "outputs": []
    },
    {
      "cell_type": "markdown",
      "metadata": {
        "id": "OYCMrhJaYinJ"
      },
      "source": [
        "**My code:**"
      ]
    },
    {
      "cell_type": "code",
      "metadata": {
        "id": "ZvMXnnKkYlfX"
      },
      "source": [
        "dic1 = {'UNAL': 'Universidad Nacional', 'DISTRITAL': 'Universidad Distrital', 'PEDAGOGICA': 'Universidad Pedagogica'}"
      ],
      "execution_count": null,
      "outputs": []
    },
    {
      "cell_type": "markdown",
      "metadata": {
        "id": "tkenVIyyYxYk"
      },
      "source": [
        "**19.** After defining a dictionary, we can access any value by indicating its key in brackets.\n",
        "\n"
      ]
    },
    {
      "cell_type": "code",
      "metadata": {
        "colab": {
          "base_uri": "https://localhost:8080/"
        },
        "id": "kvRuCDXAY3xC",
        "outputId": "2d7d12f1-e748-4925-f107-8701707a7a6b"
      },
      "source": [
        "print(my_dic['GOOG'])"
      ],
      "execution_count": null,
      "outputs": [
        {
          "output_type": "stream",
          "name": "stdout",
          "text": [
            "Alphabet\n"
          ]
        }
      ]
    },
    {
      "cell_type": "markdown",
      "metadata": {
        "id": "XKbCcaGSY-l3"
      },
      "source": [
        "**My code:**"
      ]
    },
    {
      "cell_type": "code",
      "metadata": {
        "colab": {
          "base_uri": "https://localhost:8080/"
        },
        "id": "jloHjCVGZCaQ",
        "outputId": "c95c3d00-1e53-4e27-b5df-ce1322e0d028"
      },
      "source": [
        "print(dic1['UNAL'])"
      ],
      "execution_count": null,
      "outputs": [
        {
          "output_type": "stream",
          "name": "stdout",
          "text": [
            "Universidad Nacional\n"
          ]
        }
      ]
    },
    {
      "cell_type": "markdown",
      "metadata": {
        "id": "eQ6I4y7cZIMo"
      },
      "source": [
        "**20.** We can also change the value associated with a specified key:\n",
        "\n"
      ]
    },
    {
      "cell_type": "code",
      "metadata": {
        "colab": {
          "base_uri": "https://localhost:8080/"
        },
        "id": "_kgjWLm1ZM3A",
        "outputId": "cfbaffbf-a42a-4996-8b70-73466ad35b5b"
      },
      "source": [
        "my_dic['GOOG'] = 'Alphabet Company'\n",
        "print(my_dic['GOOG'])"
      ],
      "execution_count": null,
      "outputs": [
        {
          "output_type": "stream",
          "name": "stdout",
          "text": [
            "Alphabet Company\n"
          ]
        }
      ]
    },
    {
      "cell_type": "markdown",
      "metadata": {
        "id": "eg9vBIZIZSH5"
      },
      "source": [
        "**My code:**"
      ]
    },
    {
      "cell_type": "code",
      "metadata": {
        "colab": {
          "base_uri": "https://localhost:8080/"
        },
        "id": "jzdhuQVtZVS3",
        "outputId": "2cdc7486-b228-42fa-d217-e6bcc4fe7437"
      },
      "source": [
        "dic1['UNAL'] = 'Universidad Nacional Abierta y a Distancia'\n",
        "print(dic1['UNAL'])"
      ],
      "execution_count": null,
      "outputs": [
        {
          "output_type": "stream",
          "name": "stdout",
          "text": [
            "Universidad Nacional Abierta y a Distancia\n"
          ]
        }
      ]
    },
    {
      "cell_type": "markdown",
      "metadata": {
        "id": "W_4WyLy1Zgh5"
      },
      "source": [
        "**21.** The built-in method of the dictionary object dict.keys() returns a list of all the keys used in the dictionary."
      ]
    },
    {
      "cell_type": "code",
      "metadata": {
        "colab": {
          "base_uri": "https://localhost:8080/"
        },
        "id": "a6uH9fD6ZrV6",
        "outputId": "56a922db-43ed-4df9-9c31-130b2d56f156"
      },
      "source": [
        "print(my_dic.keys())"
      ],
      "execution_count": null,
      "outputs": [
        {
          "output_type": "stream",
          "name": "stdout",
          "text": [
            "dict_keys(['AAPL', 'FB', 'GOOG'])\n"
          ]
        }
      ]
    },
    {
      "cell_type": "markdown",
      "metadata": {
        "id": "Bt8DFzM0ZyzD"
      },
      "source": [
        "**My code:**"
      ]
    },
    {
      "cell_type": "code",
      "metadata": {
        "colab": {
          "base_uri": "https://localhost:8080/"
        },
        "id": "bAp1OPA_Z1MV",
        "outputId": "1dff3147-8edc-4985-e299-5f09124af0fb"
      },
      "source": [
        "print(dic1.keys())"
      ],
      "execution_count": null,
      "outputs": [
        {
          "output_type": "stream",
          "name": "stdout",
          "text": [
            "dict_keys(['UNAL', 'DISTRITAL', 'PEDAGOGICA'])\n"
          ]
        }
      ]
    },
    {
      "cell_type": "markdown",
      "metadata": {
        "id": "6r-rkaJpZ4RY"
      },
      "source": [
        "**22.** **Common String Operations**\n",
        "\n",
        "A string is an immutable sequence of characters. It can be sliced by index just like a tuple:"
      ]
    },
    {
      "cell_type": "code",
      "metadata": {
        "colab": {
          "base_uri": "https://localhost:8080/"
        },
        "id": "mjkm6kjCZ_Tk",
        "outputId": "57e23b29-68f8-42f7-bd98-e8145b675232"
      },
      "source": [
        "my_str = 'Welcome to QuantConnect'\n",
        "print(my_str[8:])"
      ],
      "execution_count": null,
      "outputs": [
        {
          "output_type": "stream",
          "name": "stdout",
          "text": [
            "to QuantConnect\n"
          ]
        }
      ]
    },
    {
      "cell_type": "markdown",
      "metadata": {
        "id": "EZ9v6RnsaIXP"
      },
      "source": [
        "**My code:**"
      ]
    },
    {
      "cell_type": "code",
      "metadata": {
        "colab": {
          "base_uri": "https://localhost:8080/"
        },
        "id": "DcA0mcyBaK6n",
        "outputId": "2a51b95f-eb08-4570-d9f7-1ba1c57f3ecb"
      },
      "source": [
        "string1 = 'Welcome to UNAL'\n",
        "print(string1[10:])"
      ],
      "execution_count": null,
      "outputs": [
        {
          "output_type": "stream",
          "name": "stdout",
          "text": [
            " UNAL\n"
          ]
        }
      ]
    },
    {
      "cell_type": "markdown",
      "metadata": {
        "id": "LhFhin3paVjq"
      },
      "source": [
        "**23.** There are many methods associated with strings. We can use string.count() to count the occurrences of a character in a string, use string.find() to return the index of a specific character, and use string.replace() to replace characters."
      ]
    },
    {
      "cell_type": "code",
      "metadata": {
        "colab": {
          "base_uri": "https://localhost:8080/"
        },
        "id": "pvQ8DOfIavzA",
        "outputId": "0633c1d0-a589-490a-e0ef-fea6606905bc"
      },
      "source": [
        "print(\"Counting the number of e's in this sentence\".count('e'))\n",
        "print('The first time e appears in this sentence'.find('e'))\n",
        "print('all the a in this sentence now becomes e'.replace('a','e'))"
      ],
      "execution_count": null,
      "outputs": [
        {
          "output_type": "stream",
          "name": "stdout",
          "text": [
            "6\n",
            "2\n",
            "ell the e in this sentence now becomes e\n"
          ]
        }
      ]
    },
    {
      "cell_type": "markdown",
      "metadata": {
        "id": "ujUC-zBeax9Q"
      },
      "source": [
        "**My code:**"
      ]
    },
    {
      "cell_type": "code",
      "metadata": {
        "colab": {
          "base_uri": "https://localhost:8080/"
        },
        "id": "nqYlYi7sa0uX",
        "outputId": "6cc0d8c9-d9d9-484b-821f-1522b6494d71"
      },
      "source": [
        "print(\"Counting the number of u's in this sentence\".count('u'))\n",
        "print('The first time p appears in this sentence'.find('n'))\n",
        "print('all the a in this sentence now becomes e'.replace('a','x'))"
      ],
      "execution_count": null,
      "outputs": [
        {
          "output_type": "stream",
          "name": "stdout",
          "text": [
            "3\n",
            "26\n",
            "xll the x in this sentence now becomes e\n"
          ]
        }
      ]
    },
    {
      "cell_type": "markdown",
      "metadata": {
        "id": "xxOTHS2jbGHA"
      },
      "source": [
        "**24.** The most commonly used method for strings is string.split(). This method will split the string by the indicated character and return a list:"
      ]
    },
    {
      "cell_type": "code",
      "metadata": {
        "colab": {
          "base_uri": "https://localhost:8080/"
        },
        "id": "J1hVDSSWbdLI",
        "outputId": "8ccec64a-9544-469d-9730-d5bdbbb229da"
      },
      "source": [
        "Time = '2016-04-01 09:43:00'\n",
        "splited_list = Time.split(' ')\n",
        "date = splited_list[0]\n",
        "time = splited_list[1]\n",
        "print(date, time)\n",
        "hour = time.split(':')[0]\n",
        "print(hour)"
      ],
      "execution_count": null,
      "outputs": [
        {
          "output_type": "stream",
          "name": "stdout",
          "text": [
            "2016-04-01 09:43:00\n",
            "09\n"
          ]
        }
      ]
    },
    {
      "cell_type": "markdown",
      "metadata": {
        "id": "cIGOUl7vbg1z"
      },
      "source": [
        "**My code:**"
      ]
    },
    {
      "cell_type": "code",
      "metadata": {
        "colab": {
          "base_uri": "https://localhost:8080/"
        },
        "id": "sZa-C5MEbj9-",
        "outputId": "e0d06a16-6c72-4192-d596-3a0ad9340040"
      },
      "source": [
        "Time = '2021-10-17 22:26:00'\n",
        "splited_list = Time.split(' ')\n",
        "date = splited_list[0]\n",
        "time = splited_list[1]\n",
        "print(date, time)\n",
        "hour = time.split(':')[0]\n",
        "print(hour)"
      ],
      "execution_count": null,
      "outputs": [
        {
          "output_type": "stream",
          "name": "stdout",
          "text": [
            "2021-10-17 22:26:00\n",
            "22\n"
          ]
        }
      ]
    },
    {
      "cell_type": "markdown",
      "metadata": {
        "id": "bEAJM-QVb95b"
      },
      "source": [
        "**25.** We can replace parts of a string by our variable. This is called string formatting."
      ]
    },
    {
      "cell_type": "code",
      "metadata": {
        "colab": {
          "base_uri": "https://localhost:8080/"
        },
        "id": "AijB7F26cNC3",
        "outputId": "e2990a39-cd44-4e28-ad34-9b13e670a8b3"
      },
      "source": [
        "my_time = 'Hour: {}, Minute: {}'.format(9, 43)\n",
        "print(my_time)"
      ],
      "execution_count": null,
      "outputs": [
        {
          "output_type": "stream",
          "name": "stdout",
          "text": [
            "Hour: 9, Minute: 43\n"
          ]
        }
      ]
    },
    {
      "cell_type": "markdown",
      "metadata": {
        "id": "3Z-VOAV9cRX_"
      },
      "source": [
        "**My code:**"
      ]
    },
    {
      "cell_type": "code",
      "metadata": {
        "colab": {
          "base_uri": "https://localhost:8080/"
        },
        "id": "k2iGouGRcT4b",
        "outputId": "6fe83f48-8c55-43fd-9e7a-e79ce3d3868d"
      },
      "source": [
        "time1 = 'Hour: {}, Minute: {}'.format(22, 26)\n",
        "print(time1)"
      ],
      "execution_count": null,
      "outputs": [
        {
          "output_type": "stream",
          "name": "stdout",
          "text": [
            "Hour: 22, Minute: 26\n"
          ]
        }
      ]
    },
    {
      "cell_type": "markdown",
      "metadata": {
        "id": "X4P4itYgcavm"
      },
      "source": [
        "**26.** Another way to format a string is to use the % symbol.\n",
        "\n"
      ]
    },
    {
      "cell_type": "code",
      "metadata": {
        "colab": {
          "base_uri": "https://localhost:8080/"
        },
        "id": "lMfnXJPlcwiw",
        "outputId": "81452b82-f19a-434d-fab5-ebf880650230"
      },
      "source": [
        "print ('pi is %f' % 3.14)\n",
        "print('%s to %s' % ('Welcome', 'QuantConnect'))"
      ],
      "execution_count": null,
      "outputs": [
        {
          "output_type": "stream",
          "name": "stdout",
          "text": [
            "pi is 3.140000\n",
            "Welcome to QuantConnect\n"
          ]
        }
      ]
    },
    {
      "cell_type": "markdown",
      "metadata": {
        "id": "qE5g1mDBc58f"
      },
      "source": [
        "**My code:**"
      ]
    },
    {
      "cell_type": "code",
      "metadata": {
        "colab": {
          "base_uri": "https://localhost:8080/"
        },
        "id": "oxQPLEp2c82n",
        "outputId": "a4b42a41-37ca-4ed2-c428-b6cb27db9fa5"
      },
      "source": [
        "print ('pi is %f' % 3.1415926535)\n",
        "print('%s to %s' % ('Welcome', 'UNAL'))"
      ],
      "execution_count": null,
      "outputs": [
        {
          "output_type": "stream",
          "name": "stdout",
          "text": [
            "pi is 3.141593\n",
            "Welcome to UNAL\n"
          ]
        }
      ]
    },
    {
      "cell_type": "markdown",
      "metadata": {
        "id": "h9qWA6UKcaib"
      },
      "source": [
        "## **Logical Operations and Loops (Tutorial #2)**"
      ]
    },
    {
      "cell_type": "markdown",
      "metadata": {
        "id": "X91mRE93c3tz"
      },
      "source": [
        "**Introduction**\n",
        "\n",
        "We discussed the basic data types and data structures in Python in the last tutorial. This chapter covers logical operations and loops in Python, which are very common in programming."
      ]
    },
    {
      "cell_type": "markdown",
      "metadata": {
        "id": "nMGu4Tmhc84A"
      },
      "source": [
        "**1. Logical Operations**\n",
        "\n",
        "Like most programming languages, Python has comparison operators:"
      ]
    },
    {
      "cell_type": "code",
      "metadata": {
        "colab": {
          "base_uri": "https://localhost:8080/"
        },
        "id": "UGb_NTUCeOdp",
        "outputId": "c569619b-6fc6-4921-f269-7d6fb44d9af5"
      },
      "source": [
        "print (1 == 0)    # 1 equals 0\n",
        "print (1 == 1)    # 1 equals 1\n",
        "print (1 != 0)    # 1 is not equal to 0\n",
        "print (5 >= 5)    # 5 is greater than or equal to 5\n",
        "print (5 >= 6)    # 5 is greater than or equal to 6"
      ],
      "execution_count": null,
      "outputs": [
        {
          "output_type": "stream",
          "name": "stdout",
          "text": [
            "False\n",
            "True\n",
            "True\n",
            "True\n",
            "False\n"
          ]
        }
      ]
    },
    {
      "cell_type": "markdown",
      "metadata": {
        "id": "Pynn5ztAehdm"
      },
      "source": [
        "**My code:**"
      ]
    },
    {
      "cell_type": "code",
      "metadata": {
        "colab": {
          "base_uri": "https://localhost:8080/"
        },
        "id": "QYD-Z5Hlej2B",
        "outputId": "7e7f6c29-2b0d-4c6b-a183-af5c814a517c"
      },
      "source": [
        "print (10 == 0)    # 10 equals 0\n",
        "print (10 == 10)    # 10 equals 10\n",
        "print (10 != 0)    # 10 is not equal to 0\n",
        "print (13 >= 5)    # 13 is greater than or equal to 5\n",
        "print (-5 >= 6)    # -5 is greater than or equal to 6"
      ],
      "execution_count": null,
      "outputs": [
        {
          "output_type": "stream",
          "name": "stdout",
          "text": [
            "False\n",
            "True\n",
            "True\n",
            "True\n",
            "False\n"
          ]
        }
      ]
    },
    {
      "cell_type": "markdown",
      "metadata": {
        "id": "sLzv1rLke1QI"
      },
      "source": [
        "**2.** Each statement above has a boolean value, which must be either True or False, but not both.\n",
        "\n",
        "We can combine simple statements P and Q to form complex statements using logical operators:\n",
        "\n",
        "* The statement \"P and Q\" is true if both P and Q are true, otherwise it is false.\n",
        "* The statement \"P or Q\" is false if both P and Q are false, otherwise it is true.\n",
        "* The statement \"not P\" is true if P is false, and vice versa.\n",
        "\n",
        "\n",
        "\n"
      ]
    },
    {
      "cell_type": "code",
      "metadata": {
        "colab": {
          "base_uri": "https://localhost:8080/"
        },
        "id": "GSSMtkptgsGI",
        "outputId": "14065378-7949-4602-c947-b8fbefa0e974"
      },
      "source": [
        "print (2 > 1 and 3 > 2)\n",
        "print (2 > 1 and 3 < 2)\n",
        "print (2 > 1 or  3 < 2)\n",
        "print (2 < 1 and 3 < 2)"
      ],
      "execution_count": null,
      "outputs": [
        {
          "output_type": "stream",
          "name": "stdout",
          "text": [
            "True\n",
            "False\n",
            "True\n",
            "False\n"
          ]
        }
      ]
    },
    {
      "cell_type": "markdown",
      "metadata": {
        "id": "0uMSaSy1g39b"
      },
      "source": [
        "**My code:**"
      ]
    },
    {
      "cell_type": "code",
      "metadata": {
        "colab": {
          "base_uri": "https://localhost:8080/"
        },
        "id": "UCyK42-jg6Ww",
        "outputId": "a29bd3d9-4267-4b6f-9a2c-80dce01d4a89"
      },
      "source": [
        "print (19 > 14 and 384 > 209)\n",
        "print (-1 > -2 and -1 < -2)\n",
        "print (-1 > -2 or  -1 < -2)\n",
        "print (-1 < -127 and -1 < -2021)"
      ],
      "execution_count": null,
      "outputs": [
        {
          "output_type": "stream",
          "name": "stdout",
          "text": [
            "True\n",
            "False\n",
            "True\n",
            "False\n"
          ]
        }
      ]
    },
    {
      "cell_type": "markdown",
      "metadata": {
        "id": "VJt4mc2NhlMR"
      },
      "source": [
        "**3.** When dealing with a very complex logical statement that involves in several statements, we can use brackets to separate and combine them."
      ]
    },
    {
      "cell_type": "code",
      "metadata": {
        "colab": {
          "base_uri": "https://localhost:8080/"
        },
        "id": "OIZ0qFK-hvMO",
        "outputId": "bef7176d-37b2-4072-9627-b02a792278ef"
      },
      "source": [
        "print ((3 > 2 or 1 < 3) and (1!=3 and 4>3) and not ( 3 < 2 or 1 < 3 and (1!=3 and 4>3)))\n",
        "print (3 > 2 or 1 < 3 and (1!=3 and 4>3) and not ( 3 < 2 or 1 < 3 and (1!=3 and 4>3)))"
      ],
      "execution_count": null,
      "outputs": [
        {
          "output_type": "stream",
          "name": "stdout",
          "text": [
            "False\n",
            "True\n"
          ]
        }
      ]
    },
    {
      "cell_type": "markdown",
      "metadata": {
        "id": "HXk6pH9ou0rU"
      },
      "source": [
        "**My code:**"
      ]
    },
    {
      "cell_type": "code",
      "metadata": {
        "colab": {
          "base_uri": "https://localhost:8080/"
        },
        "id": "hbQrYtlEu3Ht",
        "outputId": "27b2fffe-b041-4e00-8824-ceca1bd0697e"
      },
      "source": [
        "print ((343 > 538 or -1 < 30) and (-1!=3 and 448>3) and not ( 378 < -2 or 1 < -3 and (-1!=36 and 476>3)))\n",
        "print (746 > -2 or -1 < 3 and (-1!=3 and 445>-3) and not ( 3 < -2 or 1 < -3 and (138!=356 and 434>33)))"
      ],
      "execution_count": null,
      "outputs": [
        {
          "output_type": "stream",
          "name": "stdout",
          "text": [
            "True\n",
            "True\n"
          ]
        }
      ]
    },
    {
      "cell_type": "markdown",
      "metadata": {
        "id": "FJl-rmE7vc2M"
      },
      "source": [
        "**4. If Statement**\n",
        "\n",
        "An if statement executes a segment of code only if its condition is true. A standard if statement consists of 3 segments: if, elif and else."
      ]
    },
    {
      "cell_type": "markdown",
      "metadata": {
        "id": "q4Izo1igvtFQ"
      },
      "source": [
        "if condition1:\n",
        "    # if condition1 is true, execute the code here\n",
        "    # and ignore the rest of this if statement\n",
        "elif condition2:\n",
        "    # if condition1 is false, and condition2 is true, execute the code here\n",
        "    # and ignore the rest of this if statement\n",
        "else:\n",
        "    # if none of the above conditions is True, execute the code here"
      ]
    },
    {
      "cell_type": "markdown",
      "metadata": {
        "id": "-a5ET12NvvLV"
      },
      "source": [
        "An if statement doesn't necessarily has elif and else part. If it's not specified, the indented block of code will be executed when the condition is true, otherwise the whole if statement will be skipped."
      ]
    },
    {
      "cell_type": "code",
      "metadata": {
        "colab": {
          "base_uri": "https://localhost:8080/"
        },
        "id": "ri0kJqnXv68q",
        "outputId": "bc2b88f1-3875-453c-e3fe-9f5b081a30e9"
      },
      "source": [
        "i = 0\n",
        "if i == 0: print ('i == 0 is True')"
      ],
      "execution_count": null,
      "outputs": [
        {
          "output_type": "stream",
          "name": "stdout",
          "text": [
            "i == 0 is True\n"
          ]
        }
      ]
    },
    {
      "cell_type": "markdown",
      "metadata": {
        "id": "dFrfXx25wD_Q"
      },
      "source": [
        "**My code:**"
      ]
    },
    {
      "cell_type": "code",
      "metadata": {
        "colab": {
          "base_uri": "https://localhost:8080/"
        },
        "id": "Lg1VmIFpwGgT",
        "outputId": "ca3b69e9-e728-4e2e-a4f3-7c2ae607add3"
      },
      "source": [
        "variable = 777\n",
        "if variable == 777: print ('variable == 777 is True')"
      ],
      "execution_count": null,
      "outputs": [
        {
          "output_type": "stream",
          "name": "stdout",
          "text": [
            "variable == 777 is True\n"
          ]
        }
      ]
    },
    {
      "cell_type": "markdown",
      "metadata": {
        "id": "lcOxgGmTwcaP"
      },
      "source": [
        "**5.** As we mentioned above, we can write some complex statements here:\n",
        "\n"
      ]
    },
    {
      "cell_type": "code",
      "metadata": {
        "colab": {
          "base_uri": "https://localhost:8080/"
        },
        "id": "c9L1GuqQwj98",
        "outputId": "a406dfcf-effe-407a-b4ae-0e836249424d"
      },
      "source": [
        "p = 1 > 0\n",
        "q = 2 > 3\n",
        "if p and q:\n",
        "    print ('p and q is true')\n",
        "elif p and not q:\n",
        "    print ('q is false')\n",
        "elif q and not p:\n",
        "    print ('p is false')\n",
        "else:\n",
        "    print ('None of p and q is true')"
      ],
      "execution_count": null,
      "outputs": [
        {
          "output_type": "stream",
          "name": "stdout",
          "text": [
            "q is false\n"
          ]
        }
      ]
    },
    {
      "cell_type": "markdown",
      "metadata": {
        "id": "6zKwtDU4w9lM"
      },
      "source": [
        "**My code:**"
      ]
    },
    {
      "cell_type": "code",
      "metadata": {
        "colab": {
          "base_uri": "https://localhost:8080/"
        },
        "id": "3VV6z7jww_to",
        "outputId": "ee12e7eb-7eb4-43bd-c82d-5fab31b7ad48"
      },
      "source": [
        "x = 1 > 0\n",
        "y = !(2 > 3)\n",
        "if x and y:\n",
        "    print ('x and y is true')\n",
        "elif x and not y:\n",
        "    print ('y is false')\n",
        "elif x and not y:\n",
        "    print ('x is false')\n",
        "else:\n",
        "    print ('None of x and y is true')"
      ],
      "execution_count": null,
      "outputs": [
        {
          "output_type": "stream",
          "name": "stdout",
          "text": [
            "x and y is true\n"
          ]
        }
      ]
    },
    {
      "cell_type": "markdown",
      "metadata": {
        "id": "cSH61_j-xX8V"
      },
      "source": [
        "**6. Loop Structure**\n",
        "\n",
        "Loops are an essential part of programming. The \"for\" and \"while\" loops run a block of code repeatedly.\n",
        "\n",
        "**While Loop**\n",
        "\n",
        "A \"while\" loop will run repeatedly until a certain condition has been met."
      ]
    },
    {
      "cell_type": "code",
      "metadata": {
        "colab": {
          "base_uri": "https://localhost:8080/"
        },
        "id": "F6xkodNFxm9G",
        "outputId": "50ffc75f-1930-447c-b4c0-599450259a4e"
      },
      "source": [
        "i = 0\n",
        "while i < 5:\n",
        "    print (i)\n",
        "    i += 1"
      ],
      "execution_count": null,
      "outputs": [
        {
          "output_type": "stream",
          "name": "stdout",
          "text": [
            "0\n",
            "1\n",
            "2\n",
            "3\n",
            "4\n"
          ]
        }
      ]
    },
    {
      "cell_type": "markdown",
      "metadata": {
        "id": "rc8Qx6TIxrBw"
      },
      "source": [
        "**My code:**"
      ]
    },
    {
      "cell_type": "code",
      "metadata": {
        "colab": {
          "base_uri": "https://localhost:8080/"
        },
        "id": "u9UwnOFoxtYp",
        "outputId": "6d65c812-9527-4449-d881-d1eaf561f8ec"
      },
      "source": [
        "x = 0\n",
        "while x < 30:\n",
        "    print (x)\n",
        "    x += 1"
      ],
      "execution_count": null,
      "outputs": [
        {
          "output_type": "stream",
          "name": "stdout",
          "text": [
            "0\n",
            "1\n",
            "2\n",
            "3\n",
            "4\n",
            "5\n",
            "6\n",
            "7\n",
            "8\n",
            "9\n",
            "10\n",
            "11\n",
            "12\n",
            "13\n",
            "14\n",
            "15\n",
            "16\n",
            "17\n",
            "18\n",
            "19\n",
            "20\n",
            "21\n",
            "22\n",
            "23\n",
            "24\n",
            "25\n",
            "26\n",
            "27\n",
            "28\n",
            "29\n"
          ]
        }
      ]
    },
    {
      "cell_type": "markdown",
      "metadata": {
        "id": "KOC_yFByx0yW"
      },
      "source": [
        "**7. For Loop**\n",
        "\n",
        "A \"for\" loop will iterate over a sequence of value and terminate when the sequence has ended."
      ]
    },
    {
      "cell_type": "code",
      "metadata": {
        "colab": {
          "base_uri": "https://localhost:8080/"
        },
        "id": "7-oFkSsLyd_O",
        "outputId": "2b7d82bf-861a-499c-febf-ba343696da82"
      },
      "source": [
        "for x in [1,2,3,4,5]: print (x)"
      ],
      "execution_count": null,
      "outputs": [
        {
          "output_type": "stream",
          "name": "stdout",
          "text": [
            "1\n",
            "2\n",
            "3\n",
            "4\n",
            "5\n"
          ]
        }
      ]
    },
    {
      "cell_type": "markdown",
      "metadata": {
        "id": "uEXL5QcEyjcf"
      },
      "source": [
        "**My code:**"
      ]
    },
    {
      "cell_type": "code",
      "metadata": {
        "colab": {
          "base_uri": "https://localhost:8080/"
        },
        "id": "Xbeh7LF0ymYV",
        "outputId": "bb3c46a8-0fa8-4033-a93f-acedb30e2ebb"
      },
      "source": [
        "for x in [-5,-4,-3,-2,-1]: print (x)"
      ],
      "execution_count": null,
      "outputs": [
        {
          "output_type": "stream",
          "name": "stdout",
          "text": [
            "-5\n",
            "-4\n",
            "-3\n",
            "-2\n",
            "-1\n"
          ]
        }
      ]
    },
    {
      "cell_type": "markdown",
      "metadata": {
        "id": "q7akKOmOyuYd"
      },
      "source": [
        "**8.** We can also add if statements in a for loop. Here is a real example from our pairs trading algorithm:"
      ]
    },
    {
      "cell_type": "code",
      "metadata": {
        "colab": {
          "base_uri": "https://localhost:8080/"
        },
        "id": "hj-YPzFMzQuM",
        "outputId": "cab104e5-26fa-4ba3-e336-1adb7352f3fd"
      },
      "source": [
        "stocks = ['AAPL','GOOG','IBM','FB','F','V', 'G', 'GE']\n",
        "selected = ['AAPL','IBM']\n",
        "new_list = []\n",
        "for stock in stocks:\n",
        "    if stock not in selected:\n",
        "        new_list.append(stock)\n",
        "print (new_list)"
      ],
      "execution_count": null,
      "outputs": [
        {
          "output_type": "stream",
          "name": "stdout",
          "text": [
            "['GOOG', 'FB', 'F', 'V', 'G', 'GE']\n"
          ]
        }
      ]
    },
    {
      "cell_type": "markdown",
      "metadata": {
        "id": "GyygERqfzWb8"
      },
      "source": [
        "**My code:**"
      ]
    },
    {
      "cell_type": "code",
      "metadata": {
        "colab": {
          "base_uri": "https://localhost:8080/"
        },
        "id": "ks-1WOE1zZD_",
        "outputId": "778c7a03-75c6-4e83-c721-a91cf92f761b"
      },
      "source": [
        "stocks = ['UNAL','DISTRITAL','PEDAGOGICA','UIS','BOGOTA','UNIVALLE', 'MANIZALES', 'UDEA']\n",
        "selected = ['UDEA','UIS']\n",
        "new_list = []\n",
        "for stock in stocks:\n",
        "    if stock not in selected:\n",
        "        new_list.append(stock)\n",
        "print (new_list)"
      ],
      "execution_count": null,
      "outputs": [
        {
          "output_type": "stream",
          "name": "stdout",
          "text": [
            "['UNAL', 'DISTRITAL', 'PEDAGOGICA', 'BOGOTA', 'UNIVALLE', 'MANIZALES']\n"
          ]
        }
      ]
    },
    {
      "cell_type": "markdown",
      "metadata": {
        "id": "Chny4hXq0AN2"
      },
      "source": [
        "**9. Break and continue**\n",
        "\n",
        "These are two commonly used commands in a for loop. If \"break\" is triggered while a loop is executing, the loop will terminate immediately:"
      ]
    },
    {
      "cell_type": "code",
      "metadata": {
        "colab": {
          "base_uri": "https://localhost:8080/"
        },
        "id": "E3U8n4bc0X87",
        "outputId": "042a0e39-db3a-4262-f048-f6e11f378468"
      },
      "source": [
        "stocks = ['AAPL','GOOG','IBM','FB','F','V', 'G', 'GE']\n",
        "for stock in stocks:\n",
        "    print (stock)\n",
        "    if stock == 'FB': break"
      ],
      "execution_count": null,
      "outputs": [
        {
          "output_type": "stream",
          "name": "stdout",
          "text": [
            "AAPL\n",
            "GOOG\n",
            "IBM\n",
            "FB\n"
          ]
        }
      ]
    },
    {
      "cell_type": "markdown",
      "metadata": {
        "id": "TLw2ngRs0yM0"
      },
      "source": [
        "**My code:**"
      ]
    },
    {
      "cell_type": "code",
      "metadata": {
        "colab": {
          "base_uri": "https://localhost:8080/"
        },
        "id": "WoCl38Fy0snV",
        "outputId": "05eebc5f-2826-4a3d-8c7e-d4ac8836913c"
      },
      "source": [
        "stocks = ['UNAL','DISTRITAL','PEDAGOGICA','UIS','BOGOTA','UNIVALLE', 'MANIZALES', 'UDEA']\n",
        "for stock in stocks:\n",
        "    print (stock)\n",
        "    if stock == 'UIS': break"
      ],
      "execution_count": null,
      "outputs": [
        {
          "output_type": "stream",
          "name": "stdout",
          "text": [
            "UNAL\n",
            "DISTRITAL\n",
            "PEDAGOGICA\n",
            "UIS\n"
          ]
        }
      ]
    },
    {
      "cell_type": "markdown",
      "metadata": {
        "id": "iFD4BSUO03kY"
      },
      "source": [
        "**10.** The \"continue\" command tells the loop to end this iteration and skip to the next iteration:"
      ]
    },
    {
      "cell_type": "code",
      "metadata": {
        "colab": {
          "base_uri": "https://localhost:8080/"
        },
        "id": "T0Dks66X1B6K",
        "outputId": "b9f3a079-e654-44d0-9037-77a3c2db3ad4"
      },
      "source": [
        "stocks = ['AAPL','GOOG','IBM','FB','F','V', 'G', 'GE']\n",
        "for stock in stocks:\n",
        "    if stock == 'FB': continue\n",
        "    print (stock)"
      ],
      "execution_count": null,
      "outputs": [
        {
          "output_type": "stream",
          "name": "stdout",
          "text": [
            "AAPL\n",
            "GOOG\n",
            "IBM\n",
            "F\n",
            "V\n",
            "G\n",
            "GE\n"
          ]
        }
      ]
    },
    {
      "cell_type": "markdown",
      "metadata": {
        "id": "_WticKaQ1GNv"
      },
      "source": [
        "**My code:**"
      ]
    },
    {
      "cell_type": "code",
      "metadata": {
        "colab": {
          "base_uri": "https://localhost:8080/"
        },
        "id": "WcaG2W2E1InR",
        "outputId": "37a7a8e2-49fb-483d-f011-00be81ee851c"
      },
      "source": [
        "stocks = ['UNAL','DISTRITAL','PEDAGOGICA','UIS','BOGOTA','UNIVALLE', 'MANIZALES', 'UDEA']\n",
        "for stock in stocks:\n",
        "    if stock == 'UNIVALLE': continue\n",
        "    print (stock)"
      ],
      "execution_count": null,
      "outputs": [
        {
          "output_type": "stream",
          "name": "stdout",
          "text": [
            "UNAL\n",
            "DISTRITAL\n",
            "PEDAGOGICA\n",
            "UIS\n",
            "BOGOTA\n",
            "MANIZALES\n",
            "UDEA\n"
          ]
        }
      ]
    },
    {
      "cell_type": "markdown",
      "metadata": {
        "id": "k3Hdia141T_o"
      },
      "source": [
        "**11. List Comprehension**\n",
        "\n",
        "List comprehension is a Pythonic way to create lists. Common applications are to make new lists where each element is the result of some operations applied to each member of another sequence. For example, if we want to create a list of squares using for loop:"
      ]
    },
    {
      "cell_type": "code",
      "metadata": {
        "colab": {
          "base_uri": "https://localhost:8080/"
        },
        "id": "BgwfaNPr1z1J",
        "outputId": "c8de50d2-7631-40b3-d45a-e189be6cbe66"
      },
      "source": [
        "squares = []\n",
        "for i in [1,2,3,4,5]:\n",
        "    squares.append(i**2)\n",
        "print (squares)"
      ],
      "execution_count": null,
      "outputs": [
        {
          "output_type": "stream",
          "name": "stdout",
          "text": [
            "[1, 4, 9, 16, 25]\n"
          ]
        }
      ]
    },
    {
      "cell_type": "markdown",
      "metadata": {
        "id": "ZWNefo0F13G8"
      },
      "source": [
        "**My code:**"
      ]
    },
    {
      "cell_type": "code",
      "metadata": {
        "colab": {
          "base_uri": "https://localhost:8080/"
        },
        "id": "qbJwpJ171546",
        "outputId": "e69c2d5d-4e5e-42e9-f925-92e0c64e7f77"
      },
      "source": [
        "squares = []\n",
        "for i in [1,2,3,4,5]:\n",
        "    squares.append(i**10)\n",
        "print (squares)"
      ],
      "execution_count": null,
      "outputs": [
        {
          "output_type": "stream",
          "name": "stdout",
          "text": [
            "[1, 1024, 59049, 1048576, 9765625]\n"
          ]
        }
      ]
    },
    {
      "cell_type": "markdown",
      "metadata": {
        "id": "2xrVl_fd2BZc"
      },
      "source": [
        "**12.** Using list comprehension:\n",
        "\n"
      ]
    },
    {
      "cell_type": "code",
      "metadata": {
        "colab": {
          "base_uri": "https://localhost:8080/"
        },
        "id": "zmKlEXeb2ZkE",
        "outputId": "8398c270-6538-4a1e-8b55-5df8b7511e34"
      },
      "source": [
        "foo = [1,2,3,4,5]\n",
        "squares = [x**2 for x in foo]\n",
        "print (squares)"
      ],
      "execution_count": null,
      "outputs": [
        {
          "output_type": "stream",
          "name": "stdout",
          "text": [
            "[1, 4, 9, 16, 25]\n"
          ]
        }
      ]
    },
    {
      "cell_type": "markdown",
      "metadata": {
        "id": "PVUqHILx2d4K"
      },
      "source": [
        "**My code:**"
      ]
    },
    {
      "cell_type": "code",
      "metadata": {
        "colab": {
          "base_uri": "https://localhost:8080/"
        },
        "id": "YtdgtE312f5c",
        "outputId": "ac2237dd-912f-4e72-c7c3-13cf43cfe8bd"
      },
      "source": [
        "foo = [1,2,3,4,5]\n",
        "squares = [x**10 for x in foo]\n",
        "print (squares)"
      ],
      "execution_count": null,
      "outputs": [
        {
          "output_type": "stream",
          "name": "stdout",
          "text": [
            "[1, 1024, 59049, 1048576, 9765625]\n"
          ]
        }
      ]
    },
    {
      "cell_type": "markdown",
      "metadata": {
        "id": "c7PsU32W2jLa"
      },
      "source": [
        "**13.** Recall the example above where we used a for loop to select stocks. Here we use list comprehension:"
      ]
    },
    {
      "cell_type": "code",
      "metadata": {
        "colab": {
          "base_uri": "https://localhost:8080/"
        },
        "id": "y0_NbFs530r0",
        "outputId": "1b6080da-9d97-48ca-aa59-7d0c84f879b1"
      },
      "source": [
        "stocks = ['AAPL','GOOG','IBM','FB','F','V', 'G', 'GE']\n",
        "selected = ['AAPL','IBM']\n",
        "new_list = [x for x in stocks if x not in selected]\n",
        "print (new_list)"
      ],
      "execution_count": null,
      "outputs": [
        {
          "output_type": "stream",
          "name": "stdout",
          "text": [
            "['GOOG', 'FB', 'F', 'V', 'G', 'GE']\n"
          ]
        }
      ]
    },
    {
      "cell_type": "markdown",
      "metadata": {
        "id": "jnUR5Wyp39ob"
      },
      "source": [
        "**My code:**"
      ]
    },
    {
      "cell_type": "code",
      "metadata": {
        "colab": {
          "base_uri": "https://localhost:8080/"
        },
        "id": "34an48_R4ClF",
        "outputId": "6b572dc4-8cdc-415c-f233-9f8b4ce7dcb1"
      },
      "source": [
        "stocks = ['UNAL','DISTRITAL','PEDAGOGICA','UIS','BOGOTA','UNIVALLE', 'MANIZALES', 'UDEA']\n",
        "selected = ['UDEA','UIS']\n",
        "new_list = [x for x in stocks if x not in selected]\n",
        "print (new_list)"
      ],
      "execution_count": null,
      "outputs": [
        {
          "output_type": "stream",
          "name": "stdout",
          "text": [
            "['UNAL', 'DISTRITAL', 'PEDAGOGICA', 'BOGOTA', 'UNIVALLE', 'MANIZALES']\n"
          ]
        }
      ]
    },
    {
      "cell_type": "markdown",
      "metadata": {
        "id": "sY5yRu444WPt"
      },
      "source": [
        "**14.** A list comprehension consists of square brackets containing an expression followed by a \"for\" clause, and possibly \"for\" or \"if\" clauses. For example:"
      ]
    },
    {
      "cell_type": "code",
      "metadata": {
        "colab": {
          "base_uri": "https://localhost:8080/"
        },
        "id": "f4nIRD2_5m-M",
        "outputId": "6888c097-6984-451c-d612-5c40e333e5d6"
      },
      "source": [
        "print ([(x, y) for x in [1,2,3] for y in [3,1,4] if x != y])\n",
        "print ([str(x) + ' vs ' + str(y) for x in ['AAPL','GOOG','IBM','FB'] for y in ['F','V','G','GE'] if x != y])"
      ],
      "execution_count": null,
      "outputs": [
        {
          "output_type": "stream",
          "name": "stdout",
          "text": [
            "[(1, 3), (1, 4), (2, 3), (2, 1), (2, 4), (3, 1), (3, 4)]\n",
            "['AAPL vs F', 'AAPL vs V', 'AAPL vs G', 'AAPL vs GE', 'GOOG vs F', 'GOOG vs V', 'GOOG vs G', 'GOOG vs GE', 'IBM vs F', 'IBM vs V', 'IBM vs G', 'IBM vs GE', 'FB vs F', 'FB vs V', 'FB vs G', 'FB vs GE']\n"
          ]
        }
      ]
    },
    {
      "cell_type": "markdown",
      "metadata": {
        "id": "nKZspGbY7T87"
      },
      "source": [
        "**My code:**"
      ]
    },
    {
      "cell_type": "code",
      "metadata": {
        "colab": {
          "base_uri": "https://localhost:8080/"
        },
        "id": "KEiBSdni7Xbr",
        "outputId": "f15a2c80-4916-4097-f751-64457f13b18b"
      },
      "source": [
        "print ([(x, y) for x in [-1,-2,-3] for y in [3,1,4] if x != y])\n",
        "print ([str(x) + ' vs ' + str(y) for x in ['UNAL','UNAM','UIS','UDEA'] for y in ['DISTRITAL','UNAM','UDEA','UIS'] if x != y])"
      ],
      "execution_count": null,
      "outputs": [
        {
          "output_type": "stream",
          "name": "stdout",
          "text": [
            "[(-1, 3), (-1, 1), (-1, 4), (-2, 3), (-2, 1), (-2, 4), (-3, 3), (-3, 1), (-3, 4)]\n",
            "['UNAL vs DISTRITAL', 'UNAL vs UNAM', 'UNAL vs UDEA', 'UNAL vs UIS', 'UNAM vs DISTRITAL', 'UNAM vs UDEA', 'UNAM vs UIS', 'UIS vs DISTRITAL', 'UIS vs UNAM', 'UIS vs UDEA', 'UDEA vs DISTRITAL', 'UDEA vs UNAM', 'UDEA vs UIS']\n"
          ]
        }
      ]
    },
    {
      "cell_type": "markdown",
      "metadata": {
        "id": "yLhw8ZmF-_8d"
      },
      "source": [
        "## **Functions and Objective-Oriented Programming (Tutorial #3)**"
      ]
    },
    {
      "cell_type": "markdown",
      "metadata": {
        "id": "std_ph7N_Orp"
      },
      "source": [
        "**Introduction**\n",
        "\n",
        "In the last tutorial we introduced logical operations, loops and list comprehension. We will introduce functions and object-oriented programming in this chapter, which will enable us to build complex algorithms in more flexible ways."
      ]
    },
    {
      "cell_type": "markdown",
      "metadata": {
        "id": "OE71J5_O_QTg"
      },
      "source": [
        "**1. Functions**\n",
        "\n",
        "A function is a reusable block of code. We can use a function to output a value, or do anything else we want. We can easily define our own function by using the keyword \"def\"."
      ]
    },
    {
      "cell_type": "code",
      "metadata": {
        "colab": {
          "base_uri": "https://localhost:8080/"
        },
        "id": "q6WZ5xEAOyzg",
        "outputId": "31f73f40-ef43-4c6f-adbd-60e57120a09a"
      },
      "source": [
        "def product(x,y):\n",
        "    return x*y\n",
        "print (product(2,3))\n",
        "print (product(5,10))"
      ],
      "execution_count": null,
      "outputs": [
        {
          "output_type": "stream",
          "name": "stdout",
          "text": [
            "6\n",
            "50\n"
          ]
        }
      ]
    },
    {
      "cell_type": "markdown",
      "metadata": {
        "id": "Z0IkUzTOO4Yy"
      },
      "source": [
        "**My code:**"
      ]
    },
    {
      "cell_type": "code",
      "metadata": {
        "colab": {
          "base_uri": "https://localhost:8080/"
        },
        "id": "kRMKLtmNO7dz",
        "outputId": "1631b243-cddf-418d-bb12-486bf94f6675"
      },
      "source": [
        "def sum1(x,y):\n",
        "    return x+y\n",
        "print (product(2,3))\n",
        "print (product(5,10))"
      ],
      "execution_count": null,
      "outputs": [
        {
          "output_type": "stream",
          "name": "stdout",
          "text": [
            "6\n",
            "50\n"
          ]
        }
      ]
    },
    {
      "cell_type": "markdown",
      "metadata": {
        "id": "GRn60Vc6PKbt"
      },
      "source": [
        "**2.** The keyword \"def\" is followed by the function name and the parenthesized list of formal parameters. The statements that form the body of the function start at the next line, and must be indented. The product() function above has \"x\" and \"y\" as its parameters. A function doesn't necessarily have parameters"
      ]
    },
    {
      "cell_type": "code",
      "metadata": {
        "colab": {
          "base_uri": "https://localhost:8080/"
        },
        "id": "kcOpY-BdPipi",
        "outputId": "68a7c0cb-3520-49ab-bbd5-44e82d605789"
      },
      "source": [
        "def say_hi():\n",
        "    print (\"Welcome to QuantConnect\")\n",
        "say_hi()"
      ],
      "execution_count": null,
      "outputs": [
        {
          "output_type": "stream",
          "name": "stdout",
          "text": [
            "Welcome to QuantConnect\n"
          ]
        }
      ]
    },
    {
      "cell_type": "markdown",
      "metadata": {
        "id": "wL1oNKwGPtT4"
      },
      "source": [
        "**My code:**"
      ]
    },
    {
      "cell_type": "code",
      "metadata": {
        "colab": {
          "base_uri": "https://localhost:8080/"
        },
        "id": "dXhwgloYPvjS",
        "outputId": "7aa7d3be-b8ac-4d36-c22a-2f8decc8865c"
      },
      "source": [
        "def say_hi():\n",
        "    print (\"Welcome to Algorithms\")\n",
        "say_hi()"
      ],
      "execution_count": null,
      "outputs": [
        {
          "output_type": "stream",
          "name": "stdout",
          "text": [
            "Welcome to Algorithms\n"
          ]
        }
      ]
    },
    {
      "cell_type": "markdown",
      "metadata": {
        "id": "4ImkikpxPzb4"
      },
      "source": [
        "**3. Built-in Function**\n",
        "\n",
        "range() is a function that creates a list containing an arithmetic sequence. It's often used in for loops. The arguments must be integers. If the \"step\" argument is omitted, it defaults to 1."
      ]
    },
    {
      "cell_type": "code",
      "metadata": {
        "colab": {
          "base_uri": "https://localhost:8080/"
        },
        "id": "uHXpCEc1QPaJ",
        "outputId": "3bf314b9-ed7c-47ac-f2e4-555b1a798a48"
      },
      "source": [
        "print(range(10))\n",
        "print(range(1, 11))\n",
        "print(range(1, 11, 2))"
      ],
      "execution_count": null,
      "outputs": [
        {
          "output_type": "stream",
          "name": "stdout",
          "text": [
            "range(0, 10)\n",
            "range(1, 11)\n",
            "range(1, 11, 2)\n"
          ]
        }
      ]
    },
    {
      "cell_type": "markdown",
      "metadata": {
        "id": "aMnfMXNMQYVU"
      },
      "source": [
        "**My code:**"
      ]
    },
    {
      "cell_type": "code",
      "metadata": {
        "colab": {
          "base_uri": "https://localhost:8080/"
        },
        "id": "bQof5k5kQazD",
        "outputId": "519b525b-c343-4fc6-d0fb-45c556a0712c"
      },
      "source": [
        "print(range(100))\n",
        "print(range(1, 211))\n",
        "print(range(1, 211, 3))"
      ],
      "execution_count": null,
      "outputs": [
        {
          "output_type": "stream",
          "name": "stdout",
          "text": [
            "range(0, 100)\n",
            "range(1, 211)\n",
            "range(1, 211, 3)\n"
          ]
        }
      ]
    },
    {
      "cell_type": "markdown",
      "metadata": {
        "id": "s1A_QK6wS7Go"
      },
      "source": [
        "**4.** len() is another function used together with range() to create a for loop. This function returns the length of an object. The argument must be a sequence or a collection."
      ]
    },
    {
      "cell_type": "code",
      "metadata": {
        "colab": {
          "base_uri": "https://localhost:8080/"
        },
        "id": "6HRxNunMTG2K",
        "outputId": "c4184781-abfd-4aea-a435-e8f9a2e9dd7d"
      },
      "source": [
        "tickers = ['AAPL', 'GOOGL', 'IBM', 'FB', 'F', 'V', 'G', 'GE']\n",
        "print (\"The number of tickers is {}\".format(len(tickers)))\n",
        "for k in range(len(tickers)):\n",
        "    print (k + 1, tickers[k])"
      ],
      "execution_count": null,
      "outputs": [
        {
          "output_type": "stream",
          "name": "stdout",
          "text": [
            "The number of tickers is 8\n",
            "1 AAPL\n",
            "2 GOOGL\n",
            "3 IBM\n",
            "4 FB\n",
            "5 F\n",
            "6 V\n",
            "7 G\n",
            "8 GE\n"
          ]
        }
      ]
    },
    {
      "cell_type": "markdown",
      "metadata": {
        "id": "EzvWkZNVTTbK"
      },
      "source": [
        "**My code:**"
      ]
    },
    {
      "cell_type": "code",
      "metadata": {
        "colab": {
          "base_uri": "https://localhost:8080/"
        },
        "id": "3Hy6yDtLTWfk",
        "outputId": "9de43cc4-d594-41c3-d3bc-58bcfd1c8b72"
      },
      "source": [
        "tickers = ['UNAL','DISTRITAL','PEDAGOGICA','UIS','BOGOTA','UNIVALLE', 'MANIZALES', 'UDEA']\n",
        "print (\"The number of tickers is {}\".format(len(tickers)))\n",
        "for k in range(len(tickers)):\n",
        "    print (k + 1, tickers[k])"
      ],
      "execution_count": null,
      "outputs": [
        {
          "output_type": "stream",
          "name": "stdout",
          "text": [
            "The number of tickers is 8\n",
            "1 UNAL\n",
            "2 DISTRITAL\n",
            "3 PEDAGOGICA\n",
            "4 UIS\n",
            "5 BOGOTA\n",
            "6 UNIVALLE\n",
            "7 MANIZALES\n",
            "8 UDEA\n"
          ]
        }
      ]
    },
    {
      "cell_type": "markdown",
      "metadata": {
        "id": "GLfV-03vTgAT"
      },
      "source": [
        "**5.** map() is a function that applies a specific function to every item of a sequence or collection, and returns a list of the results."
      ]
    },
    {
      "cell_type": "code",
      "metadata": {
        "colab": {
          "base_uri": "https://localhost:8080/"
        },
        "id": "Fy-GM0IdT5vy",
        "outputId": "61530fab-237d-459b-cd43-655188dfa1c4"
      },
      "source": [
        "tickers = ['AAPL','GOOG','IBM','FB','F','V', 'G', 'GE']\n",
        "print(list(map(len,tickers)))"
      ],
      "execution_count": null,
      "outputs": [
        {
          "output_type": "stream",
          "name": "stdout",
          "text": [
            "[4, 4, 3, 2, 1, 1, 1, 2]\n"
          ]
        }
      ]
    },
    {
      "cell_type": "markdown",
      "metadata": {
        "id": "OPr4CZqmT9-a"
      },
      "source": [
        "**My code:**"
      ]
    },
    {
      "cell_type": "code",
      "metadata": {
        "colab": {
          "base_uri": "https://localhost:8080/"
        },
        "id": "g7-kzMqJT_7V",
        "outputId": "62b15f9a-3be3-488e-ccc9-449775f1cc56"
      },
      "source": [
        "tickers = ['UNAL','DISTRITAL','PEDAGOGICA','UIS','BOGOTA','UNIVALLE', 'MANIZALES', 'UDEA']\n",
        "print(list(map(len,tickers)))"
      ],
      "execution_count": null,
      "outputs": [
        {
          "output_type": "stream",
          "name": "stdout",
          "text": [
            "[4, 9, 10, 3, 6, 8, 9, 4]\n"
          ]
        }
      ]
    },
    {
      "cell_type": "markdown",
      "metadata": {
        "id": "pr50y1nFUFa6"
      },
      "source": [
        "**6.** The lambda operator is a way to create small anonymous functions. These functions are just needed where they have been created. For example:"
      ]
    },
    {
      "cell_type": "code",
      "metadata": {
        "colab": {
          "base_uri": "https://localhost:8080/"
        },
        "id": "V7zi2I-RUVYl",
        "outputId": "2cbbf227-1097-4717-d589-1a07a638f00b"
      },
      "source": [
        "print(list(map(lambda x: x**2, range(10))))"
      ],
      "execution_count": null,
      "outputs": [
        {
          "output_type": "stream",
          "name": "stdout",
          "text": [
            "[0, 1, 4, 9, 16, 25, 36, 49, 64, 81]\n"
          ]
        }
      ]
    },
    {
      "cell_type": "markdown",
      "metadata": {
        "id": "1YEY5HphUnGX"
      },
      "source": [
        "**My code:**"
      ]
    },
    {
      "cell_type": "code",
      "metadata": {
        "colab": {
          "base_uri": "https://localhost:8080/"
        },
        "id": "SCRAPgezUpTE",
        "outputId": "ea15c43a-df01-4113-e66f-d238992ed194"
      },
      "source": [
        "print(list(map(lambda x: x**-1, range(1,10))))"
      ],
      "execution_count": null,
      "outputs": [
        {
          "output_type": "stream",
          "name": "stdout",
          "text": [
            "[1.0, 0.5, 0.3333333333333333, 0.25, 0.2, 0.16666666666666666, 0.14285714285714285, 0.125, 0.1111111111111111]\n"
          ]
        }
      ]
    },
    {
      "cell_type": "markdown",
      "metadata": {
        "id": "95KV_USoU8fY"
      },
      "source": [
        "**7.** map() can be applied to more than one list. The lists have to have the same length."
      ]
    },
    {
      "cell_type": "code",
      "metadata": {
        "colab": {
          "base_uri": "https://localhost:8080/"
        },
        "id": "Mv1FKx-VgEMu",
        "outputId": "25fb53dd-3782-4c0e-cbec-7add2edad3ba"
      },
      "source": [
        "print(list(map(lambda x, y: x+y, [1,2,3,4,5], [5,4,3,2,1])))"
      ],
      "execution_count": null,
      "outputs": [
        {
          "output_type": "stream",
          "name": "stdout",
          "text": [
            "[6, 6, 6, 6, 6]\n"
          ]
        }
      ]
    },
    {
      "cell_type": "markdown",
      "metadata": {
        "id": "bRrEyAZVgPtt"
      },
      "source": [
        "**My code:**"
      ]
    },
    {
      "cell_type": "code",
      "metadata": {
        "colab": {
          "base_uri": "https://localhost:8080/"
        },
        "id": "2uqMYDoHgSEd",
        "outputId": "abda4d06-9053-442e-d52d-16efa73ead86"
      },
      "source": [
        "print(list(map(lambda x, y: x+y, [1,-16,-7,4,5], [-5,-4,-3,-2,-1])))"
      ],
      "execution_count": null,
      "outputs": [
        {
          "output_type": "stream",
          "name": "stdout",
          "text": [
            "[-4, -20, -10, 2, 4]\n"
          ]
        }
      ]
    },
    {
      "cell_type": "markdown",
      "metadata": {
        "id": "mtcodfX6gezt"
      },
      "source": [
        "**8.** sorted() takes a list or set and returns a new sorted list:"
      ]
    },
    {
      "cell_type": "code",
      "metadata": {
        "colab": {
          "base_uri": "https://localhost:8080/"
        },
        "id": "dpune86Jgjnh",
        "outputId": "3f7c061f-a29b-4327-bb42-26dcdb05cbeb"
      },
      "source": [
        "sorted([5,2,3,4,1])"
      ],
      "execution_count": null,
      "outputs": [
        {
          "output_type": "execute_result",
          "data": {
            "text/plain": [
              "[1, 2, 3, 4, 5]"
            ]
          },
          "metadata": {},
          "execution_count": 86
        }
      ]
    },
    {
      "cell_type": "markdown",
      "metadata": {
        "id": "omfWeNhigoBN"
      },
      "source": [
        "**My code:**"
      ]
    },
    {
      "cell_type": "code",
      "metadata": {
        "colab": {
          "base_uri": "https://localhost:8080/"
        },
        "id": "WtyypvEKgqgp",
        "outputId": "0eb16b4c-f4fa-4222-a924-40ad03936018"
      },
      "source": [
        "sorted([-5,-2,-3,4,-1])"
      ],
      "execution_count": null,
      "outputs": [
        {
          "output_type": "execute_result",
          "data": {
            "text/plain": [
              "[-5, -3, -2, -1, 4]"
            ]
          },
          "metadata": {},
          "execution_count": 87
        }
      ]
    },
    {
      "cell_type": "markdown",
      "metadata": {
        "id": "sTzyg-YAguYt"
      },
      "source": [
        "**9.** We can add a \"key\" parameter to specify a function to be called on each list element prior to making comparisons. For example:"
      ]
    },
    {
      "cell_type": "code",
      "metadata": {
        "colab": {
          "base_uri": "https://localhost:8080/"
        },
        "id": "7dGIEEJ5nLnz",
        "outputId": "dbfffe26-ecec-48a9-afd3-4322fd8be91c"
      },
      "source": [
        "price_list = [('AAPL', 144.09), ('GOOGL', 911.71), ('MSFT', 69), ('FB', 150), ('WMT', 75.32)]\n",
        "sorted(price_list, key = lambda x: x[1])"
      ],
      "execution_count": null,
      "outputs": [
        {
          "output_type": "execute_result",
          "data": {
            "text/plain": [
              "[('MSFT', 69),\n",
              " ('WMT', 75.32),\n",
              " ('AAPL', 144.09),\n",
              " ('FB', 150),\n",
              " ('GOOGL', 911.71)]"
            ]
          },
          "metadata": {},
          "execution_count": 88
        }
      ]
    },
    {
      "cell_type": "markdown",
      "metadata": {
        "id": "hwoVkTnKnRK2"
      },
      "source": [
        "**My code:**"
      ]
    },
    {
      "cell_type": "code",
      "metadata": {
        "colab": {
          "base_uri": "https://localhost:8080/"
        },
        "id": "lxQu6ZJSnUrY",
        "outputId": "1822c06f-59a7-4def-f201-3861e71b3ae9"
      },
      "source": [
        "price_list = [('UNAL', 144.09), ('DISTRITAL', 911.71), ('PEDAGOGICA', 69), ('UNIVALLE', 150), ('UIS', 75.32)]\n",
        "sorted(price_list, key = lambda x: x[1])"
      ],
      "execution_count": null,
      "outputs": [
        {
          "output_type": "execute_result",
          "data": {
            "text/plain": [
              "[('PEDAGOGICA', 69),\n",
              " ('UIS', 75.32),\n",
              " ('UNAL', 144.09),\n",
              " ('UNIVALLE', 150),\n",
              " ('DISTRITAL', 911.71)]"
            ]
          },
          "metadata": {},
          "execution_count": 89
        }
      ]
    },
    {
      "cell_type": "markdown",
      "metadata": {
        "id": "OQbsw7oTnpGc"
      },
      "source": [
        "**10.** By default the values are sorted by ascending order. We can change it to descending by adding an optional parameter \"reverse'."
      ]
    },
    {
      "cell_type": "code",
      "metadata": {
        "colab": {
          "base_uri": "https://localhost:8080/"
        },
        "id": "lLXHMz5s0IvR",
        "outputId": "937c8c08-993e-4a9e-d73f-d80c49521bed"
      },
      "source": [
        "price_list = [('AAPL', 144.09), ('GOOGL', 911.71), ('MSFT', 69), ('FB', 150), ('WMT', 75.32)]\n",
        "sorted(price_list, key = lambda x: x[1], reverse = True)"
      ],
      "execution_count": null,
      "outputs": [
        {
          "output_type": "execute_result",
          "data": {
            "text/plain": [
              "[('GOOGL', 911.71),\n",
              " ('FB', 150),\n",
              " ('AAPL', 144.09),\n",
              " ('WMT', 75.32),\n",
              " ('MSFT', 69)]"
            ]
          },
          "metadata": {},
          "execution_count": 90
        }
      ]
    },
    {
      "cell_type": "markdown",
      "metadata": {
        "id": "oBfKZP_H0KSZ"
      },
      "source": [
        "**My code:**"
      ]
    },
    {
      "cell_type": "code",
      "metadata": {
        "colab": {
          "base_uri": "https://localhost:8080/"
        },
        "id": "y1laKNON0Nyp",
        "outputId": "2be84410-2d97-475c-c4b4-e83e9b4e5cc4"
      },
      "source": [
        "price_list = [('UNAL', 144.09), ('DISTRITAL', 911.71), ('PEDAGOGICA', 69), ('UNIVALLE', 150), ('UIS', 75.32)]\n",
        "sorted(price_list, key = lambda x: x[1], reverse = True)"
      ],
      "execution_count": null,
      "outputs": [
        {
          "output_type": "execute_result",
          "data": {
            "text/plain": [
              "[('DISTRITAL', 911.71),\n",
              " ('UNIVALLE', 150),\n",
              " ('UNAL', 144.09),\n",
              " ('UIS', 75.32),\n",
              " ('PEDAGOGICA', 69)]"
            ]
          },
          "metadata": {},
          "execution_count": 91
        }
      ]
    },
    {
      "cell_type": "markdown",
      "metadata": {
        "id": "vUomSg0W0xM6"
      },
      "source": [
        "**11.** Lists also have a function list.sort(). This function takes the same \"key\" and \"reverse\" arguments as sorted(), but it doesn't return a new list."
      ]
    },
    {
      "cell_type": "code",
      "metadata": {
        "colab": {
          "base_uri": "https://localhost:8080/"
        },
        "id": "R37sHGU200rR",
        "outputId": "a4a7c99b-6e81-4590-b0d0-38530112abfc"
      },
      "source": [
        "price_list = [('AAPL', 144.09), ('GOOGL', 911.71), ('MSFT', 69), ('FB', 150), ('WMT', 75.32)]\n",
        "price_list.sort(key = lambda x: x[1])\n",
        "print (price_list)"
      ],
      "execution_count": null,
      "outputs": [
        {
          "output_type": "stream",
          "name": "stdout",
          "text": [
            "[('MSFT', 69), ('WMT', 75.32), ('AAPL', 144.09), ('FB', 150), ('GOOGL', 911.71)]\n"
          ]
        }
      ]
    },
    {
      "cell_type": "markdown",
      "metadata": {
        "id": "KVHQQj_C08vZ"
      },
      "source": [
        "**My code:**"
      ]
    },
    {
      "cell_type": "code",
      "metadata": {
        "colab": {
          "base_uri": "https://localhost:8080/"
        },
        "id": "-vlfvw091AO5",
        "outputId": "2364827e-a254-4744-943f-7db345394462"
      },
      "source": [
        "price_list = [('UNAL', 144.09), ('DISTRITAL', 911.71), ('PEDAGOGICA', 69), ('UNIVALLE', 150), ('UIS', 75.32)]\n",
        "price_list.sort(key = lambda x: x[1])\n",
        "print (price_list)"
      ],
      "execution_count": null,
      "outputs": [
        {
          "output_type": "stream",
          "name": "stdout",
          "text": [
            "[('PEDAGOGICA', 69), ('UIS', 75.32), ('UNAL', 144.09), ('UNIVALLE', 150), ('DISTRITAL', 911.71)]\n"
          ]
        }
      ]
    },
    {
      "cell_type": "markdown",
      "metadata": {
        "id": "-LzY-wht1QX_"
      },
      "source": [
        "**12. Object-Oriented Programming**\n",
        "\n",
        "Python is an object-oriented programming language. It's important to understand the concept of \"objects\" because almost every kind of data from QuantConnect API is an object."
      ]
    },
    {
      "cell_type": "markdown",
      "metadata": {
        "id": "R1exA_Zf1d98"
      },
      "source": [
        "**Class**\n",
        "\n",
        "A class is a type of data, just like a string, float, or list. When we create an object of that data type, we call it an instance of a class.\n",
        "\n",
        "In Python, everything is an object - everything is an instance of some class. The data stored inside an object are called attributes, and the functions which are associated with the object are called methods.\n",
        "\n",
        "For example, as mentioned above, a list is an object of the \"list\" class, and it has a method list.sort().\n",
        "\n",
        "We can create our own objects by defining a class. We would do this when it's helpful to group certain functions together. For example, we define a class named \"Stock\" here:"
      ]
    },
    {
      "cell_type": "code",
      "metadata": {
        "id": "NsYyOZfm21Pw"
      },
      "source": [
        "class Stock:\n",
        "    def __init__(self, ticker, open, close, volume):\n",
        "        self.ticker = ticker\n",
        "        self.open = open\n",
        "        self.close = close\n",
        "        self.volume = volume\n",
        "        self.rate_return = float(close)/open - 1\n",
        "\n",
        "    def update(self, open, close):\n",
        "        self.open = open\n",
        "        self.close = close\n",
        "        self.rate_return = float(self.close)/self.open - 1\n",
        "\n",
        "    def print_return(self):\n",
        "        print (self.rate_return)"
      ],
      "execution_count": null,
      "outputs": []
    },
    {
      "cell_type": "markdown",
      "metadata": {
        "id": "OKYjbjAm27XM"
      },
      "source": [
        "**My code:**"
      ]
    },
    {
      "cell_type": "code",
      "metadata": {
        "id": "foOCm6R33AHe"
      },
      "source": [
        "class Stock1:\n",
        "    def __init__(self, var1, var2, var3, var4):\n",
        "        self.var1 = var1\n",
        "        self.var2 = var2\n",
        "        self.var3 = var3\n",
        "        self.var4 = var4\n",
        "        self.rate_return = float(var3)/var2 - 1\n",
        "\n",
        "    def method1(self, var2, var3):\n",
        "        self.var2 = var2\n",
        "        self.var3 = var3\n",
        "        self.rate_return = float(self.var3)/self.var2 - 1\n",
        "\n",
        "    def print_return(self):\n",
        "        print (self.rate_return)"
      ],
      "execution_count": null,
      "outputs": []
    },
    {
      "cell_type": "markdown",
      "metadata": {
        "id": "Ge4maens32S5"
      },
      "source": [
        "**13.** The \"Stock\" class has attributes \"ticker\", \"open\", \"close\", \"volume\" and \"rate_return\". Inside the class body, the first method is called __init__, which is a special method. When we create a new instance of the class, the __init__ method is immediately executed with all the parameters that we pass to the \"Stock\" object. The purpose of this method is to set up a new \"Stock\" object using data we have provided.\n",
        "\n",
        "Here we create two Stock objects named \"apple\" and \"google\"."
      ]
    },
    {
      "cell_type": "code",
      "metadata": {
        "id": "-ilzpzri36mI"
      },
      "source": [
        "apple  = Stock('AAPL', 143.69, 144.09, 20109375)\n",
        "google = Stock('GOOGL', 898.7, 911.7, 1561616)"
      ],
      "execution_count": null,
      "outputs": []
    },
    {
      "cell_type": "markdown",
      "metadata": {
        "id": "RhYqPcso3-eI"
      },
      "source": [
        "**My code:**"
      ]
    },
    {
      "cell_type": "code",
      "metadata": {
        "id": "tyk7qLMx4Ar4"
      },
      "source": [
        "unal  = Stock1('UNAL', 143.69, 144.09, 20109375)\n",
        "uis = Stock1('UIS', 898.7, 911.7, 1561616)"
      ],
      "execution_count": null,
      "outputs": []
    },
    {
      "cell_type": "markdown",
      "metadata": {
        "id": "B2bkTy8Q4QKh"
      },
      "source": [
        "**14.** Stock objects also have two other methods: update() and print_return(). We can access the attribues of a Stock object and call its methods"
      ]
    },
    {
      "cell_type": "code",
      "metadata": {
        "colab": {
          "base_uri": "https://localhost:8080/"
        },
        "id": "cSL9fZ9O4S7y",
        "outputId": "d1b0aceb-7c36-4e6d-c3b1-b9a990423714"
      },
      "source": [
        "apple.ticker\n",
        "google.print_return()\n",
        "google.update(912.8,913.4)\n",
        "google.print_return()"
      ],
      "execution_count": null,
      "outputs": [
        {
          "output_type": "stream",
          "name": "stdout",
          "text": [
            "0.014465338822744034\n",
            "0.0006573181419806673\n"
          ]
        }
      ]
    },
    {
      "cell_type": "markdown",
      "metadata": {
        "id": "4WiD-3Vm4fHP"
      },
      "source": [
        "**My code (in my code the method1() is update()):**"
      ]
    },
    {
      "cell_type": "code",
      "metadata": {
        "colab": {
          "base_uri": "https://localhost:8080/"
        },
        "id": "xaaN6V2E4w6F",
        "outputId": "81a5a8d1-6575-4db4-b62c-7c12ede0639d"
      },
      "source": [
        "unal.var1\n",
        "uis.print_return()\n",
        "uis.method1(912.8,913.4)\n",
        "uis.print_return()"
      ],
      "execution_count": null,
      "outputs": [
        {
          "output_type": "stream",
          "name": "stdout",
          "text": [
            "0.014465338822744034\n",
            "0.0006573181419806673\n"
          ]
        }
      ]
    },
    {
      "cell_type": "markdown",
      "metadata": {
        "id": "SPT7SNyW48lp"
      },
      "source": [
        "**15.** By calling the update() function, we updated the open and close prices of a stock. Please note that when we use the attributes or call the methods inside a class, we need to specify them as self.attribute or self.method(), otherwise Python will deem them as global variables and thus raise an error.\n",
        "\n",
        "We can add an attribute to an object anywhere:"
      ]
    },
    {
      "cell_type": "code",
      "metadata": {
        "colab": {
          "base_uri": "https://localhost:8080/",
          "height": 35
        },
        "id": "f29ePyEn5nRt",
        "outputId": "a3a746c8-a634-4241-9c89-273f8b9af306"
      },
      "source": [
        "apple.ceo = 'Tim Cook'\n",
        "apple.ceo"
      ],
      "execution_count": null,
      "outputs": [
        {
          "output_type": "execute_result",
          "data": {
            "application/vnd.google.colaboratory.intrinsic+json": {
              "type": "string"
            },
            "text/plain": [
              "'Tim Cook'"
            ]
          },
          "metadata": {},
          "execution_count": 104
        }
      ]
    },
    {
      "cell_type": "markdown",
      "metadata": {
        "id": "xscq4qBj5p2-"
      },
      "source": [
        "**My code:**"
      ]
    },
    {
      "cell_type": "code",
      "metadata": {
        "colab": {
          "base_uri": "https://localhost:8080/",
          "height": 35
        },
        "id": "xW5ZN6Lg5smh",
        "outputId": "609f3b2d-8137-49fb-e8d5-447c93e9621f"
      },
      "source": [
        "unal.campus = 'Manizales'\n",
        "unal.campus"
      ],
      "execution_count": null,
      "outputs": [
        {
          "output_type": "execute_result",
          "data": {
            "application/vnd.google.colaboratory.intrinsic+json": {
              "type": "string"
            },
            "text/plain": [
              "'Manizales'"
            ]
          },
          "metadata": {},
          "execution_count": 110
        }
      ]
    },
    {
      "cell_type": "markdown",
      "metadata": {
        "id": "8xhIUeZS59OJ"
      },
      "source": [
        "**16.** We can check what names (i.e. attributes and methods) are defined on an object using the dir() function:"
      ]
    },
    {
      "cell_type": "code",
      "metadata": {
        "colab": {
          "base_uri": "https://localhost:8080/"
        },
        "id": "T9E09FHq6EgR",
        "outputId": "c9683aaa-cefa-4517-aa85-447c43091d1d"
      },
      "source": [
        "dir(apple)"
      ],
      "execution_count": null,
      "outputs": [
        {
          "output_type": "execute_result",
          "data": {
            "text/plain": [
              "['__class__',\n",
              " '__delattr__',\n",
              " '__dict__',\n",
              " '__dir__',\n",
              " '__doc__',\n",
              " '__eq__',\n",
              " '__format__',\n",
              " '__ge__',\n",
              " '__getattribute__',\n",
              " '__gt__',\n",
              " '__hash__',\n",
              " '__init__',\n",
              " '__init_subclass__',\n",
              " '__le__',\n",
              " '__lt__',\n",
              " '__module__',\n",
              " '__ne__',\n",
              " '__new__',\n",
              " '__reduce__',\n",
              " '__reduce_ex__',\n",
              " '__repr__',\n",
              " '__setattr__',\n",
              " '__sizeof__',\n",
              " '__str__',\n",
              " '__subclasshook__',\n",
              " '__weakref__',\n",
              " 'ceo',\n",
              " 'close',\n",
              " 'open',\n",
              " 'print_return',\n",
              " 'rate_return',\n",
              " 'ticker',\n",
              " 'update',\n",
              " 'volume']"
            ]
          },
          "metadata": {},
          "execution_count": 106
        }
      ]
    },
    {
      "cell_type": "markdown",
      "metadata": {
        "id": "QoSB_Vn36ONq"
      },
      "source": [
        "**My code:**"
      ]
    },
    {
      "cell_type": "code",
      "metadata": {
        "colab": {
          "base_uri": "https://localhost:8080/"
        },
        "id": "pfjxiLAg6QtO",
        "outputId": "825cdf4b-0435-4d21-acf9-9dfdff7629e7"
      },
      "source": [
        "dir(unal)"
      ],
      "execution_count": null,
      "outputs": [
        {
          "output_type": "execute_result",
          "data": {
            "text/plain": [
              "['__class__',\n",
              " '__delattr__',\n",
              " '__dict__',\n",
              " '__dir__',\n",
              " '__doc__',\n",
              " '__eq__',\n",
              " '__format__',\n",
              " '__ge__',\n",
              " '__getattribute__',\n",
              " '__gt__',\n",
              " '__hash__',\n",
              " '__init__',\n",
              " '__init_subclass__',\n",
              " '__le__',\n",
              " '__lt__',\n",
              " '__module__',\n",
              " '__ne__',\n",
              " '__new__',\n",
              " '__reduce__',\n",
              " '__reduce_ex__',\n",
              " '__repr__',\n",
              " '__setattr__',\n",
              " '__sizeof__',\n",
              " '__str__',\n",
              " '__subclasshook__',\n",
              " '__weakref__',\n",
              " 'method1',\n",
              " 'print_return',\n",
              " 'rate_return',\n",
              " 'var1',\n",
              " 'var2',\n",
              " 'var3',\n",
              " 'var4']"
            ]
          },
          "metadata": {},
          "execution_count": 116
        }
      ]
    },
    {
      "cell_type": "markdown",
      "metadata": {
        "id": "Au9qH_yy86WF"
      },
      "source": [
        "**17. Inheritance**\n",
        "\n",
        "Inheritance is a way of arranging classes in a hierarchy from the most general to the most specific. A \"child\" class is a more specific type of a \"parent\" class because a child class will inherit all the attribues and methods of its parent. For example, we define a class named \"Child\" which inherits \"Stock\":"
      ]
    },
    {
      "cell_type": "code",
      "metadata": {
        "id": "Oq5mOw5R9AGR"
      },
      "source": [
        "class Child(Stock):\n",
        "    def __init__(self, name):\n",
        "        self.name = name"
      ],
      "execution_count": null,
      "outputs": []
    },
    {
      "cell_type": "markdown",
      "metadata": {
        "id": "xRDt7nTh9Hc_"
      },
      "source": [
        "**My code:**"
      ]
    },
    {
      "cell_type": "code",
      "metadata": {
        "id": "Lj1JQmEr9KSi"
      },
      "source": [
        "class Unal_Child(Stock1):\n",
        "    def __init__(self, name):\n",
        "        self.name = name"
      ],
      "execution_count": null,
      "outputs": []
    },
    {
      "cell_type": "markdown",
      "metadata": {
        "id": "yMHFMgjk9Vcg"
      },
      "source": [
        "**18.** Then we create an object:"
      ]
    },
    {
      "cell_type": "code",
      "metadata": {
        "colab": {
          "base_uri": "https://localhost:8080/"
        },
        "id": "nnGF4hr59cio",
        "outputId": "bd5158a0-7a59-4ab5-cae0-38fec64321b9"
      },
      "source": [
        "aa = Child('AA')\n",
        "print (aa.name)\n",
        "aa.update(100, 102)\n",
        "print (aa.open)\n",
        "print (aa.close)\n",
        "aa.print_return()"
      ],
      "execution_count": null,
      "outputs": [
        {
          "output_type": "stream",
          "name": "stdout",
          "text": [
            "AA\n",
            "100\n",
            "102\n",
            "0.020000000000000018\n"
          ]
        }
      ]
    },
    {
      "cell_type": "markdown",
      "metadata": {
        "id": "5suGTsC89t4n"
      },
      "source": [
        "**My code:**"
      ]
    },
    {
      "cell_type": "code",
      "metadata": {
        "colab": {
          "base_uri": "https://localhost:8080/"
        },
        "id": "92yAzILV9v-c",
        "outputId": "72242f61-f15a-471b-fd67-4d8fc1b78e9f"
      },
      "source": [
        "aa = Unal_Child('Ingenieria')\n",
        "print (aa.name)\n",
        "aa.method1(100, 102)\n",
        "print (aa.var2)\n",
        "print (aa.var3)\n",
        "aa.print_return()"
      ],
      "execution_count": null,
      "outputs": [
        {
          "output_type": "stream",
          "name": "stdout",
          "text": [
            "Ingenieria\n",
            "100\n",
            "102\n",
            "0.020000000000000018\n"
          ]
        }
      ]
    },
    {
      "cell_type": "markdown",
      "metadata": {
        "id": "oyRYzJUA-qUM"
      },
      "source": [
        "## **NumPy and Basic Pandas (Tutorial #4)**"
      ]
    },
    {
      "cell_type": "markdown",
      "metadata": {
        "id": "hR6cQB1e-1Og"
      },
      "source": [
        "**Introduction**\n",
        "\n",
        "Now that we have introduced the fundamentals of Python, it's time to learn about NumPy and Pandas.\n",
        "\n",
        "**1. NumPy**\n",
        "\n",
        "NumPy is the core library for scientific computing in Python. It provides a high-performance multidimensional array object, and tools for working with these arrays. It also has strong integration with Pandas, which is another powerful tool for manipulating financial data.\n",
        "\n",
        "Python packages like NumPy and Pandas contain classes and methods which we can use by importing the package:"
      ]
    },
    {
      "cell_type": "code",
      "metadata": {
        "id": "ynrH4vn1-9SO"
      },
      "source": [
        "import numpy as np"
      ],
      "execution_count": null,
      "outputs": []
    },
    {
      "cell_type": "markdown",
      "metadata": {
        "id": "NA57lOvNBJd4"
      },
      "source": [
        "**My code:**"
      ]
    },
    {
      "cell_type": "code",
      "metadata": {
        "id": "4d8xhi-HBLoH"
      },
      "source": [
        "import numpy as nump"
      ],
      "execution_count": null,
      "outputs": []
    },
    {
      "cell_type": "markdown",
      "metadata": {
        "id": "DK7Sj1wtBOu9"
      },
      "source": [
        "**2.** **Basic NumPy Arrays**\n",
        "\n",
        "A NumPy array is a grid of values, all of the same type, and is indexed by a tuple of nonnegative integers. Here we make an array by passing a list of Apple stock prices:"
      ]
    },
    {
      "cell_type": "code",
      "metadata": {
        "colab": {
          "base_uri": "https://localhost:8080/"
        },
        "id": "18IwTGEkBZds",
        "outputId": "4d7ea9d5-3242-45a5-eae9-025241bb559b"
      },
      "source": [
        "price_list = [143.73, 145.83, 143.68, 144.02, 143.5, 142.62]\n",
        "price_array = np.array(price_list)\n",
        "print (price_array, type(price_array))"
      ],
      "execution_count": null,
      "outputs": [
        {
          "output_type": "stream",
          "name": "stdout",
          "text": [
            "[143.73 145.83 143.68 144.02 143.5  142.62] <class 'numpy.ndarray'>\n"
          ]
        }
      ]
    },
    {
      "cell_type": "markdown",
      "metadata": {
        "id": "Xw7qDVheBeo4"
      },
      "source": [
        "**My code:**"
      ]
    },
    {
      "cell_type": "code",
      "metadata": {
        "colab": {
          "base_uri": "https://localhost:8080/"
        },
        "id": "s7D8gQYHBgf3",
        "outputId": "15e939fe-b3ed-4416-e336-815040d626a0"
      },
      "source": [
        "list1 = [143.73, 145.83, 143.68, 144.02, 143.5, 142.62]\n",
        "array1 = nump.array(list1)\n",
        "print (array1, type(array1))"
      ],
      "execution_count": null,
      "outputs": [
        {
          "output_type": "stream",
          "name": "stdout",
          "text": [
            "[143.73 145.83 143.68 144.02 143.5  142.62] <class 'numpy.ndarray'>\n"
          ]
        }
      ]
    },
    {
      "cell_type": "markdown",
      "metadata": {
        "id": "JzAQ1VXkB6V4"
      },
      "source": [
        "**3.** Notice that the type of array is \"ndarray\" which is a multi-dimensional array. If we pass np.array() a list of lists, it will create a 2-dimensional array."
      ]
    },
    {
      "cell_type": "code",
      "metadata": {
        "colab": {
          "base_uri": "https://localhost:8080/"
        },
        "id": "DGoLiUVMB-UW",
        "outputId": "6cdc120e-5f19-4a4c-8b29-130fe3b87875"
      },
      "source": [
        "Ar = np.array([[1,3], [2,4]])\n",
        "print (Ar, type(Ar))"
      ],
      "execution_count": null,
      "outputs": [
        {
          "output_type": "stream",
          "name": "stdout",
          "text": [
            "[[1 3]\n",
            " [2 4]] <class 'numpy.ndarray'>\n"
          ]
        }
      ]
    },
    {
      "cell_type": "markdown",
      "metadata": {
        "id": "PXzWB07HCDgv"
      },
      "source": [
        "**My code:**"
      ]
    },
    {
      "cell_type": "code",
      "metadata": {
        "colab": {
          "base_uri": "https://localhost:8080/"
        },
        "id": "7BgI0xR2CGn6",
        "outputId": "ede553a4-4d7d-4a53-9743-c94b173763de"
      },
      "source": [
        "numpAr = nump.array([[-1,-3], [-2,-4]])\n",
        "print (numpAr, type(numpAr))"
      ],
      "execution_count": null,
      "outputs": [
        {
          "output_type": "stream",
          "name": "stdout",
          "text": [
            "[[-1 -3]\n",
            " [-2 -4]] <class 'numpy.ndarray'>\n"
          ]
        }
      ]
    },
    {
      "cell_type": "markdown",
      "metadata": {
        "id": "_aCd3U6HCZAO"
      },
      "source": [
        "**4.** We get the dimensions of an ndarray using the .shape attribute:"
      ]
    },
    {
      "cell_type": "code",
      "metadata": {
        "colab": {
          "base_uri": "https://localhost:8080/"
        },
        "id": "TjWSBXlICgJv",
        "outputId": "6c9e417e-a4e8-4c3f-ba75-1daf6a38ed88"
      },
      "source": [
        "print (Ar.shape)"
      ],
      "execution_count": null,
      "outputs": [
        {
          "output_type": "stream",
          "name": "stdout",
          "text": [
            "(2, 2)\n"
          ]
        }
      ]
    },
    {
      "cell_type": "markdown",
      "metadata": {
        "id": "D4ZvpCZ_CjSK"
      },
      "source": [
        "**My code:**"
      ]
    },
    {
      "cell_type": "code",
      "metadata": {
        "colab": {
          "base_uri": "https://localhost:8080/"
        },
        "id": "aL09YRsQClPo",
        "outputId": "619284f3-bd40-4e56-a7e6-6e15656c7253"
      },
      "source": [
        "print (numpAr.shape)"
      ],
      "execution_count": null,
      "outputs": [
        {
          "output_type": "stream",
          "name": "stdout",
          "text": [
            "(2, 2)\n"
          ]
        }
      ]
    },
    {
      "cell_type": "markdown",
      "metadata": {
        "id": "q06dO_uFCqBH"
      },
      "source": [
        "**5.** If we create an 2-dimensional array (i.e. matrix), each row can be accessed by index:"
      ]
    },
    {
      "cell_type": "code",
      "metadata": {
        "colab": {
          "base_uri": "https://localhost:8080/"
        },
        "id": "fUmppmSzC0u9",
        "outputId": "961edf70-92dc-4c55-e09e-e789c381193e"
      },
      "source": [
        "print (Ar[0])\n",
        "print (Ar[1])"
      ],
      "execution_count": null,
      "outputs": [
        {
          "output_type": "stream",
          "name": "stdout",
          "text": [
            "[1 3]\n",
            "[2 4]\n"
          ]
        }
      ]
    },
    {
      "cell_type": "markdown",
      "metadata": {
        "id": "z_pGrSLXC7jg"
      },
      "source": [
        "**My code:**"
      ]
    },
    {
      "cell_type": "code",
      "metadata": {
        "colab": {
          "base_uri": "https://localhost:8080/"
        },
        "id": "Xp3dIxqSC9hz",
        "outputId": "62788854-0eb5-4a97-82b6-d66c16ad3b82"
      },
      "source": [
        "print (numpAr[0])\n",
        "print (numpAr[1])"
      ],
      "execution_count": null,
      "outputs": [
        {
          "output_type": "stream",
          "name": "stdout",
          "text": [
            "[-1 -3]\n",
            "[-2 -4]\n"
          ]
        }
      ]
    },
    {
      "cell_type": "markdown",
      "metadata": {
        "id": "TxgAdXxHDAnQ"
      },
      "source": [
        "**6.** If we want to access the matrix by column instead:"
      ]
    },
    {
      "cell_type": "code",
      "metadata": {
        "colab": {
          "base_uri": "https://localhost:8080/"
        },
        "id": "BWfNQFmIDQWW",
        "outputId": "1e597377-3378-40f0-e8a5-08c914cc23bb"
      },
      "source": [
        "print ('First column:', Ar[:,0])\n",
        "print ('Second column:', Ar[:,1])"
      ],
      "execution_count": null,
      "outputs": [
        {
          "output_type": "stream",
          "name": "stdout",
          "text": [
            "First column: [1 2]\n",
            "Second column: [3 4]\n"
          ]
        }
      ]
    },
    {
      "cell_type": "markdown",
      "metadata": {
        "id": "YVeMmrJ4Dftv"
      },
      "source": [
        "**My code:**"
      ]
    },
    {
      "cell_type": "code",
      "metadata": {
        "colab": {
          "base_uri": "https://localhost:8080/"
        },
        "id": "kka71DE5Dk1O",
        "outputId": "1272ca64-796a-41e8-9c4d-7fa1b10f0cdc"
      },
      "source": [
        "print ('First column:', numpAr[:,0])\n",
        "print ('Second column:', numpAr[:,1])"
      ],
      "execution_count": null,
      "outputs": [
        {
          "output_type": "stream",
          "name": "stdout",
          "text": [
            "First column: [-1 -2]\n",
            "Second column: [-3 -4]\n"
          ]
        }
      ]
    },
    {
      "cell_type": "markdown",
      "metadata": {
        "id": "fqnT7iEbD0Jg"
      },
      "source": [
        "**7.** **Array Functions**\n",
        "\n",
        "Some functions built in NumPy that allow us to perform calculations on arrays. For example, we can apply the natural logarithm to each element of an array:"
      ]
    },
    {
      "cell_type": "code",
      "metadata": {
        "colab": {
          "base_uri": "https://localhost:8080/"
        },
        "id": "ulqfQNlWD4Or",
        "outputId": "840abf04-5438-41c9-8097-72ecdbf9ae7b"
      },
      "source": [
        "np.log(price_array)"
      ],
      "execution_count": null,
      "outputs": [
        {
          "output_type": "execute_result",
          "data": {
            "text/plain": [
              "array([4.96793654, 4.98244156, 4.9675886 , 4.96995218, 4.96633504,\n",
              "       4.96018375])"
            ]
          },
          "metadata": {},
          "execution_count": 143
        }
      ]
    },
    {
      "cell_type": "markdown",
      "metadata": {
        "id": "5D1ArzedD-82"
      },
      "source": [
        "**My code:**"
      ]
    },
    {
      "cell_type": "code",
      "metadata": {
        "colab": {
          "base_uri": "https://localhost:8080/"
        },
        "id": "y_84tUjZEBJt",
        "outputId": "75a38b8b-aa9c-457e-8857-8e12e0e316dd"
      },
      "source": [
        "nump.log(array1)"
      ],
      "execution_count": null,
      "outputs": [
        {
          "output_type": "execute_result",
          "data": {
            "text/plain": [
              "array([4.96793654, 4.98244156, 4.9675886 , 4.96995218, 4.96633504,\n",
              "       4.96018375])"
            ]
          },
          "metadata": {},
          "execution_count": 145
        }
      ]
    },
    {
      "cell_type": "markdown",
      "metadata": {
        "id": "oo1WDVFcEPfv"
      },
      "source": [
        "**8.** Other functions return a single value:"
      ]
    },
    {
      "cell_type": "code",
      "metadata": {
        "colab": {
          "base_uri": "https://localhost:8080/"
        },
        "id": "5tlfmfr_Ea3T",
        "outputId": "e5dacbef-fa6c-4a94-a07c-6075ab61109c"
      },
      "source": [
        "print (np.mean(price_array))\n",
        "print (np.std(price_array))\n",
        "print (np.sum(price_array))\n",
        "print (np.max(price_array))"
      ],
      "execution_count": null,
      "outputs": [
        {
          "output_type": "stream",
          "name": "stdout",
          "text": [
            "143.89666666666668\n",
            "0.9673790478515796\n",
            "863.38\n",
            "145.83\n"
          ]
        }
      ]
    },
    {
      "cell_type": "markdown",
      "metadata": {
        "id": "gXGekmj3E1l9"
      },
      "source": [
        "**My code:**"
      ]
    },
    {
      "cell_type": "code",
      "metadata": {
        "colab": {
          "base_uri": "https://localhost:8080/"
        },
        "id": "GNgtksO7E44i",
        "outputId": "4bf1b1aa-fe5f-4261-bedd-c92053e6bd23"
      },
      "source": [
        "print (nump.mean(array1))\n",
        "print (nump.std(array1))\n",
        "print (nump.sum(array1))\n",
        "print (nump.max(array1))"
      ],
      "execution_count": null,
      "outputs": [
        {
          "output_type": "stream",
          "name": "stdout",
          "text": [
            "143.89666666666668\n",
            "0.9673790478515796\n",
            "863.38\n",
            "145.83\n"
          ]
        }
      ]
    },
    {
      "cell_type": "markdown",
      "metadata": {
        "id": "ApdVJVnPFNFg"
      },
      "source": [
        "The functions above return the mean, standard deviation, total and maximum value of an array."
      ]
    },
    {
      "cell_type": "markdown",
      "metadata": {
        "id": "mnIwPLF6FG4F"
      },
      "source": [
        "**9.** **Pandas**\n",
        "\n",
        "Pandas is one of the most powerful tools for dealing with financial data. First we need to import Pandas:"
      ]
    },
    {
      "cell_type": "code",
      "metadata": {
        "id": "k2jK0jN2FgQp"
      },
      "source": [
        "import pandas as pd"
      ],
      "execution_count": null,
      "outputs": []
    },
    {
      "cell_type": "markdown",
      "metadata": {
        "id": "-nBcenVMFhVf"
      },
      "source": [
        "**My code:**"
      ]
    },
    {
      "cell_type": "code",
      "metadata": {
        "id": "aMKzpPHBFjg3"
      },
      "source": [
        "import pandas as pand"
      ],
      "execution_count": null,
      "outputs": []
    },
    {
      "cell_type": "markdown",
      "metadata": {
        "id": "1FteqNArFlt2"
      },
      "source": [
        "**10.** **Series**\n",
        "\n",
        "Series is a one-dimensional labeled array capable of holding any data type (integers, strings, float, Python object, etc.)\n",
        "\n",
        "We create a Series by calling pd.Series(data), where data can be a dictionary, an array or just a scalar value."
      ]
    },
    {
      "cell_type": "code",
      "metadata": {
        "colab": {
          "base_uri": "https://localhost:8080/"
        },
        "id": "HWcG9O6IJVi6",
        "outputId": "6a3ba612-c263-45cd-c75d-c7defce892e4"
      },
      "source": [
        "price = [143.73, 145.83, 143.68, 144.02, 143.5, 142.62]\n",
        "s = pd.Series(price)\n",
        "print (s)"
      ],
      "execution_count": null,
      "outputs": [
        {
          "output_type": "stream",
          "name": "stdout",
          "text": [
            "0    143.73\n",
            "1    145.83\n",
            "2    143.68\n",
            "3    144.02\n",
            "4    143.50\n",
            "5    142.62\n",
            "dtype: float64\n"
          ]
        }
      ]
    },
    {
      "cell_type": "markdown",
      "metadata": {
        "id": "rHeOTKzzJdTa"
      },
      "source": [
        "**My code:**"
      ]
    },
    {
      "cell_type": "code",
      "metadata": {
        "colab": {
          "base_uri": "https://localhost:8080/"
        },
        "id": "lxOa9DusJgR3",
        "outputId": "f93a981d-2f2c-47ec-b552-a666a13c3385"
      },
      "source": [
        "height = [143.73, 145.83, 143.68, 144.02, 143.5, 142.62]\n",
        "height_series = pand.Series(height)\n",
        "print (height_series)"
      ],
      "execution_count": null,
      "outputs": [
        {
          "output_type": "stream",
          "name": "stdout",
          "text": [
            "0    143.73\n",
            "1    145.83\n",
            "2    143.68\n",
            "3    144.02\n",
            "4    143.50\n",
            "5    142.62\n",
            "dtype: float64\n"
          ]
        }
      ]
    },
    {
      "cell_type": "markdown",
      "metadata": {
        "id": "l5tBVdzQKPzd"
      },
      "source": [
        "**11.** We can customize the indices of a new Series:"
      ]
    },
    {
      "cell_type": "code",
      "metadata": {
        "colab": {
          "base_uri": "https://localhost:8080/"
        },
        "id": "cslTcbaEKhpL",
        "outputId": "6d4efa0d-32a5-4ef5-f73b-60a7c1ec549b"
      },
      "source": [
        "s = pd.Series(price, index = ['a', 'b', 'c', 'd', 'e', 'f'])\n",
        "print (s)"
      ],
      "execution_count": null,
      "outputs": [
        {
          "output_type": "stream",
          "name": "stdout",
          "text": [
            "a    143.73\n",
            "b    145.83\n",
            "c    143.68\n",
            "d    144.02\n",
            "e    143.50\n",
            "f    142.62\n",
            "dtype: float64\n"
          ]
        }
      ]
    },
    {
      "cell_type": "markdown",
      "metadata": {
        "id": "ni3RdfNwKqB5"
      },
      "source": [
        "**My code:**"
      ]
    },
    {
      "cell_type": "code",
      "metadata": {
        "colab": {
          "base_uri": "https://localhost:8080/"
        },
        "id": "wZQ8cherKr8T",
        "outputId": "abcb383a-0aea-4e66-d9f2-e9f5774cade2"
      },
      "source": [
        "height_series = pd.Series(price, index = ['a', 'b', 'c', 'd', 'e', 'f'])\n",
        "print (height_series)"
      ],
      "execution_count": null,
      "outputs": [
        {
          "output_type": "stream",
          "name": "stdout",
          "text": [
            "a    143.73\n",
            "b    145.83\n",
            "c    143.68\n",
            "d    144.02\n",
            "e    143.50\n",
            "f    142.62\n",
            "dtype: float64\n"
          ]
        }
      ]
    },
    {
      "cell_type": "markdown",
      "metadata": {
        "id": "q11tRH8_K5PP"
      },
      "source": [
        "**12.** Or we can change the indices of an existing Series:"
      ]
    },
    {
      "cell_type": "code",
      "metadata": {
        "colab": {
          "base_uri": "https://localhost:8080/"
        },
        "id": "vWTyLvt4LEdh",
        "outputId": "6466b416-8bab-442b-fa08-2bbb285b8a99"
      },
      "source": [
        "s.index = [6,5,4,3,2,1]\n",
        "print (s)"
      ],
      "execution_count": null,
      "outputs": [
        {
          "output_type": "stream",
          "name": "stdout",
          "text": [
            "6    143.73\n",
            "5    145.83\n",
            "4    143.68\n",
            "3    144.02\n",
            "2    143.50\n",
            "1    142.62\n",
            "dtype: float64\n"
          ]
        }
      ]
    },
    {
      "cell_type": "markdown",
      "metadata": {
        "id": "5i3iV9ZbLpuu"
      },
      "source": [
        "**My code:**"
      ]
    },
    {
      "cell_type": "code",
      "metadata": {
        "colab": {
          "base_uri": "https://localhost:8080/"
        },
        "id": "LSmc2heYLsVU",
        "outputId": "c5b673b2-6b26-4845-ab39-f579eafb3b40"
      },
      "source": [
        "height_series.index = [6,5,4,3,2,1]\n",
        "print (height_series)"
      ],
      "execution_count": null,
      "outputs": [
        {
          "output_type": "stream",
          "name": "stdout",
          "text": [
            "6    143.73\n",
            "5    145.83\n",
            "4    143.68\n",
            "3    144.02\n",
            "2    143.50\n",
            "1    142.62\n",
            "dtype: float64\n"
          ]
        }
      ]
    },
    {
      "cell_type": "markdown",
      "metadata": {
        "id": "p5JTgKw1Lygm"
      },
      "source": [
        "**13.** Series is like a list since it can be sliced by index:\n",
        "\n"
      ]
    },
    {
      "cell_type": "code",
      "metadata": {
        "colab": {
          "base_uri": "https://localhost:8080/"
        },
        "id": "JXqNuwtSMGoY",
        "outputId": "894ed3ac-9bd9-4d49-f656-875223f7fb44"
      },
      "source": [
        "print (s[1:])\n",
        "print (s[:-2])"
      ],
      "execution_count": null,
      "outputs": [
        {
          "output_type": "stream",
          "name": "stdout",
          "text": [
            "5    145.83\n",
            "4    143.68\n",
            "3    144.02\n",
            "2    143.50\n",
            "1    142.62\n",
            "dtype: float64\n",
            "6    143.73\n",
            "5    145.83\n",
            "4    143.68\n",
            "3    144.02\n",
            "dtype: float64\n"
          ]
        }
      ]
    },
    {
      "cell_type": "markdown",
      "metadata": {
        "id": "zeEC2Qh8MLGU"
      },
      "source": [
        "**My date:**"
      ]
    },
    {
      "cell_type": "code",
      "metadata": {
        "colab": {
          "base_uri": "https://localhost:8080/"
        },
        "id": "mjAq85kNMNIB",
        "outputId": "299a16cc-f1a3-4e89-9148-96fa1bd01eba"
      },
      "source": [
        "print (height_series[1:])\n",
        "print (height_series[:-2])"
      ],
      "execution_count": null,
      "outputs": [
        {
          "output_type": "stream",
          "name": "stdout",
          "text": [
            "5    145.83\n",
            "4    143.68\n",
            "3    144.02\n",
            "2    143.50\n",
            "1    142.62\n",
            "dtype: float64\n",
            "6    143.73\n",
            "5    145.83\n",
            "4    143.68\n",
            "3    144.02\n",
            "dtype: float64\n"
          ]
        }
      ]
    },
    {
      "cell_type": "markdown",
      "metadata": {
        "id": "31aOdymMMRJY"
      },
      "source": [
        "**14.** Series is also like a dictionary whose values can be set or fetched by index label:"
      ]
    },
    {
      "cell_type": "code",
      "metadata": {
        "colab": {
          "base_uri": "https://localhost:8080/"
        },
        "id": "V8CXmx6lMcA4",
        "outputId": "7ad48de5-585e-431a-ba91-70302a3e361d"
      },
      "source": [
        "print (s[4])\n",
        "s[4] = 0\n",
        "print (s)"
      ],
      "execution_count": null,
      "outputs": [
        {
          "output_type": "stream",
          "name": "stdout",
          "text": [
            "143.68\n",
            "6    143.73\n",
            "5    145.83\n",
            "4      0.00\n",
            "3    144.02\n",
            "2    143.50\n",
            "1    142.62\n",
            "dtype: float64\n"
          ]
        }
      ]
    },
    {
      "cell_type": "markdown",
      "metadata": {
        "id": "VkAqD-oGMgDh"
      },
      "source": [
        "**My code:**"
      ]
    },
    {
      "cell_type": "code",
      "metadata": {
        "colab": {
          "base_uri": "https://localhost:8080/"
        },
        "id": "OpW1TV7sMi91",
        "outputId": "91c99714-671a-4d17-f2b2-4b74d5ba4e52"
      },
      "source": [
        "print (height_series[4])\n",
        "height_series[4] = 0\n",
        "print (height_series)"
      ],
      "execution_count": null,
      "outputs": [
        {
          "output_type": "stream",
          "name": "stdout",
          "text": [
            "143.68\n",
            "6    143.73\n",
            "5    145.83\n",
            "4      0.00\n",
            "3    144.02\n",
            "2    143.50\n",
            "1    142.62\n",
            "dtype: float64\n"
          ]
        }
      ]
    },
    {
      "cell_type": "markdown",
      "metadata": {
        "id": "DKtoqyFYXkx7"
      },
      "source": [
        "**15.** Series can also have a name attribute, which will be used when we make up a Pandas DataFrame using several series."
      ]
    },
    {
      "cell_type": "code",
      "metadata": {
        "colab": {
          "base_uri": "https://localhost:8080/"
        },
        "id": "OYA7KQ8ZXoww",
        "outputId": "c164b946-554d-4a51-af27-b42c8429ae57"
      },
      "source": [
        "s = pd.Series(price, name = 'Apple Prices')\n",
        "print (s)\n",
        "print (s.name)"
      ],
      "execution_count": null,
      "outputs": [
        {
          "output_type": "stream",
          "name": "stdout",
          "text": [
            "0    143.73\n",
            "1    145.83\n",
            "2    143.68\n",
            "3    144.02\n",
            "4    143.50\n",
            "5    142.62\n",
            "Name: Apple Prices, dtype: float64\n",
            "Apple Prices\n"
          ]
        }
      ]
    },
    {
      "cell_type": "markdown",
      "metadata": {
        "id": "3jz5jtrBXx3M"
      },
      "source": [
        "**My code:**"
      ]
    },
    {
      "cell_type": "code",
      "metadata": {
        "colab": {
          "base_uri": "https://localhost:8080/"
        },
        "id": "vZ4g4VvoX293",
        "outputId": "805fb395-eafd-4c6d-db12-200a68779117"
      },
      "source": [
        "height_series = pd.Series(height_series, name = \"UNAL Student's Heights\")\n",
        "print (height_series)\n",
        "print (height_series.name)"
      ],
      "execution_count": null,
      "outputs": [
        {
          "output_type": "stream",
          "name": "stdout",
          "text": [
            "6    143.73\n",
            "5    145.83\n",
            "4      0.00\n",
            "3    144.02\n",
            "2    143.50\n",
            "1    142.62\n",
            "Name: UNAL Student's Heights, dtype: float64\n",
            "UNAL Student's Heights\n"
          ]
        }
      ]
    },
    {
      "cell_type": "markdown",
      "metadata": {
        "id": "h91r_0VrYJkf"
      },
      "source": [
        "**16.** We can get the statistical summaries of a Series:"
      ]
    },
    {
      "cell_type": "code",
      "metadata": {
        "colab": {
          "base_uri": "https://localhost:8080/"
        },
        "id": "89AlVkOdYthn",
        "outputId": "8479b589-5899-47c1-d0ce-0c389b577503"
      },
      "source": [
        "print (s.describe())"
      ],
      "execution_count": null,
      "outputs": [
        {
          "output_type": "stream",
          "name": "stdout",
          "text": [
            "count      6.000000\n",
            "mean     143.896667\n",
            "std        1.059711\n",
            "min      142.620000\n",
            "25%      143.545000\n",
            "50%      143.705000\n",
            "75%      143.947500\n",
            "max      145.830000\n",
            "Name: Apple Prices, dtype: float64\n"
          ]
        }
      ]
    },
    {
      "cell_type": "markdown",
      "metadata": {
        "id": "scxHunxAY0fz"
      },
      "source": [
        "**My code:**"
      ]
    },
    {
      "cell_type": "code",
      "metadata": {
        "colab": {
          "base_uri": "https://localhost:8080/"
        },
        "id": "lPsZ2Bx0Y22k",
        "outputId": "7122cbb5-4d62-4b4f-a02d-5ba0d93ff944"
      },
      "source": [
        "print (height_series.describe())"
      ],
      "execution_count": null,
      "outputs": [
        {
          "output_type": "stream",
          "name": "stdout",
          "text": [
            "count      6.000000\n",
            "mean     119.950000\n",
            "std       58.772717\n",
            "min        0.000000\n",
            "25%      142.840000\n",
            "50%      143.615000\n",
            "75%      143.947500\n",
            "max      145.830000\n",
            "Name: UNAL Student's Heights, dtype: float64\n"
          ]
        }
      ]
    },
    {
      "cell_type": "markdown",
      "metadata": {
        "id": "kS8ux3doY8G0"
      },
      "source": [
        "**17.** **Time Index**\n",
        "\n",
        "Pandas has a built-in function specifically for creating date indices: pd.date_range(). We use it to create a new index for our Series:"
      ]
    },
    {
      "cell_type": "code",
      "metadata": {
        "colab": {
          "base_uri": "https://localhost:8080/"
        },
        "id": "rdNpuYoRZno4",
        "outputId": "b9ab578b-73e2-4292-fe65-7764b0801245"
      },
      "source": [
        "time_index = pd.date_range('2017-01-01', periods = len(s), freq = 'D')\n",
        "print (time_index)\n",
        "s.index = time_index\n",
        "print (s)"
      ],
      "execution_count": null,
      "outputs": [
        {
          "output_type": "stream",
          "name": "stdout",
          "text": [
            "DatetimeIndex(['2017-01-01', '2017-01-02', '2017-01-03', '2017-01-04',\n",
            "               '2017-01-05', '2017-01-06'],\n",
            "              dtype='datetime64[ns]', freq='D')\n",
            "2017-01-01    143.73\n",
            "2017-01-02    145.83\n",
            "2017-01-03    143.68\n",
            "2017-01-04    144.02\n",
            "2017-01-05    143.50\n",
            "2017-01-06    142.62\n",
            "Freq: D, Name: Apple Prices, dtype: float64\n"
          ]
        }
      ]
    },
    {
      "cell_type": "markdown",
      "metadata": {
        "id": "v3c9S4SoaDjs"
      },
      "source": [
        "**My code:**"
      ]
    },
    {
      "cell_type": "code",
      "metadata": {
        "colab": {
          "base_uri": "https://localhost:8080/"
        },
        "id": "Pv_rqZI9aGq2",
        "outputId": "aeb5605f-afd6-4356-cb1c-e78ff2a74356"
      },
      "source": [
        "indexes = pd.date_range('2017-01-01', periods = len(s), freq = 'Y')\n",
        "print (indexes)\n",
        "height_series.index = indexes\n",
        "print (height_series)"
      ],
      "execution_count": null,
      "outputs": [
        {
          "output_type": "stream",
          "name": "stdout",
          "text": [
            "DatetimeIndex(['2017-12-31', '2018-12-31', '2019-12-31', '2020-12-31',\n",
            "               '2021-12-31', '2022-12-31'],\n",
            "              dtype='datetime64[ns]', freq='A-DEC')\n",
            "2017-12-31    143.73\n",
            "2018-12-31    145.83\n",
            "2019-12-31      0.00\n",
            "2020-12-31    144.02\n",
            "2021-12-31    143.50\n",
            "2022-12-31    142.62\n",
            "Freq: A-DEC, Name: UNAL Student's Heights, dtype: float64\n"
          ]
        }
      ]
    },
    {
      "cell_type": "markdown",
      "metadata": {
        "id": "FTkOm9u4aZim"
      },
      "source": [
        "**18.** Series are usually accessed using the iloc[] and loc[] methods. iloc[] is used to access elements by integer index, and loc[] is used to access the index of the series.\n",
        "\n",
        "iloc[] is necessary when the index of a series are integers, take our previous defined series as example:"
      ]
    },
    {
      "cell_type": "code",
      "metadata": {
        "colab": {
          "base_uri": "https://localhost:8080/"
        },
        "id": "6sm57nh9bf81",
        "outputId": "7f64182b-6541-49b3-d843-7b7646e95527"
      },
      "source": [
        "s.index = [6,5,4,3,2,1]\n",
        "print (s)\n",
        "print (s[1])"
      ],
      "execution_count": null,
      "outputs": [
        {
          "output_type": "stream",
          "name": "stdout",
          "text": [
            "6    143.73\n",
            "5    145.83\n",
            "4    143.68\n",
            "3    144.02\n",
            "2    143.50\n",
            "1    142.62\n",
            "Name: Apple Prices, dtype: float64\n",
            "142.62\n"
          ]
        }
      ]
    },
    {
      "cell_type": "markdown",
      "metadata": {
        "id": "KKPWx7dzblak"
      },
      "source": [
        "**My code:**"
      ]
    },
    {
      "cell_type": "code",
      "metadata": {
        "colab": {
          "base_uri": "https://localhost:8080/"
        },
        "id": "saF8undIbnqq",
        "outputId": "971aec89-d209-4c6a-ebf3-f42238969d46"
      },
      "source": [
        "height_series.index = [6,5,4,3,2,1]\n",
        "print (height_series)\n",
        "print (height_series[2])"
      ],
      "execution_count": null,
      "outputs": [
        {
          "output_type": "stream",
          "name": "stdout",
          "text": [
            "6    143.73\n",
            "5    145.83\n",
            "4      0.00\n",
            "3    144.02\n",
            "2    143.50\n",
            "1    142.62\n",
            "Name: UNAL Student's Heights, dtype: float64\n",
            "143.5\n"
          ]
        }
      ]
    },
    {
      "cell_type": "markdown",
      "metadata": {
        "id": "2oy63TUEb7i6"
      },
      "source": [
        "**19.** If we intended to take the second element of the series, we would make a mistake here, because the index are integers. In order to access to the element we want, we use iloc[] here:"
      ]
    },
    {
      "cell_type": "code",
      "metadata": {
        "colab": {
          "base_uri": "https://localhost:8080/"
        },
        "id": "VXGvLrKBcASz",
        "outputId": "39a0c37b-2168-4e90-bbdf-537aed0349ff"
      },
      "source": [
        "print (s.iloc[1])"
      ],
      "execution_count": null,
      "outputs": [
        {
          "output_type": "stream",
          "name": "stdout",
          "text": [
            "145.83\n"
          ]
        }
      ]
    },
    {
      "cell_type": "markdown",
      "metadata": {
        "id": "6TxWHRc5cJt_"
      },
      "source": [
        "**My code:**"
      ]
    },
    {
      "cell_type": "code",
      "metadata": {
        "colab": {
          "base_uri": "https://localhost:8080/"
        },
        "id": "V_n1_StocLgu",
        "outputId": "45bd79cf-a780-4a73-fa61-7b41066d60e5"
      },
      "source": [
        "print (height_series.iloc[2])"
      ],
      "execution_count": null,
      "outputs": [
        {
          "output_type": "stream",
          "name": "stdout",
          "text": [
            "0.0\n"
          ]
        }
      ]
    },
    {
      "cell_type": "markdown",
      "metadata": {
        "id": "zWiE0MeycmoV"
      },
      "source": [
        "**20.** While working with time series data, we often use time as the index. Pandas provides us with various methods to access the data by time index."
      ]
    },
    {
      "cell_type": "code",
      "metadata": {
        "colab": {
          "base_uri": "https://localhost:8080/"
        },
        "id": "LqS141H4crEU",
        "outputId": "959d27f1-e89d-4836-9bab-636ddc21a509"
      },
      "source": [
        "s.index = time_index\n",
        "print (s['2017-01-03'])"
      ],
      "execution_count": null,
      "outputs": [
        {
          "output_type": "stream",
          "name": "stdout",
          "text": [
            "143.68\n"
          ]
        }
      ]
    },
    {
      "cell_type": "markdown",
      "metadata": {
        "id": "hcB8W-u8cz51"
      },
      "source": [
        "**My code:**"
      ]
    },
    {
      "cell_type": "code",
      "metadata": {
        "colab": {
          "base_uri": "https://localhost:8080/"
        },
        "id": "wAx41qW7c1yx",
        "outputId": "a4562463-b1d0-4979-f7d4-64773cd913d2"
      },
      "source": [
        "height_series.index = indexes\n",
        "print (height_series['2017-12-31'])"
      ],
      "execution_count": null,
      "outputs": [
        {
          "output_type": "stream",
          "name": "stdout",
          "text": [
            "143.73\n"
          ]
        }
      ]
    },
    {
      "cell_type": "markdown",
      "metadata": {
        "id": "A8ab6TAndN81"
      },
      "source": [
        "**21.** We can even access to a range of dates:"
      ]
    },
    {
      "cell_type": "code",
      "metadata": {
        "colab": {
          "base_uri": "https://localhost:8080/"
        },
        "id": "q4I3hATrdRC_",
        "outputId": "f43b874c-25a1-4778-e4e1-e37d50ba2b81"
      },
      "source": [
        "print (s['2017-01-02':'2017-01-05'])"
      ],
      "execution_count": null,
      "outputs": [
        {
          "output_type": "stream",
          "name": "stdout",
          "text": [
            "2017-01-02    145.83\n",
            "2017-01-03    143.68\n",
            "2017-01-04    144.02\n",
            "2017-01-05    143.50\n",
            "Freq: D, Name: Apple Prices, dtype: float64\n"
          ]
        }
      ]
    },
    {
      "cell_type": "markdown",
      "metadata": {
        "id": "aEWESb_EdVVD"
      },
      "source": [
        "**My code:**"
      ]
    },
    {
      "cell_type": "code",
      "metadata": {
        "colab": {
          "base_uri": "https://localhost:8080/"
        },
        "id": "OxD-e2X_dXWU",
        "outputId": "9682cdd8-b0f7-4229-e2d3-1b7e07c6b36f"
      },
      "source": [
        "print (height_series['2017-12-31':'2019-12-31'])"
      ],
      "execution_count": null,
      "outputs": [
        {
          "output_type": "stream",
          "name": "stdout",
          "text": [
            "2017-12-31    143.73\n",
            "2018-12-31    145.83\n",
            "2019-12-31    143.68\n",
            "Freq: A-DEC, Name: UNAL Student's Heights, dtype: float64\n"
          ]
        }
      ]
    },
    {
      "cell_type": "markdown",
      "metadata": {
        "id": "LV9wxhsDdska"
      },
      "source": [
        "**22.** Series[] provides us a very flexible way to index data. We can add any condition in the square brackets:"
      ]
    },
    {
      "cell_type": "code",
      "metadata": {
        "colab": {
          "base_uri": "https://localhost:8080/"
        },
        "id": "I_WhrZi-d-wo",
        "outputId": "31532142-ea4c-4fec-cc68-8987c77fd339"
      },
      "source": [
        "print (s[s < np.mean(s)])\n",
        "print (s[(s > np.mean(s)) & (s < np.mean(s) + 1.64*np.std(s))])"
      ],
      "execution_count": null,
      "outputs": [
        {
          "output_type": "stream",
          "name": "stdout",
          "text": [
            "2017-01-01    143.73\n",
            "2017-01-03    143.68\n",
            "2017-01-05    143.50\n",
            "2017-01-06    142.62\n",
            "Name: Apple Prices, dtype: float64\n",
            "2017-01-04    144.02\n",
            "Freq: D, Name: Apple Prices, dtype: float64\n"
          ]
        }
      ]
    },
    {
      "cell_type": "markdown",
      "metadata": {
        "id": "5I5Wffe7eGH1"
      },
      "source": [
        "**My code:**"
      ]
    },
    {
      "cell_type": "code",
      "metadata": {
        "colab": {
          "base_uri": "https://localhost:8080/"
        },
        "id": "TTF51fcSeH8Z",
        "outputId": "87214c5a-b1e0-45f6-ff21-024b83bace8f"
      },
      "source": [
        "print (height_series[height_series < nump.mean(s)])\n",
        "print (height_series[(height_series > nump.mean(height_series)) & (height_series < nump.mean(height_series) + 1.64*nump.std(height_series))])"
      ],
      "execution_count": null,
      "outputs": [
        {
          "output_type": "stream",
          "name": "stdout",
          "text": [
            "2017-12-31    143.73\n",
            "2019-12-31    143.68\n",
            "2021-12-31    143.50\n",
            "2022-12-31    142.62\n",
            "Name: UNAL Student's Heights, dtype: float64\n",
            "2020-12-31    144.02\n",
            "Freq: A-DEC, Name: UNAL Student's Heights, dtype: float64\n"
          ]
        }
      ]
    },
    {
      "cell_type": "markdown",
      "metadata": {
        "id": "KXbHSqFoe3F7"
      },
      "source": [
        "As demonstrated, we can use logical operators like & (and), | (or) and ~ (not) to group multiple conditions."
      ]
    },
    {
      "cell_type": "markdown",
      "metadata": {
        "id": "OtjOpw6oJp6z"
      },
      "source": [
        "\n",
        "## **Pandas-Resampling and DataFrame (Tutorial#5)**\n",
        "\n",
        "**Introduction**\n",
        "\n",
        "In the last chapter we had a glimpse of Pandas. In this chapter we will learn about resampling methods and the DataFrame object, which is a powerful tool for financial data analysis.\n",
        "\n",
        "**Fetching Data**\n",
        "\n",
        "Here we use the Yahoo Finance to retrieve data.\n"
      ]
    },
    {
      "cell_type": "code",
      "metadata": {
        "id": "luU8mZTsHW9x",
        "colab": {
          "base_uri": "https://localhost:8080/"
        },
        "outputId": "f24a34f3-a885-4003-f3d0-87cb0bc8ccdc"
      },
      "source": [
        "!pip install yfinance"
      ],
      "execution_count": 29,
      "outputs": [
        {
          "output_type": "stream",
          "name": "stdout",
          "text": [
            "Collecting yfinance\n",
            "  Downloading yfinance-0.1.64.tar.gz (26 kB)\n",
            "Requirement already satisfied: pandas>=0.24 in /usr/local/lib/python3.7/dist-packages (from yfinance) (1.1.5)\n",
            "Requirement already satisfied: numpy>=1.15 in /usr/local/lib/python3.7/dist-packages (from yfinance) (1.19.5)\n",
            "Requirement already satisfied: requests>=2.20 in /usr/local/lib/python3.7/dist-packages (from yfinance) (2.23.0)\n",
            "Requirement already satisfied: multitasking>=0.0.7 in /usr/local/lib/python3.7/dist-packages (from yfinance) (0.0.9)\n",
            "Collecting lxml>=4.5.1\n",
            "  Downloading lxml-4.6.3-cp37-cp37m-manylinux2014_x86_64.whl (6.3 MB)\n",
            "\u001b[K     |████████████████████████████████| 6.3 MB 18.4 MB/s \n",
            "\u001b[?25hRequirement already satisfied: pytz>=2017.2 in /usr/local/lib/python3.7/dist-packages (from pandas>=0.24->yfinance) (2018.9)\n",
            "Requirement already satisfied: python-dateutil>=2.7.3 in /usr/local/lib/python3.7/dist-packages (from pandas>=0.24->yfinance) (2.8.2)\n",
            "Requirement already satisfied: six>=1.5 in /usr/local/lib/python3.7/dist-packages (from python-dateutil>=2.7.3->pandas>=0.24->yfinance) (1.15.0)\n",
            "Requirement already satisfied: idna<3,>=2.5 in /usr/local/lib/python3.7/dist-packages (from requests>=2.20->yfinance) (2.10)\n",
            "Requirement already satisfied: urllib3!=1.25.0,!=1.25.1,<1.26,>=1.21.1 in /usr/local/lib/python3.7/dist-packages (from requests>=2.20->yfinance) (1.24.3)\n",
            "Requirement already satisfied: chardet<4,>=3.0.2 in /usr/local/lib/python3.7/dist-packages (from requests>=2.20->yfinance) (3.0.4)\n",
            "Requirement already satisfied: certifi>=2017.4.17 in /usr/local/lib/python3.7/dist-packages (from requests>=2.20->yfinance) (2021.5.30)\n",
            "Building wheels for collected packages: yfinance\n",
            "  Building wheel for yfinance (setup.py) ... \u001b[?25l\u001b[?25hdone\n",
            "  Created wheel for yfinance: filename=yfinance-0.1.64-py2.py3-none-any.whl size=24109 sha256=a369ce22901ca7178e89ff4bb08e0b7b82438548373653305e20bd0d606d96ab\n",
            "  Stored in directory: /root/.cache/pip/wheels/86/fe/9b/a4d3d78796b699e37065e5b6c27b75cff448ddb8b24943c288\n",
            "Successfully built yfinance\n",
            "Installing collected packages: lxml, yfinance\n",
            "  Attempting uninstall: lxml\n",
            "    Found existing installation: lxml 4.2.6\n",
            "    Uninstalling lxml-4.2.6:\n",
            "      Successfully uninstalled lxml-4.2.6\n",
            "Successfully installed lxml-4.6.3 yfinance-0.1.64\n"
          ]
        }
      ]
    },
    {
      "cell_type": "code",
      "metadata": {
        "colab": {
          "base_uri": "https://localhost:8080/",
          "height": 487
        },
        "id": "mWZ-nirTZHrE",
        "outputId": "2fa774b6-b78e-42fe-cb4c-83870832ab75"
      },
      "source": [
        "import yfinance as yf\n",
        "\n",
        "aapl = yf.Ticker(\"AAPL\")\n",
        "\n",
        "# get stock info\n",
        "print(aapl.info)\n",
        "\n",
        "# get historical market data\n",
        "aapl_table = aapl.history(start=\"2016-01-01\",  end=\"2017-12-31\")\n",
        "aapl_table"
      ],
      "execution_count": 30,
      "outputs": [
        {
          "output_type": "stream",
          "name": "stdout",
          "text": [
            "{'zip': '95014', 'sector': 'Technology', 'fullTimeEmployees': 147000, 'longBusinessSummary': 'Apple Inc. designs, manufactures, and markets smartphones, personal computers, tablets, wearables, and accessories worldwide. It also sells various related services. The company offers iPhone, a line of smartphones; Mac, a line of personal computers; iPad, a line of multi-purpose tablets; and wearables, home, and accessories comprising AirPods, Apple TV, Apple Watch, Beats products, HomePod, iPod touch, and other Apple-branded and third-party accessories. It also provides AppleCare support services; cloud services store services; and operates various platforms, including the App Store, that allow customers to discover and download applications and digital content, such as books, music, video, games, and podcasts. In addition, the company offers various services, such as Apple Arcade, a game subscription service; Apple Music, which offers users a curated listening experience with on-demand radio stations; Apple News+, a subscription news and magazine service; Apple TV+, which offers exclusive original content; Apple Card, a co-branded credit card; and Apple Pay, a cashless payment service, as well as licenses its intellectual property. The company serves consumers, and small and mid-sized businesses; and the education, enterprise, and government markets. It sells and delivers third-party applications for its products through the App Store. The company also sells its products through its retail and online stores, and direct sales force; and third-party cellular network carriers, wholesalers, retailers, and resellers. Apple Inc. was founded in 1977 and is headquartered in Cupertino, California.', 'city': 'Cupertino', 'phone': '408-996-1010', 'state': 'CA', 'country': 'United States', 'companyOfficers': [], 'website': 'http://www.apple.com', 'maxAge': 1, 'address1': 'One Apple Park Way', 'industry': 'Consumer Electronics', 'ebitdaMargins': 0.31955, 'profitMargins': 0.25004, 'grossMargins': 0.41005, 'operatingCashflow': 104414003200, 'revenueGrowth': 0.364, 'operatingMargins': 0.28788, 'ebitda': 110934999040, 'targetLowPrice': 132, 'recommendationKey': 'buy', 'grossProfits': 104956000000, 'freeCashflow': 80625876992, 'targetMedianPrice': 170, 'currentPrice': 148.69, 'earningsGrowth': 1, 'currentRatio': 1.062, 'returnOnAssets': 0.19302, 'numberOfAnalystOpinions': 40, 'targetMeanPrice': 168.89, 'debtToEquity': 210.782, 'returnOnEquity': 1.27125, 'targetHighPrice': 190, 'totalCash': 61696000000, 'totalDebt': 135491002368, 'totalRevenue': 347155005440, 'totalCashPerShare': 3.732, 'financialCurrency': 'USD', 'revenuePerShare': 20.61, 'quickRatio': 0.887, 'recommendationMean': 1.8, 'exchange': 'NMS', 'shortName': 'Apple Inc.', 'longName': 'Apple Inc.', 'exchangeTimezoneName': 'America/New_York', 'exchangeTimezoneShortName': 'EDT', 'isEsgPopulated': False, 'gmtOffSetMilliseconds': '-14400000', 'quoteType': 'EQUITY', 'symbol': 'AAPL', 'messageBoardId': 'finmb_24937', 'market': 'us_market', 'annualHoldingsTurnover': None, 'enterpriseToRevenue': 7.293, 'beta3Year': None, 'enterpriseToEbitda': 22.821, '52WeekChange': 0.29239464, 'morningStarRiskRating': None, 'forwardEps': 5.68, 'revenueQuarterlyGrowth': None, 'sharesOutstanding': 16530199552, 'fundInceptionDate': None, 'annualReportExpenseRatio': None, 'totalAssets': None, 'bookValue': 3.882, 'sharesShort': 101107412, 'sharesPercentSharesOut': 0.0061000003, 'fundFamily': None, 'lastFiscalYearEnd': 1601078400, 'heldPercentInstitutions': 0.58671004, 'netIncomeToCommon': 86801997824, 'trailingEps': 5.108, 'lastDividendValue': 0.22, 'SandP52WeekChange': 0.33635402, 'priceToBook': 38.30242, 'heldPercentInsiders': 0.00072999997, 'nextFiscalYearEnd': 1664150400, 'yield': None, 'mostRecentQuarter': 1624665600, 'shortRatio': 1.18, 'sharesShortPreviousMonthDate': 1630368000, 'floatShares': 16513139929, 'beta': 1.222222, 'enterpriseValue': 2531665379328, 'priceHint': 2, 'threeYearAverageReturn': None, 'lastSplitDate': 1598832000, 'lastSplitFactor': '4:1', 'legalType': None, 'lastDividendDate': 1628208000, 'morningStarOverallRating': None, 'earningsQuarterlyGrowth': 0.932, 'priceToSalesTrailing12Months': 7.080052, 'dateShortInterest': 1632960000, 'pegRatio': 1.34, 'ytdReturn': None, 'forwardPE': 26.177818, 'lastCapGain': None, 'shortPercentOfFloat': 0.0061000003, 'sharesShortPriorMonth': 96838699, 'impliedSharesOutstanding': None, 'category': None, 'fiveYearAverageReturn': None, 'previousClose': 149.48, 'regularMarketOpen': 149.69, 'twoHundredDayAverage': 139.49467, 'trailingAnnualDividendYield': 0.005586032, 'payoutRatio': 0.16309999, 'volume24Hr': None, 'regularMarketDayHigh': 150.18, 'navPrice': None, 'averageDailyVolume10Day': 68088783, 'regularMarketPreviousClose': 149.48, 'fiftyDayAverage': 145.9303, 'trailingAnnualDividendRate': 0.835, 'open': 149.69, 'toCurrency': None, 'averageVolume10days': 68088783, 'expireDate': None, 'algorithm': None, 'dividendRate': 0.88, 'exDividendDate': 1628208000, 'circulatingSupply': None, 'startDate': None, 'regularMarketDayLow': 148.64, 'currency': 'USD', 'trailingPE': 29.109241, 'regularMarketVolume': 58883443, 'lastMarket': None, 'maxSupply': None, 'openInterest': None, 'marketCap': 2457875513344, 'volumeAllCurrencies': None, 'strikePrice': None, 'averageVolume': 75838454, 'dayLow': 148.64, 'ask': 0, 'askSize': 3200, 'volume': 58883443, 'fiftyTwoWeekHigh': 157.26, 'fromCurrency': None, 'fiveYearAvgDividendYield': 1.24, 'fiftyTwoWeekLow': 107.32, 'bid': 0, 'tradeable': False, 'dividendYield': 0.0058999998, 'bidSize': 2900, 'dayHigh': 150.18, 'regularMarketPrice': 148.69, 'preMarketPrice': None, 'logo_url': 'https://logo.clearbit.com/apple.com'}\n"
          ]
        },
        {
          "output_type": "execute_result",
          "data": {
            "text/html": [
              "<div>\n",
              "<style scoped>\n",
              "    .dataframe tbody tr th:only-of-type {\n",
              "        vertical-align: middle;\n",
              "    }\n",
              "\n",
              "    .dataframe tbody tr th {\n",
              "        vertical-align: top;\n",
              "    }\n",
              "\n",
              "    .dataframe thead th {\n",
              "        text-align: right;\n",
              "    }\n",
              "</style>\n",
              "<table border=\"1\" class=\"dataframe\">\n",
              "  <thead>\n",
              "    <tr style=\"text-align: right;\">\n",
              "      <th></th>\n",
              "      <th>Open</th>\n",
              "      <th>High</th>\n",
              "      <th>Low</th>\n",
              "      <th>Close</th>\n",
              "      <th>Volume</th>\n",
              "      <th>Dividends</th>\n",
              "      <th>Stock Splits</th>\n",
              "    </tr>\n",
              "    <tr>\n",
              "      <th>Date</th>\n",
              "      <th></th>\n",
              "      <th></th>\n",
              "      <th></th>\n",
              "      <th></th>\n",
              "      <th></th>\n",
              "      <th></th>\n",
              "      <th></th>\n",
              "    </tr>\n",
              "  </thead>\n",
              "  <tbody>\n",
              "    <tr>\n",
              "      <th>2016-01-04</th>\n",
              "      <td>23.655161</td>\n",
              "      <td>24.291437</td>\n",
              "      <td>23.514534</td>\n",
              "      <td>24.286825</td>\n",
              "      <td>270597600</td>\n",
              "      <td>0.0</td>\n",
              "      <td>0</td>\n",
              "    </tr>\n",
              "    <tr>\n",
              "      <th>2016-01-05</th>\n",
              "      <td>24.379047</td>\n",
              "      <td>24.402100</td>\n",
              "      <td>23.609061</td>\n",
              "      <td>23.678221</td>\n",
              "      <td>223164000</td>\n",
              "      <td>0.0</td>\n",
              "      <td>0</td>\n",
              "    </tr>\n",
              "    <tr>\n",
              "      <th>2016-01-06</th>\n",
              "      <td>23.182565</td>\n",
              "      <td>23.599834</td>\n",
              "      <td>23.023498</td>\n",
              "      <td>23.214840</td>\n",
              "      <td>273829600</td>\n",
              "      <td>0.0</td>\n",
              "      <td>0</td>\n",
              "    </tr>\n",
              "    <tr>\n",
              "      <th>2016-01-07</th>\n",
              "      <td>22.749164</td>\n",
              "      <td>23.083439</td>\n",
              "      <td>22.230461</td>\n",
              "      <td>22.235071</td>\n",
              "      <td>324377600</td>\n",
              "      <td>0.0</td>\n",
              "      <td>0</td>\n",
              "    </tr>\n",
              "    <tr>\n",
              "      <th>2016-01-08</th>\n",
              "      <td>22.719197</td>\n",
              "      <td>22.848296</td>\n",
              "      <td>22.306540</td>\n",
              "      <td>22.352646</td>\n",
              "      <td>283192000</td>\n",
              "      <td>0.0</td>\n",
              "      <td>0</td>\n",
              "    </tr>\n",
              "    <tr>\n",
              "      <th>...</th>\n",
              "      <td>...</td>\n",
              "      <td>...</td>\n",
              "      <td>...</td>\n",
              "      <td>...</td>\n",
              "      <td>...</td>\n",
              "      <td>...</td>\n",
              "      <td>...</td>\n",
              "    </tr>\n",
              "    <tr>\n",
              "      <th>2017-12-22</th>\n",
              "      <td>41.827756</td>\n",
              "      <td>42.004953</td>\n",
              "      <td>41.784656</td>\n",
              "      <td>41.906776</td>\n",
              "      <td>65397600</td>\n",
              "      <td>0.0</td>\n",
              "      <td>0</td>\n",
              "    </tr>\n",
              "    <tr>\n",
              "      <th>2017-12-26</th>\n",
              "      <td>40.898675</td>\n",
              "      <td>41.059108</td>\n",
              "      <td>40.630484</td>\n",
              "      <td>40.843601</td>\n",
              "      <td>132742000</td>\n",
              "      <td>0.0</td>\n",
              "      <td>0</td>\n",
              "    </tr>\n",
              "    <tr>\n",
              "      <th>2017-12-27</th>\n",
              "      <td>40.731061</td>\n",
              "      <td>40.893888</td>\n",
              "      <td>40.637675</td>\n",
              "      <td>40.850788</td>\n",
              "      <td>85992800</td>\n",
              "      <td>0.0</td>\n",
              "      <td>0</td>\n",
              "    </tr>\n",
              "    <tr>\n",
              "      <th>2017-12-28</th>\n",
              "      <td>40.946568</td>\n",
              "      <td>41.150105</td>\n",
              "      <td>40.822051</td>\n",
              "      <td>40.965725</td>\n",
              "      <td>65920800</td>\n",
              "      <td>0.0</td>\n",
              "      <td>0</td>\n",
              "    </tr>\n",
              "    <tr>\n",
              "      <th>2017-12-29</th>\n",
              "      <td>40.831621</td>\n",
              "      <td>40.848381</td>\n",
              "      <td>40.520331</td>\n",
              "      <td>40.522724</td>\n",
              "      <td>103999600</td>\n",
              "      <td>0.0</td>\n",
              "      <td>0</td>\n",
              "    </tr>\n",
              "  </tbody>\n",
              "</table>\n",
              "<p>503 rows × 7 columns</p>\n",
              "</div>"
            ],
            "text/plain": [
              "                 Open       High        Low  ...     Volume  Dividends  Stock Splits\n",
              "Date                                         ...                                    \n",
              "2016-01-04  23.655161  24.291437  23.514534  ...  270597600        0.0             0\n",
              "2016-01-05  24.379047  24.402100  23.609061  ...  223164000        0.0             0\n",
              "2016-01-06  23.182565  23.599834  23.023498  ...  273829600        0.0             0\n",
              "2016-01-07  22.749164  23.083439  22.230461  ...  324377600        0.0             0\n",
              "2016-01-08  22.719197  22.848296  22.306540  ...  283192000        0.0             0\n",
              "...               ...        ...        ...  ...        ...        ...           ...\n",
              "2017-12-22  41.827756  42.004953  41.784656  ...   65397600        0.0             0\n",
              "2017-12-26  40.898675  41.059108  40.630484  ...  132742000        0.0             0\n",
              "2017-12-27  40.731061  40.893888  40.637675  ...   85992800        0.0             0\n",
              "2017-12-28  40.946568  41.150105  40.822051  ...   65920800        0.0             0\n",
              "2017-12-29  40.831621  40.848381  40.520331  ...  103999600        0.0             0\n",
              "\n",
              "[503 rows x 7 columns]"
            ]
          },
          "metadata": {},
          "execution_count": 30
        }
      ]
    },
    {
      "cell_type": "code",
      "metadata": {
        "colab": {
          "base_uri": "https://localhost:8080/",
          "height": 487
        },
        "id": "0YWuEeKH6-iN",
        "outputId": "1282cc21-27f2-4dd6-fe55-2c4aa9be6745"
      },
      "source": [
        "tsla = yf.Ticker(\"TSLA\")\n",
        "\n",
        "# get stock info\n",
        "print(tsla.info)\n",
        "\n",
        "# get historical market data\n",
        "tsla_table = tsla.history(start=\"2016-01-01\",  end=\"2017-12-31\")\n",
        "tsla_table"
      ],
      "execution_count": 31,
      "outputs": [
        {
          "output_type": "stream",
          "name": "stdout",
          "text": [
            "{'zip': '94304', 'sector': 'Consumer Cyclical', 'fullTimeEmployees': 70757, 'longBusinessSummary': 'Tesla, Inc. designs, develops, manufactures, leases, and sells electric vehicles, and energy generation and storage systems in the United States, China, and internationally. The company operates in two segments, Automotive, and Energy Generation and Storage. The Automotive segment offers electric vehicles, as well as sells automotive regulatory credits. It provides sedans and sport utility vehicles through direct and used vehicle sales, a network of Tesla Superchargers, and in-app upgrades; and purchase financing and leasing services. This segment is also involved in the provision of non-warranty after-sales vehicle services, sale of used vehicles, retail merchandise, and vehicle insurance, as well as sale of products through its subsidiaries to third party customers; services for electric vehicles through its company-owned service locations, and Tesla mobile service technicians; and vehicle limited warranties and extended service plans. The Energy Generation and Storage segment engages in the design, manufacture, installation, sale, and leasing of solar energy generation and energy storage products, and related services to residential, commercial, and industrial customers and utilities through its website, stores, and galleries, as well as through a network of channel partners. This segment also offers service and repairs to its energy product customers, including under warranty; and various financing options to its solar customers. The company was formerly known as Tesla Motors, Inc. and changed its name to Tesla, Inc. in February 2017. Tesla, Inc. was founded in 2003 and is headquartered in Palo Alto, California.', 'city': 'Palo Alto', 'phone': '650-681-5000', 'state': 'CA', 'country': 'United States', 'companyOfficers': [], 'website': 'http://www.tesla.com', 'maxAge': 1, 'address1': '3500 Deer Creek Road', 'industry': 'Auto Manufacturers', 'ebitdaMargins': 0.15296, 'profitMargins': 0.07403, 'grossMargins': 0.23107, 'operatingCashflow': 9930999808, 'revenueGrowth': 0.568, 'operatingMargins': 0.095740005, 'ebitda': 7166000128, 'targetLowPrice': 67, 'recommendationKey': 'hold', 'grossProfits': 6630000000, 'freeCashflow': 4873874944, 'targetMedianPrice': 788, 'currentPrice': 909.68, 'earningsGrowth': 4.333, 'currentRatio': 1.385, 'returnOnAssets': 0.05415, 'numberOfAnalystOpinions': 37, 'targetMeanPrice': 732.87, 'debtToEquity': 28.616, 'returnOnEquity': 0.15641, 'targetHighPrice': 1206, 'totalCash': 16094999552, 'totalDebt': 8153999872, 'totalRevenue': 46848000000, 'totalCashPerShare': 16.127, 'financialCurrency': 'USD', 'revenuePerShare': 48.284, 'quickRatio': 1, 'recommendationMean': 2.7, 'exchange': 'NMS', 'shortName': 'Tesla, Inc.', 'longName': 'Tesla, Inc.', 'exchangeTimezoneName': 'America/New_York', 'exchangeTimezoneShortName': 'EDT', 'isEsgPopulated': False, 'gmtOffSetMilliseconds': '-14400000', 'quoteType': 'EQUITY', 'symbol': 'TSLA', 'messageBoardId': 'finmb_27444752', 'market': 'us_market', 'annualHoldingsTurnover': None, 'enterpriseToRevenue': 19.24, 'beta3Year': None, 'enterpriseToEbitda': 125.783, '52WeekChange': 1.1644619, 'morningStarRiskRating': None, 'forwardEps': 7.77, 'revenueQuarterlyGrowth': None, 'sharesOutstanding': 1001769984, 'fundInceptionDate': None, 'annualReportExpenseRatio': None, 'totalAssets': None, 'bookValue': 27.107, 'sharesShort': 29205723, 'sharesPercentSharesOut': 0.0292, 'fundFamily': None, 'lastFiscalYearEnd': 1609372800, 'heldPercentInstitutions': 0.41233003, 'netIncomeToCommon': 3468000000, 'trailingEps': 3.071, 'lastDividendValue': None, 'SandP52WeekChange': 0.33635402, 'priceToBook': 33.558857, 'heldPercentInsiders': 0.18962, 'nextFiscalYearEnd': 1672444800, 'yield': None, 'mostRecentQuarter': 1632960000, 'shortRatio': 1.56, 'sharesShortPreviousMonthDate': 1630368000, 'floatShares': 808200360, 'beta': 1.89365, 'enterpriseValue': 901360648192, 'priceHint': 2, 'threeYearAverageReturn': None, 'lastSplitDate': 1598832000, 'lastSplitFactor': '5:1', 'legalType': None, 'lastDividendDate': None, 'morningStarOverallRating': None, 'earningsQuarterlyGrowth': 3.888, 'priceToSalesTrailing12Months': 19.45206, 'dateShortInterest': 1632960000, 'pegRatio': 2.09, 'ytdReturn': None, 'forwardPE': 117.075935, 'lastCapGain': None, 'shortPercentOfFloat': 0.0359, 'sharesShortPriorMonth': 27432219, 'impliedSharesOutstanding': None, 'category': None, 'fiveYearAverageReturn': None, 'previousClose': 894, 'regularMarketOpen': 895.5, 'twoHundredDayAverage': 695.5194, 'trailingAnnualDividendYield': None, 'payoutRatio': 0, 'volume24Hr': None, 'regularMarketDayHigh': 910, 'navPrice': None, 'averageDailyVolume10Day': 21459450, 'regularMarketPreviousClose': 894, 'fiftyDayAverage': 788.4144, 'trailingAnnualDividendRate': None, 'open': 895.5, 'toCurrency': None, 'averageVolume10days': 21459450, 'expireDate': None, 'algorithm': None, 'dividendRate': None, 'exDividendDate': None, 'circulatingSupply': None, 'startDate': None, 'regularMarketDayLow': 891, 'currency': 'USD', 'trailingPE': 296.21622, 'regularMarketVolume': 22880835, 'lastMarket': None, 'maxSupply': None, 'openInterest': None, 'marketCap': 911290138624, 'volumeAllCurrencies': None, 'strikePrice': None, 'averageVolume': 18956218, 'dayLow': 891, 'ask': 0, 'askSize': 1400, 'volume': 22880835, 'fiftyTwoWeekHigh': 910, 'fromCurrency': None, 'fiveYearAvgDividendYield': None, 'fiftyTwoWeekLow': 379.11, 'bid': 0, 'tradeable': False, 'dividendYield': None, 'bidSize': 1200, 'dayHigh': 910, 'regularMarketPrice': 909.68, 'preMarketPrice': None, 'logo_url': 'https://logo.clearbit.com/tesla.com'}\n"
          ]
        },
        {
          "output_type": "execute_result",
          "data": {
            "text/html": [
              "<div>\n",
              "<style scoped>\n",
              "    .dataframe tbody tr th:only-of-type {\n",
              "        vertical-align: middle;\n",
              "    }\n",
              "\n",
              "    .dataframe tbody tr th {\n",
              "        vertical-align: top;\n",
              "    }\n",
              "\n",
              "    .dataframe thead th {\n",
              "        text-align: right;\n",
              "    }\n",
              "</style>\n",
              "<table border=\"1\" class=\"dataframe\">\n",
              "  <thead>\n",
              "    <tr style=\"text-align: right;\">\n",
              "      <th></th>\n",
              "      <th>Open</th>\n",
              "      <th>High</th>\n",
              "      <th>Low</th>\n",
              "      <th>Close</th>\n",
              "      <th>Volume</th>\n",
              "      <th>Dividends</th>\n",
              "      <th>Stock Splits</th>\n",
              "    </tr>\n",
              "    <tr>\n",
              "      <th>Date</th>\n",
              "      <th></th>\n",
              "      <th></th>\n",
              "      <th></th>\n",
              "      <th></th>\n",
              "      <th></th>\n",
              "      <th></th>\n",
              "      <th></th>\n",
              "    </tr>\n",
              "  </thead>\n",
              "  <tbody>\n",
              "    <tr>\n",
              "      <th>2016-01-04</th>\n",
              "      <td>46.144001</td>\n",
              "      <td>46.276001</td>\n",
              "      <td>43.799999</td>\n",
              "      <td>44.681999</td>\n",
              "      <td>34135500</td>\n",
              "      <td>0</td>\n",
              "      <td>0</td>\n",
              "    </tr>\n",
              "    <tr>\n",
              "      <th>2016-01-05</th>\n",
              "      <td>45.271999</td>\n",
              "      <td>45.377998</td>\n",
              "      <td>44.000000</td>\n",
              "      <td>44.686001</td>\n",
              "      <td>15934000</td>\n",
              "      <td>0</td>\n",
              "      <td>0</td>\n",
              "    </tr>\n",
              "    <tr>\n",
              "      <th>2016-01-06</th>\n",
              "      <td>44.000000</td>\n",
              "      <td>44.009998</td>\n",
              "      <td>43.195999</td>\n",
              "      <td>43.807999</td>\n",
              "      <td>18895500</td>\n",
              "      <td>0</td>\n",
              "      <td>0</td>\n",
              "    </tr>\n",
              "    <tr>\n",
              "      <th>2016-01-07</th>\n",
              "      <td>42.838001</td>\n",
              "      <td>43.688000</td>\n",
              "      <td>42.734001</td>\n",
              "      <td>43.130001</td>\n",
              "      <td>17771500</td>\n",
              "      <td>0</td>\n",
              "      <td>0</td>\n",
              "    </tr>\n",
              "    <tr>\n",
              "      <th>2016-01-08</th>\n",
              "      <td>43.571999</td>\n",
              "      <td>44.088001</td>\n",
              "      <td>42.153999</td>\n",
              "      <td>42.200001</td>\n",
              "      <td>18140500</td>\n",
              "      <td>0</td>\n",
              "      <td>0</td>\n",
              "    </tr>\n",
              "    <tr>\n",
              "      <th>...</th>\n",
              "      <td>...</td>\n",
              "      <td>...</td>\n",
              "      <td>...</td>\n",
              "      <td>...</td>\n",
              "      <td>...</td>\n",
              "      <td>...</td>\n",
              "      <td>...</td>\n",
              "    </tr>\n",
              "    <tr>\n",
              "      <th>2017-12-22</th>\n",
              "      <td>65.902000</td>\n",
              "      <td>66.183998</td>\n",
              "      <td>64.963997</td>\n",
              "      <td>65.040001</td>\n",
              "      <td>21079000</td>\n",
              "      <td>0</td>\n",
              "      <td>0</td>\n",
              "    </tr>\n",
              "    <tr>\n",
              "      <th>2017-12-26</th>\n",
              "      <td>64.765999</td>\n",
              "      <td>64.788002</td>\n",
              "      <td>63.316002</td>\n",
              "      <td>63.458000</td>\n",
              "      <td>21892000</td>\n",
              "      <td>0</td>\n",
              "      <td>0</td>\n",
              "    </tr>\n",
              "    <tr>\n",
              "      <th>2017-12-27</th>\n",
              "      <td>63.200001</td>\n",
              "      <td>63.535999</td>\n",
              "      <td>62.150002</td>\n",
              "      <td>62.327999</td>\n",
              "      <td>23560500</td>\n",
              "      <td>0</td>\n",
              "      <td>0</td>\n",
              "    </tr>\n",
              "    <tr>\n",
              "      <th>2017-12-28</th>\n",
              "      <td>62.349998</td>\n",
              "      <td>63.164001</td>\n",
              "      <td>61.908001</td>\n",
              "      <td>63.071999</td>\n",
              "      <td>21581500</td>\n",
              "      <td>0</td>\n",
              "      <td>0</td>\n",
              "    </tr>\n",
              "    <tr>\n",
              "      <th>2017-12-29</th>\n",
              "      <td>63.236000</td>\n",
              "      <td>63.282001</td>\n",
              "      <td>62.000000</td>\n",
              "      <td>62.270000</td>\n",
              "      <td>18886000</td>\n",
              "      <td>0</td>\n",
              "      <td>0</td>\n",
              "    </tr>\n",
              "  </tbody>\n",
              "</table>\n",
              "<p>503 rows × 7 columns</p>\n",
              "</div>"
            ],
            "text/plain": [
              "                 Open       High        Low  ...    Volume  Dividends  Stock Splits\n",
              "Date                                         ...                                   \n",
              "2016-01-04  46.144001  46.276001  43.799999  ...  34135500          0             0\n",
              "2016-01-05  45.271999  45.377998  44.000000  ...  15934000          0             0\n",
              "2016-01-06  44.000000  44.009998  43.195999  ...  18895500          0             0\n",
              "2016-01-07  42.838001  43.688000  42.734001  ...  17771500          0             0\n",
              "2016-01-08  43.571999  44.088001  42.153999  ...  18140500          0             0\n",
              "...               ...        ...        ...  ...       ...        ...           ...\n",
              "2017-12-22  65.902000  66.183998  64.963997  ...  21079000          0             0\n",
              "2017-12-26  64.765999  64.788002  63.316002  ...  21892000          0             0\n",
              "2017-12-27  63.200001  63.535999  62.150002  ...  23560500          0             0\n",
              "2017-12-28  62.349998  63.164001  61.908001  ...  21581500          0             0\n",
              "2017-12-29  63.236000  63.282001  62.000000  ...  18886000          0             0\n",
              "\n",
              "[503 rows x 7 columns]"
            ]
          },
          "metadata": {},
          "execution_count": 31
        }
      ]
    },
    {
      "cell_type": "markdown",
      "metadata": {
        "id": "NkFztSYhJyVA"
      },
      "source": [
        "We will create a Series named \"aapl\" whose values are Apple's daily closing prices, which are of course indexed by dates:"
      ]
    },
    {
      "cell_type": "code",
      "metadata": {
        "id": "QDJbOpCeHW91"
      },
      "source": [
        "aapl = aapl_table['Close']['2017']"
      ],
      "execution_count": 32,
      "outputs": []
    },
    {
      "cell_type": "code",
      "metadata": {
        "id": "S-PxEsQN9Cg8"
      },
      "source": [
        "tsla = tsla_table['Close']['2017']"
      ],
      "execution_count": 33,
      "outputs": []
    },
    {
      "cell_type": "code",
      "metadata": {
        "id": "SXfgCQJOHW91",
        "colab": {
          "base_uri": "https://localhost:8080/"
        },
        "outputId": "bbeae1f1-5291-431c-8bfd-bc476418f8d8"
      },
      "source": [
        "print(aapl)"
      ],
      "execution_count": 34,
      "outputs": [
        {
          "output_type": "stream",
          "name": "stdout",
          "text": [
            "Date\n",
            "2017-01-03    27.372362\n",
            "2017-01-04    27.341724\n",
            "2017-01-05    27.480766\n",
            "2017-01-06    27.787130\n",
            "2017-01-09    28.041643\n",
            "                ...    \n",
            "2017-12-22    41.906776\n",
            "2017-12-26    40.843601\n",
            "2017-12-27    40.850788\n",
            "2017-12-28    40.965725\n",
            "2017-12-29    40.522724\n",
            "Name: Close, Length: 251, dtype: float64\n"
          ]
        }
      ]
    },
    {
      "cell_type": "code",
      "metadata": {
        "colab": {
          "base_uri": "https://localhost:8080/"
        },
        "id": "fmg75iW-9Lzk",
        "outputId": "bc15d932-fa92-4d6e-e244-f9c94fce397c"
      },
      "source": [
        "print(tsla)"
      ],
      "execution_count": 35,
      "outputs": [
        {
          "output_type": "stream",
          "name": "stdout",
          "text": [
            "Date\n",
            "2017-01-03    43.397999\n",
            "2017-01-04    45.397999\n",
            "2017-01-05    45.349998\n",
            "2017-01-06    45.801998\n",
            "2017-01-09    46.256001\n",
            "                ...    \n",
            "2017-12-22    65.040001\n",
            "2017-12-26    63.458000\n",
            "2017-12-27    62.327999\n",
            "2017-12-28    63.071999\n",
            "2017-12-29    62.270000\n",
            "Name: Close, Length: 251, dtype: float64\n"
          ]
        }
      ]
    },
    {
      "cell_type": "markdown",
      "metadata": {
        "id": "waUEgBhzKEcA"
      },
      "source": [
        "Recall that we can fetch a specific data point using series['yyyy-mm-dd']. We can also fetch the data in a specific month using series['yyyy-mm']."
      ]
    },
    {
      "cell_type": "code",
      "metadata": {
        "id": "2gS50G0zHW92",
        "colab": {
          "base_uri": "https://localhost:8080/"
        },
        "outputId": "0c09c40e-701c-40a2-e60e-5091918176a0"
      },
      "source": [
        "print(aapl['2017-3'])"
      ],
      "execution_count": 36,
      "outputs": [
        {
          "output_type": "stream",
          "name": "stdout",
          "text": [
            "Date\n",
            "2017-03-01    33.086281\n",
            "2017-03-02    32.889828\n",
            "2017-03-03    33.083927\n",
            "2017-03-06    32.979778\n",
            "2017-03-07    33.022377\n",
            "2017-03-08    32.899303\n",
            "2017-03-09    32.823559\n",
            "2017-03-10    32.932442\n",
            "2017-03-13    32.946632\n",
            "2017-03-14    32.896938\n",
            "2017-03-15    33.244873\n",
            "2017-03-16    33.299309\n",
            "2017-03-17    33.133625\n",
            "2017-03-20    33.481548\n",
            "2017-03-21    33.098110\n",
            "2017-03-22    33.472088\n",
            "2017-03-23    33.353741\n",
            "2017-03-24    33.287476\n",
            "2017-03-27    33.344273\n",
            "2017-03-28    34.035393\n",
            "2017-03-29    34.111134\n",
            "2017-03-30    34.066158\n",
            "2017-03-31    34.002258\n",
            "Name: Close, dtype: float64\n"
          ]
        }
      ]
    },
    {
      "cell_type": "code",
      "metadata": {
        "colab": {
          "base_uri": "https://localhost:8080/"
        },
        "id": "8qOr8Fum9PJl",
        "outputId": "bb34d7bf-a841-44aa-a429-bc87db2a1461"
      },
      "source": [
        "print(tsla['2017-3'])"
      ],
      "execution_count": 37,
      "outputs": [
        {
          "output_type": "stream",
          "name": "stdout",
          "text": [
            "Date\n",
            "2017-03-01    50.004002\n",
            "2017-03-02    50.096001\n",
            "2017-03-03    50.313999\n",
            "2017-03-06    50.242001\n",
            "2017-03-07    49.717999\n",
            "2017-03-08    49.374001\n",
            "2017-03-09    48.980000\n",
            "2017-03-10    48.737999\n",
            "2017-03-13    49.234001\n",
            "2017-03-14    51.599998\n",
            "2017-03-15    51.146000\n",
            "2017-03-16    52.410000\n",
            "2017-03-17    52.299999\n",
            "2017-03-20    52.383999\n",
            "2017-03-21    50.136002\n",
            "2017-03-22    51.001999\n",
            "2017-03-23    50.956001\n",
            "2017-03-24    52.632000\n",
            "2017-03-27    54.043999\n",
            "2017-03-28    55.490002\n",
            "2017-03-29    55.476002\n",
            "2017-03-30    55.584000\n",
            "2017-03-31    55.660000\n",
            "Name: Close, dtype: float64\n"
          ]
        }
      ]
    },
    {
      "cell_type": "code",
      "metadata": {
        "id": "vpvxGwXtHW92",
        "colab": {
          "base_uri": "https://localhost:8080/"
        },
        "outputId": "03865859-2200-48f8-ddef-e7d5cf4b06a5"
      },
      "source": [
        "aapl['2017-2':'2017-4']"
      ],
      "execution_count": 38,
      "outputs": [
        {
          "output_type": "execute_result",
          "data": {
            "text/plain": [
              "Date\n",
              "2017-02-01    30.341730\n",
              "2017-02-02    30.289883\n",
              "2017-02-03    30.419495\n",
              "2017-02-06    30.704651\n",
              "2017-02-07    30.996880\n",
              "                ...    \n",
              "2017-04-24    33.997520\n",
              "2017-04-25    34.208172\n",
              "2017-04-26    34.006992\n",
              "2017-04-27    34.033028\n",
              "2017-04-28    33.999897\n",
              "Name: Close, Length: 61, dtype: float64"
            ]
          },
          "metadata": {},
          "execution_count": 38
        }
      ]
    },
    {
      "cell_type": "code",
      "metadata": {
        "colab": {
          "base_uri": "https://localhost:8080/"
        },
        "id": "Wy_cjlWl9XCF",
        "outputId": "e3aa805a-6632-499d-e837-aed328ea4891"
      },
      "source": [
        "tsla['2017-2':'2017-4']"
      ],
      "execution_count": 39,
      "outputs": [
        {
          "output_type": "execute_result",
          "data": {
            "text/plain": [
              "Date\n",
              "2017-02-01    49.848000\n",
              "2017-02-02    50.310001\n",
              "2017-02-03    50.265999\n",
              "2017-02-06    51.554001\n",
              "2017-02-07    51.495998\n",
              "                ...    \n",
              "2017-04-24    61.605999\n",
              "2017-04-25    62.757999\n",
              "2017-04-26    62.034000\n",
              "2017-04-27    61.726002\n",
              "2017-04-28    62.813999\n",
              "Name: Close, Length: 61, dtype: float64"
            ]
          },
          "metadata": {},
          "execution_count": 39
        }
      ]
    },
    {
      "cell_type": "markdown",
      "metadata": {
        "id": "lWwoD39pKNKb"
      },
      "source": [
        ".head(N) and .tail(N) are methods for quickly accessing the first or last N elements."
      ]
    },
    {
      "cell_type": "code",
      "metadata": {
        "id": "1eU218ALHW93",
        "colab": {
          "base_uri": "https://localhost:8080/"
        },
        "outputId": "92d7baf4-aa5c-495c-c9fd-ca817c2ca4a9"
      },
      "source": [
        "print(aapl.head(5))\n",
        "print(aapl.tail(10))"
      ],
      "execution_count": 40,
      "outputs": [
        {
          "output_type": "stream",
          "name": "stdout",
          "text": [
            "Date\n",
            "2017-01-03    27.372362\n",
            "2017-01-04    27.341724\n",
            "2017-01-05    27.480766\n",
            "2017-01-06    27.787130\n",
            "2017-01-09    28.041643\n",
            "Name: Close, dtype: float64\n",
            "Date\n",
            "2017-12-15    41.657749\n",
            "2017-12-18    42.244400\n",
            "2017-12-19    41.794228\n",
            "2017-12-20    41.748730\n",
            "2017-12-21    41.906776\n",
            "2017-12-22    41.906776\n",
            "2017-12-26    40.843601\n",
            "2017-12-27    40.850788\n",
            "2017-12-28    40.965725\n",
            "2017-12-29    40.522724\n",
            "Name: Close, dtype: float64\n"
          ]
        }
      ]
    },
    {
      "cell_type": "code",
      "metadata": {
        "colab": {
          "base_uri": "https://localhost:8080/"
        },
        "id": "hDTpGLyD9aQY",
        "outputId": "3ad64ac3-264c-480f-b05e-74fa505f693f"
      },
      "source": [
        "print(tsla.head(5))\n",
        "print(tsla.tail(10))"
      ],
      "execution_count": 41,
      "outputs": [
        {
          "output_type": "stream",
          "name": "stdout",
          "text": [
            "Date\n",
            "2017-01-03    43.397999\n",
            "2017-01-04    45.397999\n",
            "2017-01-05    45.349998\n",
            "2017-01-06    45.801998\n",
            "2017-01-09    46.256001\n",
            "Name: Close, dtype: float64\n",
            "Date\n",
            "2017-12-15    68.690002\n",
            "2017-12-18    67.774002\n",
            "2017-12-19    66.220001\n",
            "2017-12-20    65.795998\n",
            "2017-12-21    66.332001\n",
            "2017-12-22    65.040001\n",
            "2017-12-26    63.458000\n",
            "2017-12-27    62.327999\n",
            "2017-12-28    63.071999\n",
            "2017-12-29    62.270000\n",
            "Name: Close, dtype: float64\n"
          ]
        }
      ]
    },
    {
      "cell_type": "markdown",
      "metadata": {
        "id": "IxhKxtj-KQ66"
      },
      "source": [
        "**Resampling**\n",
        "\n",
        "**_series.resample(freq)_** is a class called \"DatetimeIndexResampler\" which groups data in a Series object into regular time intervals. The argument \"freq\" determines the length of each interval.\n",
        "\n",
        "**_series.resample.mean()_** is a complete statement that groups data into intervals, and then compute the mean of each interval. For example, if we want to aggregate the daily data into monthly data by mean:"
      ]
    },
    {
      "cell_type": "code",
      "metadata": {
        "id": "rAV8NkHkHW93",
        "colab": {
          "base_uri": "https://localhost:8080/"
        },
        "outputId": "6b23b385-2051-41fb-91fd-8939133662d5"
      },
      "source": [
        "by_month = aapl.resample('M').mean()\n",
        "print(by_month)"
      ],
      "execution_count": 42,
      "outputs": [
        {
          "output_type": "stream",
          "name": "stdout",
          "text": [
            "Date\n",
            "2017-01-31    28.178331\n",
            "2017-02-28    31.606277\n",
            "2017-03-31    33.282220\n",
            "2017-04-30    33.819262\n",
            "2017-05-31    36.125684\n",
            "2017-06-30    35.133982\n",
            "2017-07-31    35.245242\n",
            "2017-08-31    37.897229\n",
            "2017-09-30    37.604738\n",
            "2017-10-31    37.654551\n",
            "2017-11-30    41.233915\n",
            "2017-12-31    41.160039\n",
            "Freq: M, Name: Close, dtype: float64\n"
          ]
        }
      ]
    },
    {
      "cell_type": "code",
      "metadata": {
        "colab": {
          "base_uri": "https://localhost:8080/"
        },
        "id": "iL_wLwvP9eWw",
        "outputId": "69f911b8-0d2b-40b3-94b1-f364a3de7b2c"
      },
      "source": [
        "by_month = tsla.resample('M').mean()\n",
        "print(by_month)"
      ],
      "execution_count": 43,
      "outputs": [
        {
          "output_type": "stream",
          "name": "stdout",
          "text": [
            "Date\n",
            "2017-01-31    47.864100\n",
            "2017-02-28    52.742211\n",
            "2017-03-31    51.631304\n",
            "2017-04-30    60.951684\n",
            "2017-05-31    63.304818\n",
            "2017-06-30    73.160727\n",
            "2017-07-31    65.761000\n",
            "2017-08-31    70.175044\n",
            "2017-09-30    71.571400\n",
            "2017-10-31    68.936636\n",
            "2017-11-30    62.038381\n",
            "2017-12-31    64.568200\n",
            "Freq: M, Name: Close, dtype: float64\n"
          ]
        }
      ]
    },
    {
      "cell_type": "markdown",
      "metadata": {
        "id": "QDPfVzBEKV6Q"
      },
      "source": [
        "We can also aggregate the data by week:"
      ]
    },
    {
      "cell_type": "code",
      "metadata": {
        "id": "aAP3tKkBHW94",
        "colab": {
          "base_uri": "https://localhost:8080/"
        },
        "outputId": "3e5db766-a62f-4da9-c5da-5c7ac0556802"
      },
      "source": [
        "by_week = aapl.resample('W').mean()\n",
        "print(by_week.head())"
      ],
      "execution_count": 44,
      "outputs": [
        {
          "output_type": "stream",
          "name": "stdout",
          "text": [
            "Date\n",
            "2017-01-08    27.495496\n",
            "2017-01-15    28.097733\n",
            "2017-01-22    28.266118\n",
            "2017-01-29    28.553979\n",
            "2017-02-05    29.662543\n",
            "Freq: W-SUN, Name: Close, dtype: float64\n"
          ]
        }
      ]
    },
    {
      "cell_type": "code",
      "metadata": {
        "colab": {
          "base_uri": "https://localhost:8080/"
        },
        "id": "yX0Z8j0m9hnI",
        "outputId": "89f9b1ed-1d1c-4853-81ce-3a0e1589db04"
      },
      "source": [
        "by_week = tsla.resample('W').mean()\n",
        "print(by_week.head())"
      ],
      "execution_count": 45,
      "outputs": [
        {
          "output_type": "stream",
          "name": "stdout",
          "text": [
            "Date\n",
            "2017-01-08    44.986999\n",
            "2017-01-15    46.328799\n",
            "2017-01-22    48.121500\n",
            "2017-01-29    50.538400\n",
            "2017-02-05    50.187200\n",
            "Freq: W-SUN, Name: Close, dtype: float64\n"
          ]
        }
      ]
    },
    {
      "cell_type": "markdown",
      "metadata": {
        "id": "o_MXSVsILoBS"
      },
      "source": [
        "We can also aggregate the data by month with max:"
      ]
    },
    {
      "cell_type": "code",
      "metadata": {
        "id": "gn0wqXBTHW95",
        "colab": {
          "base_uri": "https://localhost:8080/"
        },
        "outputId": "13716f9b-2c9b-4e46-e59d-2744370a2ec2"
      },
      "source": [
        "aapl.resample('M').max()"
      ],
      "execution_count": 46,
      "outputs": [
        {
          "output_type": "execute_result",
          "data": {
            "text/plain": [
              "Date\n",
              "2017-01-31    28.739210\n",
              "2017-02-28    32.451973\n",
              "2017-03-31    34.111134\n",
              "2017-04-30    34.264988\n",
              "2017-05-31    37.099133\n",
              "2017-06-30    36.944653\n",
              "2017-07-31    36.471699\n",
              "2017-08-31    39.129723\n",
              "2017-09-30    39.141647\n",
              "2017-10-31    40.332245\n",
              "2017-11-30    42.050140\n",
              "2017-12-31    42.244400\n",
              "Freq: M, Name: Close, dtype: float64"
            ]
          },
          "metadata": {},
          "execution_count": 46
        }
      ]
    },
    {
      "cell_type": "code",
      "metadata": {
        "colab": {
          "base_uri": "https://localhost:8080/"
        },
        "id": "2ju9QWSV9lDY",
        "outputId": "f53ae78e-e60d-4550-cccd-8bfd224e5e57"
      },
      "source": [
        "tsla.resample('M').max()"
      ],
      "execution_count": 47,
      "outputs": [
        {
          "output_type": "execute_result",
          "data": {
            "text/plain": [
              "Date\n",
              "2017-01-31    50.922001\n",
              "2017-02-28    56.195999\n",
              "2017-03-31    55.660000\n",
              "2017-04-30    62.813999\n",
              "2017-05-31    68.202003\n",
              "2017-06-30    76.690002\n",
              "2017-07-31    70.524002\n",
              "2017-08-31    73.043999\n",
              "2017-09-30    77.000000\n",
              "2017-10-31    71.930000\n",
              "2017-11-30    64.216003\n",
              "2017-12-31    68.690002\n",
              "Freq: M, Name: Close, dtype: float64"
            ]
          },
          "metadata": {},
          "execution_count": 47
        }
      ]
    },
    {
      "cell_type": "markdown",
      "metadata": {
        "id": "Z8r46UFlLdAh"
      },
      "source": [
        "We can choose almost any frequency by using the format 'nf', where 'n' is an integer and 'f' is M for month, W for week and D for day."
      ]
    },
    {
      "cell_type": "code",
      "metadata": {
        "id": "kdVB_-JFHW96",
        "colab": {
          "base_uri": "https://localhost:8080/"
        },
        "outputId": "b5beb257-c32e-41d1-a29c-6db3c5f06616"
      },
      "source": [
        "three_day = aapl.resample('3D').mean()\n",
        "two_week = aapl.resample('2W').mean()\n",
        "two_month = aapl.resample('2M').mean()\n",
        "\n",
        "\n",
        "print(three_day)\n",
        "print(two_week)\n",
        "print(two_month )"
      ],
      "execution_count": 48,
      "outputs": [
        {
          "output_type": "stream",
          "name": "stdout",
          "text": [
            "Date\n",
            "2017-01-03    27.398284\n",
            "2017-01-06    27.787130\n",
            "2017-01-09    28.110773\n",
            "2017-01-12    28.078174\n",
            "2017-01-15    28.279669\n",
            "                ...    \n",
            "2017-12-17    42.019314\n",
            "2017-12-20    41.854094\n",
            "2017-12-23          NaN\n",
            "2017-12-26    40.886705\n",
            "2017-12-29    40.522724\n",
            "Freq: 3D, Name: Close, Length: 121, dtype: float64\n",
            "Date\n",
            "2017-01-08    27.495496\n",
            "2017-01-22    28.172571\n",
            "2017-02-05    29.108261\n",
            "2017-02-19    31.516818\n",
            "2017-03-05    32.595558\n",
            "2017-03-19    33.017884\n",
            "2017-04-02    33.625218\n",
            "2017-04-16    33.849727\n",
            "2017-04-30    33.791844\n",
            "2017-05-14    35.697633\n",
            "2017-05-28    36.496176\n",
            "2017-06-11    36.515005\n",
            "2017-06-25    34.529044\n",
            "2017-07-09    34.265133\n",
            "2017-07-23    35.278872\n",
            "2017-08-06    36.272774\n",
            "2017-08-20    37.904119\n",
            "2017-09-03    38.458794\n",
            "2017-09-17    38.282709\n",
            "2017-10-01    36.840873\n",
            "2017-10-15    37.071595\n",
            "2017-10-29    37.757322\n",
            "2017-11-12    41.032237\n",
            "2017-11-26    41.204375\n",
            "2017-12-10    40.867068\n",
            "2017-12-24    41.620866\n",
            "2018-01-07    40.795710\n",
            "Freq: 2W-SUN, Name: Close, dtype: float64\n",
            "Date\n",
            "2017-01-31    28.178331\n",
            "2017-03-31    32.524055\n",
            "2017-05-31    35.056854\n",
            "2017-07-31    35.186963\n",
            "2017-09-30    37.761187\n",
            "2017-11-30    39.402612\n",
            "2018-01-31    41.160039\n",
            "Freq: 2M, Name: Close, dtype: float64\n"
          ]
        }
      ]
    },
    {
      "cell_type": "code",
      "metadata": {
        "colab": {
          "base_uri": "https://localhost:8080/"
        },
        "id": "itztNN_N9ouu",
        "outputId": "e94091cb-d59d-4548-f638-4ab39f35c995"
      },
      "source": [
        "three_day = tsla.resample('3D').mean()\n",
        "two_week = tsla.resample('2W').mean()\n",
        "two_month = tsla.resample('2M').mean()\n",
        "\n",
        "\n",
        "print(three_day)\n",
        "print(two_week)\n",
        "print(two_month )"
      ],
      "execution_count": 49,
      "outputs": [
        {
          "output_type": "stream",
          "name": "stdout",
          "text": [
            "Date\n",
            "2017-01-03    44.715332\n",
            "2017-01-06    45.801998\n",
            "2017-01-09    46.058666\n",
            "2017-01-12    46.733999\n",
            "2017-01-15    47.116001\n",
            "                ...    \n",
            "2017-12-17    66.997002\n",
            "2017-12-20    65.722666\n",
            "2017-12-23          NaN\n",
            "2017-12-26    62.952666\n",
            "2017-12-29    62.270000\n",
            "Freq: 3D, Name: Close, Length: 121, dtype: float64\n",
            "Date\n",
            "2017-01-08    44.986999\n",
            "2017-01-22    47.125555\n",
            "2017-02-05    50.362800\n",
            "2017-02-19    53.965600\n",
            "2017-03-05    51.381778\n",
            "2017-03-19    50.374200\n",
            "2017-04-02    53.336400\n",
            "2017-04-16    60.453334\n",
            "2017-04-30    61.400200\n",
            "2017-05-14    63.162600\n",
            "2017-05-28    62.585800\n",
            "2017-06-11    69.854888\n",
            "2017-06-25    74.937201\n",
            "2017-07-09    69.671556\n",
            "2017-07-23    65.107401\n",
            "2017-08-06    67.368600\n",
            "2017-08-20    71.712200\n",
            "2017-09-03    69.809200\n",
            "2017-09-17    71.961111\n",
            "2017-10-01    71.269800\n",
            "2017-10-15    70.425399\n",
            "2017-10-29    68.203001\n",
            "2017-11-12    61.944800\n",
            "2017-11-26    62.614445\n",
            "2017-12-10    62.116200\n",
            "2017-12-24    66.922401\n",
            "2018-01-07    62.782000\n",
            "Freq: 2W-SUN, Name: Close, dtype: float64\n",
            "Date\n",
            "2017-01-31    47.864100\n",
            "2017-03-31    52.133857\n",
            "2017-05-31    62.214341\n",
            "2017-07-31    69.637048\n",
            "2017-09-30    70.824512\n",
            "2017-11-30    65.567721\n",
            "2018-01-31    64.568200\n",
            "Freq: 2M, Name: Close, dtype: float64\n"
          ]
        }
      ]
    },
    {
      "cell_type": "markdown",
      "metadata": {
        "id": "iy4RqsnwL-Bw"
      },
      "source": [
        "Besides the mean() method, other methods can also be used with the resampler:\n",
        "\n"
      ]
    },
    {
      "cell_type": "code",
      "metadata": {
        "id": "DNT8Fx9dHW96",
        "colab": {
          "base_uri": "https://localhost:8080/"
        },
        "outputId": "be35983a-a5cd-4f17-a1de-887a5aad5bf1"
      },
      "source": [
        "std = aapl.resample('W').std()\n",
        "max = aapl.resample('W').max()\n",
        "min = aapl.resample('W').min()\n",
        "\n",
        "\n",
        "print(std)\n",
        "print(max)\n",
        "print(min)"
      ],
      "execution_count": 50,
      "outputs": [
        {
          "output_type": "stream",
          "name": "stdout",
          "text": [
            "Date\n",
            "2017-01-08    0.203368\n",
            "2017-01-15    0.072529\n",
            "2017-01-22    0.025555\n",
            "2017-01-29    0.245284\n",
            "2017-02-05    0.943262\n",
            "2017-02-12    0.251999\n",
            "2017-02-19    0.231390\n",
            "2017-02-26    0.059348\n",
            "2017-03-05    0.340090\n",
            "2017-03-12    0.076286\n",
            "2017-03-19    0.177839\n",
            "2017-03-26    0.157267\n",
            "2017-04-02    0.319807\n",
            "2017-04-09    0.128693\n",
            "2017-04-16    0.212479\n",
            "2017-04-23    0.174670\n",
            "2017-04-30    0.090023\n",
            "2017-05-07    0.235639\n",
            "2017-05-14    0.352978\n",
            "2017-05-21    0.536095\n",
            "2017-05-28    0.060392\n",
            "2017-06-04    0.281225\n",
            "2017-06-11    0.620033\n",
            "2017-06-18    0.382570\n",
            "2017-06-25    0.128892\n",
            "2017-07-02    0.264107\n",
            "2017-07-09    0.158892\n",
            "2017-07-16    0.404287\n",
            "2017-07-23    0.124991\n",
            "2017-07-30    0.384441\n",
            "2017-08-06    0.924392\n",
            "2017-08-13    0.467468\n",
            "2017-08-20    0.435256\n",
            "2017-08-27    0.275768\n",
            "2017-09-03    0.251723\n",
            "2017-09-10    0.381635\n",
            "2017-09-17    0.294143\n",
            "2017-09-24    0.735194\n",
            "2017-10-01    0.354844\n",
            "2017-10-08    0.204858\n",
            "2017-10-15    0.118728\n",
            "2017-10-22    0.516995\n",
            "2017-10-29    0.680460\n",
            "2017-11-05    0.560685\n",
            "2017-11-12    0.190971\n",
            "2017-11-19    0.436201\n",
            "2017-11-26    0.563047\n",
            "2017-12-03    0.427442\n",
            "2017-12-10    0.073129\n",
            "2017-12-17    0.205268\n",
            "2017-12-24    0.194124\n",
            "2017-12-31    0.190397\n",
            "Freq: W-SUN, Name: Close, dtype: float64\n",
            "Date\n",
            "2017-01-08    27.787130\n",
            "2017-01-15    28.220749\n",
            "2017-01-22    28.279669\n",
            "2017-01-29    28.739210\n",
            "2017-02-05    30.419495\n",
            "2017-02-12    31.341911\n",
            "2017-02-19    32.122971\n",
            "2017-02-26    32.451973\n",
            "2017-03-05    33.086281\n",
            "2017-03-12    33.022377\n",
            "2017-03-19    33.299309\n",
            "2017-03-26    33.481548\n",
            "2017-04-02    34.111134\n",
            "2017-04-09    34.264988\n",
            "2017-04-16    33.886284\n",
            "2017-04-23    33.713497\n",
            "2017-04-30    34.208172\n",
            "2017-05-07    35.256691\n",
            "2017-05-14    37.099133\n",
            "2017-05-21    37.004066\n",
            "2017-05-28    36.597660\n",
            "2017-06-04    36.944653\n",
            "2017-06-11    36.925629\n",
            "2017-06-18    34.838966\n",
            "2017-06-25    34.779541\n",
            "2017-07-02    34.658333\n",
            "2017-07-09    34.266186\n",
            "2017-07-16    35.421242\n",
            "2017-07-23    35.891804\n",
            "2017-07-30    36.471699\n",
            "2017-08-06    37.346294\n",
            "2017-08-13    38.277935\n",
            "2017-08-20    38.557102\n",
            "2017-08-27    38.170574\n",
            "2017-09-03    39.141647\n",
            "2017-09-10    38.671623\n",
            "2017-09-17    38.533241\n",
            "2017-09-24    37.872318\n",
            "2017-10-01    36.798641\n",
            "2017-10-08    37.075420\n",
            "2017-10-15    37.457161\n",
            "2017-10-22    38.287476\n",
            "2017-10-29    38.903069\n",
            "2017-11-05    41.157791\n",
            "2017-11-12    42.050140\n",
            "2017-11-19    41.657749\n",
            "2017-11-26    41.897190\n",
            "2017-12-03    41.686474\n",
            "2017-12-10    40.659225\n",
            "2017-12-17    41.657749\n",
            "2017-12-24    42.244400\n",
            "2017-12-31    40.965725\n",
            "Freq: W-SUN, Name: Close, dtype: float64\n",
            "Date\n",
            "2017-01-08    27.341724\n",
            "2017-01-15    28.041643\n",
            "2017-01-22    28.227821\n",
            "2017-01-29    28.272598\n",
            "2017-02-05    28.597809\n",
            "2017-02-12    30.704651\n",
            "2017-02-19    31.547831\n",
            "2017-02-26    32.314686\n",
            "2017-03-05    32.409363\n",
            "2017-03-12    32.823559\n",
            "2017-03-19    32.896938\n",
            "2017-03-26    33.098110\n",
            "2017-04-02    33.344273\n",
            "2017-04-09    33.926514\n",
            "2017-04-16    33.384502\n",
            "2017-04-23    33.296936\n",
            "2017-04-30    33.997520\n",
            "2017-05-07    34.681541\n",
            "2017-05-14    36.215275\n",
            "2017-05-21    35.708801\n",
            "2017-05-28    36.443172\n",
            "2017-06-04    36.305336\n",
            "2017-06-11    35.406971\n",
            "2017-06-18    33.812252\n",
            "2017-06-25    34.463448\n",
            "2017-07-02    34.147358\n",
            "2017-07-09    33.921574\n",
            "2017-07-16    34.475334\n",
            "2017-07-23    35.544807\n",
            "2017-07-30    35.530556\n",
            "2017-08-06    35.347553\n",
            "2017-08-13    37.058712\n",
            "2017-08-20    37.578842\n",
            "2017-08-27    37.509659\n",
            "2017-09-03    38.526077\n",
            "2017-09-10    37.848473\n",
            "2017-09-17    37.764950\n",
            "2017-09-24    36.240326\n",
            "2017-10-01    35.920612\n",
            "2017-10-08    36.619690\n",
            "2017-10-15    37.182785\n",
            "2017-10-22    37.216187\n",
            "2017-10-29    37.261517\n",
            "2017-11-05    39.778706\n",
            "2017-11-12    41.575325\n",
            "2017-11-19    40.486813\n",
            "2017-11-26    40.702316\n",
            "2017-12-03    40.582600\n",
            "2017-12-10    40.470055\n",
            "2017-12-17    41.114178\n",
            "2017-12-24    41.748730\n",
            "2017-12-31    40.522724\n",
            "Freq: W-SUN, Name: Close, dtype: float64\n"
          ]
        }
      ]
    },
    {
      "cell_type": "code",
      "metadata": {
        "colab": {
          "base_uri": "https://localhost:8080/"
        },
        "id": "f0Lm7MTp9uNh",
        "outputId": "24317b83-9532-44b8-9291-7c6b0844817b"
      },
      "source": [
        "std = tsla.resample('W').std()\n",
        "max = tsla.resample('W').max()\n",
        "min = tsla.resample('W').min()\n",
        "\n",
        "\n",
        "print(std)\n",
        "print(max)\n",
        "print(min)"
      ],
      "execution_count": 51,
      "outputs": [
        {
          "output_type": "stream",
          "name": "stdout",
          "text": [
            "Date\n",
            "2017-01-08    1.078554\n",
            "2017-01-15    0.696025\n",
            "2017-01-22    0.873767\n",
            "2017-01-29    0.460084\n",
            "2017-02-05    0.211904\n",
            "2017-02-12    1.165363\n",
            "2017-02-19    1.107895\n",
            "2017-02-26    2.213079\n",
            "2017-03-05    0.404029\n",
            "2017-03-12    0.596839\n",
            "2017-03-19    1.285199\n",
            "2017-03-26    1.053196\n",
            "2017-04-02    0.678743\n",
            "2017-04-09    0.696762\n",
            "2017-04-16    1.341745\n",
            "2017-04-23    0.482972\n",
            "2017-04-30    0.568475\n",
            "2017-05-07    2.121875\n",
            "2017-05-14    1.500596\n",
            "2017-05-21    0.869877\n",
            "2017-05-28    1.612288\n",
            "2017-06-04    0.539413\n",
            "2017-06-11    1.691550\n",
            "2017-06-18    1.642376\n",
            "2017-06-25    1.216070\n",
            "2017-07-02    1.473415\n",
            "2017-07-09    3.944103\n",
            "2017-07-16    1.074755\n",
            "2017-07-23    0.822497\n",
            "2017-07-30    0.850172\n",
            "2017-08-06    3.285388\n",
            "2017-08-13    0.933574\n",
            "2017-08-20    1.496851\n",
            "2017-08-27    1.357167\n",
            "2017-09-03    0.941475\n",
            "2017-09-10    0.719231\n",
            "2017-09-17    1.616149\n",
            "2017-09-24    2.521461\n",
            "2017-10-01    0.513848\n",
            "2017-10-08    1.290541\n",
            "2017-10-15    1.114371\n",
            "2017-10-22    1.097715\n",
            "2017-10-29    1.472969\n",
            "2017-11-05    2.571578\n",
            "2017-11-12    0.278481\n",
            "2017-11-19    0.554545\n",
            "2017-11-26    0.784208\n",
            "2017-12-03    1.059216\n",
            "2017-12-10    1.003892\n",
            "2017-12-17    1.107094\n",
            "2017-12-24    0.999859\n",
            "2017-12-31    0.580039\n",
            "Freq: W-SUN, Name: Close, dtype: float64\n",
            "Date\n",
            "2017-01-08    45.801998\n",
            "2017-01-15    47.549999\n",
            "2017-01-22    48.945999\n",
            "2017-01-29    50.922001\n",
            "2017-02-05    50.386002\n",
            "2017-02-12    53.846001\n",
            "2017-02-19    56.195999\n",
            "2017-02-26    55.478001\n",
            "2017-03-05    50.313999\n",
            "2017-03-12    50.242001\n",
            "2017-03-19    52.410000\n",
            "2017-03-26    52.632000\n",
            "2017-04-02    55.660000\n",
            "2017-04-09    60.740002\n",
            "2017-04-16    62.478001\n",
            "2017-04-23    61.119999\n",
            "2017-04-30    62.813999\n",
            "2017-05-07    64.566002\n",
            "2017-05-14    65.043999\n",
            "2017-05-21    63.402000\n",
            "2017-05-28    65.028000\n",
            "2017-06-04    68.202003\n",
            "2017-06-11    74.000000\n",
            "2017-06-18    76.132004\n",
            "2017-06-25    76.690002\n",
            "2017-07-02    75.498001\n",
            "2017-07-09    70.524002\n",
            "2017-07-16    65.903999\n",
            "2017-07-23    65.984001\n",
            "2017-07-30    68.769997\n",
            "2017-08-06    71.382004\n",
            "2017-08-13    73.043999\n",
            "2017-08-20    72.760002\n",
            "2017-08-27    70.585999\n",
            "2017-09-03    71.180000\n",
            "2017-09-10    70.122002\n",
            "2017-09-17    75.961998\n",
            "2017-09-24    77.000000\n",
            "2017-10-01    69.050003\n",
            "2017-10-08    71.375999\n",
            "2017-10-15    71.136002\n",
            "2017-10-22    71.930000\n",
            "2017-10-29    67.468002\n",
            "2017-11-05    66.306000\n",
            "2017-11-12    61.209999\n",
            "2017-11-19    63.080002\n",
            "2017-11-26    63.562000\n",
            "2017-12-03    63.509998\n",
            "2017-12-10    63.026001\n",
            "2017-12-17    68.690002\n",
            "2017-12-24    67.774002\n",
            "2017-12-31    63.458000\n",
            "Freq: W-SUN, Name: Close, dtype: float64\n",
            "Date\n",
            "2017-01-08    43.397999\n",
            "2017-01-15    45.917999\n",
            "2017-01-22    47.116001\n",
            "2017-01-29    49.784000\n",
            "2017-02-05    49.848000\n",
            "2017-02-12    51.495998\n",
            "2017-02-19    53.790001\n",
            "2017-02-26    51.198002\n",
            "2017-03-05    49.245998\n",
            "2017-03-12    48.737999\n",
            "2017-03-19    49.234001\n",
            "2017-03-26    50.136002\n",
            "2017-04-02    54.043999\n",
            "2017-04-09    59.000000\n",
            "2017-04-16    59.368000\n",
            "2017-04-23    60.049999\n",
            "2017-04-30    61.605999\n",
            "2017-05-07    59.091999\n",
            "2017-05-14    61.438000\n",
            "2017-05-21    61.222000\n",
            "2017-05-28    60.771999\n",
            "2017-06-04    67.019997\n",
            "2017-06-11    69.463997\n",
            "2017-06-18    71.802002\n",
            "2017-06-25    73.959999\n",
            "2017-07-02    72.150002\n",
            "2017-07-09    61.765999\n",
            "2017-07-16    63.209999\n",
            "2017-07-23    63.914001\n",
            "2017-07-30    66.891998\n",
            "2017-08-06    63.914001\n",
            "2017-08-13    71.033997\n",
            "2017-08-20    69.491997\n",
            "2017-08-27    67.571999\n",
            "2017-09-03    69.132004\n",
            "2017-09-10    68.680000\n",
            "2017-09-17    72.550003\n",
            "2017-09-24    70.218002\n",
            "2017-10-01    67.919998\n",
            "2017-10-08    68.306000\n",
            "2017-10-15    68.587997\n",
            "2017-10-22    69.019997\n",
            "2017-10-29    64.174004\n",
            "2017-11-05    59.852001\n",
            "2017-11-12    60.556000\n",
            "2017-11-19    61.740002\n",
            "2017-11-26    61.748001\n",
            "2017-12-03    61.306000\n",
            "2017-12-10    60.740002\n",
            "2017-12-17    65.781998\n",
            "2017-12-24    65.040001\n",
            "2017-12-31    62.270000\n",
            "Freq: W-SUN, Name: Close, dtype: float64\n"
          ]
        }
      ]
    },
    {
      "cell_type": "markdown",
      "metadata": {
        "id": "uqln0s5DMI3I"
      },
      "source": [
        "Often we want to calculate monthly returns of a stock, based on prices on the last day of each month. To fetch those prices, we use the series.resample.agg() method:"
      ]
    },
    {
      "cell_type": "code",
      "metadata": {
        "id": "A6FSYvqbHW97",
        "colab": {
          "base_uri": "https://localhost:8080/"
        },
        "outputId": "361da864-15ea-4c90-8ec1-30ebeae33216"
      },
      "source": [
        "last_day = aapl.resample('M').agg(lambda x: x[-1])\n",
        "print(last_day)"
      ],
      "execution_count": 63,
      "outputs": [
        {
          "output_type": "stream",
          "name": "stdout",
          "text": [
            "Date\n",
            "2017-01-31    28.597809\n",
            "2017-02-28    32.423573\n",
            "2017-03-31    34.002258\n",
            "2017-04-30    33.999897\n",
            "2017-05-31    36.305336\n",
            "2017-06-30    34.228165\n",
            "2017-07-31    35.347553\n",
            "2017-08-31    39.129723\n",
            "2017-09-30    36.772400\n",
            "2017-10-31    40.332245\n",
            "2017-11-30    41.150101\n",
            "2017-12-31    40.522724\n",
            "Freq: M, Name: Close, dtype: float64\n"
          ]
        }
      ]
    },
    {
      "cell_type": "code",
      "metadata": {
        "colab": {
          "base_uri": "https://localhost:8080/"
        },
        "id": "TlXs6Y1p9y70",
        "outputId": "c1633fd3-0438-418b-fae7-c23ce44aab41"
      },
      "source": [
        "last_day_tsla = tsla.resample('M').agg(lambda x: x[-1])\n",
        "print(last_day)"
      ],
      "execution_count": 65,
      "outputs": [
        {
          "output_type": "stream",
          "name": "stdout",
          "text": [
            "Date\n",
            "2017-01-31    28.597809\n",
            "2017-02-28    32.423573\n",
            "2017-03-31    34.002258\n",
            "2017-04-30    33.999897\n",
            "2017-05-31    36.305336\n",
            "2017-06-30    34.228165\n",
            "2017-07-31    35.347553\n",
            "2017-08-31    39.129723\n",
            "2017-09-30    36.772400\n",
            "2017-10-31    40.332245\n",
            "2017-11-30    41.150101\n",
            "2017-12-31    40.522724\n",
            "Freq: M, Name: Close, dtype: float64\n"
          ]
        }
      ]
    },
    {
      "cell_type": "markdown",
      "metadata": {
        "id": "uwomY3aXMR46"
      },
      "source": [
        "Or directly calculate the monthly rates of return using the data for the first day and the last day:"
      ]
    },
    {
      "cell_type": "code",
      "metadata": {
        "id": "qK2NMJrNHW96",
        "colab": {
          "base_uri": "https://localhost:8080/"
        },
        "outputId": "8f6f535c-cb08-4f26-f790-ccccc8e52cba"
      },
      "source": [
        "monthly_return = aapl.resample('M').agg(lambda x: x[-1]/x[0] - 1)\n",
        "print(monthly_return)"
      ],
      "execution_count": 57,
      "outputs": [
        {
          "output_type": "stream",
          "name": "stdout",
          "text": [
            "Date\n",
            "2017-01-31    0.044769\n",
            "2017-02-28    0.068613\n",
            "2017-03-31    0.027685\n",
            "2017-04-30   -0.000348\n",
            "2017-05-31    0.046463\n",
            "2017-06-30   -0.059799\n",
            "2017-07-31    0.036446\n",
            "2017-08-31    0.097261\n",
            "2017-09-30   -0.060530\n",
            "2017-10-31    0.099018\n",
            "2017-11-30    0.033422\n",
            "2017-12-31   -0.010640\n",
            "Freq: M, Name: Close, dtype: float64\n"
          ]
        }
      ]
    },
    {
      "cell_type": "code",
      "metadata": {
        "colab": {
          "base_uri": "https://localhost:8080/"
        },
        "id": "XZF1sobD92Pi",
        "outputId": "36ee8dde-2ac8-4983-c996-b3a66d9734cf"
      },
      "source": [
        "monthly_return_tsla = tsla.resample('M').agg(lambda x: x[-1]/x[0] - 1)\n",
        "print(monthly_return)"
      ],
      "execution_count": 58,
      "outputs": [
        {
          "output_type": "stream",
          "name": "stdout",
          "text": [
            "Date\n",
            "2017-01-31    0.044769\n",
            "2017-02-28    0.068613\n",
            "2017-03-31    0.027685\n",
            "2017-04-30   -0.000348\n",
            "2017-05-31    0.046463\n",
            "2017-06-30   -0.059799\n",
            "2017-07-31    0.036446\n",
            "2017-08-31    0.097261\n",
            "2017-09-30   -0.060530\n",
            "2017-10-31    0.099018\n",
            "2017-11-30    0.033422\n",
            "2017-12-31   -0.010640\n",
            "Freq: M, Name: Close, dtype: float64\n"
          ]
        }
      ]
    },
    {
      "cell_type": "markdown",
      "metadata": {
        "id": "_DYbMTFWMj8J"
      },
      "source": [
        "Series object also provides us some convenient methods to do some quick calculation."
      ]
    },
    {
      "cell_type": "code",
      "metadata": {
        "id": "1Mxc0HwvHW98",
        "colab": {
          "base_uri": "https://localhost:8080/"
        },
        "outputId": "379b1b87-caaf-4d15-888a-0fbd6bdc154e"
      },
      "source": [
        "print(monthly_return.mean())\n",
        "print(monthly_return.std())\n",
        "print(monthly_return.max())"
      ],
      "execution_count": 59,
      "outputs": [
        {
          "output_type": "stream",
          "name": "stdout",
          "text": [
            "0.026863365569092468\n",
            "0.052258516525277195\n",
            "0.09901829189254818\n"
          ]
        }
      ]
    },
    {
      "cell_type": "code",
      "metadata": {
        "colab": {
          "base_uri": "https://localhost:8080/"
        },
        "id": "HGIhZTSY9_zK",
        "outputId": "b51ea1f2-5439-459f-845f-2a3d1d6578a7"
      },
      "source": [
        "print(monthly_return_tsla.mean())\n",
        "print(monthly_return_tsla.std())\n",
        "print(monthly_return_tsla.max())"
      ],
      "execution_count": 60,
      "outputs": [
        {
          "output_type": "stream",
          "name": "stdout",
          "text": [
            "0.03225698313583488\n",
            "0.07382777139399141\n",
            "0.1610213136260854\n"
          ]
        }
      ]
    },
    {
      "cell_type": "markdown",
      "metadata": {
        "id": "mn59J5dqMpqX"
      },
      "source": [
        "Another two methods frequently used on Series are .diff() and .pct_change(). The former calculates the difference between consecutive elements, and the latter calculates the percentage change."
      ]
    },
    {
      "cell_type": "code",
      "metadata": {
        "id": "DupZTSqqHW99",
        "colab": {
          "base_uri": "https://localhost:8080/"
        },
        "outputId": "8dea6ecf-93b7-44ce-9f63-57d26ec597af"
      },
      "source": [
        "print(last_day.diff())\n",
        "print(last_day.pct_change())"
      ],
      "execution_count": 66,
      "outputs": [
        {
          "output_type": "stream",
          "name": "stdout",
          "text": [
            "Date\n",
            "2017-01-31         NaN\n",
            "2017-02-28    3.825764\n",
            "2017-03-31    1.578686\n",
            "2017-04-30   -0.002361\n",
            "2017-05-31    2.305439\n",
            "2017-06-30   -2.077171\n",
            "2017-07-31    1.119389\n",
            "2017-08-31    3.782169\n",
            "2017-09-30   -2.357323\n",
            "2017-10-31    3.559845\n",
            "2017-11-30    0.817856\n",
            "2017-12-31   -0.627377\n",
            "Freq: M, Name: Close, dtype: float64\n",
            "Date\n",
            "2017-01-31         NaN\n",
            "2017-02-28    0.133778\n",
            "2017-03-31    0.048689\n",
            "2017-04-30   -0.000069\n",
            "2017-05-31    0.067807\n",
            "2017-06-30   -0.057214\n",
            "2017-07-31    0.032704\n",
            "2017-08-31    0.106999\n",
            "2017-09-30   -0.060244\n",
            "2017-10-31    0.096808\n",
            "2017-11-30    0.020278\n",
            "2017-12-31   -0.015246\n",
            "Freq: M, Name: Close, dtype: float64\n"
          ]
        }
      ]
    },
    {
      "cell_type": "code",
      "metadata": {
        "colab": {
          "base_uri": "https://localhost:8080/"
        },
        "id": "nZ0h7WRf-U2U",
        "outputId": "a997b71d-f626-4f37-e325-c53fc0f28539"
      },
      "source": [
        "print(last_day_tsla.diff())\n",
        "print(last_day_tsla.pct_change())"
      ],
      "execution_count": 67,
      "outputs": [
        {
          "output_type": "stream",
          "name": "stdout",
          "text": [
            "Date\n",
            "2017-01-31         NaN\n",
            "2017-02-28   -0.388000\n",
            "2017-03-31    5.661999\n",
            "2017-04-30    7.153999\n",
            "2017-05-31    5.388004\n",
            "2017-06-30    4.119995\n",
            "2017-07-31   -7.627998\n",
            "2017-08-31    6.486000\n",
            "2017-09-30   -2.959999\n",
            "2017-10-31   -1.914001\n",
            "2017-11-30   -4.535999\n",
            "2017-12-31    0.500000\n",
            "Freq: M, Name: Close, dtype: float64\n",
            "Date\n",
            "2017-01-31         NaN\n",
            "2017-02-28   -0.007701\n",
            "2017-03-31    0.113245\n",
            "2017-04-30    0.128530\n",
            "2017-05-31    0.085777\n",
            "2017-06-30    0.060409\n",
            "2017-07-31   -0.105473\n",
            "2017-08-31    0.100257\n",
            "2017-09-30   -0.041585\n",
            "2017-10-31   -0.028056\n",
            "2017-11-30   -0.068410\n",
            "2017-12-31    0.008095\n",
            "Freq: M, Name: Close, dtype: float64\n"
          ]
        }
      ]
    },
    {
      "cell_type": "markdown",
      "metadata": {
        "id": "RaMAOFepM6Io"
      },
      "source": [
        "Notice that we induced a NaN value while calculating percentage changes i.e. returns.\n",
        "\n",
        "When dealing with NaN values, we usually either removing the data point or fill it with a specific value. Here we fill it with 0:"
      ]
    },
    {
      "cell_type": "code",
      "metadata": {
        "id": "-xyLb3A3HW99",
        "colab": {
          "base_uri": "https://localhost:8080/"
        },
        "outputId": "8fb7080b-31ab-4626-dd48-950bfc77691f"
      },
      "source": [
        "daily_return = last_day.pct_change()\n",
        "print(daily_return.fillna(0))"
      ],
      "execution_count": 68,
      "outputs": [
        {
          "output_type": "stream",
          "name": "stdout",
          "text": [
            "Date\n",
            "2017-01-31    0.000000\n",
            "2017-02-28    0.133778\n",
            "2017-03-31    0.048689\n",
            "2017-04-30   -0.000069\n",
            "2017-05-31    0.067807\n",
            "2017-06-30   -0.057214\n",
            "2017-07-31    0.032704\n",
            "2017-08-31    0.106999\n",
            "2017-09-30   -0.060244\n",
            "2017-10-31    0.096808\n",
            "2017-11-30    0.020278\n",
            "2017-12-31   -0.015246\n",
            "Freq: M, Name: Close, dtype: float64\n"
          ]
        }
      ]
    },
    {
      "cell_type": "code",
      "metadata": {
        "colab": {
          "base_uri": "https://localhost:8080/"
        },
        "id": "HsVJbX5r-cOj",
        "outputId": "3ec168fd-81e7-4895-b762-fe2d6deaf400"
      },
      "source": [
        "daily_return_tsla = last_day_tsla.pct_change()\n",
        "print(daily_return_tsla.fillna(0))"
      ],
      "execution_count": 69,
      "outputs": [
        {
          "output_type": "stream",
          "name": "stdout",
          "text": [
            "Date\n",
            "2017-01-31    0.000000\n",
            "2017-02-28   -0.007701\n",
            "2017-03-31    0.113245\n",
            "2017-04-30    0.128530\n",
            "2017-05-31    0.085777\n",
            "2017-06-30    0.060409\n",
            "2017-07-31   -0.105473\n",
            "2017-08-31    0.100257\n",
            "2017-09-30   -0.041585\n",
            "2017-10-31   -0.028056\n",
            "2017-11-30   -0.068410\n",
            "2017-12-31    0.008095\n",
            "Freq: M, Name: Close, dtype: float64\n"
          ]
        }
      ]
    },
    {
      "cell_type": "markdown",
      "metadata": {
        "id": "BYS10Om1NQVC"
      },
      "source": [
        "Alternatively, we can fill a NaN with the next fitted value. This is called 'backward fill', or 'bfill' in short:"
      ]
    },
    {
      "cell_type": "code",
      "metadata": {
        "id": "J513kHeKHW9-",
        "colab": {
          "base_uri": "https://localhost:8080/"
        },
        "outputId": "f06b035b-6f9d-4ada-b650-f349b58e467c"
      },
      "source": [
        "daily_return = last_day.pct_change()\n",
        "print(daily_return.fillna(method = 'bfill'))"
      ],
      "execution_count": 70,
      "outputs": [
        {
          "output_type": "stream",
          "name": "stdout",
          "text": [
            "Date\n",
            "2017-01-31    0.133778\n",
            "2017-02-28    0.133778\n",
            "2017-03-31    0.048689\n",
            "2017-04-30   -0.000069\n",
            "2017-05-31    0.067807\n",
            "2017-06-30   -0.057214\n",
            "2017-07-31    0.032704\n",
            "2017-08-31    0.106999\n",
            "2017-09-30   -0.060244\n",
            "2017-10-31    0.096808\n",
            "2017-11-30    0.020278\n",
            "2017-12-31   -0.015246\n",
            "Freq: M, Name: Close, dtype: float64\n"
          ]
        }
      ]
    },
    {
      "cell_type": "code",
      "metadata": {
        "colab": {
          "base_uri": "https://localhost:8080/"
        },
        "id": "IanYAxt0-lD4",
        "outputId": "939b5a11-05b4-425a-daf8-5ee366fcd0a5"
      },
      "source": [
        "daily_return_tsla = last_day_tsla.pct_change()\n",
        "print(daily_return_tsla.fillna(method = 'bfill'))"
      ],
      "execution_count": 72,
      "outputs": [
        {
          "output_type": "stream",
          "name": "stdout",
          "text": [
            "Date\n",
            "2017-01-31   -0.007701\n",
            "2017-02-28   -0.007701\n",
            "2017-03-31    0.113245\n",
            "2017-04-30    0.128530\n",
            "2017-05-31    0.085777\n",
            "2017-06-30    0.060409\n",
            "2017-07-31   -0.105473\n",
            "2017-08-31    0.100257\n",
            "2017-09-30   -0.041585\n",
            "2017-10-31   -0.028056\n",
            "2017-11-30   -0.068410\n",
            "2017-12-31    0.008095\n",
            "Freq: M, Name: Close, dtype: float64\n"
          ]
        }
      ]
    },
    {
      "cell_type": "markdown",
      "metadata": {
        "id": "bj8QUSgdNepf"
      },
      "source": [
        "As expected, since there is a 'backward fill' method, there must be a 'forward fill' method, or 'ffill' in short. However we can't use it here because the NaN is the first value.\n",
        "\n",
        "We can also simply remove NaN values by **_.dropna()_**"
      ]
    },
    {
      "cell_type": "code",
      "metadata": {
        "id": "WG5ux1lqHW9-",
        "colab": {
          "base_uri": "https://localhost:8080/"
        },
        "outputId": "afd92afd-55a8-42e1-afa8-2c5532404d8f"
      },
      "source": [
        "daily_return = last_day.pct_change()\n",
        "daily_return.dropna()"
      ],
      "execution_count": 73,
      "outputs": [
        {
          "output_type": "execute_result",
          "data": {
            "text/plain": [
              "Date\n",
              "2017-02-28    0.133778\n",
              "2017-03-31    0.048689\n",
              "2017-04-30   -0.000069\n",
              "2017-05-31    0.067807\n",
              "2017-06-30   -0.057214\n",
              "2017-07-31    0.032704\n",
              "2017-08-31    0.106999\n",
              "2017-09-30   -0.060244\n",
              "2017-10-31    0.096808\n",
              "2017-11-30    0.020278\n",
              "2017-12-31   -0.015246\n",
              "Freq: M, Name: Close, dtype: float64"
            ]
          },
          "metadata": {},
          "execution_count": 73
        }
      ]
    },
    {
      "cell_type": "code",
      "metadata": {
        "colab": {
          "base_uri": "https://localhost:8080/"
        },
        "id": "gNFzwSme-26t",
        "outputId": "95ddbd62-b40a-4a00-b242-325bd3ca9021"
      },
      "source": [
        "daily_return_tsla = last_day_tsla.pct_change()\n",
        "daily_return_tsla.dropna()"
      ],
      "execution_count": 74,
      "outputs": [
        {
          "output_type": "execute_result",
          "data": {
            "text/plain": [
              "Date\n",
              "2017-02-28   -0.007701\n",
              "2017-03-31    0.113245\n",
              "2017-04-30    0.128530\n",
              "2017-05-31    0.085777\n",
              "2017-06-30    0.060409\n",
              "2017-07-31   -0.105473\n",
              "2017-08-31    0.100257\n",
              "2017-09-30   -0.041585\n",
              "2017-10-31   -0.028056\n",
              "2017-11-30   -0.068410\n",
              "2017-12-31    0.008095\n",
              "Freq: M, Name: Close, dtype: float64"
            ]
          },
          "metadata": {},
          "execution_count": 74
        }
      ]
    },
    {
      "cell_type": "markdown",
      "metadata": {
        "id": "nQH2eBWkNjdC"
      },
      "source": [
        "**DataFrame**\n",
        "\n",
        "The **DataFrame** is the most commonly used data structure in Pandas. It is essentially a table, just like an Excel spreadsheet.\n",
        "\n",
        "More precisely, a DataFrame is a collection of Series objects, each of which may contain different data types. A DataFrame can be created from various data types: dictionary, 2-D numpy.ndarray, a Series or another DataFrame.\n",
        " \n",
        "**Create DataFrames**\n",
        "\n",
        "The most common method of creating a DataFrame is passing a dictionary:"
      ]
    },
    {
      "cell_type": "code",
      "metadata": {
        "id": "vd5Wf1ohHW9-",
        "colab": {
          "base_uri": "https://localhost:8080/"
        },
        "outputId": "fd31371d-332d-42a5-8e39-0270269c9057"
      },
      "source": [
        "import pandas as pd\n",
        "\n",
        "dict = {'AAPL': [143.5, 144.09, 142.73, 144.18, 143.77],'GOOG':[898.7, 911.71, 906.69, 918.59, 926.99],\n",
        "        'IBM':[155.58, 153.67, 152.36, 152.94, 153.49]}\n",
        "data_index = pd.date_range('2017-07-03',periods = 5, freq = 'D')\n",
        "df = pd.DataFrame(dict, index = data_index)\n",
        "print(df)"
      ],
      "execution_count": 77,
      "outputs": [
        {
          "output_type": "stream",
          "name": "stdout",
          "text": [
            "              AAPL    GOOG     IBM\n",
            "2017-07-03  143.50  898.70  155.58\n",
            "2017-07-04  144.09  911.71  153.67\n",
            "2017-07-05  142.73  906.69  152.36\n",
            "2017-07-06  144.18  918.59  152.94\n",
            "2017-07-07  143.77  926.99  153.49\n"
          ]
        }
      ]
    },
    {
      "cell_type": "code",
      "metadata": {
        "colab": {
          "base_uri": "https://localhost:8080/"
        },
        "id": "21V-IszP_DNM",
        "outputId": "8197e867-9375-405e-8c4a-64edb207b625"
      },
      "source": [
        "dict1 = {'TSLA': [143.5, 144.09, 142.73, 144.18, 143.77],'MSFT':[898.7, 911.71, 906.69, 918.59, 926.99],\n",
        "        'AMZN':[155.58, 153.67, 152.36, 152.94, 153.49]}\n",
        "data_index1 = pd.date_range('2017-07-03',periods = 5, freq = 'D')\n",
        "df1 = pd.DataFrame(dict1, index = data_index)\n",
        "print(df1)"
      ],
      "execution_count": 78,
      "outputs": [
        {
          "output_type": "stream",
          "name": "stdout",
          "text": [
            "              TSLA    MSFT    AMZN\n",
            "2017-07-03  143.50  898.70  155.58\n",
            "2017-07-04  144.09  911.71  153.67\n",
            "2017-07-05  142.73  906.69  152.36\n",
            "2017-07-06  144.18  918.59  152.94\n",
            "2017-07-07  143.77  926.99  153.49\n"
          ]
        }
      ]
    },
    {
      "cell_type": "markdown",
      "metadata": {
        "id": "0uYmLQTgOPnX"
      },
      "source": [
        "**Manipulating DataFrames**\n",
        "\n",
        "We can fetch values in a DataFrame by columns and index. Each column in a DataFrame is essentially a Pandas Series. We can fetch a column by square brackets: **df['column_name']**\n",
        "\n",
        "If a column name contains no spaces, then we can also use df.column_name to fetch a column:"
      ]
    },
    {
      "cell_type": "code",
      "metadata": {
        "id": "2pB2f7lBHW9_",
        "colab": {
          "base_uri": "https://localhost:8080/"
        },
        "outputId": "23610a32-95a0-4dcd-d445-47d3e4a0bf0a"
      },
      "source": [
        "df = aapl_table\n",
        "print(df.Close.tail(5))\n",
        "print(df['Volume'].tail(5))"
      ],
      "execution_count": 79,
      "outputs": [
        {
          "output_type": "stream",
          "name": "stdout",
          "text": [
            "Date\n",
            "2017-12-22    41.906776\n",
            "2017-12-26    40.843601\n",
            "2017-12-27    40.850788\n",
            "2017-12-28    40.965725\n",
            "2017-12-29    40.522724\n",
            "Name: Close, dtype: float64\n",
            "Date\n",
            "2017-12-22     65397600\n",
            "2017-12-26    132742000\n",
            "2017-12-27     85992800\n",
            "2017-12-28     65920800\n",
            "2017-12-29    103999600\n",
            "Name: Volume, dtype: int64\n"
          ]
        }
      ]
    },
    {
      "cell_type": "code",
      "metadata": {
        "colab": {
          "base_uri": "https://localhost:8080/"
        },
        "id": "ASqsEXsr_nrT",
        "outputId": "a4cdb4a7-abeb-4628-e77e-a8a0f8c65b9c"
      },
      "source": [
        "df1 = tsla_table\n",
        "print(df1.Close.tail(5))\n",
        "print(df1['Volume'].tail(5))"
      ],
      "execution_count": 80,
      "outputs": [
        {
          "output_type": "stream",
          "name": "stdout",
          "text": [
            "Date\n",
            "2017-12-22    65.040001\n",
            "2017-12-26    63.458000\n",
            "2017-12-27    62.327999\n",
            "2017-12-28    63.071999\n",
            "2017-12-29    62.270000\n",
            "Name: Close, dtype: float64\n",
            "Date\n",
            "2017-12-22    21079000\n",
            "2017-12-26    21892000\n",
            "2017-12-27    23560500\n",
            "2017-12-28    21581500\n",
            "2017-12-29    18886000\n",
            "Name: Volume, dtype: int64\n"
          ]
        }
      ]
    },
    {
      "cell_type": "markdown",
      "metadata": {
        "id": "z0ugOel9O4-P"
      },
      "source": [
        "All the methods we applied to a Series index such as iloc[], loc[] and resampling methods, can also be applied to a DataFrame:"
      ]
    },
    {
      "cell_type": "code",
      "metadata": {
        "id": "_8dfjkedHW9_",
        "colab": {
          "base_uri": "https://localhost:8080/"
        },
        "outputId": "89d41c51-fcd2-40e8-8ab9-4e7ebb6d589a"
      },
      "source": [
        "aapl_2016 = df['2016']\n",
        "aapl_month = aapl_2016.resample('M').agg(lambda x: x[-1])\n",
        "print(aapl_month)"
      ],
      "execution_count": 81,
      "outputs": [
        {
          "output_type": "stream",
          "name": "stdout",
          "text": [
            "                 Open       High        Low  ...     Volume  Dividends  Stock Splits\n",
            "Date                                         ...                                    \n",
            "2016-01-31  21.852382  22.440245  21.750946  ...  257666000        0.0             0\n",
            "2016-02-29  22.450755  22.768302  22.402081  ...  140865200        0.0             0\n",
            "2016-03-31  25.431522  25.473243  25.236821  ...  103553600        0.0             0\n",
            "2016-04-30  21.785531  21.954736  21.442489  ...  274126000        0.0             0\n",
            "2016-05-31  23.226409  23.412967  23.044516  ...  169228800        0.0             0\n",
            "2016-06-30  22.023110  22.333260  21.990462  ...  143345600        0.0             0\n",
            "2016-07-31  24.296780  24.380731  24.177849  ...  110934800        0.0             0\n",
            "2016-08-31  24.773059  24.986417  24.768369  ...  118649600        0.0             0\n",
            "2016-09-30  26.367388  26.580747  26.212645  ...  145516400        0.0             0\n",
            "2016-10-31  26.646398  26.782385  26.540890  ...  105677600        0.0             0\n",
            "2016-11-30  26.300092  26.441490  25.986658  ...  144649200        0.0             0\n",
            "2016-12-31  27.490191  27.619805  27.202681  ...  122345200        0.0             0\n",
            "\n",
            "[12 rows x 7 columns]\n"
          ]
        }
      ]
    },
    {
      "cell_type": "code",
      "metadata": {
        "colab": {
          "base_uri": "https://localhost:8080/"
        },
        "id": "TOsHkCDb_xA3",
        "outputId": "5e29f7b7-1d99-4111-eb9f-740d2f735f4b"
      },
      "source": [
        "tsla_2016 = df1['2016']\n",
        "tsla_month = tsla_2016.resample('M').agg(lambda x: x[-1])\n",
        "print(tsla_month)"
      ],
      "execution_count": 82,
      "outputs": [
        {
          "output_type": "stream",
          "name": "stdout",
          "text": [
            "                 Open       High        Low  ...    Volume  Dividends  Stock Splits\n",
            "Date                                         ...                                   \n",
            "2016-01-31  37.990002  38.748001  37.616001  ...  14261500          0             0\n",
            "2016-02-29  38.480000  39.270000  37.844002  ...  22495000          0             0\n",
            "2016-03-31  45.868000  47.484001  45.001999  ...  40064500          0             0\n",
            "2016-04-30  49.627998  49.686001  47.562000  ...  27069000          0             0\n",
            "2016-05-31  44.608002  44.950001  44.299999  ...  13945000          0             0\n",
            "2016-06-30  42.594002  42.700001  41.804001  ...  24215500          0             0\n",
            "2016-07-31  46.139999  47.056000  46.048000  ...  15354000          0             0\n",
            "2016-08-31  42.085999  42.520000  41.730000  ...  16382500          0             0\n",
            "2016-09-30  40.442001  40.995998  39.910000  ...  12931500          0             0\n",
            "2016-10-31  40.498001  40.498001  39.161999  ...  23461500          0             0\n",
            "2016-11-30  38.200001  38.377998  37.500000  ...  17735500          0             0\n",
            "2016-12-31  43.259998  43.500000  42.335999  ...  23213000          0             0\n",
            "\n",
            "[12 rows x 7 columns]\n"
          ]
        }
      ]
    },
    {
      "cell_type": "markdown",
      "metadata": {
        "id": "CqrbrbFZPTJe"
      },
      "source": [
        "We may select certain columns of a DataFrame using their names:"
      ]
    },
    {
      "cell_type": "code",
      "metadata": {
        "id": "7bQGeyCAHW9_",
        "colab": {
          "base_uri": "https://localhost:8080/"
        },
        "outputId": "6525f30c-37ac-43d9-bc0d-fd6ad03454f5"
      },
      "source": [
        "aapl_bar = aapl_month[['Open', 'High', 'Low', 'Close']]\n",
        "print(aapl_bar)"
      ],
      "execution_count": 83,
      "outputs": [
        {
          "output_type": "stream",
          "name": "stdout",
          "text": [
            "                 Open       High        Low      Close\n",
            "Date                                                  \n",
            "2016-01-31  21.852382  22.440245  21.750946  22.440245\n",
            "2016-02-29  22.450755  22.768302  22.402081  22.411352\n",
            "2016-03-31  25.431522  25.473243  25.236821  25.262318\n",
            "2016-04-30  21.785531  21.954736  21.442489  21.727585\n",
            "2016-05-31  23.226409  23.412967  23.044516  23.287041\n",
            "2016-06-30  22.023110  22.333260  21.990462  22.293617\n",
            "2016-07-31  24.296780  24.380731  24.177849  24.301443\n",
            "2016-08-31  24.773059  24.986417  24.768369  24.876221\n",
            "2016-09-30  26.367388  26.580747  26.212645  26.505720\n",
            "2016-10-31  26.646398  26.782385  26.540890  26.620607\n",
            "2016-11-30  26.300092  26.441490  25.986658  26.045574\n",
            "2016-12-31  27.490191  27.619805  27.202681  27.294590\n"
          ]
        }
      ]
    },
    {
      "cell_type": "code",
      "metadata": {
        "colab": {
          "base_uri": "https://localhost:8080/"
        },
        "id": "Tr5H2QP5_6sX",
        "outputId": "212a5dd1-6273-495c-baa3-3bcb69dfe62b"
      },
      "source": [
        "tsla_bar = tsla_month[['Open', 'High', 'Low', 'Close']]\n",
        "print(tsla_bar)"
      ],
      "execution_count": 84,
      "outputs": [
        {
          "output_type": "stream",
          "name": "stdout",
          "text": [
            "                 Open       High        Low      Close\n",
            "Date                                                  \n",
            "2016-01-31  37.990002  38.748001  37.616001  38.240002\n",
            "2016-02-29  38.480000  39.270000  37.844002  38.386002\n",
            "2016-03-31  45.868000  47.484001  45.001999  45.953999\n",
            "2016-04-30  49.627998  49.686001  47.562000  48.152000\n",
            "2016-05-31  44.608002  44.950001  44.299999  44.646000\n",
            "2016-06-30  42.594002  42.700001  41.804001  42.456001\n",
            "2016-07-31  46.139999  47.056000  46.048000  46.958000\n",
            "2016-08-31  42.085999  42.520000  41.730000  42.402000\n",
            "2016-09-30  40.442001  40.995998  39.910000  40.806000\n",
            "2016-10-31  40.498001  40.498001  39.161999  39.546001\n",
            "2016-11-30  38.200001  38.377998  37.500000  37.880001\n",
            "2016-12-31  43.259998  43.500000  42.335999  42.737999\n"
          ]
        }
      ]
    },
    {
      "cell_type": "markdown",
      "metadata": {
        "id": "8CQaZCAQP68O"
      },
      "source": [
        "We can even specify both rows and columns using loc[]. The row indices and column names are separated by a comma:"
      ]
    },
    {
      "cell_type": "code",
      "metadata": {
        "id": "YjWWiHVpHW-A",
        "colab": {
          "base_uri": "https://localhost:8080/"
        },
        "outputId": "12f30075-509a-47f6-8fb5-bc02d531dc87"
      },
      "source": [
        "print(aapl_month.loc['2016-03':'2016-06',['Open', 'High', 'Low', 'Close']])"
      ],
      "execution_count": 85,
      "outputs": [
        {
          "output_type": "stream",
          "name": "stdout",
          "text": [
            "                 Open       High        Low      Close\n",
            "Date                                                  \n",
            "2016-03-31  25.431522  25.473243  25.236821  25.262318\n",
            "2016-04-30  21.785531  21.954736  21.442489  21.727585\n",
            "2016-05-31  23.226409  23.412967  23.044516  23.287041\n",
            "2016-06-30  22.023110  22.333260  21.990462  22.293617\n"
          ]
        }
      ]
    },
    {
      "cell_type": "code",
      "metadata": {
        "colab": {
          "base_uri": "https://localhost:8080/"
        },
        "id": "-ZfokwpRAAbn",
        "outputId": "0f1a4947-2ecb-4705-86b2-abe101aa3c2e"
      },
      "source": [
        "print(tsla_month.loc['2016-03':'2016-06',['Open', 'High', 'Low', 'Close']])"
      ],
      "execution_count": 86,
      "outputs": [
        {
          "output_type": "stream",
          "name": "stdout",
          "text": [
            "                 Open       High        Low      Close\n",
            "Date                                                  \n",
            "2016-03-31  45.868000  47.484001  45.001999  45.953999\n",
            "2016-04-30  49.627998  49.686001  47.562000  48.152000\n",
            "2016-05-31  44.608002  44.950001  44.299999  44.646000\n",
            "2016-06-30  42.594002  42.700001  41.804001  42.456001\n"
          ]
        }
      ]
    },
    {
      "cell_type": "markdown",
      "metadata": {
        "id": "Xcn_pHNLQBEH"
      },
      "source": [
        "The subset methods in DataFrame is quite useful. By writing logical statements in square brackets, we can make customized subsets:"
      ]
    },
    {
      "cell_type": "code",
      "metadata": {
        "id": "RxKg4dObHW-A",
        "colab": {
          "base_uri": "https://localhost:8080/"
        },
        "outputId": "49733cdf-aad0-4465-d083-2b875a21259d"
      },
      "source": [
        "import numpy as np\n",
        "\n",
        "above = aapl_bar[aapl_bar.Close > np.mean(aapl_bar.Close)]\n",
        "print(above)"
      ],
      "execution_count": 87,
      "outputs": [
        {
          "output_type": "stream",
          "name": "stdout",
          "text": [
            "                 Open       High        Low      Close\n",
            "Date                                                  \n",
            "2016-03-31  25.431522  25.473243  25.236821  25.262318\n",
            "2016-08-31  24.773059  24.986417  24.768369  24.876221\n",
            "2016-09-30  26.367388  26.580747  26.212645  26.505720\n",
            "2016-10-31  26.646398  26.782385  26.540890  26.620607\n",
            "2016-11-30  26.300092  26.441490  25.986658  26.045574\n",
            "2016-12-31  27.490191  27.619805  27.202681  27.294590\n"
          ]
        }
      ]
    },
    {
      "cell_type": "code",
      "metadata": {
        "colab": {
          "base_uri": "https://localhost:8080/"
        },
        "id": "jAER2DbWAEgB",
        "outputId": "b5cdad4a-920c-4f92-ef90-74e10456a447"
      },
      "source": [
        "above1 = tsla_bar[tsla_bar.Close > np.mean(tsla_bar.Close)]\n",
        "print(above1)"
      ],
      "execution_count": 88,
      "outputs": [
        {
          "output_type": "stream",
          "name": "stdout",
          "text": [
            "                 Open       High        Low      Close\n",
            "Date                                                  \n",
            "2016-03-31  45.868000  47.484001  45.001999  45.953999\n",
            "2016-04-30  49.627998  49.686001  47.562000  48.152000\n",
            "2016-05-31  44.608002  44.950001  44.299999  44.646000\n",
            "2016-06-30  42.594002  42.700001  41.804001  42.456001\n",
            "2016-07-31  46.139999  47.056000  46.048000  46.958000\n",
            "2016-08-31  42.085999  42.520000  41.730000  42.402000\n",
            "2016-12-31  43.259998  43.500000  42.335999  42.737999\n"
          ]
        }
      ]
    },
    {
      "cell_type": "markdown",
      "metadata": {
        "id": "wcm_UadkQLL5"
      },
      "source": [
        "**Data Validation**\n",
        "\n",
        "As mentioned, all methods that apply to a Series can also be applied to a DataFrame. Here we add a new column to an existing DataFrame:"
      ]
    },
    {
      "cell_type": "code",
      "metadata": {
        "id": "jZXFdOVFHW-A",
        "colab": {
          "base_uri": "https://localhost:8080/"
        },
        "outputId": "34c026fa-c6fd-4241-ff3d-a4efdd345298"
      },
      "source": [
        "aapl_bar['rate_return'] = aapl_bar.Close.pct_change()\n",
        "print(aapl_bar)"
      ],
      "execution_count": 89,
      "outputs": [
        {
          "output_type": "stream",
          "name": "stdout",
          "text": [
            "                 Open       High        Low      Close  rate_return\n",
            "Date                                                               \n",
            "2016-01-31  21.852382  22.440245  21.750946  22.440245          NaN\n",
            "2016-02-29  22.450755  22.768302  22.402081  22.411352    -0.001288\n",
            "2016-03-31  25.431522  25.473243  25.236821  25.262318     0.127211\n",
            "2016-04-30  21.785531  21.954736  21.442489  21.727585    -0.139921\n",
            "2016-05-31  23.226409  23.412967  23.044516  23.287041     0.071773\n",
            "2016-06-30  22.023110  22.333260  21.990462  22.293617    -0.042660\n",
            "2016-07-31  24.296780  24.380731  24.177849  24.301443     0.090063\n",
            "2016-08-31  24.773059  24.986417  24.768369  24.876221     0.023652\n",
            "2016-09-30  26.367388  26.580747  26.212645  26.505720     0.065504\n",
            "2016-10-31  26.646398  26.782385  26.540890  26.620607     0.004334\n",
            "2016-11-30  26.300092  26.441490  25.986658  26.045574    -0.021601\n",
            "2016-12-31  27.490191  27.619805  27.202681  27.294590     0.047955\n"
          ]
        },
        {
          "output_type": "stream",
          "name": "stderr",
          "text": [
            "/usr/local/lib/python3.7/dist-packages/ipykernel_launcher.py:1: SettingWithCopyWarning: \n",
            "A value is trying to be set on a copy of a slice from a DataFrame.\n",
            "Try using .loc[row_indexer,col_indexer] = value instead\n",
            "\n",
            "See the caveats in the documentation: https://pandas.pydata.org/pandas-docs/stable/user_guide/indexing.html#returning-a-view-versus-a-copy\n",
            "  \"\"\"Entry point for launching an IPython kernel.\n"
          ]
        }
      ]
    },
    {
      "cell_type": "code",
      "metadata": {
        "colab": {
          "base_uri": "https://localhost:8080/"
        },
        "id": "sVFqrSsgAMoL",
        "outputId": "cf3eb1ab-7dd6-4cbf-b32d-f5ccd6b006c5"
      },
      "source": [
        "tsla_bar['rate_return'] = tsla_bar.Close.pct_change()\n",
        "print(tsla_bar)"
      ],
      "execution_count": 90,
      "outputs": [
        {
          "output_type": "stream",
          "name": "stdout",
          "text": [
            "                 Open       High        Low      Close  rate_return\n",
            "Date                                                               \n",
            "2016-01-31  37.990002  38.748001  37.616001  38.240002          NaN\n",
            "2016-02-29  38.480000  39.270000  37.844002  38.386002     0.003818\n",
            "2016-03-31  45.868000  47.484001  45.001999  45.953999     0.197155\n",
            "2016-04-30  49.627998  49.686001  47.562000  48.152000     0.047830\n",
            "2016-05-31  44.608002  44.950001  44.299999  44.646000    -0.072811\n",
            "2016-06-30  42.594002  42.700001  41.804001  42.456001    -0.049053\n",
            "2016-07-31  46.139999  47.056000  46.048000  46.958000     0.106039\n",
            "2016-08-31  42.085999  42.520000  41.730000  42.402000    -0.097023\n",
            "2016-09-30  40.442001  40.995998  39.910000  40.806000    -0.037640\n",
            "2016-10-31  40.498001  40.498001  39.161999  39.546001    -0.030878\n",
            "2016-11-30  38.200001  38.377998  37.500000  37.880001    -0.042128\n",
            "2016-12-31  43.259998  43.500000  42.335999  42.737999     0.128247\n"
          ]
        },
        {
          "output_type": "stream",
          "name": "stderr",
          "text": [
            "/usr/local/lib/python3.7/dist-packages/ipykernel_launcher.py:1: SettingWithCopyWarning: \n",
            "A value is trying to be set on a copy of a slice from a DataFrame.\n",
            "Try using .loc[row_indexer,col_indexer] = value instead\n",
            "\n",
            "See the caveats in the documentation: https://pandas.pydata.org/pandas-docs/stable/user_guide/indexing.html#returning-a-view-versus-a-copy\n",
            "  \"\"\"Entry point for launching an IPython kernel.\n"
          ]
        }
      ]
    },
    {
      "cell_type": "markdown",
      "metadata": {
        "id": "_or6n5-LQUa-"
      },
      "source": [
        "Here the calculation introduced a NaN value. If the DataFrame is large, we would not be able to observe it. **isnull()** provides a convenient way to check abnormal values."
      ]
    },
    {
      "cell_type": "code",
      "metadata": {
        "id": "V5wgmhIPHW-B",
        "colab": {
          "base_uri": "https://localhost:8080/"
        },
        "outputId": "ec4cc3e7-bbf0-40fb-8978-c6d6ab7a8396"
      },
      "source": [
        "missing = aapl_bar.isnull()\n",
        "print(missing)\n",
        "print('---------------------------------------------')\n",
        "print(missing.describe())"
      ],
      "execution_count": 91,
      "outputs": [
        {
          "output_type": "stream",
          "name": "stdout",
          "text": [
            "             Open   High    Low  Close  rate_return\n",
            "Date                                               \n",
            "2016-01-31  False  False  False  False         True\n",
            "2016-02-29  False  False  False  False        False\n",
            "2016-03-31  False  False  False  False        False\n",
            "2016-04-30  False  False  False  False        False\n",
            "2016-05-31  False  False  False  False        False\n",
            "2016-06-30  False  False  False  False        False\n",
            "2016-07-31  False  False  False  False        False\n",
            "2016-08-31  False  False  False  False        False\n",
            "2016-09-30  False  False  False  False        False\n",
            "2016-10-31  False  False  False  False        False\n",
            "2016-11-30  False  False  False  False        False\n",
            "2016-12-31  False  False  False  False        False\n",
            "---------------------------------------------\n",
            "         Open   High    Low  Close rate_return\n",
            "count      12     12     12     12          12\n",
            "unique      1      1      1      1           2\n",
            "top     False  False  False  False       False\n",
            "freq       12     12     12     12          11\n"
          ]
        }
      ]
    },
    {
      "cell_type": "code",
      "metadata": {
        "colab": {
          "base_uri": "https://localhost:8080/"
        },
        "id": "mkrY4QvkATZp",
        "outputId": "dc622cdf-fb77-462b-9a56-a5b6f0262d92"
      },
      "source": [
        "missing1 = tsla_bar.isnull()\n",
        "print(missing1)\n",
        "print('---------------------------------------------')\n",
        "print(missing1.describe())"
      ],
      "execution_count": 92,
      "outputs": [
        {
          "output_type": "stream",
          "name": "stdout",
          "text": [
            "             Open   High    Low  Close  rate_return\n",
            "Date                                               \n",
            "2016-01-31  False  False  False  False         True\n",
            "2016-02-29  False  False  False  False        False\n",
            "2016-03-31  False  False  False  False        False\n",
            "2016-04-30  False  False  False  False        False\n",
            "2016-05-31  False  False  False  False        False\n",
            "2016-06-30  False  False  False  False        False\n",
            "2016-07-31  False  False  False  False        False\n",
            "2016-08-31  False  False  False  False        False\n",
            "2016-09-30  False  False  False  False        False\n",
            "2016-10-31  False  False  False  False        False\n",
            "2016-11-30  False  False  False  False        False\n",
            "2016-12-31  False  False  False  False        False\n",
            "---------------------------------------------\n",
            "         Open   High    Low  Close rate_return\n",
            "count      12     12     12     12          12\n",
            "unique      1      1      1      1           2\n",
            "top     False  False  False  False       False\n",
            "freq       12     12     12     12          11\n"
          ]
        }
      ]
    },
    {
      "cell_type": "markdown",
      "metadata": {
        "id": "d6KFV4i0QfLW"
      },
      "source": [
        "The row labelled \"unique\" indicates the number of unique values in each column. Since the \"rate_return\" column has 2 unique values, it has at least one missing value.\n",
        "\n",
        "We can deduce the number of missing values by comparing \"count\" with \"freq\". There are 12 counts and 11 False values, so there is one True value which corresponds to the missing value.\n",
        "\n",
        "We can also find the rows with missing values easily:"
      ]
    },
    {
      "cell_type": "code",
      "metadata": {
        "id": "Eo0ZAhCsHW-B",
        "colab": {
          "base_uri": "https://localhost:8080/"
        },
        "outputId": "61d7e2df-21ba-4342-e2b5-59d64d26e92a"
      },
      "source": [
        "print(missing[missing.rate_return == True])"
      ],
      "execution_count": 93,
      "outputs": [
        {
          "output_type": "stream",
          "name": "stdout",
          "text": [
            "             Open   High    Low  Close  rate_return\n",
            "Date                                               \n",
            "2016-01-31  False  False  False  False         True\n"
          ]
        }
      ]
    },
    {
      "cell_type": "code",
      "metadata": {
        "colab": {
          "base_uri": "https://localhost:8080/"
        },
        "id": "2fRaTpD5AglR",
        "outputId": "34f2976f-7d03-472b-a214-312db83c3cbe"
      },
      "source": [
        "print(missing1[missing1.rate_return == True])"
      ],
      "execution_count": 94,
      "outputs": [
        {
          "output_type": "stream",
          "name": "stdout",
          "text": [
            "             Open   High    Low  Close  rate_return\n",
            "Date                                               \n",
            "2016-01-31  False  False  False  False         True\n"
          ]
        }
      ]
    },
    {
      "cell_type": "markdown",
      "metadata": {
        "id": "qgggpD8OQkZX"
      },
      "source": [
        "Usually when dealing with missing data, we either delete the whole row or fill it with some value. As we introduced in the Series chapter, the same method **dropna()** and **fillna()** can be applied to a DataFrame."
      ]
    },
    {
      "cell_type": "code",
      "metadata": {
        "id": "j8PaIokjHW-B",
        "colab": {
          "base_uri": "https://localhost:8080/"
        },
        "outputId": "ece0c75c-46d1-4c8b-bc79-55a058ccd369"
      },
      "source": [
        "drop = aapl_bar.dropna()\n",
        "print(drop)\n",
        "print('\\n--------------------------------------------------\\n')\n",
        "fill = aapl_bar.fillna(0)\n",
        "print(fill)"
      ],
      "execution_count": 95,
      "outputs": [
        {
          "output_type": "stream",
          "name": "stdout",
          "text": [
            "                 Open       High        Low      Close  rate_return\n",
            "Date                                                               \n",
            "2016-02-29  22.450755  22.768302  22.402081  22.411352    -0.001288\n",
            "2016-03-31  25.431522  25.473243  25.236821  25.262318     0.127211\n",
            "2016-04-30  21.785531  21.954736  21.442489  21.727585    -0.139921\n",
            "2016-05-31  23.226409  23.412967  23.044516  23.287041     0.071773\n",
            "2016-06-30  22.023110  22.333260  21.990462  22.293617    -0.042660\n",
            "2016-07-31  24.296780  24.380731  24.177849  24.301443     0.090063\n",
            "2016-08-31  24.773059  24.986417  24.768369  24.876221     0.023652\n",
            "2016-09-30  26.367388  26.580747  26.212645  26.505720     0.065504\n",
            "2016-10-31  26.646398  26.782385  26.540890  26.620607     0.004334\n",
            "2016-11-30  26.300092  26.441490  25.986658  26.045574    -0.021601\n",
            "2016-12-31  27.490191  27.619805  27.202681  27.294590     0.047955\n",
            "\n",
            "--------------------------------------------------\n",
            "\n",
            "                 Open       High        Low      Close  rate_return\n",
            "Date                                                               \n",
            "2016-01-31  21.852382  22.440245  21.750946  22.440245     0.000000\n",
            "2016-02-29  22.450755  22.768302  22.402081  22.411352    -0.001288\n",
            "2016-03-31  25.431522  25.473243  25.236821  25.262318     0.127211\n",
            "2016-04-30  21.785531  21.954736  21.442489  21.727585    -0.139921\n",
            "2016-05-31  23.226409  23.412967  23.044516  23.287041     0.071773\n",
            "2016-06-30  22.023110  22.333260  21.990462  22.293617    -0.042660\n",
            "2016-07-31  24.296780  24.380731  24.177849  24.301443     0.090063\n",
            "2016-08-31  24.773059  24.986417  24.768369  24.876221     0.023652\n",
            "2016-09-30  26.367388  26.580747  26.212645  26.505720     0.065504\n",
            "2016-10-31  26.646398  26.782385  26.540890  26.620607     0.004334\n",
            "2016-11-30  26.300092  26.441490  25.986658  26.045574    -0.021601\n",
            "2016-12-31  27.490191  27.619805  27.202681  27.294590     0.047955\n"
          ]
        }
      ]
    },
    {
      "cell_type": "code",
      "metadata": {
        "colab": {
          "base_uri": "https://localhost:8080/"
        },
        "id": "tbOJTOeXAkTP",
        "outputId": "259d0014-ac37-45bf-a212-2ea541871254"
      },
      "source": [
        "drop1 = tsla_bar.dropna()\n",
        "print(drop1)\n",
        "print('\\n--------------------------------------------------\\n')\n",
        "fill1 = tsla_bar.fillna(0)\n",
        "print(fill1)"
      ],
      "execution_count": 96,
      "outputs": [
        {
          "output_type": "stream",
          "name": "stdout",
          "text": [
            "                 Open       High        Low      Close  rate_return\n",
            "Date                                                               \n",
            "2016-02-29  38.480000  39.270000  37.844002  38.386002     0.003818\n",
            "2016-03-31  45.868000  47.484001  45.001999  45.953999     0.197155\n",
            "2016-04-30  49.627998  49.686001  47.562000  48.152000     0.047830\n",
            "2016-05-31  44.608002  44.950001  44.299999  44.646000    -0.072811\n",
            "2016-06-30  42.594002  42.700001  41.804001  42.456001    -0.049053\n",
            "2016-07-31  46.139999  47.056000  46.048000  46.958000     0.106039\n",
            "2016-08-31  42.085999  42.520000  41.730000  42.402000    -0.097023\n",
            "2016-09-30  40.442001  40.995998  39.910000  40.806000    -0.037640\n",
            "2016-10-31  40.498001  40.498001  39.161999  39.546001    -0.030878\n",
            "2016-11-30  38.200001  38.377998  37.500000  37.880001    -0.042128\n",
            "2016-12-31  43.259998  43.500000  42.335999  42.737999     0.128247\n",
            "\n",
            "--------------------------------------------------\n",
            "\n",
            "                 Open       High        Low      Close  rate_return\n",
            "Date                                                               \n",
            "2016-01-31  37.990002  38.748001  37.616001  38.240002     0.000000\n",
            "2016-02-29  38.480000  39.270000  37.844002  38.386002     0.003818\n",
            "2016-03-31  45.868000  47.484001  45.001999  45.953999     0.197155\n",
            "2016-04-30  49.627998  49.686001  47.562000  48.152000     0.047830\n",
            "2016-05-31  44.608002  44.950001  44.299999  44.646000    -0.072811\n",
            "2016-06-30  42.594002  42.700001  41.804001  42.456001    -0.049053\n",
            "2016-07-31  46.139999  47.056000  46.048000  46.958000     0.106039\n",
            "2016-08-31  42.085999  42.520000  41.730000  42.402000    -0.097023\n",
            "2016-09-30  40.442001  40.995998  39.910000  40.806000    -0.037640\n",
            "2016-10-31  40.498001  40.498001  39.161999  39.546001    -0.030878\n",
            "2016-11-30  38.200001  38.377998  37.500000  37.880001    -0.042128\n",
            "2016-12-31  43.259998  43.500000  42.335999  42.737999     0.128247\n"
          ]
        }
      ]
    },
    {
      "cell_type": "markdown",
      "metadata": {
        "id": "0tvoFlKWQxYG"
      },
      "source": [
        "**DataFrame Concat**\n",
        "\n",
        "We have seen how to extract a Series from a dataFrame. Now we need to consider how to merge a Series or a DataFrame into another one.\n",
        "\n",
        "In Pandas, the function **concat()** allows us to merge multiple Series into a DataFrame:"
      ]
    },
    {
      "cell_type": "code",
      "metadata": {
        "id": "uQrmLIWKHW-C",
        "colab": {
          "base_uri": "https://localhost:8080/"
        },
        "outputId": "34bcdb49-42d3-406d-9b01-a0e2bfd38301"
      },
      "source": [
        "s1 = pd.Series([143.5, 144.09, 142.73, 144.18, 143.77], name = 'AAPL')\n",
        "s2 = pd.Series([898.7, 911.71, 906.69, 918.59, 926.99], name = 'GOOG')\n",
        "data_frame = pd.concat([s1,s2], axis = 1)\n",
        "print(data_frame)"
      ],
      "execution_count": 97,
      "outputs": [
        {
          "output_type": "stream",
          "name": "stdout",
          "text": [
            "     AAPL    GOOG\n",
            "0  143.50  898.70\n",
            "1  144.09  911.71\n",
            "2  142.73  906.69\n",
            "3  144.18  918.59\n",
            "4  143.77  926.99\n"
          ]
        }
      ]
    },
    {
      "cell_type": "code",
      "metadata": {
        "colab": {
          "base_uri": "https://localhost:8080/"
        },
        "id": "5WEjDogqAtFe",
        "outputId": "5745c337-f506-43e9-fb75-0e60866c23f5"
      },
      "source": [
        "s1x = pd.Series([143.5, 144.09, 142.73, 144.18, 143.77], name = 'TSLA')\n",
        "s2y = pd.Series([898.7, 911.71, 906.69, 918.59, 926.99], name = 'MSFT')\n",
        "data_framex = pd.concat([s1x,s2y], axis = 1)\n",
        "print(data_framex)"
      ],
      "execution_count": 98,
      "outputs": [
        {
          "output_type": "stream",
          "name": "stdout",
          "text": [
            "     TSLA    MSFT\n",
            "0  143.50  898.70\n",
            "1  144.09  911.71\n",
            "2  142.73  906.69\n",
            "3  144.18  918.59\n",
            "4  143.77  926.99\n"
          ]
        }
      ]
    },
    {
      "cell_type": "markdown",
      "metadata": {
        "id": "3ojbNYJLR2vv"
      },
      "source": [
        "The \"axis = 1\" parameter will join two DataFrames by columns:"
      ]
    },
    {
      "cell_type": "code",
      "metadata": {
        "id": "DJsaLd-cRoIm",
        "colab": {
          "base_uri": "https://localhost:8080/"
        },
        "outputId": "623c48af-807a-482d-9acc-47bdcef2f2da"
      },
      "source": [
        "log_price = np.log(aapl_bar.Close)\n",
        "log_price.name = 'log_price'\n",
        "print(log_price)\n",
        "print('\\n---------------------- separate line--------------------\\n')\n",
        "concat = pd.concat([aapl_bar, log_price], axis = 1)\n",
        "print(concat)"
      ],
      "execution_count": 99,
      "outputs": [
        {
          "output_type": "stream",
          "name": "stdout",
          "text": [
            "Date\n",
            "2016-01-31    3.110856\n",
            "2016-02-29    3.109568\n",
            "2016-03-31    3.229314\n",
            "2016-04-30    3.078583\n",
            "2016-05-31    3.147897\n",
            "2016-06-30    3.104300\n",
            "2016-07-31    3.190536\n",
            "2016-08-31    3.213912\n",
            "2016-09-30    3.277361\n",
            "2016-10-31    3.281686\n",
            "2016-11-30    3.259848\n",
            "2016-12-31    3.306689\n",
            "Freq: M, Name: log_price, dtype: float64\n",
            "\n",
            "---------------------- separate line--------------------\n",
            "\n",
            "                 Open       High        Low      Close  rate_return  log_price\n",
            "Date                                                                          \n",
            "2016-01-31  21.852382  22.440245  21.750946  22.440245          NaN   3.110856\n",
            "2016-02-29  22.450755  22.768302  22.402081  22.411352    -0.001288   3.109568\n",
            "2016-03-31  25.431522  25.473243  25.236821  25.262318     0.127211   3.229314\n",
            "2016-04-30  21.785531  21.954736  21.442489  21.727585    -0.139921   3.078583\n",
            "2016-05-31  23.226409  23.412967  23.044516  23.287041     0.071773   3.147897\n",
            "2016-06-30  22.023110  22.333260  21.990462  22.293617    -0.042660   3.104300\n",
            "2016-07-31  24.296780  24.380731  24.177849  24.301443     0.090063   3.190536\n",
            "2016-08-31  24.773059  24.986417  24.768369  24.876221     0.023652   3.213912\n",
            "2016-09-30  26.367388  26.580747  26.212645  26.505720     0.065504   3.277361\n",
            "2016-10-31  26.646398  26.782385  26.540890  26.620607     0.004334   3.281686\n",
            "2016-11-30  26.300092  26.441490  25.986658  26.045574    -0.021601   3.259848\n",
            "2016-12-31  27.490191  27.619805  27.202681  27.294590     0.047955   3.306689\n"
          ]
        }
      ]
    },
    {
      "cell_type": "code",
      "metadata": {
        "colab": {
          "base_uri": "https://localhost:8080/"
        },
        "id": "Sh5x1HGWBFCn",
        "outputId": "77d2b43e-d14e-44f5-d84c-268e4d9b58f6"
      },
      "source": [
        "log_pricex = np.log(tsla_bar.Close)\n",
        "log_price.namex = 'log_pricex'\n",
        "print(log_pricex)\n",
        "print('\\n---------------------- separate line--------------------\\n')\n",
        "concatx = pd.concat([tsla_bar, log_pricex], axis = 1)\n",
        "print(concatx)"
      ],
      "execution_count": 100,
      "outputs": [
        {
          "output_type": "stream",
          "name": "stdout",
          "text": [
            "Date\n",
            "2016-01-31    3.643882\n",
            "2016-02-29    3.647693\n",
            "2016-03-31    3.827641\n",
            "2016-04-30    3.874363\n",
            "2016-05-31    3.798765\n",
            "2016-06-30    3.748468\n",
            "2016-07-31    3.849254\n",
            "2016-08-31    3.747196\n",
            "2016-09-30    3.708829\n",
            "2016-10-31    3.677465\n",
            "2016-11-30    3.634423\n",
            "2016-12-31    3.755088\n",
            "Freq: M, Name: Close, dtype: float64\n",
            "\n",
            "---------------------- separate line--------------------\n",
            "\n",
            "                 Open       High        Low      Close  rate_return     Close\n",
            "Date                                                                         \n",
            "2016-01-31  37.990002  38.748001  37.616001  38.240002          NaN  3.643882\n",
            "2016-02-29  38.480000  39.270000  37.844002  38.386002     0.003818  3.647693\n",
            "2016-03-31  45.868000  47.484001  45.001999  45.953999     0.197155  3.827641\n",
            "2016-04-30  49.627998  49.686001  47.562000  48.152000     0.047830  3.874363\n",
            "2016-05-31  44.608002  44.950001  44.299999  44.646000    -0.072811  3.798765\n",
            "2016-06-30  42.594002  42.700001  41.804001  42.456001    -0.049053  3.748468\n",
            "2016-07-31  46.139999  47.056000  46.048000  46.958000     0.106039  3.849254\n",
            "2016-08-31  42.085999  42.520000  41.730000  42.402000    -0.097023  3.747196\n",
            "2016-09-30  40.442001  40.995998  39.910000  40.806000    -0.037640  3.708829\n",
            "2016-10-31  40.498001  40.498001  39.161999  39.546001    -0.030878  3.677465\n",
            "2016-11-30  38.200001  38.377998  37.500000  37.880001    -0.042128  3.634423\n",
            "2016-12-31  43.259998  43.500000  42.335999  42.737999     0.128247  3.755088\n"
          ]
        }
      ]
    },
    {
      "cell_type": "markdown",
      "metadata": {
        "id": "mIZz-FUyR_62"
      },
      "source": [
        "We can also join two DataFrames by rows. Consider these two DataFrames:"
      ]
    },
    {
      "cell_type": "code",
      "metadata": {
        "id": "W7uXZptLHW-C",
        "colab": {
          "base_uri": "https://localhost:8080/"
        },
        "outputId": "854e2b7e-b8dd-4122-b2b0-bf9f7eaa7424"
      },
      "source": [
        "df_volume = aapl_table.loc['2016-10':'2017-04',['Volume', 'Stock Splits']].resample('M').agg(lambda x: x[-1])\n",
        "print(df_volume)\n",
        "print('\\n---------------------- separate line--------------------\\n')\n",
        "df_2017 = aapl_table.loc['2016-10':'2017-04',['Open', 'High', 'Low', 'Close']].resample('M').agg(lambda x: x[-1])\n",
        "print(df_2017)"
      ],
      "execution_count": 101,
      "outputs": [
        {
          "output_type": "stream",
          "name": "stdout",
          "text": [
            "               Volume  Stock Splits\n",
            "Date                               \n",
            "2016-10-31  105677600             0\n",
            "2016-11-30  144649200             0\n",
            "2016-12-31  122345200             0\n",
            "2017-01-31  196804000             0\n",
            "2017-02-28   93931600             0\n",
            "2017-03-31   78646800             0\n",
            "2017-04-30   83441600             0\n",
            "\n",
            "---------------------- separate line--------------------\n",
            "\n",
            "                 Open       High        Low      Close\n",
            "Date                                                  \n",
            "2016-10-31  26.646398  26.782385  26.540890  26.620607\n",
            "2016-11-30  26.300092  26.441490  25.986658  26.045574\n",
            "2016-12-31  27.490191  27.619805  27.202681  27.294590\n",
            "2017-01-31  28.550677  28.607236  28.425775  28.597809\n",
            "2017-02-28  32.444873  32.530080  32.354932  32.423573\n",
            "2017-03-31  34.016459  34.146637  33.848410  34.002258\n",
            "2017-04-30  34.104039  34.153745  33.909959  33.999897\n"
          ]
        }
      ]
    },
    {
      "cell_type": "code",
      "metadata": {
        "colab": {
          "base_uri": "https://localhost:8080/"
        },
        "id": "hHmCiZI9Bc1O",
        "outputId": "a40ee9c3-7eec-4426-eaaf-2137ad8e5ba1"
      },
      "source": [
        "df1_volume = tsla_table.loc['2016-10':'2017-04',['Volume', 'Stock Splits']].resample('M').agg(lambda x: x[-1])\n",
        "print(df1_volume)\n",
        "print('\\n---------------------- separate line--------------------\\n')\n",
        "df1_2017 = tsla_table.loc['2016-10':'2017-04',['Open', 'High', 'Low', 'Close']].resample('M').agg(lambda x: x[-1])\n",
        "print(df1_2017)"
      ],
      "execution_count": 102,
      "outputs": [
        {
          "output_type": "stream",
          "name": "stdout",
          "text": [
            "              Volume  Stock Splits\n",
            "Date                              \n",
            "2016-10-31  23461500             0\n",
            "2016-11-30  17735500             0\n",
            "2016-12-31  23213000             0\n",
            "2017-01-31  20580500             0\n",
            "2017-02-28  30390500             0\n",
            "2017-03-31  16473000             0\n",
            "2017-04-30  22527500             0\n",
            "\n",
            "---------------------- separate line--------------------\n",
            "\n",
            "                 Open       High        Low      Close\n",
            "Date                                                  \n",
            "2016-10-31  40.498001  40.498001  39.161999  39.546001\n",
            "2016-11-30  38.200001  38.377998  37.500000  37.880001\n",
            "2016-12-31  43.259998  43.500000  42.335999  42.737999\n",
            "2017-01-31  49.848000  51.178001  49.540001  50.386002\n",
            "2017-02-28  48.838001  50.200001  48.779999  49.998001\n",
            "2017-03-31  55.745998  55.936001  55.264000  55.660000\n",
            "2017-04-30  61.966000  62.959999  61.599998  62.813999\n"
          ]
        }
      ]
    },
    {
      "cell_type": "markdown",
      "metadata": {
        "id": "iZk_C9aSSLeP"
      },
      "source": [
        "Now we merge the DataFrames with our DataFrame 'aapl_bar'"
      ]
    },
    {
      "cell_type": "code",
      "metadata": {
        "id": "aFqmjokOHW-C",
        "colab": {
          "base_uri": "https://localhost:8080/"
        },
        "outputId": "d6e251e7-86e5-4668-f952-66158d817d0f"
      },
      "source": [
        "concat = pd.concat([aapl_bar, df_volume], axis = 1)\n",
        "print(concat)"
      ],
      "execution_count": 103,
      "outputs": [
        {
          "output_type": "stream",
          "name": "stdout",
          "text": [
            "                 Open       High  ...       Volume  Stock Splits\n",
            "Date                              ...                           \n",
            "2016-01-31  21.852382  22.440245  ...          NaN           NaN\n",
            "2016-02-29  22.450755  22.768302  ...          NaN           NaN\n",
            "2016-03-31  25.431522  25.473243  ...          NaN           NaN\n",
            "2016-04-30  21.785531  21.954736  ...          NaN           NaN\n",
            "2016-05-31  23.226409  23.412967  ...          NaN           NaN\n",
            "2016-06-30  22.023110  22.333260  ...          NaN           NaN\n",
            "2016-07-31  24.296780  24.380731  ...          NaN           NaN\n",
            "2016-08-31  24.773059  24.986417  ...          NaN           NaN\n",
            "2016-09-30  26.367388  26.580747  ...          NaN           NaN\n",
            "2016-10-31  26.646398  26.782385  ...  105677600.0           0.0\n",
            "2016-11-30  26.300092  26.441490  ...  144649200.0           0.0\n",
            "2016-12-31  27.490191  27.619805  ...  122345200.0           0.0\n",
            "2017-01-31        NaN        NaN  ...  196804000.0           0.0\n",
            "2017-02-28        NaN        NaN  ...   93931600.0           0.0\n",
            "2017-03-31        NaN        NaN  ...   78646800.0           0.0\n",
            "2017-04-30        NaN        NaN  ...   83441600.0           0.0\n",
            "\n",
            "[16 rows x 7 columns]\n"
          ]
        }
      ]
    },
    {
      "cell_type": "code",
      "metadata": {
        "colab": {
          "base_uri": "https://localhost:8080/"
        },
        "id": "enUcC0iBBlLC",
        "outputId": "d0233fd2-da74-49f8-b135-711458cc0213"
      },
      "source": [
        "concatx = pd.concat([tsla_bar, df1_volume], axis = 1)\n",
        "print(concatx)"
      ],
      "execution_count": 104,
      "outputs": [
        {
          "output_type": "stream",
          "name": "stdout",
          "text": [
            "                 Open       High  ...      Volume  Stock Splits\n",
            "Date                              ...                          \n",
            "2016-01-31  37.990002  38.748001  ...         NaN           NaN\n",
            "2016-02-29  38.480000  39.270000  ...         NaN           NaN\n",
            "2016-03-31  45.868000  47.484001  ...         NaN           NaN\n",
            "2016-04-30  49.627998  49.686001  ...         NaN           NaN\n",
            "2016-05-31  44.608002  44.950001  ...         NaN           NaN\n",
            "2016-06-30  42.594002  42.700001  ...         NaN           NaN\n",
            "2016-07-31  46.139999  47.056000  ...         NaN           NaN\n",
            "2016-08-31  42.085999  42.520000  ...         NaN           NaN\n",
            "2016-09-30  40.442001  40.995998  ...         NaN           NaN\n",
            "2016-10-31  40.498001  40.498001  ...  23461500.0           0.0\n",
            "2016-11-30  38.200001  38.377998  ...  17735500.0           0.0\n",
            "2016-12-31  43.259998  43.500000  ...  23213000.0           0.0\n",
            "2017-01-31        NaN        NaN  ...  20580500.0           0.0\n",
            "2017-02-28        NaN        NaN  ...  30390500.0           0.0\n",
            "2017-03-31        NaN        NaN  ...  16473000.0           0.0\n",
            "2017-04-30        NaN        NaN  ...  22527500.0           0.0\n",
            "\n",
            "[16 rows x 7 columns]\n"
          ]
        }
      ]
    },
    {
      "cell_type": "markdown",
      "metadata": {
        "id": "7yI3tgB4SR4O"
      },
      "source": [
        "By default the DataFrame are joined with all of the data. This default options results in zero information loss. We can also merge them by intersection, this is called 'inner join"
      ]
    },
    {
      "cell_type": "code",
      "metadata": {
        "id": "31QGLyijHW-C",
        "colab": {
          "base_uri": "https://localhost:8080/"
        },
        "outputId": "6738ad16-7bb0-495f-a84a-11e64aecfb75"
      },
      "source": [
        "concat = pd.concat([aapl_bar,df_volume],axis = 1, join = 'inner')\n",
        "print(concat)"
      ],
      "execution_count": 105,
      "outputs": [
        {
          "output_type": "stream",
          "name": "stdout",
          "text": [
            "                 Open       High  ...     Volume  Stock Splits\n",
            "Date                              ...                         \n",
            "2016-10-31  26.646398  26.782385  ...  105677600             0\n",
            "2016-11-30  26.300092  26.441490  ...  144649200             0\n",
            "2016-12-31  27.490191  27.619805  ...  122345200             0\n",
            "\n",
            "[3 rows x 7 columns]\n"
          ]
        }
      ]
    },
    {
      "cell_type": "code",
      "metadata": {
        "colab": {
          "base_uri": "https://localhost:8080/"
        },
        "id": "byQQB1PiBri4",
        "outputId": "9fe4576f-90f1-4b75-e1a0-649a4e09d295"
      },
      "source": [
        "concatx = pd.concat([tsla_bar,df1_volume],axis = 1, join = 'inner')\n",
        "print(concatx)"
      ],
      "execution_count": 106,
      "outputs": [
        {
          "output_type": "stream",
          "name": "stdout",
          "text": [
            "                 Open       High  ...    Volume  Stock Splits\n",
            "Date                              ...                        \n",
            "2016-10-31  40.498001  40.498001  ...  23461500             0\n",
            "2016-11-30  38.200001  38.377998  ...  17735500             0\n",
            "2016-12-31  43.259998  43.500000  ...  23213000             0\n",
            "\n",
            "[3 rows x 7 columns]\n"
          ]
        }
      ]
    },
    {
      "cell_type": "markdown",
      "metadata": {
        "id": "oudcWMm5Sd0u"
      },
      "source": [
        "Only the intersection part was left if use 'inner join' method. Now let's try to append a DataFrame to another one:"
      ]
    },
    {
      "cell_type": "code",
      "metadata": {
        "id": "lgw0qaOsHW-D",
        "colab": {
          "base_uri": "https://localhost:8080/"
        },
        "outputId": "ad5a43fe-44f7-49de-a9af-32df8a37e2df"
      },
      "source": [
        "append = aapl_bar.append(df_2017)\n",
        "print(append)"
      ],
      "execution_count": 107,
      "outputs": [
        {
          "output_type": "stream",
          "name": "stdout",
          "text": [
            "                 Open       High        Low      Close  rate_return\n",
            "Date                                                               \n",
            "2016-01-31  21.852382  22.440245  21.750946  22.440245          NaN\n",
            "2016-02-29  22.450755  22.768302  22.402081  22.411352    -0.001288\n",
            "2016-03-31  25.431522  25.473243  25.236821  25.262318     0.127211\n",
            "2016-04-30  21.785531  21.954736  21.442489  21.727585    -0.139921\n",
            "2016-05-31  23.226409  23.412967  23.044516  23.287041     0.071773\n",
            "2016-06-30  22.023110  22.333260  21.990462  22.293617    -0.042660\n",
            "2016-07-31  24.296780  24.380731  24.177849  24.301443     0.090063\n",
            "2016-08-31  24.773059  24.986417  24.768369  24.876221     0.023652\n",
            "2016-09-30  26.367388  26.580747  26.212645  26.505720     0.065504\n",
            "2016-10-31  26.646398  26.782385  26.540890  26.620607     0.004334\n",
            "2016-11-30  26.300092  26.441490  25.986658  26.045574    -0.021601\n",
            "2016-12-31  27.490191  27.619805  27.202681  27.294590     0.047955\n",
            "2016-10-31  26.646398  26.782385  26.540890  26.620607          NaN\n",
            "2016-11-30  26.300092  26.441490  25.986658  26.045574          NaN\n",
            "2016-12-31  27.490191  27.619805  27.202681  27.294590          NaN\n",
            "2017-01-31  28.550677  28.607236  28.425775  28.597809          NaN\n",
            "2017-02-28  32.444873  32.530080  32.354932  32.423573          NaN\n",
            "2017-03-31  34.016459  34.146637  33.848410  34.002258          NaN\n",
            "2017-04-30  34.104039  34.153745  33.909959  33.999897          NaN\n"
          ]
        }
      ]
    },
    {
      "cell_type": "code",
      "metadata": {
        "colab": {
          "base_uri": "https://localhost:8080/"
        },
        "id": "Zh4dTcMQBxQ8",
        "outputId": "0a06cb17-e104-48dc-e061-0bc71395ee7c"
      },
      "source": [
        "appendx = tsla_bar.append(df1_2017)\n",
        "print(appendx)"
      ],
      "execution_count": 108,
      "outputs": [
        {
          "output_type": "stream",
          "name": "stdout",
          "text": [
            "                 Open       High        Low      Close  rate_return\n",
            "Date                                                               \n",
            "2016-01-31  37.990002  38.748001  37.616001  38.240002          NaN\n",
            "2016-02-29  38.480000  39.270000  37.844002  38.386002     0.003818\n",
            "2016-03-31  45.868000  47.484001  45.001999  45.953999     0.197155\n",
            "2016-04-30  49.627998  49.686001  47.562000  48.152000     0.047830\n",
            "2016-05-31  44.608002  44.950001  44.299999  44.646000    -0.072811\n",
            "2016-06-30  42.594002  42.700001  41.804001  42.456001    -0.049053\n",
            "2016-07-31  46.139999  47.056000  46.048000  46.958000     0.106039\n",
            "2016-08-31  42.085999  42.520000  41.730000  42.402000    -0.097023\n",
            "2016-09-30  40.442001  40.995998  39.910000  40.806000    -0.037640\n",
            "2016-10-31  40.498001  40.498001  39.161999  39.546001    -0.030878\n",
            "2016-11-30  38.200001  38.377998  37.500000  37.880001    -0.042128\n",
            "2016-12-31  43.259998  43.500000  42.335999  42.737999     0.128247\n",
            "2016-10-31  40.498001  40.498001  39.161999  39.546001          NaN\n",
            "2016-11-30  38.200001  38.377998  37.500000  37.880001          NaN\n",
            "2016-12-31  43.259998  43.500000  42.335999  42.737999          NaN\n",
            "2017-01-31  49.848000  51.178001  49.540001  50.386002          NaN\n",
            "2017-02-28  48.838001  50.200001  48.779999  49.998001          NaN\n",
            "2017-03-31  55.745998  55.936001  55.264000  55.660000          NaN\n",
            "2017-04-30  61.966000  62.959999  61.599998  62.813999          NaN\n"
          ]
        }
      ]
    },
    {
      "cell_type": "markdown",
      "metadata": {
        "id": "zXT6cMquSq_P"
      },
      "source": [
        "'Append' is essentially to concat two DataFrames by axis = 0, thus here is an alternative way to append:"
      ]
    },
    {
      "cell_type": "code",
      "metadata": {
        "id": "2EuSaFO9HW-D",
        "colab": {
          "base_uri": "https://localhost:8080/"
        },
        "outputId": "9faa7265-7842-4797-c377-ba56f4a6685e"
      },
      "source": [
        "concat = pd.concat([aapl_bar, df_2017], axis = 0)\n",
        "print(concat)"
      ],
      "execution_count": 109,
      "outputs": [
        {
          "output_type": "stream",
          "name": "stdout",
          "text": [
            "                 Open       High        Low      Close  rate_return\n",
            "Date                                                               \n",
            "2016-01-31  21.852382  22.440245  21.750946  22.440245          NaN\n",
            "2016-02-29  22.450755  22.768302  22.402081  22.411352    -0.001288\n",
            "2016-03-31  25.431522  25.473243  25.236821  25.262318     0.127211\n",
            "2016-04-30  21.785531  21.954736  21.442489  21.727585    -0.139921\n",
            "2016-05-31  23.226409  23.412967  23.044516  23.287041     0.071773\n",
            "2016-06-30  22.023110  22.333260  21.990462  22.293617    -0.042660\n",
            "2016-07-31  24.296780  24.380731  24.177849  24.301443     0.090063\n",
            "2016-08-31  24.773059  24.986417  24.768369  24.876221     0.023652\n",
            "2016-09-30  26.367388  26.580747  26.212645  26.505720     0.065504\n",
            "2016-10-31  26.646398  26.782385  26.540890  26.620607     0.004334\n",
            "2016-11-30  26.300092  26.441490  25.986658  26.045574    -0.021601\n",
            "2016-12-31  27.490191  27.619805  27.202681  27.294590     0.047955\n",
            "2016-10-31  26.646398  26.782385  26.540890  26.620607          NaN\n",
            "2016-11-30  26.300092  26.441490  25.986658  26.045574          NaN\n",
            "2016-12-31  27.490191  27.619805  27.202681  27.294590          NaN\n",
            "2017-01-31  28.550677  28.607236  28.425775  28.597809          NaN\n",
            "2017-02-28  32.444873  32.530080  32.354932  32.423573          NaN\n",
            "2017-03-31  34.016459  34.146637  33.848410  34.002258          NaN\n",
            "2017-04-30  34.104039  34.153745  33.909959  33.999897          NaN\n"
          ]
        }
      ]
    },
    {
      "cell_type": "code",
      "metadata": {
        "colab": {
          "base_uri": "https://localhost:8080/"
        },
        "id": "uoIEIAChB38L",
        "outputId": "d765f616-e600-45aa-8e76-3f56b0fc6236"
      },
      "source": [
        "concatx = pd.concat([tsla_bar, df1_2017], axis = 0)\n",
        "print(concatx)"
      ],
      "execution_count": 110,
      "outputs": [
        {
          "output_type": "stream",
          "name": "stdout",
          "text": [
            "                 Open       High        Low      Close  rate_return\n",
            "Date                                                               \n",
            "2016-01-31  37.990002  38.748001  37.616001  38.240002          NaN\n",
            "2016-02-29  38.480000  39.270000  37.844002  38.386002     0.003818\n",
            "2016-03-31  45.868000  47.484001  45.001999  45.953999     0.197155\n",
            "2016-04-30  49.627998  49.686001  47.562000  48.152000     0.047830\n",
            "2016-05-31  44.608002  44.950001  44.299999  44.646000    -0.072811\n",
            "2016-06-30  42.594002  42.700001  41.804001  42.456001    -0.049053\n",
            "2016-07-31  46.139999  47.056000  46.048000  46.958000     0.106039\n",
            "2016-08-31  42.085999  42.520000  41.730000  42.402000    -0.097023\n",
            "2016-09-30  40.442001  40.995998  39.910000  40.806000    -0.037640\n",
            "2016-10-31  40.498001  40.498001  39.161999  39.546001    -0.030878\n",
            "2016-11-30  38.200001  38.377998  37.500000  37.880001    -0.042128\n",
            "2016-12-31  43.259998  43.500000  42.335999  42.737999     0.128247\n",
            "2016-10-31  40.498001  40.498001  39.161999  39.546001          NaN\n",
            "2016-11-30  38.200001  38.377998  37.500000  37.880001          NaN\n",
            "2016-12-31  43.259998  43.500000  42.335999  42.737999          NaN\n",
            "2017-01-31  49.848000  51.178001  49.540001  50.386002          NaN\n",
            "2017-02-28  48.838001  50.200001  48.779999  49.998001          NaN\n",
            "2017-03-31  55.745998  55.936001  55.264000  55.660000          NaN\n",
            "2017-04-30  61.966000  62.959999  61.599998  62.813999          NaN\n"
          ]
        }
      ]
    },
    {
      "cell_type": "markdown",
      "metadata": {
        "id": "-YXL7V9ASst9"
      },
      "source": [
        "Please note that if the two DataFrame have some columns with the same column names, these columns are considered to be the same and will be merged. It's very important to have the right column names. If we change a column names here:"
      ]
    },
    {
      "cell_type": "code",
      "metadata": {
        "id": "aT1eoa8mHW-D",
        "colab": {
          "base_uri": "https://localhost:8080/"
        },
        "outputId": "5bffea7f-946f-46bd-bf57-b81c1f323d65"
      },
      "source": [
        "df_2017.columns = ['Change', 'High','Low','Close']\n",
        "concat = pd.concat([aapl_bar, df_2017], axis = 0)\n",
        "print(concat)"
      ],
      "execution_count": 111,
      "outputs": [
        {
          "output_type": "stream",
          "name": "stdout",
          "text": [
            "                 Open       High        Low      Close  rate_return     Change\n",
            "Date                                                                          \n",
            "2016-01-31  21.852382  22.440245  21.750946  22.440245          NaN        NaN\n",
            "2016-02-29  22.450755  22.768302  22.402081  22.411352    -0.001288        NaN\n",
            "2016-03-31  25.431522  25.473243  25.236821  25.262318     0.127211        NaN\n",
            "2016-04-30  21.785531  21.954736  21.442489  21.727585    -0.139921        NaN\n",
            "2016-05-31  23.226409  23.412967  23.044516  23.287041     0.071773        NaN\n",
            "2016-06-30  22.023110  22.333260  21.990462  22.293617    -0.042660        NaN\n",
            "2016-07-31  24.296780  24.380731  24.177849  24.301443     0.090063        NaN\n",
            "2016-08-31  24.773059  24.986417  24.768369  24.876221     0.023652        NaN\n",
            "2016-09-30  26.367388  26.580747  26.212645  26.505720     0.065504        NaN\n",
            "2016-10-31  26.646398  26.782385  26.540890  26.620607     0.004334        NaN\n",
            "2016-11-30  26.300092  26.441490  25.986658  26.045574    -0.021601        NaN\n",
            "2016-12-31  27.490191  27.619805  27.202681  27.294590     0.047955        NaN\n",
            "2016-10-31        NaN  26.782385  26.540890  26.620607          NaN  26.646398\n",
            "2016-11-30        NaN  26.441490  25.986658  26.045574          NaN  26.300092\n",
            "2016-12-31        NaN  27.619805  27.202681  27.294590          NaN  27.490191\n",
            "2017-01-31        NaN  28.607236  28.425775  28.597809          NaN  28.550677\n",
            "2017-02-28        NaN  32.530080  32.354932  32.423573          NaN  32.444873\n",
            "2017-03-31        NaN  34.146637  33.848410  34.002258          NaN  34.016459\n",
            "2017-04-30        NaN  34.153745  33.909959  33.999897          NaN  34.104039\n"
          ]
        }
      ]
    },
    {
      "cell_type": "code",
      "metadata": {
        "colab": {
          "base_uri": "https://localhost:8080/"
        },
        "id": "xTOguFStB-KR",
        "outputId": "c4fdc36e-6c72-42cd-87c9-29b468a33e37"
      },
      "source": [
        "df1_2017.columns = ['Change', 'High','Low','Close']\n",
        "concatx = pd.concat([tsla_bar, df1_2017], axis = 0)\n",
        "print(concatx)"
      ],
      "execution_count": 112,
      "outputs": [
        {
          "output_type": "stream",
          "name": "stdout",
          "text": [
            "                 Open       High        Low      Close  rate_return     Change\n",
            "Date                                                                          \n",
            "2016-01-31  37.990002  38.748001  37.616001  38.240002          NaN        NaN\n",
            "2016-02-29  38.480000  39.270000  37.844002  38.386002     0.003818        NaN\n",
            "2016-03-31  45.868000  47.484001  45.001999  45.953999     0.197155        NaN\n",
            "2016-04-30  49.627998  49.686001  47.562000  48.152000     0.047830        NaN\n",
            "2016-05-31  44.608002  44.950001  44.299999  44.646000    -0.072811        NaN\n",
            "2016-06-30  42.594002  42.700001  41.804001  42.456001    -0.049053        NaN\n",
            "2016-07-31  46.139999  47.056000  46.048000  46.958000     0.106039        NaN\n",
            "2016-08-31  42.085999  42.520000  41.730000  42.402000    -0.097023        NaN\n",
            "2016-09-30  40.442001  40.995998  39.910000  40.806000    -0.037640        NaN\n",
            "2016-10-31  40.498001  40.498001  39.161999  39.546001    -0.030878        NaN\n",
            "2016-11-30  38.200001  38.377998  37.500000  37.880001    -0.042128        NaN\n",
            "2016-12-31  43.259998  43.500000  42.335999  42.737999     0.128247        NaN\n",
            "2016-10-31        NaN  40.498001  39.161999  39.546001          NaN  40.498001\n",
            "2016-11-30        NaN  38.377998  37.500000  37.880001          NaN  38.200001\n",
            "2016-12-31        NaN  43.500000  42.335999  42.737999          NaN  43.259998\n",
            "2017-01-31        NaN  51.178001  49.540001  50.386002          NaN  49.848000\n",
            "2017-02-28        NaN  50.200001  48.779999  49.998001          NaN  48.838001\n",
            "2017-03-31        NaN  55.936001  55.264000  55.660000          NaN  55.745998\n",
            "2017-04-30        NaN  62.959999  61.599998  62.813999          NaN  61.966000\n"
          ]
        }
      ]
    },
    {
      "cell_type": "markdown",
      "metadata": {
        "id": "shbpOFyyS6uV"
      },
      "source": [
        "Since the column name of 'Open' has been changed, the new DataFrame has an new column named 'Change'.\n",
        "\n",
        "**Summary**\n",
        "\n",
        "Hereby we introduced the most import part of python: resampling and DataFrame manipulation. We only introduced the most commonly used method in Financial data analysis. There are also many methods used in data mining, which are also beneficial. You can always check the [Pandas](https://pandas.pydata.org/pandas-docs/stable/index.html) official documentations for help."
      ]
    }
  ]
}