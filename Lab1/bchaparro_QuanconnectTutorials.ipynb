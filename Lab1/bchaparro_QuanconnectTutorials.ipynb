{
  "nbformat": 4,
  "nbformat_minor": 0,
  "metadata": {
    "colab": {
      "name": "bchaparro_QuanconnectTutorials.ipynb",
      "provenance": []
    },
    "kernelspec": {
      "name": "python3",
      "display_name": "Python 3"
    },
    "language_info": {
      "name": "python"
    }
  },
  "cells": [
    {
      "cell_type": "markdown",
      "metadata": {
        "id": "0mVMIBTvdjSZ"
      },
      "source": [
        "# **Introduction to Financial Python**"
      ]
    },
    {
      "cell_type": "markdown",
      "metadata": {
        "id": "ZKUnd6CidReB"
      },
      "source": [
        "## **Data Types and Data Structures (Tutorial #1)** "
      ]
    },
    {
      "cell_type": "markdown",
      "metadata": {
        "id": "_8OZCIQS63Bu"
      },
      "source": [
        "**1. Basic Variable Types**\n",
        "\n",
        "The basic types of variables in Python are: strings, integers, floating point numbers and booleans.\n",
        "\n",
        "Strings in python are identified as a contiguous set of characters represented in either single quotes (' ') or double quotes (\" \")."
      ]
    },
    {
      "cell_type": "code",
      "metadata": {
        "colab": {
          "base_uri": "https://localhost:8080/"
        },
        "id": "cQ36mseH5wmg",
        "outputId": "a5812705-8912-4c35-ff64-207a5e41a961"
      },
      "source": [
        "my_string1 = 'Welcome to'\n",
        "my_string2 = \"QuantConnect\"\n",
        "print(my_string1 + ' ' + my_string2)"
      ],
      "execution_count": null,
      "outputs": [
        {
          "output_type": "stream",
          "name": "stdout",
          "text": [
            "Welcome to QuantConnect\n"
          ]
        }
      ]
    },
    {
      "cell_type": "markdown",
      "metadata": {
        "id": "hBYPTaYA8Z1H"
      },
      "source": [
        "**My code:**"
      ]
    },
    {
      "cell_type": "code",
      "metadata": {
        "colab": {
          "base_uri": "https://localhost:8080/"
        },
        "id": "42mLiTs_8gT3",
        "outputId": "1711d9e6-6133-451a-aea7-f60f60bc562a"
      },
      "source": [
        "string1 = 'Welcome to'\n",
        "string2 = \"My first code\"\n",
        "print(string1 + ' ' + string2)"
      ],
      "execution_count": null,
      "outputs": [
        {
          "output_type": "stream",
          "name": "stdout",
          "text": [
            "Welcome to My first code\n"
          ]
        }
      ]
    },
    {
      "cell_type": "markdown",
      "metadata": {
        "id": "Cx8XzR_A9A9x"
      },
      "source": [
        "**2.** An integer is a round number with no values after the decimal point"
      ]
    },
    {
      "cell_type": "code",
      "metadata": {
        "colab": {
          "base_uri": "https://localhost:8080/"
        },
        "id": "5OCXcpne9Ggf",
        "outputId": "9402e2f0-1abd-457f-e88d-8fcf79c17202"
      },
      "source": [
        "my_int = 10\n",
        "print(my_int)\n",
        "print(type(my_int))"
      ],
      "execution_count": null,
      "outputs": [
        {
          "output_type": "stream",
          "name": "stdout",
          "text": [
            "10\n",
            "<class 'int'>\n"
          ]
        }
      ]
    },
    {
      "cell_type": "markdown",
      "metadata": {
        "id": "xqwzY16h9P4P"
      },
      "source": [
        "**My code:**"
      ]
    },
    {
      "cell_type": "code",
      "metadata": {
        "colab": {
          "base_uri": "https://localhost:8080/"
        },
        "id": "NVkYB0GR9UFA",
        "outputId": "0a518c96-ebfe-466f-c328-ed2723728f13"
      },
      "source": [
        "integer = 777\n",
        "print(integer)\n",
        "print(type(integer))"
      ],
      "execution_count": null,
      "outputs": [
        {
          "output_type": "stream",
          "name": "stdout",
          "text": [
            "777\n",
            "<class 'int'>\n"
          ]
        }
      ]
    },
    {
      "cell_type": "markdown",
      "metadata": {
        "id": "KC3hgfZL9cmm"
      },
      "source": [
        "**3.** The built-in function int() can convert a string into an integer"
      ]
    },
    {
      "cell_type": "code",
      "metadata": {
        "colab": {
          "base_uri": "https://localhost:8080/"
        },
        "id": "Cb-iUtCI9tCp",
        "outputId": "6d1eabe7-697d-4ead-d16c-49981cfdbb5e"
      },
      "source": [
        "my_string = \"100\"\n",
        "print(type(my_string))\n",
        "my_int = int(my_string)\n",
        "print(type(my_int))\n"
      ],
      "execution_count": null,
      "outputs": [
        {
          "output_type": "stream",
          "name": "stdout",
          "text": [
            "<class 'str'>\n",
            "<class 'int'>\n"
          ]
        }
      ]
    },
    {
      "cell_type": "markdown",
      "metadata": {
        "id": "2Z__lHOH9zgx"
      },
      "source": [
        "**My code:**"
      ]
    },
    {
      "cell_type": "code",
      "metadata": {
        "colab": {
          "base_uri": "https://localhost:8080/"
        },
        "id": "6UQNApgL940Z",
        "outputId": "a6798261-eaa1-4696-e66a-8ceb7d7b1a05"
      },
      "source": [
        "string = \"777\"\n",
        "print(type(string))\n",
        "integer = int(integer)\n",
        "print(type(integer))"
      ],
      "execution_count": null,
      "outputs": [
        {
          "output_type": "stream",
          "name": "stdout",
          "text": [
            "<class 'str'>\n",
            "<class 'int'>\n"
          ]
        }
      ]
    },
    {
      "cell_type": "markdown",
      "metadata": {
        "id": "_K8CW2EnMpSl"
      },
      "source": [
        "**4.** A floating point number, or a float, is a real number in mathematics. In Python we need to include a value after a decimal point to define it as a float"
      ]
    },
    {
      "cell_type": "code",
      "metadata": {
        "colab": {
          "base_uri": "https://localhost:8080/"
        },
        "id": "Z-H83bC3M6_l",
        "outputId": "284befc2-5354-4878-e24a-7fd24a315e70"
      },
      "source": [
        "my_float = 1.0\n",
        "print(type(my_float))\n",
        "my_int = 1\n",
        "print(type(my_int))"
      ],
      "execution_count": null,
      "outputs": [
        {
          "output_type": "stream",
          "name": "stdout",
          "text": [
            "<class 'float'>\n",
            "<class 'int'>\n"
          ]
        }
      ]
    },
    {
      "cell_type": "markdown",
      "metadata": {
        "id": "vPQqUjgYNKl7"
      },
      "source": [
        "**My code:**"
      ]
    },
    {
      "cell_type": "code",
      "metadata": {
        "colab": {
          "base_uri": "https://localhost:8080/"
        },
        "id": "U_aOUWEyNPOj",
        "outputId": "f6edc2c4-37a3-46bf-f447-60743aa698c0"
      },
      "source": [
        "floating = 434.7\n",
        "print(type(floating))\n",
        "integer = 209\n",
        "print(type(integer))"
      ],
      "execution_count": null,
      "outputs": [
        {
          "output_type": "stream",
          "name": "stdout",
          "text": [
            "<class 'float'>\n",
            "<class 'int'>\n"
          ]
        }
      ]
    },
    {
      "cell_type": "markdown",
      "metadata": {
        "id": "mcUwCu2GNsX7"
      },
      "source": [
        "**5.** As you can see above, if we don't include a decimal value, the variable would be defined as an integer. The built-in function float() can convert a string or an integer into a float"
      ]
    },
    {
      "cell_type": "code",
      "metadata": {
        "colab": {
          "base_uri": "https://localhost:8080/"
        },
        "id": "IM1jmxxWNxTF",
        "outputId": "9d093d09-2095-4791-eac2-f420de2125fb"
      },
      "source": [
        "my_string = \"100\"\n",
        "my_float = float(my_string)\n",
        "print(type(my_float))"
      ],
      "execution_count": null,
      "outputs": [
        {
          "output_type": "stream",
          "name": "stdout",
          "text": [
            "<class 'float'>\n"
          ]
        }
      ]
    },
    {
      "cell_type": "markdown",
      "metadata": {
        "id": "rc_dnCFSN1lb"
      },
      "source": [
        "**My code:**"
      ]
    },
    {
      "cell_type": "code",
      "metadata": {
        "colab": {
          "base_uri": "https://localhost:8080/"
        },
        "id": "OFuAbOi6N5jN",
        "outputId": "d19512a1-ae18-479c-b519-b3d5db31c7f4"
      },
      "source": [
        "string = \"434.7\"\n",
        "float1 = float(string)\n",
        "print(type(float1))"
      ],
      "execution_count": null,
      "outputs": [
        {
          "output_type": "stream",
          "name": "stdout",
          "text": [
            "<class 'float'>\n"
          ]
        }
      ]
    },
    {
      "cell_type": "markdown",
      "metadata": {
        "id": "tR_GGnLtOEkj"
      },
      "source": [
        "**6.** A boolean, or bool, is a binary variable. Its value can only be True or False. It is useful when we do some logic operations, which would be covered in our next chapter"
      ]
    },
    {
      "cell_type": "code",
      "metadata": {
        "colab": {
          "base_uri": "https://localhost:8080/"
        },
        "id": "yv13i4UtOP9p",
        "outputId": "6454137e-2fd2-4106-da40-56ebbee5d59b"
      },
      "source": [
        "my_bool = False\n",
        "print(my_bool)\n",
        "print(type(my_bool))"
      ],
      "execution_count": null,
      "outputs": [
        {
          "output_type": "stream",
          "name": "stdout",
          "text": [
            "False\n",
            "<class 'bool'>\n"
          ]
        }
      ]
    },
    {
      "cell_type": "markdown",
      "metadata": {
        "id": "YvPqrsumOTZr"
      },
      "source": [
        "**My code:**"
      ]
    },
    {
      "cell_type": "code",
      "metadata": {
        "colab": {
          "base_uri": "https://localhost:8080/"
        },
        "id": "Ru4L4CUCOXdi",
        "outputId": "791bab75-4d42-4880-858a-32ae0f383ef3"
      },
      "source": [
        "boolean = False\n",
        "print(boolean)\n",
        "print(type(boolean))"
      ],
      "execution_count": null,
      "outputs": [
        {
          "output_type": "stream",
          "name": "stdout",
          "text": [
            "False\n",
            "<class 'bool'>\n"
          ]
        }
      ]
    },
    {
      "cell_type": "markdown",
      "metadata": {
        "id": "0EMioVtpOeCa"
      },
      "source": [
        "**7. Basic Math Operations**\n",
        "\n",
        "The basic math operators in python are demonstrated below:"
      ]
    },
    {
      "cell_type": "code",
      "metadata": {
        "colab": {
          "base_uri": "https://localhost:8080/"
        },
        "id": "st9VsOQMOvXt",
        "outputId": "9fe9a4ae-57eb-4488-da65-556e8768f29a"
      },
      "source": [
        "print(\"Addition \", 1+1)\n",
        "print(\"Subtraction \", 5-2)\n",
        "print(\"Multiplication \", 2*3)\n",
        "print(\"Division\", 10/2)\n",
        "print(\"exponent\", 2**3)"
      ],
      "execution_count": null,
      "outputs": [
        {
          "output_type": "stream",
          "name": "stdout",
          "text": [
            "Addition  2\n",
            "Subtraction  3\n",
            "Multiplication  6\n",
            "Division 5.0\n",
            "exponent 8\n"
          ]
        }
      ]
    },
    {
      "cell_type": "markdown",
      "metadata": {
        "id": "doBNYri2O-B7"
      },
      "source": [
        "**My code:**"
      ]
    },
    {
      "cell_type": "code",
      "metadata": {
        "colab": {
          "base_uri": "https://localhost:8080/"
        },
        "id": "7pzt2ELyPAmz",
        "outputId": "a9300615-f383-4bf7-adde-cf0ebbaa8714"
      },
      "source": [
        "print(\"Addition \", 100+1)\n",
        "print(\"Subtraction \", 5-245)\n",
        "print(\"Multiplication \", 2*300)\n",
        "print(\"Division\", 500/2)\n",
        "print(\"exponent\", 2**8)"
      ],
      "execution_count": null,
      "outputs": [
        {
          "output_type": "stream",
          "name": "stdout",
          "text": [
            "Addition  101\n",
            "Subtraction  -240\n",
            "Multiplication  600\n",
            "Division 250.0\n",
            "exponent 256\n"
          ]
        }
      ]
    },
    {
      "cell_type": "markdown",
      "metadata": {
        "id": "nuV6fo4RPUEY"
      },
      "source": [
        "**8. Data Collections**\n",
        "\n",
        "**List**\n",
        "\n",
        "A list is an ordered collection of values. A list is mutable, which means you can change a list's value without changing the list itself. Creating a list is simply putting different comma-separated values between square brackets."
      ]
    },
    {
      "cell_type": "code",
      "metadata": {
        "colab": {
          "base_uri": "https://localhost:8080/"
        },
        "id": "f7Es0AsJPsEd",
        "outputId": "22ae2ad3-7b54-4717-c81a-7c8b9fcc07bf"
      },
      "source": [
        "my_list = ['Quant', 'Connect', 1,2,3]\n",
        "print(my_list)"
      ],
      "execution_count": null,
      "outputs": [
        {
          "output_type": "stream",
          "name": "stdout",
          "text": [
            "['Quant', 'Connect', 1, 2, 3]\n"
          ]
        }
      ]
    },
    {
      "cell_type": "markdown",
      "metadata": {
        "id": "JRcpckPFPu97"
      },
      "source": [
        "**My code:**"
      ]
    },
    {
      "cell_type": "code",
      "metadata": {
        "colab": {
          "base_uri": "https://localhost:8080/"
        },
        "id": "gH0zvuVxPzFT",
        "outputId": "85f301a2-9e39-4514-ec1e-f91b1e20f74d"
      },
      "source": [
        "list1 = ['Algorithms', 'UNAL', 1,2,3]\n",
        "print(list1)"
      ],
      "execution_count": null,
      "outputs": [
        {
          "output_type": "stream",
          "name": "stdout",
          "text": [
            "['Algorithms', 'UNAL', 1, 2, 3]\n"
          ]
        }
      ]
    },
    {
      "cell_type": "markdown",
      "metadata": {
        "id": "RmdwXHdyP_Zu"
      },
      "source": [
        "**9.** The values in a list are called \"elements\". We can access list elements by indexing. Python index starts from 0. So if you have a list of length n, the index of the first element will be 0, and that of the last element will be n − 1. By the way, the length of a list can be obtained by the built-in function len()."
      ]
    },
    {
      "cell_type": "code",
      "metadata": {
        "colab": {
          "base_uri": "https://localhost:8080/"
        },
        "id": "UEOy1qj5RhsQ",
        "outputId": "d542b930-e6f0-48a0-82ae-96bd7c453855"
      },
      "source": [
        "my_list = ['Quant', 'Connect', 1,2,3]\n",
        "print(len(my_list))\n",
        "print(my_list[0])\n",
        "print(my_list[len(my_list) - 1])"
      ],
      "execution_count": null,
      "outputs": [
        {
          "output_type": "stream",
          "name": "stdout",
          "text": [
            "5\n",
            "Quant\n",
            "3\n"
          ]
        }
      ]
    },
    {
      "cell_type": "markdown",
      "metadata": {
        "id": "nLiK17TyRvJS"
      },
      "source": [
        "**My code:**"
      ]
    },
    {
      "cell_type": "code",
      "metadata": {
        "colab": {
          "base_uri": "https://localhost:8080/"
        },
        "id": "NBb3lQUHRxyI",
        "outputId": "0424098d-8b9d-49e2-fe43-e6984cd247ab"
      },
      "source": [
        "list1 = ['Algorithms', 'UNAL', 1,2,3]\n",
        "print(len(list1))\n",
        "print(list1[0])\n",
        "print(list1[len(list1) - 1])"
      ],
      "execution_count": null,
      "outputs": [
        {
          "output_type": "stream",
          "name": "stdout",
          "text": [
            "5\n",
            "Algorithms\n",
            "3\n"
          ]
        }
      ]
    },
    {
      "cell_type": "markdown",
      "metadata": {
        "id": "NUcjXyQFSVip"
      },
      "source": [
        "**10.** You can also change the elements in the list by accessing an index and assigning a new value."
      ]
    },
    {
      "cell_type": "code",
      "metadata": {
        "colab": {
          "base_uri": "https://localhost:8080/"
        },
        "id": "piEaegzuSaFw",
        "outputId": "d9bb9a7c-430a-4455-e958-1a847d24be56"
      },
      "source": [
        "my_list = ['Quant','Connect',1,2,3]\n",
        "my_list[2] = 'go'\n",
        "print(my_list)"
      ],
      "execution_count": null,
      "outputs": [
        {
          "output_type": "stream",
          "name": "stdout",
          "text": [
            "['Quant', 'Connect', 'go', 2, 3]\n"
          ]
        }
      ]
    },
    {
      "cell_type": "markdown",
      "metadata": {
        "id": "6_2AeetCSdFo"
      },
      "source": [
        "**My code:**"
      ]
    },
    {
      "cell_type": "code",
      "metadata": {
        "colab": {
          "base_uri": "https://localhost:8080/"
        },
        "id": "m0DI38EISkcH",
        "outputId": "0fc6ed2b-4fa8-43c2-807f-fbc8ff5f626d"
      },
      "source": [
        "list1 = ['Alhorithms','UNAL',1,2,3]\n",
        "list1[2] = 'Bogota'\n",
        "print(list1)"
      ],
      "execution_count": null,
      "outputs": [
        {
          "output_type": "stream",
          "name": "stdout",
          "text": [
            "['Alhorithms', 'UNAL', 'Bogota', 2, 3]\n"
          ]
        }
      ]
    },
    {
      "cell_type": "markdown",
      "metadata": {
        "id": "ZWfqtturS_qw"
      },
      "source": [
        "**11.** A list can also be sliced with a colon:"
      ]
    },
    {
      "cell_type": "code",
      "metadata": {
        "colab": {
          "base_uri": "https://localhost:8080/"
        },
        "id": "SpknNUjPTMPA",
        "outputId": "fdb91746-097a-484e-b0f6-c42bd566badb"
      },
      "source": [
        "my_list = ['Quant','Connect',1,2,3]\n",
        "print(my_list[1:3])"
      ],
      "execution_count": null,
      "outputs": [
        {
          "output_type": "stream",
          "name": "stdout",
          "text": [
            "['Connect', 1]\n"
          ]
        }
      ]
    },
    {
      "cell_type": "markdown",
      "metadata": {
        "id": "V2lPh2OyTOkw"
      },
      "source": [
        "**My code:**"
      ]
    },
    {
      "cell_type": "code",
      "metadata": {
        "colab": {
          "base_uri": "https://localhost:8080/"
        },
        "id": "iKqH3XE8TSAw",
        "outputId": "8ab192a1-1dc6-4cbf-d82f-c79ebc838ece"
      },
      "source": [
        "list1 = ['Algorithms','UNAL',1,2,3]\n",
        "print(list1[1:4])"
      ],
      "execution_count": null,
      "outputs": [
        {
          "output_type": "stream",
          "name": "stdout",
          "text": [
            "['UNAL', 1, 2]\n"
          ]
        }
      ]
    },
    {
      "cell_type": "markdown",
      "metadata": {
        "id": "c3N4zWtUThsB"
      },
      "source": [
        "**12.** The slice starts from the first element indicated, but excludes the last element indicated. Here we select all elements starting from index 1, which refers to the second element:"
      ]
    },
    {
      "cell_type": "code",
      "metadata": {
        "colab": {
          "base_uri": "https://localhost:8080/"
        },
        "id": "B5t59gM0Tpng",
        "outputId": "619a8dad-048a-4abe-954d-54c35323519c"
      },
      "source": [
        "print(my_list[1:])"
      ],
      "execution_count": null,
      "outputs": [
        {
          "output_type": "stream",
          "name": "stdout",
          "text": [
            "['Connect', 1, 2, 3]\n"
          ]
        }
      ]
    },
    {
      "cell_type": "markdown",
      "metadata": {
        "id": "IfwaqqpGTtC7"
      },
      "source": [
        "**My code (The slice starts form the second element):**"
      ]
    },
    {
      "cell_type": "code",
      "metadata": {
        "colab": {
          "base_uri": "https://localhost:8080/"
        },
        "id": "hzwCz7XCTwS5",
        "outputId": "36a315b8-4427-4817-be57-aa5ce3adeb68"
      },
      "source": [
        "print(list1[2:])"
      ],
      "execution_count": null,
      "outputs": [
        {
          "output_type": "stream",
          "name": "stdout",
          "text": [
            "[1, 2, 3]\n"
          ]
        }
      ]
    },
    {
      "cell_type": "markdown",
      "metadata": {
        "id": "bmRkH12PT3B3"
      },
      "source": [
        "**13.** And all elements up to but excluding index 3:"
      ]
    },
    {
      "cell_type": "code",
      "metadata": {
        "colab": {
          "base_uri": "https://localhost:8080/"
        },
        "id": "IqKzeEq5UOIA",
        "outputId": "5c3434e4-1ae6-44a3-de09-ac19b702f4b9"
      },
      "source": [
        "print(my_list[:3])"
      ],
      "execution_count": null,
      "outputs": [
        {
          "output_type": "stream",
          "name": "stdout",
          "text": [
            "['Quant', 'Connect', 1]\n"
          ]
        }
      ]
    },
    {
      "cell_type": "markdown",
      "metadata": {
        "id": "SkGOrhfAUTGZ"
      },
      "source": [
        "**My code (And all elements up to but excluding index 4:):**"
      ]
    },
    {
      "cell_type": "code",
      "metadata": {
        "colab": {
          "base_uri": "https://localhost:8080/"
        },
        "id": "e76_zvIWUiAI",
        "outputId": "6077f724-1d60-46c4-8a1d-b5eb6bca2981"
      },
      "source": [
        "print(list1[:4])"
      ],
      "execution_count": null,
      "outputs": [
        {
          "output_type": "stream",
          "name": "stdout",
          "text": [
            "['Algorithms', 'UNAL', 1, 2]\n"
          ]
        }
      ]
    },
    {
      "cell_type": "markdown",
      "metadata": {
        "id": "6gleGADyUmCg"
      },
      "source": [
        "**14.** If you wish to add or remove an element from a list, you can use the append() and remove() methods for lists as follows:"
      ]
    },
    {
      "cell_type": "code",
      "metadata": {
        "colab": {
          "base_uri": "https://localhost:8080/"
        },
        "id": "YA4wmWO7UxWn",
        "outputId": "cd2d499c-2f1c-4469-ee48-23c1af227497"
      },
      "source": [
        "my_list = ['Hello', 'Quant']\n",
        "my_list.append('Hello')\n",
        "print(my_list)\n",
        "my_list.remove('Hello')\n",
        "print(my_list)"
      ],
      "execution_count": null,
      "outputs": [
        {
          "output_type": "stream",
          "name": "stdout",
          "text": [
            "['Hello', 'Quant', 'Hello']\n",
            "['Quant', 'Hello']\n"
          ]
        }
      ]
    },
    {
      "cell_type": "markdown",
      "metadata": {
        "id": "M9NfBHvPU4_h"
      },
      "source": [
        "**My code:**"
      ]
    },
    {
      "cell_type": "code",
      "metadata": {
        "colab": {
          "base_uri": "https://localhost:8080/"
        },
        "id": "HDxGLxUDU8QA",
        "outputId": "1b7a44ec-fe8f-44cc-fcd3-171e927a7b21"
      },
      "source": [
        "list1 = ['Algorithms', 'UNAL']\n",
        "list1.append('Algorithms')\n",
        "print(list1)\n",
        "list1.remove('Algorithms')\n",
        "print(list1)"
      ],
      "execution_count": null,
      "outputs": [
        {
          "output_type": "stream",
          "name": "stdout",
          "text": [
            "['Algorithms', 'UNAL', 'Algorithms']\n",
            "['UNAL', 'Algorithms']\n"
          ]
        }
      ]
    },
    {
      "cell_type": "markdown",
      "metadata": {
        "id": "dC3pk343VQCR"
      },
      "source": [
        "**15. Tuple**\n",
        "\n",
        "A tuple is a data structure type similar to a list. The difference is that a tuple is immutable, which means you can't change the elements in it once it's defined. We create a tuple by putting comma-separated values between parentheses."
      ]
    },
    {
      "cell_type": "code",
      "metadata": {
        "id": "IgBd7dsoVcyY"
      },
      "source": [
        "my_tuple = ('Welcome','to','QuantConnect')"
      ],
      "execution_count": 195,
      "outputs": []
    },
    {
      "cell_type": "markdown",
      "metadata": {
        "id": "uSKAhVtFVmfC"
      },
      "source": [
        "**My code:**"
      ]
    },
    {
      "cell_type": "code",
      "metadata": {
        "id": "q_XyiJdlVorp"
      },
      "source": [
        "tuple1 = ('Welcome','to','UNAL')"
      ],
      "execution_count": null,
      "outputs": []
    },
    {
      "cell_type": "markdown",
      "metadata": {
        "id": "tQhP31fHVtQp"
      },
      "source": [
        "**16.** Just like a list, a tuple can be sliced by using index."
      ]
    },
    {
      "cell_type": "code",
      "metadata": {
        "colab": {
          "base_uri": "https://localhost:8080/"
        },
        "id": "H0BNsm1PV1OR",
        "outputId": "3feb9c3f-40fd-49c1-ecaf-0d99b24f0edd"
      },
      "source": [
        "my_tuple = ('Welcome','to','QuantConnect')\n",
        "print(my_tuple[1:])"
      ],
      "execution_count": null,
      "outputs": [
        {
          "output_type": "stream",
          "name": "stdout",
          "text": [
            "('to', 'QuantConnect')\n"
          ]
        }
      ]
    },
    {
      "cell_type": "markdown",
      "metadata": {
        "id": "dHEUjldaV51x"
      },
      "source": [
        "**My code:**"
      ]
    },
    {
      "cell_type": "code",
      "metadata": {
        "colab": {
          "base_uri": "https://localhost:8080/"
        },
        "id": "YYUJaSNLV-Jf",
        "outputId": "891ba0e1-9fb4-4bd6-fdf2-53b91f7c28b2"
      },
      "source": [
        "tuple1 = ('Welcome','to','UNAL')\n",
        "print(tuple1[1:])"
      ],
      "execution_count": null,
      "outputs": [
        {
          "output_type": "stream",
          "name": "stdout",
          "text": [
            "('to', 'UNAL')\n"
          ]
        }
      ]
    },
    {
      "cell_type": "markdown",
      "metadata": {
        "id": "65YIP1sOWDsX"
      },
      "source": [
        "**17.** **Set**\n",
        "\n",
        "A set is an unordered collection with no duplicate elements. The built-in function set() can be used to create sets."
      ]
    },
    {
      "cell_type": "code",
      "metadata": {
        "colab": {
          "base_uri": "https://localhost:8080/"
        },
        "id": "JlHj1tcZWTGi",
        "outputId": "eab67adb-0b93-4c84-f7ba-fc4b938b7a9b"
      },
      "source": [
        "stock_list = ['AAPL','GOOG','IBM','AAPL','IBM','FB','F','GOOG']\n",
        "stock_set = set(stock_list)\n",
        "print(stock_set)"
      ],
      "execution_count": null,
      "outputs": [
        {
          "output_type": "stream",
          "name": "stdout",
          "text": [
            "{'F', 'AAPL', 'GOOG', 'IBM', 'FB'}\n"
          ]
        }
      ]
    },
    {
      "cell_type": "markdown",
      "metadata": {
        "id": "B12GrCreWb7h"
      },
      "source": [
        "**My code:**"
      ]
    },
    {
      "cell_type": "code",
      "metadata": {
        "colab": {
          "base_uri": "https://localhost:8080/"
        },
        "id": "gna1UGSKXWvk",
        "outputId": "2cc63a3d-387c-48ba-d137-0a4a10150a16"
      },
      "source": [
        "listin = ['UNAL','DISTRITAL','PEDAGOGICA','UIS','UNAL','UNAL','UIS','UNAL']\n",
        "setin = set(listin)\n",
        "print(setin)"
      ],
      "execution_count": null,
      "outputs": [
        {
          "output_type": "stream",
          "name": "stdout",
          "text": [
            "{'DISTRITAL', 'UNAL', 'PEDAGOGICA', 'UIS'}\n"
          ]
        }
      ]
    },
    {
      "cell_type": "markdown",
      "metadata": {
        "id": "9AFcOz-7XqM9"
      },
      "source": [
        "**18. Dictionary**\n",
        "\n",
        "A dictionary is one of the most important data structures in Python. Unlike sequences which are indexed by integers, dictionaries are indexed by keys which can be either strings or floats.\n",
        "\n",
        "A dictionary is an unordered collection of key : value pairs, with the requirement that the keys are unique. We create a dictionary by placing a comma-separated list of key : value pairs within the braces."
      ]
    },
    {
      "cell_type": "code",
      "metadata": {
        "id": "KApG-VAvYba2"
      },
      "source": [
        "my_dic = {'AAPL': 'Apple', 'FB': 'FaceBook', 'GOOG': 'Alphabet'}"
      ],
      "execution_count": null,
      "outputs": []
    },
    {
      "cell_type": "markdown",
      "metadata": {
        "id": "OYCMrhJaYinJ"
      },
      "source": [
        "**My code:**"
      ]
    },
    {
      "cell_type": "code",
      "metadata": {
        "id": "ZvMXnnKkYlfX"
      },
      "source": [
        "dic1 = {'UNAL': 'Universidad Nacional', 'DISTRITAL': 'Universidad Distrital', 'PEDAGOGICA': 'Universidad Pedagogica'}"
      ],
      "execution_count": null,
      "outputs": []
    },
    {
      "cell_type": "markdown",
      "metadata": {
        "id": "tkenVIyyYxYk"
      },
      "source": [
        "**19.** After defining a dictionary, we can access any value by indicating its key in brackets.\n",
        "\n"
      ]
    },
    {
      "cell_type": "code",
      "metadata": {
        "colab": {
          "base_uri": "https://localhost:8080/"
        },
        "id": "kvRuCDXAY3xC",
        "outputId": "2d7d12f1-e748-4925-f107-8701707a7a6b"
      },
      "source": [
        "print(my_dic['GOOG'])"
      ],
      "execution_count": null,
      "outputs": [
        {
          "output_type": "stream",
          "name": "stdout",
          "text": [
            "Alphabet\n"
          ]
        }
      ]
    },
    {
      "cell_type": "markdown",
      "metadata": {
        "id": "XKbCcaGSY-l3"
      },
      "source": [
        "**My code:**"
      ]
    },
    {
      "cell_type": "code",
      "metadata": {
        "colab": {
          "base_uri": "https://localhost:8080/"
        },
        "id": "jloHjCVGZCaQ",
        "outputId": "c95c3d00-1e53-4e27-b5df-ce1322e0d028"
      },
      "source": [
        "print(dic1['UNAL'])"
      ],
      "execution_count": null,
      "outputs": [
        {
          "output_type": "stream",
          "name": "stdout",
          "text": [
            "Universidad Nacional\n"
          ]
        }
      ]
    },
    {
      "cell_type": "markdown",
      "metadata": {
        "id": "eQ6I4y7cZIMo"
      },
      "source": [
        "**20.** We can also change the value associated with a specified key:\n",
        "\n"
      ]
    },
    {
      "cell_type": "code",
      "metadata": {
        "colab": {
          "base_uri": "https://localhost:8080/"
        },
        "id": "_kgjWLm1ZM3A",
        "outputId": "cfbaffbf-a42a-4996-8b70-73466ad35b5b"
      },
      "source": [
        "my_dic['GOOG'] = 'Alphabet Company'\n",
        "print(my_dic['GOOG'])"
      ],
      "execution_count": null,
      "outputs": [
        {
          "output_type": "stream",
          "name": "stdout",
          "text": [
            "Alphabet Company\n"
          ]
        }
      ]
    },
    {
      "cell_type": "markdown",
      "metadata": {
        "id": "eg9vBIZIZSH5"
      },
      "source": [
        "**My code:**"
      ]
    },
    {
      "cell_type": "code",
      "metadata": {
        "colab": {
          "base_uri": "https://localhost:8080/"
        },
        "id": "jzdhuQVtZVS3",
        "outputId": "2cdc7486-b228-42fa-d217-e6bcc4fe7437"
      },
      "source": [
        "dic1['UNAL'] = 'Universidad Nacional Abierta y a Distancia'\n",
        "print(dic1['UNAL'])"
      ],
      "execution_count": null,
      "outputs": [
        {
          "output_type": "stream",
          "name": "stdout",
          "text": [
            "Universidad Nacional Abierta y a Distancia\n"
          ]
        }
      ]
    },
    {
      "cell_type": "markdown",
      "metadata": {
        "id": "W_4WyLy1Zgh5"
      },
      "source": [
        "**21.** The built-in method of the dictionary object dict.keys() returns a list of all the keys used in the dictionary."
      ]
    },
    {
      "cell_type": "code",
      "metadata": {
        "colab": {
          "base_uri": "https://localhost:8080/"
        },
        "id": "a6uH9fD6ZrV6",
        "outputId": "56a922db-43ed-4df9-9c31-130b2d56f156"
      },
      "source": [
        "print(my_dic.keys())"
      ],
      "execution_count": null,
      "outputs": [
        {
          "output_type": "stream",
          "name": "stdout",
          "text": [
            "dict_keys(['AAPL', 'FB', 'GOOG'])\n"
          ]
        }
      ]
    },
    {
      "cell_type": "markdown",
      "metadata": {
        "id": "Bt8DFzM0ZyzD"
      },
      "source": [
        "**My code:**"
      ]
    },
    {
      "cell_type": "code",
      "metadata": {
        "colab": {
          "base_uri": "https://localhost:8080/"
        },
        "id": "bAp1OPA_Z1MV",
        "outputId": "1dff3147-8edc-4985-e299-5f09124af0fb"
      },
      "source": [
        "print(dic1.keys())"
      ],
      "execution_count": null,
      "outputs": [
        {
          "output_type": "stream",
          "name": "stdout",
          "text": [
            "dict_keys(['UNAL', 'DISTRITAL', 'PEDAGOGICA'])\n"
          ]
        }
      ]
    },
    {
      "cell_type": "markdown",
      "metadata": {
        "id": "6r-rkaJpZ4RY"
      },
      "source": [
        "**22.** **Common String Operations**\n",
        "\n",
        "A string is an immutable sequence of characters. It can be sliced by index just like a tuple:"
      ]
    },
    {
      "cell_type": "code",
      "metadata": {
        "colab": {
          "base_uri": "https://localhost:8080/"
        },
        "id": "mjkm6kjCZ_Tk",
        "outputId": "57e23b29-68f8-42f7-bd98-e8145b675232"
      },
      "source": [
        "my_str = 'Welcome to QuantConnect'\n",
        "print(my_str[8:])"
      ],
      "execution_count": null,
      "outputs": [
        {
          "output_type": "stream",
          "name": "stdout",
          "text": [
            "to QuantConnect\n"
          ]
        }
      ]
    },
    {
      "cell_type": "markdown",
      "metadata": {
        "id": "EZ9v6RnsaIXP"
      },
      "source": [
        "**My code:**"
      ]
    },
    {
      "cell_type": "code",
      "metadata": {
        "colab": {
          "base_uri": "https://localhost:8080/"
        },
        "id": "DcA0mcyBaK6n",
        "outputId": "2a51b95f-eb08-4570-d9f7-1ba1c57f3ecb"
      },
      "source": [
        "string1 = 'Welcome to UNAL'\n",
        "print(string1[10:])"
      ],
      "execution_count": null,
      "outputs": [
        {
          "output_type": "stream",
          "name": "stdout",
          "text": [
            " UNAL\n"
          ]
        }
      ]
    },
    {
      "cell_type": "markdown",
      "metadata": {
        "id": "LhFhin3paVjq"
      },
      "source": [
        "**23.** There are many methods associated with strings. We can use string.count() to count the occurrences of a character in a string, use string.find() to return the index of a specific character, and use string.replace() to replace characters."
      ]
    },
    {
      "cell_type": "code",
      "metadata": {
        "colab": {
          "base_uri": "https://localhost:8080/"
        },
        "id": "pvQ8DOfIavzA",
        "outputId": "0633c1d0-a589-490a-e0ef-fea6606905bc"
      },
      "source": [
        "print(\"Counting the number of e's in this sentence\".count('e'))\n",
        "print('The first time e appears in this sentence'.find('e'))\n",
        "print('all the a in this sentence now becomes e'.replace('a','e'))"
      ],
      "execution_count": null,
      "outputs": [
        {
          "output_type": "stream",
          "name": "stdout",
          "text": [
            "6\n",
            "2\n",
            "ell the e in this sentence now becomes e\n"
          ]
        }
      ]
    },
    {
      "cell_type": "markdown",
      "metadata": {
        "id": "ujUC-zBeax9Q"
      },
      "source": [
        "**My code:**"
      ]
    },
    {
      "cell_type": "code",
      "metadata": {
        "colab": {
          "base_uri": "https://localhost:8080/"
        },
        "id": "nqYlYi7sa0uX",
        "outputId": "6cc0d8c9-d9d9-484b-821f-1522b6494d71"
      },
      "source": [
        "print(\"Counting the number of u's in this sentence\".count('u'))\n",
        "print('The first time p appears in this sentence'.find('n'))\n",
        "print('all the a in this sentence now becomes e'.replace('a','x'))"
      ],
      "execution_count": null,
      "outputs": [
        {
          "output_type": "stream",
          "name": "stdout",
          "text": [
            "3\n",
            "26\n",
            "xll the x in this sentence now becomes e\n"
          ]
        }
      ]
    },
    {
      "cell_type": "markdown",
      "metadata": {
        "id": "xxOTHS2jbGHA"
      },
      "source": [
        "**24.** The most commonly used method for strings is string.split(). This method will split the string by the indicated character and return a list:"
      ]
    },
    {
      "cell_type": "code",
      "metadata": {
        "colab": {
          "base_uri": "https://localhost:8080/"
        },
        "id": "J1hVDSSWbdLI",
        "outputId": "8ccec64a-9544-469d-9730-d5bdbbb229da"
      },
      "source": [
        "Time = '2016-04-01 09:43:00'\n",
        "splited_list = Time.split(' ')\n",
        "date = splited_list[0]\n",
        "time = splited_list[1]\n",
        "print(date, time)\n",
        "hour = time.split(':')[0]\n",
        "print(hour)"
      ],
      "execution_count": null,
      "outputs": [
        {
          "output_type": "stream",
          "name": "stdout",
          "text": [
            "2016-04-01 09:43:00\n",
            "09\n"
          ]
        }
      ]
    },
    {
      "cell_type": "markdown",
      "metadata": {
        "id": "cIGOUl7vbg1z"
      },
      "source": [
        "**My code:**"
      ]
    },
    {
      "cell_type": "code",
      "metadata": {
        "colab": {
          "base_uri": "https://localhost:8080/"
        },
        "id": "sZa-C5MEbj9-",
        "outputId": "e0d06a16-6c72-4192-d596-3a0ad9340040"
      },
      "source": [
        "Time = '2021-10-17 22:26:00'\n",
        "splited_list = Time.split(' ')\n",
        "date = splited_list[0]\n",
        "time = splited_list[1]\n",
        "print(date, time)\n",
        "hour = time.split(':')[0]\n",
        "print(hour)"
      ],
      "execution_count": null,
      "outputs": [
        {
          "output_type": "stream",
          "name": "stdout",
          "text": [
            "2021-10-17 22:26:00\n",
            "22\n"
          ]
        }
      ]
    },
    {
      "cell_type": "markdown",
      "metadata": {
        "id": "bEAJM-QVb95b"
      },
      "source": [
        "**25.** We can replace parts of a string by our variable. This is called string formatting."
      ]
    },
    {
      "cell_type": "code",
      "metadata": {
        "colab": {
          "base_uri": "https://localhost:8080/"
        },
        "id": "AijB7F26cNC3",
        "outputId": "e2990a39-cd44-4e28-ad34-9b13e670a8b3"
      },
      "source": [
        "my_time = 'Hour: {}, Minute: {}'.format(9, 43)\n",
        "print(my_time)"
      ],
      "execution_count": null,
      "outputs": [
        {
          "output_type": "stream",
          "name": "stdout",
          "text": [
            "Hour: 9, Minute: 43\n"
          ]
        }
      ]
    },
    {
      "cell_type": "markdown",
      "metadata": {
        "id": "3Z-VOAV9cRX_"
      },
      "source": [
        "**My code:**"
      ]
    },
    {
      "cell_type": "code",
      "metadata": {
        "colab": {
          "base_uri": "https://localhost:8080/"
        },
        "id": "k2iGouGRcT4b",
        "outputId": "6fe83f48-8c55-43fd-9e7a-e79ce3d3868d"
      },
      "source": [
        "time1 = 'Hour: {}, Minute: {}'.format(22, 26)\n",
        "print(time1)"
      ],
      "execution_count": null,
      "outputs": [
        {
          "output_type": "stream",
          "name": "stdout",
          "text": [
            "Hour: 22, Minute: 26\n"
          ]
        }
      ]
    },
    {
      "cell_type": "markdown",
      "metadata": {
        "id": "X4P4itYgcavm"
      },
      "source": [
        "**26.** Another way to format a string is to use the % symbol.\n",
        "\n"
      ]
    },
    {
      "cell_type": "code",
      "metadata": {
        "colab": {
          "base_uri": "https://localhost:8080/"
        },
        "id": "lMfnXJPlcwiw",
        "outputId": "81452b82-f19a-434d-fab5-ebf880650230"
      },
      "source": [
        "print ('pi is %f' % 3.14)\n",
        "print('%s to %s' % ('Welcome', 'QuantConnect'))"
      ],
      "execution_count": null,
      "outputs": [
        {
          "output_type": "stream",
          "name": "stdout",
          "text": [
            "pi is 3.140000\n",
            "Welcome to QuantConnect\n"
          ]
        }
      ]
    },
    {
      "cell_type": "markdown",
      "metadata": {
        "id": "qE5g1mDBc58f"
      },
      "source": [
        "**My code:**"
      ]
    },
    {
      "cell_type": "code",
      "metadata": {
        "colab": {
          "base_uri": "https://localhost:8080/"
        },
        "id": "oxQPLEp2c82n",
        "outputId": "a4b42a41-37ca-4ed2-c428-b6cb27db9fa5"
      },
      "source": [
        "print ('pi is %f' % 3.1415926535)\n",
        "print('%s to %s' % ('Welcome', 'UNAL'))"
      ],
      "execution_count": null,
      "outputs": [
        {
          "output_type": "stream",
          "name": "stdout",
          "text": [
            "pi is 3.141593\n",
            "Welcome to UNAL\n"
          ]
        }
      ]
    },
    {
      "cell_type": "markdown",
      "metadata": {
        "id": "h9qWA6UKcaib"
      },
      "source": [
        "## **Logical Operations and Loops (Tutorial #2)**"
      ]
    },
    {
      "cell_type": "markdown",
      "metadata": {
        "id": "X91mRE93c3tz"
      },
      "source": [
        "**Introduction**\n",
        "\n",
        "We discussed the basic data types and data structures in Python in the last tutorial. This chapter covers logical operations and loops in Python, which are very common in programming."
      ]
    },
    {
      "cell_type": "markdown",
      "metadata": {
        "id": "nMGu4Tmhc84A"
      },
      "source": [
        "**1. Logical Operations**\n",
        "\n",
        "Like most programming languages, Python has comparison operators:"
      ]
    },
    {
      "cell_type": "code",
      "metadata": {
        "colab": {
          "base_uri": "https://localhost:8080/"
        },
        "id": "UGb_NTUCeOdp",
        "outputId": "c569619b-6fc6-4921-f269-7d6fb44d9af5"
      },
      "source": [
        "print (1 == 0)    # 1 equals 0\n",
        "print (1 == 1)    # 1 equals 1\n",
        "print (1 != 0)    # 1 is not equal to 0\n",
        "print (5 >= 5)    # 5 is greater than or equal to 5\n",
        "print (5 >= 6)    # 5 is greater than or equal to 6"
      ],
      "execution_count": 2,
      "outputs": [
        {
          "output_type": "stream",
          "name": "stdout",
          "text": [
            "False\n",
            "True\n",
            "True\n",
            "True\n",
            "False\n"
          ]
        }
      ]
    },
    {
      "cell_type": "markdown",
      "metadata": {
        "id": "Pynn5ztAehdm"
      },
      "source": [
        "**My code:**"
      ]
    },
    {
      "cell_type": "code",
      "metadata": {
        "colab": {
          "base_uri": "https://localhost:8080/"
        },
        "id": "QYD-Z5Hlej2B",
        "outputId": "7e7f6c29-2b0d-4c6b-a183-af5c814a517c"
      },
      "source": [
        "print (10 == 0)    # 10 equals 0\n",
        "print (10 == 10)    # 10 equals 10\n",
        "print (10 != 0)    # 10 is not equal to 0\n",
        "print (13 >= 5)    # 13 is greater than or equal to 5\n",
        "print (-5 >= 6)    # -5 is greater than or equal to 6"
      ],
      "execution_count": 3,
      "outputs": [
        {
          "output_type": "stream",
          "name": "stdout",
          "text": [
            "False\n",
            "True\n",
            "True\n",
            "True\n",
            "False\n"
          ]
        }
      ]
    },
    {
      "cell_type": "markdown",
      "metadata": {
        "id": "sLzv1rLke1QI"
      },
      "source": [
        "**2.** Each statement above has a boolean value, which must be either True or False, but not both.\n",
        "\n",
        "We can combine simple statements P and Q to form complex statements using logical operators:\n",
        "\n",
        "* The statement \"P and Q\" is true if both P and Q are true, otherwise it is false.\n",
        "* The statement \"P or Q\" is false if both P and Q are false, otherwise it is true.\n",
        "* The statement \"not P\" is true if P is false, and vice versa.\n",
        "\n",
        "\n",
        "\n"
      ]
    },
    {
      "cell_type": "code",
      "metadata": {
        "colab": {
          "base_uri": "https://localhost:8080/"
        },
        "id": "GSSMtkptgsGI",
        "outputId": "14065378-7949-4602-c947-b8fbefa0e974"
      },
      "source": [
        "print (2 > 1 and 3 > 2)\n",
        "print (2 > 1 and 3 < 2)\n",
        "print (2 > 1 or  3 < 2)\n",
        "print (2 < 1 and 3 < 2)"
      ],
      "execution_count": 5,
      "outputs": [
        {
          "output_type": "stream",
          "name": "stdout",
          "text": [
            "True\n",
            "False\n",
            "True\n",
            "False\n"
          ]
        }
      ]
    },
    {
      "cell_type": "markdown",
      "metadata": {
        "id": "0uMSaSy1g39b"
      },
      "source": [
        "**My code:**"
      ]
    },
    {
      "cell_type": "code",
      "metadata": {
        "colab": {
          "base_uri": "https://localhost:8080/"
        },
        "id": "UCyK42-jg6Ww",
        "outputId": "a29bd3d9-4267-4b6f-9a2c-80dce01d4a89"
      },
      "source": [
        "print (19 > 14 and 384 > 209)\n",
        "print (-1 > -2 and -1 < -2)\n",
        "print (-1 > -2 or  -1 < -2)\n",
        "print (-1 < -127 and -1 < -2021)"
      ],
      "execution_count": 8,
      "outputs": [
        {
          "output_type": "stream",
          "name": "stdout",
          "text": [
            "True\n",
            "False\n",
            "True\n",
            "False\n"
          ]
        }
      ]
    },
    {
      "cell_type": "markdown",
      "metadata": {
        "id": "VJt4mc2NhlMR"
      },
      "source": [
        "**3.** When dealing with a very complex logical statement that involves in several statements, we can use brackets to separate and combine them."
      ]
    },
    {
      "cell_type": "code",
      "metadata": {
        "colab": {
          "base_uri": "https://localhost:8080/"
        },
        "id": "OIZ0qFK-hvMO",
        "outputId": "bef7176d-37b2-4072-9627-b02a792278ef"
      },
      "source": [
        "print ((3 > 2 or 1 < 3) and (1!=3 and 4>3) and not ( 3 < 2 or 1 < 3 and (1!=3 and 4>3)))\n",
        "print (3 > 2 or 1 < 3 and (1!=3 and 4>3) and not ( 3 < 2 or 1 < 3 and (1!=3 and 4>3)))"
      ],
      "execution_count": 14,
      "outputs": [
        {
          "output_type": "stream",
          "name": "stdout",
          "text": [
            "False\n",
            "True\n"
          ]
        }
      ]
    },
    {
      "cell_type": "markdown",
      "metadata": {
        "id": "HXk6pH9ou0rU"
      },
      "source": [
        "**My code:**"
      ]
    },
    {
      "cell_type": "code",
      "metadata": {
        "colab": {
          "base_uri": "https://localhost:8080/"
        },
        "id": "hbQrYtlEu3Ht",
        "outputId": "27b2fffe-b041-4e00-8824-ceca1bd0697e"
      },
      "source": [
        "print ((343 > 538 or -1 < 30) and (-1!=3 and 448>3) and not ( 378 < -2 or 1 < -3 and (-1!=36 and 476>3)))\n",
        "print (746 > -2 or -1 < 3 and (-1!=3 and 445>-3) and not ( 3 < -2 or 1 < -3 and (138!=356 and 434>33)))"
      ],
      "execution_count": 17,
      "outputs": [
        {
          "output_type": "stream",
          "name": "stdout",
          "text": [
            "True\n",
            "True\n"
          ]
        }
      ]
    },
    {
      "cell_type": "markdown",
      "metadata": {
        "id": "FJl-rmE7vc2M"
      },
      "source": [
        "**4. If Statement**\n",
        "\n",
        "An if statement executes a segment of code only if its condition is true. A standard if statement consists of 3 segments: if, elif and else."
      ]
    },
    {
      "cell_type": "markdown",
      "metadata": {
        "id": "q4Izo1igvtFQ"
      },
      "source": [
        "if condition1:\n",
        "    # if condition1 is true, execute the code here\n",
        "    # and ignore the rest of this if statement\n",
        "elif condition2:\n",
        "    # if condition1 is false, and condition2 is true, execute the code here\n",
        "    # and ignore the rest of this if statement\n",
        "else:\n",
        "    # if none of the above conditions is True, execute the code here"
      ]
    },
    {
      "cell_type": "markdown",
      "metadata": {
        "id": "-a5ET12NvvLV"
      },
      "source": [
        "An if statement doesn't necessarily has elif and else part. If it's not specified, the indented block of code will be executed when the condition is true, otherwise the whole if statement will be skipped."
      ]
    },
    {
      "cell_type": "code",
      "metadata": {
        "colab": {
          "base_uri": "https://localhost:8080/"
        },
        "id": "ri0kJqnXv68q",
        "outputId": "bc2b88f1-3875-453c-e3fe-9f5b081a30e9"
      },
      "source": [
        "i = 0\n",
        "if i == 0: print ('i == 0 is True')"
      ],
      "execution_count": 19,
      "outputs": [
        {
          "output_type": "stream",
          "name": "stdout",
          "text": [
            "i == 0 is True\n"
          ]
        }
      ]
    },
    {
      "cell_type": "markdown",
      "metadata": {
        "id": "dFrfXx25wD_Q"
      },
      "source": [
        "**My code:**"
      ]
    },
    {
      "cell_type": "code",
      "metadata": {
        "colab": {
          "base_uri": "https://localhost:8080/"
        },
        "id": "Lg1VmIFpwGgT",
        "outputId": "ca3b69e9-e728-4e2e-a4f3-7c2ae607add3"
      },
      "source": [
        "variable = 777\n",
        "if variable == 777: print ('variable == 777 is True')"
      ],
      "execution_count": 22,
      "outputs": [
        {
          "output_type": "stream",
          "name": "stdout",
          "text": [
            "variable == 777 is True\n"
          ]
        }
      ]
    },
    {
      "cell_type": "markdown",
      "metadata": {
        "id": "lcOxgGmTwcaP"
      },
      "source": [
        "**5.** As we mentioned above, we can write some complex statements here:\n",
        "\n"
      ]
    },
    {
      "cell_type": "code",
      "metadata": {
        "colab": {
          "base_uri": "https://localhost:8080/"
        },
        "id": "c9L1GuqQwj98",
        "outputId": "a406dfcf-effe-407a-b4ae-0e836249424d"
      },
      "source": [
        "p = 1 > 0\n",
        "q = 2 > 3\n",
        "if p and q:\n",
        "    print ('p and q is true')\n",
        "elif p and not q:\n",
        "    print ('q is false')\n",
        "elif q and not p:\n",
        "    print ('p is false')\n",
        "else:\n",
        "    print ('None of p and q is true')"
      ],
      "execution_count": 24,
      "outputs": [
        {
          "output_type": "stream",
          "name": "stdout",
          "text": [
            "q is false\n"
          ]
        }
      ]
    },
    {
      "cell_type": "markdown",
      "metadata": {
        "id": "6zKwtDU4w9lM"
      },
      "source": [
        "**My code:**"
      ]
    },
    {
      "cell_type": "code",
      "metadata": {
        "colab": {
          "base_uri": "https://localhost:8080/"
        },
        "id": "3VV6z7jww_to",
        "outputId": "ee12e7eb-7eb4-43bd-c82d-5fab31b7ad48"
      },
      "source": [
        "x = 1 > 0\n",
        "y = !(2 > 3)\n",
        "if x and y:\n",
        "    print ('x and y is true')\n",
        "elif x and not y:\n",
        "    print ('y is false')\n",
        "elif x and not y:\n",
        "    print ('x is false')\n",
        "else:\n",
        "    print ('None of x and y is true')"
      ],
      "execution_count": 25,
      "outputs": [
        {
          "output_type": "stream",
          "name": "stdout",
          "text": [
            "x and y is true\n"
          ]
        }
      ]
    },
    {
      "cell_type": "markdown",
      "metadata": {
        "id": "cSH61_j-xX8V"
      },
      "source": [
        "**6. Loop Structure**\n",
        "\n",
        "Loops are an essential part of programming. The \"for\" and \"while\" loops run a block of code repeatedly.\n",
        "\n",
        "**While Loop**\n",
        "\n",
        "A \"while\" loop will run repeatedly until a certain condition has been met."
      ]
    },
    {
      "cell_type": "code",
      "metadata": {
        "colab": {
          "base_uri": "https://localhost:8080/"
        },
        "id": "F6xkodNFxm9G",
        "outputId": "50ffc75f-1930-447c-b4c0-599450259a4e"
      },
      "source": [
        "i = 0\n",
        "while i < 5:\n",
        "    print (i)\n",
        "    i += 1"
      ],
      "execution_count": 27,
      "outputs": [
        {
          "output_type": "stream",
          "name": "stdout",
          "text": [
            "0\n",
            "1\n",
            "2\n",
            "3\n",
            "4\n"
          ]
        }
      ]
    },
    {
      "cell_type": "markdown",
      "metadata": {
        "id": "rc8Qx6TIxrBw"
      },
      "source": [
        "**My code:**"
      ]
    },
    {
      "cell_type": "code",
      "metadata": {
        "colab": {
          "base_uri": "https://localhost:8080/"
        },
        "id": "u9UwnOFoxtYp",
        "outputId": "6d65c812-9527-4449-d881-d1eaf561f8ec"
      },
      "source": [
        "x = 0\n",
        "while x < 30:\n",
        "    print (x)\n",
        "    x += 1"
      ],
      "execution_count": 28,
      "outputs": [
        {
          "output_type": "stream",
          "name": "stdout",
          "text": [
            "0\n",
            "1\n",
            "2\n",
            "3\n",
            "4\n",
            "5\n",
            "6\n",
            "7\n",
            "8\n",
            "9\n",
            "10\n",
            "11\n",
            "12\n",
            "13\n",
            "14\n",
            "15\n",
            "16\n",
            "17\n",
            "18\n",
            "19\n",
            "20\n",
            "21\n",
            "22\n",
            "23\n",
            "24\n",
            "25\n",
            "26\n",
            "27\n",
            "28\n",
            "29\n"
          ]
        }
      ]
    },
    {
      "cell_type": "markdown",
      "metadata": {
        "id": "KOC_yFByx0yW"
      },
      "source": [
        "**7. For Loop**\n",
        "\n",
        "A \"for\" loop will iterate over a sequence of value and terminate when the sequence has ended."
      ]
    },
    {
      "cell_type": "code",
      "metadata": {
        "colab": {
          "base_uri": "https://localhost:8080/"
        },
        "id": "7-oFkSsLyd_O",
        "outputId": "2b7d82bf-861a-499c-febf-ba343696da82"
      },
      "source": [
        "for x in [1,2,3,4,5]: print (x)"
      ],
      "execution_count": 29,
      "outputs": [
        {
          "output_type": "stream",
          "name": "stdout",
          "text": [
            "1\n",
            "2\n",
            "3\n",
            "4\n",
            "5\n"
          ]
        }
      ]
    },
    {
      "cell_type": "markdown",
      "metadata": {
        "id": "uEXL5QcEyjcf"
      },
      "source": [
        "**My code:**"
      ]
    },
    {
      "cell_type": "code",
      "metadata": {
        "colab": {
          "base_uri": "https://localhost:8080/"
        },
        "id": "Xbeh7LF0ymYV",
        "outputId": "bb3c46a8-0fa8-4033-a93f-acedb30e2ebb"
      },
      "source": [
        "for x in [-5,-4,-3,-2,-1]: print (x)"
      ],
      "execution_count": 30,
      "outputs": [
        {
          "output_type": "stream",
          "name": "stdout",
          "text": [
            "-5\n",
            "-4\n",
            "-3\n",
            "-2\n",
            "-1\n"
          ]
        }
      ]
    },
    {
      "cell_type": "markdown",
      "metadata": {
        "id": "q7akKOmOyuYd"
      },
      "source": [
        "**8.** We can also add if statements in a for loop. Here is a real example from our pairs trading algorithm:"
      ]
    },
    {
      "cell_type": "code",
      "metadata": {
        "colab": {
          "base_uri": "https://localhost:8080/"
        },
        "id": "hj-YPzFMzQuM",
        "outputId": "cab104e5-26fa-4ba3-e336-1adb7352f3fd"
      },
      "source": [
        "stocks = ['AAPL','GOOG','IBM','FB','F','V', 'G', 'GE']\n",
        "selected = ['AAPL','IBM']\n",
        "new_list = []\n",
        "for stock in stocks:\n",
        "    if stock not in selected:\n",
        "        new_list.append(stock)\n",
        "print (new_list)"
      ],
      "execution_count": 31,
      "outputs": [
        {
          "output_type": "stream",
          "name": "stdout",
          "text": [
            "['GOOG', 'FB', 'F', 'V', 'G', 'GE']\n"
          ]
        }
      ]
    },
    {
      "cell_type": "markdown",
      "metadata": {
        "id": "GyygERqfzWb8"
      },
      "source": [
        "**My code:**"
      ]
    },
    {
      "cell_type": "code",
      "metadata": {
        "colab": {
          "base_uri": "https://localhost:8080/"
        },
        "id": "ks-1WOE1zZD_",
        "outputId": "778c7a03-75c6-4e83-c721-a91cf92f761b"
      },
      "source": [
        "stocks = ['UNAL','DISTRITAL','PEDAGOGICA','UIS','BOGOTA','UNIVALLE', 'MANIZALES', 'UDEA']\n",
        "selected = ['UDEA','UIS']\n",
        "new_list = []\n",
        "for stock in stocks:\n",
        "    if stock not in selected:\n",
        "        new_list.append(stock)\n",
        "print (new_list)"
      ],
      "execution_count": 32,
      "outputs": [
        {
          "output_type": "stream",
          "name": "stdout",
          "text": [
            "['UNAL', 'DISTRITAL', 'PEDAGOGICA', 'BOGOTA', 'UNIVALLE', 'MANIZALES']\n"
          ]
        }
      ]
    },
    {
      "cell_type": "markdown",
      "metadata": {
        "id": "Chny4hXq0AN2"
      },
      "source": [
        "**9. Break and continue**\n",
        "\n",
        "These are two commonly used commands in a for loop. If \"break\" is triggered while a loop is executing, the loop will terminate immediately:"
      ]
    },
    {
      "cell_type": "code",
      "metadata": {
        "colab": {
          "base_uri": "https://localhost:8080/"
        },
        "id": "E3U8n4bc0X87",
        "outputId": "042a0e39-db3a-4262-f048-f6e11f378468"
      },
      "source": [
        "stocks = ['AAPL','GOOG','IBM','FB','F','V', 'G', 'GE']\n",
        "for stock in stocks:\n",
        "    print (stock)\n",
        "    if stock == 'FB': break"
      ],
      "execution_count": 36,
      "outputs": [
        {
          "output_type": "stream",
          "name": "stdout",
          "text": [
            "AAPL\n",
            "GOOG\n",
            "IBM\n",
            "FB\n"
          ]
        }
      ]
    },
    {
      "cell_type": "markdown",
      "metadata": {
        "id": "TLw2ngRs0yM0"
      },
      "source": [
        "**My code:**"
      ]
    },
    {
      "cell_type": "code",
      "metadata": {
        "colab": {
          "base_uri": "https://localhost:8080/"
        },
        "id": "WoCl38Fy0snV",
        "outputId": "05eebc5f-2826-4a3d-8c7e-d4ac8836913c"
      },
      "source": [
        "stocks = ['UNAL','DISTRITAL','PEDAGOGICA','UIS','BOGOTA','UNIVALLE', 'MANIZALES', 'UDEA']\n",
        "for stock in stocks:\n",
        "    print (stock)\n",
        "    if stock == 'UIS': break"
      ],
      "execution_count": 37,
      "outputs": [
        {
          "output_type": "stream",
          "name": "stdout",
          "text": [
            "UNAL\n",
            "DISTRITAL\n",
            "PEDAGOGICA\n",
            "UIS\n"
          ]
        }
      ]
    },
    {
      "cell_type": "markdown",
      "metadata": {
        "id": "iFD4BSUO03kY"
      },
      "source": [
        "**10.** The \"continue\" command tells the loop to end this iteration and skip to the next iteration:"
      ]
    },
    {
      "cell_type": "code",
      "metadata": {
        "colab": {
          "base_uri": "https://localhost:8080/"
        },
        "id": "T0Dks66X1B6K",
        "outputId": "b9f3a079-e654-44d0-9037-77a3c2db3ad4"
      },
      "source": [
        "stocks = ['AAPL','GOOG','IBM','FB','F','V', 'G', 'GE']\n",
        "for stock in stocks:\n",
        "    if stock == 'FB': continue\n",
        "    print (stock)"
      ],
      "execution_count": 38,
      "outputs": [
        {
          "output_type": "stream",
          "name": "stdout",
          "text": [
            "AAPL\n",
            "GOOG\n",
            "IBM\n",
            "F\n",
            "V\n",
            "G\n",
            "GE\n"
          ]
        }
      ]
    },
    {
      "cell_type": "markdown",
      "metadata": {
        "id": "_WticKaQ1GNv"
      },
      "source": [
        "**My code:**"
      ]
    },
    {
      "cell_type": "code",
      "metadata": {
        "colab": {
          "base_uri": "https://localhost:8080/"
        },
        "id": "WcaG2W2E1InR",
        "outputId": "37a7a8e2-49fb-483d-f011-00be81ee851c"
      },
      "source": [
        "stocks = ['UNAL','DISTRITAL','PEDAGOGICA','UIS','BOGOTA','UNIVALLE', 'MANIZALES', 'UDEA']\n",
        "for stock in stocks:\n",
        "    if stock == 'UNIVALLE': continue\n",
        "    print (stock)"
      ],
      "execution_count": 39,
      "outputs": [
        {
          "output_type": "stream",
          "name": "stdout",
          "text": [
            "UNAL\n",
            "DISTRITAL\n",
            "PEDAGOGICA\n",
            "UIS\n",
            "BOGOTA\n",
            "MANIZALES\n",
            "UDEA\n"
          ]
        }
      ]
    },
    {
      "cell_type": "markdown",
      "metadata": {
        "id": "k3Hdia141T_o"
      },
      "source": [
        "**11. List Comprehension**\n",
        "\n",
        "List comprehension is a Pythonic way to create lists. Common applications are to make new lists where each element is the result of some operations applied to each member of another sequence. For example, if we want to create a list of squares using for loop:"
      ]
    },
    {
      "cell_type": "code",
      "metadata": {
        "colab": {
          "base_uri": "https://localhost:8080/"
        },
        "id": "BgwfaNPr1z1J",
        "outputId": "c8de50d2-7631-40b3-d45a-e189be6cbe66"
      },
      "source": [
        "squares = []\n",
        "for i in [1,2,3,4,5]:\n",
        "    squares.append(i**2)\n",
        "print (squares)"
      ],
      "execution_count": 41,
      "outputs": [
        {
          "output_type": "stream",
          "name": "stdout",
          "text": [
            "[1, 4, 9, 16, 25]\n"
          ]
        }
      ]
    },
    {
      "cell_type": "markdown",
      "metadata": {
        "id": "ZWNefo0F13G8"
      },
      "source": [
        "**My code:**"
      ]
    },
    {
      "cell_type": "code",
      "metadata": {
        "colab": {
          "base_uri": "https://localhost:8080/"
        },
        "id": "qbJwpJ171546",
        "outputId": "e69c2d5d-4e5e-42e9-f925-92e0c64e7f77"
      },
      "source": [
        "squares = []\n",
        "for i in [1,2,3,4,5]:\n",
        "    squares.append(i**10)\n",
        "print (squares)"
      ],
      "execution_count": 40,
      "outputs": [
        {
          "output_type": "stream",
          "name": "stdout",
          "text": [
            "[1, 1024, 59049, 1048576, 9765625]\n"
          ]
        }
      ]
    },
    {
      "cell_type": "markdown",
      "metadata": {
        "id": "2xrVl_fd2BZc"
      },
      "source": [
        "**12.** Using list comprehension:\n",
        "\n"
      ]
    },
    {
      "cell_type": "code",
      "metadata": {
        "colab": {
          "base_uri": "https://localhost:8080/"
        },
        "id": "zmKlEXeb2ZkE",
        "outputId": "8398c270-6538-4a1e-8b55-5df8b7511e34"
      },
      "source": [
        "foo = [1,2,3,4,5]\n",
        "squares = [x**2 for x in foo]\n",
        "print (squares)"
      ],
      "execution_count": 43,
      "outputs": [
        {
          "output_type": "stream",
          "name": "stdout",
          "text": [
            "[1, 4, 9, 16, 25]\n"
          ]
        }
      ]
    },
    {
      "cell_type": "markdown",
      "metadata": {
        "id": "PVUqHILx2d4K"
      },
      "source": [
        "**My code:**"
      ]
    },
    {
      "cell_type": "code",
      "metadata": {
        "colab": {
          "base_uri": "https://localhost:8080/"
        },
        "id": "YtdgtE312f5c",
        "outputId": "ac2237dd-912f-4e72-c7c3-13cf43cfe8bd"
      },
      "source": [
        "foo = [1,2,3,4,5]\n",
        "squares = [x**10 for x in foo]\n",
        "print (squares)"
      ],
      "execution_count": 44,
      "outputs": [
        {
          "output_type": "stream",
          "name": "stdout",
          "text": [
            "[1, 1024, 59049, 1048576, 9765625]\n"
          ]
        }
      ]
    },
    {
      "cell_type": "markdown",
      "metadata": {
        "id": "c7PsU32W2jLa"
      },
      "source": [
        "**13.** Recall the example above where we used a for loop to select stocks. Here we use list comprehension:"
      ]
    },
    {
      "cell_type": "code",
      "metadata": {
        "colab": {
          "base_uri": "https://localhost:8080/"
        },
        "id": "y0_NbFs530r0",
        "outputId": "1b6080da-9d97-48ca-aa59-7d0c84f879b1"
      },
      "source": [
        "stocks = ['AAPL','GOOG','IBM','FB','F','V', 'G', 'GE']\n",
        "selected = ['AAPL','IBM']\n",
        "new_list = [x for x in stocks if x not in selected]\n",
        "print (new_list)"
      ],
      "execution_count": 45,
      "outputs": [
        {
          "output_type": "stream",
          "name": "stdout",
          "text": [
            "['GOOG', 'FB', 'F', 'V', 'G', 'GE']\n"
          ]
        }
      ]
    },
    {
      "cell_type": "markdown",
      "metadata": {
        "id": "jnUR5Wyp39ob"
      },
      "source": [
        "**My code:**"
      ]
    },
    {
      "cell_type": "code",
      "metadata": {
        "colab": {
          "base_uri": "https://localhost:8080/"
        },
        "id": "34an48_R4ClF",
        "outputId": "6b572dc4-8cdc-415c-f233-9f8b4ce7dcb1"
      },
      "source": [
        "stocks = ['UNAL','DISTRITAL','PEDAGOGICA','UIS','BOGOTA','UNIVALLE', 'MANIZALES', 'UDEA']\n",
        "selected = ['UDEA','UIS']\n",
        "new_list = [x for x in stocks if x not in selected]\n",
        "print (new_list)"
      ],
      "execution_count": 46,
      "outputs": [
        {
          "output_type": "stream",
          "name": "stdout",
          "text": [
            "['UNAL', 'DISTRITAL', 'PEDAGOGICA', 'BOGOTA', 'UNIVALLE', 'MANIZALES']\n"
          ]
        }
      ]
    },
    {
      "cell_type": "markdown",
      "metadata": {
        "id": "sY5yRu444WPt"
      },
      "source": [
        "**14.** A list comprehension consists of square brackets containing an expression followed by a \"for\" clause, and possibly \"for\" or \"if\" clauses. For example:"
      ]
    },
    {
      "cell_type": "code",
      "metadata": {
        "colab": {
          "base_uri": "https://localhost:8080/"
        },
        "id": "f4nIRD2_5m-M",
        "outputId": "6888c097-6984-451c-d612-5c40e333e5d6"
      },
      "source": [
        "print ([(x, y) for x in [1,2,3] for y in [3,1,4] if x != y])\n",
        "print ([str(x) + ' vs ' + str(y) for x in ['AAPL','GOOG','IBM','FB'] for y in ['F','V','G','GE'] if x != y])"
      ],
      "execution_count": 48,
      "outputs": [
        {
          "output_type": "stream",
          "name": "stdout",
          "text": [
            "[(1, 3), (1, 4), (2, 3), (2, 1), (2, 4), (3, 1), (3, 4)]\n",
            "['AAPL vs F', 'AAPL vs V', 'AAPL vs G', 'AAPL vs GE', 'GOOG vs F', 'GOOG vs V', 'GOOG vs G', 'GOOG vs GE', 'IBM vs F', 'IBM vs V', 'IBM vs G', 'IBM vs GE', 'FB vs F', 'FB vs V', 'FB vs G', 'FB vs GE']\n"
          ]
        }
      ]
    },
    {
      "cell_type": "markdown",
      "metadata": {
        "id": "nKZspGbY7T87"
      },
      "source": [
        "**My code:**"
      ]
    },
    {
      "cell_type": "code",
      "metadata": {
        "colab": {
          "base_uri": "https://localhost:8080/"
        },
        "id": "KEiBSdni7Xbr",
        "outputId": "f15a2c80-4916-4097-f751-64457f13b18b"
      },
      "source": [
        "print ([(x, y) for x in [-1,-2,-3] for y in [3,1,4] if x != y])\n",
        "print ([str(x) + ' vs ' + str(y) for x in ['UNAL','UNAM','UIS','UDEA'] for y in ['DISTRITAL','UNAM','UDEA','UIS'] if x != y])"
      ],
      "execution_count": 50,
      "outputs": [
        {
          "output_type": "stream",
          "name": "stdout",
          "text": [
            "[(-1, 3), (-1, 1), (-1, 4), (-2, 3), (-2, 1), (-2, 4), (-3, 3), (-3, 1), (-3, 4)]\n",
            "['UNAL vs DISTRITAL', 'UNAL vs UNAM', 'UNAL vs UDEA', 'UNAL vs UIS', 'UNAM vs DISTRITAL', 'UNAM vs UDEA', 'UNAM vs UIS', 'UIS vs DISTRITAL', 'UIS vs UNAM', 'UIS vs UDEA', 'UDEA vs DISTRITAL', 'UDEA vs UNAM', 'UDEA vs UIS']\n"
          ]
        }
      ]
    },
    {
      "cell_type": "markdown",
      "metadata": {
        "id": "yLhw8ZmF-_8d"
      },
      "source": [
        "## **Functions and Objective-Oriented Programming (Tutorial #3)**"
      ]
    },
    {
      "cell_type": "markdown",
      "metadata": {
        "id": "std_ph7N_Orp"
      },
      "source": [
        "**Introduction**\n",
        "\n",
        "In the last tutorial we introduced logical operations, loops and list comprehension. We will introduce functions and object-oriented programming in this chapter, which will enable us to build complex algorithms in more flexible ways."
      ]
    },
    {
      "cell_type": "markdown",
      "metadata": {
        "id": "OE71J5_O_QTg"
      },
      "source": [
        "**1. Functions**\n",
        "\n",
        "A function is a reusable block of code. We can use a function to output a value, or do anything else we want. We can easily define our own function by using the keyword \"def\"."
      ]
    },
    {
      "cell_type": "code",
      "metadata": {
        "colab": {
          "base_uri": "https://localhost:8080/"
        },
        "id": "q6WZ5xEAOyzg",
        "outputId": "31f73f40-ef43-4c6f-adbd-60e57120a09a"
      },
      "source": [
        "def product(x,y):\n",
        "    return x*y\n",
        "print (product(2,3))\n",
        "print (product(5,10))"
      ],
      "execution_count": 52,
      "outputs": [
        {
          "output_type": "stream",
          "name": "stdout",
          "text": [
            "6\n",
            "50\n"
          ]
        }
      ]
    },
    {
      "cell_type": "markdown",
      "metadata": {
        "id": "Z0IkUzTOO4Yy"
      },
      "source": [
        "**My code:**"
      ]
    },
    {
      "cell_type": "code",
      "metadata": {
        "colab": {
          "base_uri": "https://localhost:8080/"
        },
        "id": "kRMKLtmNO7dz",
        "outputId": "1631b243-cddf-418d-bb12-486bf94f6675"
      },
      "source": [
        "def sum1(x,y):\n",
        "    return x+y\n",
        "print (product(2,3))\n",
        "print (product(5,10))"
      ],
      "execution_count": 53,
      "outputs": [
        {
          "output_type": "stream",
          "name": "stdout",
          "text": [
            "6\n",
            "50\n"
          ]
        }
      ]
    },
    {
      "cell_type": "markdown",
      "metadata": {
        "id": "GRn60Vc6PKbt"
      },
      "source": [
        "**2.** The keyword \"def\" is followed by the function name and the parenthesized list of formal parameters. The statements that form the body of the function start at the next line, and must be indented. The product() function above has \"x\" and \"y\" as its parameters. A function doesn't necessarily have parameters"
      ]
    },
    {
      "cell_type": "code",
      "metadata": {
        "colab": {
          "base_uri": "https://localhost:8080/"
        },
        "id": "kcOpY-BdPipi",
        "outputId": "68a7c0cb-3520-49ab-bbd5-44e82d605789"
      },
      "source": [
        "def say_hi():\n",
        "    print (\"Welcome to QuantConnect\")\n",
        "say_hi()"
      ],
      "execution_count": 55,
      "outputs": [
        {
          "output_type": "stream",
          "name": "stdout",
          "text": [
            "Welcome to QuantConnect\n"
          ]
        }
      ]
    },
    {
      "cell_type": "markdown",
      "metadata": {
        "id": "wL1oNKwGPtT4"
      },
      "source": [
        "**My code:**"
      ]
    },
    {
      "cell_type": "code",
      "metadata": {
        "colab": {
          "base_uri": "https://localhost:8080/"
        },
        "id": "dXhwgloYPvjS",
        "outputId": "7aa7d3be-b8ac-4d36-c22a-2f8decc8865c"
      },
      "source": [
        "def say_hi():\n",
        "    print (\"Welcome to Algorithms\")\n",
        "say_hi()"
      ],
      "execution_count": 56,
      "outputs": [
        {
          "output_type": "stream",
          "name": "stdout",
          "text": [
            "Welcome to Algorithms\n"
          ]
        }
      ]
    },
    {
      "cell_type": "markdown",
      "metadata": {
        "id": "4ImkikpxPzb4"
      },
      "source": [
        "**3. Built-in Function**\n",
        "\n",
        "range() is a function that creates a list containing an arithmetic sequence. It's often used in for loops. The arguments must be integers. If the \"step\" argument is omitted, it defaults to 1."
      ]
    },
    {
      "cell_type": "code",
      "metadata": {
        "colab": {
          "base_uri": "https://localhost:8080/"
        },
        "id": "uHXpCEc1QPaJ",
        "outputId": "3bf314b9-ed7c-47ac-f2e4-555b1a798a48"
      },
      "source": [
        "print(range(10))\n",
        "print(range(1, 11))\n",
        "print(range(1, 11, 2))"
      ],
      "execution_count": 70,
      "outputs": [
        {
          "output_type": "stream",
          "name": "stdout",
          "text": [
            "range(0, 10)\n",
            "range(1, 11)\n",
            "range(1, 11, 2)\n"
          ]
        }
      ]
    },
    {
      "cell_type": "markdown",
      "metadata": {
        "id": "aMnfMXNMQYVU"
      },
      "source": [
        "**My code:**"
      ]
    },
    {
      "cell_type": "code",
      "metadata": {
        "colab": {
          "base_uri": "https://localhost:8080/"
        },
        "id": "bQof5k5kQazD",
        "outputId": "519b525b-c343-4fc6-d0fb-45c556a0712c"
      },
      "source": [
        "print(range(100))\n",
        "print(range(1, 211))\n",
        "print(range(1, 211, 3))"
      ],
      "execution_count": 71,
      "outputs": [
        {
          "output_type": "stream",
          "name": "stdout",
          "text": [
            "range(0, 100)\n",
            "range(1, 211)\n",
            "range(1, 211, 3)\n"
          ]
        }
      ]
    },
    {
      "cell_type": "markdown",
      "metadata": {
        "id": "s1A_QK6wS7Go"
      },
      "source": [
        "**4.** len() is another function used together with range() to create a for loop. This function returns the length of an object. The argument must be a sequence or a collection."
      ]
    },
    {
      "cell_type": "code",
      "metadata": {
        "colab": {
          "base_uri": "https://localhost:8080/"
        },
        "id": "6HRxNunMTG2K",
        "outputId": "c4184781-abfd-4aea-a435-e8f9a2e9dd7d"
      },
      "source": [
        "tickers = ['AAPL', 'GOOGL', 'IBM', 'FB', 'F', 'V', 'G', 'GE']\n",
        "print (\"The number of tickers is {}\".format(len(tickers)))\n",
        "for k in range(len(tickers)):\n",
        "    print (k + 1, tickers[k])"
      ],
      "execution_count": 73,
      "outputs": [
        {
          "output_type": "stream",
          "name": "stdout",
          "text": [
            "The number of tickers is 8\n",
            "1 AAPL\n",
            "2 GOOGL\n",
            "3 IBM\n",
            "4 FB\n",
            "5 F\n",
            "6 V\n",
            "7 G\n",
            "8 GE\n"
          ]
        }
      ]
    },
    {
      "cell_type": "markdown",
      "metadata": {
        "id": "EzvWkZNVTTbK"
      },
      "source": [
        "**My code:**"
      ]
    },
    {
      "cell_type": "code",
      "metadata": {
        "colab": {
          "base_uri": "https://localhost:8080/"
        },
        "id": "3Hy6yDtLTWfk",
        "outputId": "9de43cc4-d594-41c3-d3bc-58bcfd1c8b72"
      },
      "source": [
        "tickers = ['UNAL','DISTRITAL','PEDAGOGICA','UIS','BOGOTA','UNIVALLE', 'MANIZALES', 'UDEA']\n",
        "print (\"The number of tickers is {}\".format(len(tickers)))\n",
        "for k in range(len(tickers)):\n",
        "    print (k + 1, tickers[k])"
      ],
      "execution_count": 74,
      "outputs": [
        {
          "output_type": "stream",
          "name": "stdout",
          "text": [
            "The number of tickers is 8\n",
            "1 UNAL\n",
            "2 DISTRITAL\n",
            "3 PEDAGOGICA\n",
            "4 UIS\n",
            "5 BOGOTA\n",
            "6 UNIVALLE\n",
            "7 MANIZALES\n",
            "8 UDEA\n"
          ]
        }
      ]
    },
    {
      "cell_type": "markdown",
      "metadata": {
        "id": "GLfV-03vTgAT"
      },
      "source": [
        "**5.** map() is a function that applies a specific function to every item of a sequence or collection, and returns a list of the results."
      ]
    },
    {
      "cell_type": "code",
      "metadata": {
        "colab": {
          "base_uri": "https://localhost:8080/"
        },
        "id": "Fy-GM0IdT5vy",
        "outputId": "61530fab-237d-459b-cd43-655188dfa1c4"
      },
      "source": [
        "tickers = ['AAPL','GOOG','IBM','FB','F','V', 'G', 'GE']\n",
        "print(list(map(len,tickers)))"
      ],
      "execution_count": 75,
      "outputs": [
        {
          "output_type": "stream",
          "name": "stdout",
          "text": [
            "[4, 4, 3, 2, 1, 1, 1, 2]\n"
          ]
        }
      ]
    },
    {
      "cell_type": "markdown",
      "metadata": {
        "id": "OPr4CZqmT9-a"
      },
      "source": [
        "**My code:**"
      ]
    },
    {
      "cell_type": "code",
      "metadata": {
        "colab": {
          "base_uri": "https://localhost:8080/"
        },
        "id": "g7-kzMqJT_7V",
        "outputId": "62b15f9a-3be3-488e-ccc9-449775f1cc56"
      },
      "source": [
        "tickers = ['UNAL','DISTRITAL','PEDAGOGICA','UIS','BOGOTA','UNIVALLE', 'MANIZALES', 'UDEA']\n",
        "print(list(map(len,tickers)))"
      ],
      "execution_count": 76,
      "outputs": [
        {
          "output_type": "stream",
          "name": "stdout",
          "text": [
            "[4, 9, 10, 3, 6, 8, 9, 4]\n"
          ]
        }
      ]
    },
    {
      "cell_type": "markdown",
      "metadata": {
        "id": "pr50y1nFUFa6"
      },
      "source": [
        "**6.** The lambda operator is a way to create small anonymous functions. These functions are just needed where they have been created. For example:"
      ]
    },
    {
      "cell_type": "code",
      "metadata": {
        "colab": {
          "base_uri": "https://localhost:8080/"
        },
        "id": "V7zi2I-RUVYl",
        "outputId": "2cbbf227-1097-4717-d589-1a07a638f00b"
      },
      "source": [
        "print(list(map(lambda x: x**2, range(10))))"
      ],
      "execution_count": 79,
      "outputs": [
        {
          "output_type": "stream",
          "name": "stdout",
          "text": [
            "[0, 1, 4, 9, 16, 25, 36, 49, 64, 81]\n"
          ]
        }
      ]
    },
    {
      "cell_type": "markdown",
      "metadata": {
        "id": "1YEY5HphUnGX"
      },
      "source": [
        "**My code:**"
      ]
    },
    {
      "cell_type": "code",
      "metadata": {
        "colab": {
          "base_uri": "https://localhost:8080/"
        },
        "id": "SCRAPgezUpTE",
        "outputId": "ea15c43a-df01-4113-e66f-d238992ed194"
      },
      "source": [
        "print(list(map(lambda x: x**-1, range(1,10))))"
      ],
      "execution_count": 81,
      "outputs": [
        {
          "output_type": "stream",
          "name": "stdout",
          "text": [
            "[1.0, 0.5, 0.3333333333333333, 0.25, 0.2, 0.16666666666666666, 0.14285714285714285, 0.125, 0.1111111111111111]\n"
          ]
        }
      ]
    },
    {
      "cell_type": "markdown",
      "metadata": {
        "id": "95KV_USoU8fY"
      },
      "source": [
        "**7.** map() can be applied to more than one list. The lists have to have the same length."
      ]
    },
    {
      "cell_type": "code",
      "metadata": {
        "colab": {
          "base_uri": "https://localhost:8080/"
        },
        "id": "Mv1FKx-VgEMu",
        "outputId": "25fb53dd-3782-4c0e-cbec-7add2edad3ba"
      },
      "source": [
        "print(list(map(lambda x, y: x+y, [1,2,3,4,5], [5,4,3,2,1])))"
      ],
      "execution_count": 83,
      "outputs": [
        {
          "output_type": "stream",
          "name": "stdout",
          "text": [
            "[6, 6, 6, 6, 6]\n"
          ]
        }
      ]
    },
    {
      "cell_type": "markdown",
      "metadata": {
        "id": "bRrEyAZVgPtt"
      },
      "source": [
        "**My code:**"
      ]
    },
    {
      "cell_type": "code",
      "metadata": {
        "colab": {
          "base_uri": "https://localhost:8080/"
        },
        "id": "2uqMYDoHgSEd",
        "outputId": "abda4d06-9053-442e-d52d-16efa73ead86"
      },
      "source": [
        "print(list(map(lambda x, y: x+y, [1,-16,-7,4,5], [-5,-4,-3,-2,-1])))"
      ],
      "execution_count": 85,
      "outputs": [
        {
          "output_type": "stream",
          "name": "stdout",
          "text": [
            "[-4, -20, -10, 2, 4]\n"
          ]
        }
      ]
    },
    {
      "cell_type": "markdown",
      "metadata": {
        "id": "mtcodfX6gezt"
      },
      "source": [
        "**8.** sorted() takes a list or set and returns a new sorted list:"
      ]
    },
    {
      "cell_type": "code",
      "metadata": {
        "colab": {
          "base_uri": "https://localhost:8080/"
        },
        "id": "dpune86Jgjnh",
        "outputId": "3f7c061f-a29b-4327-bb42-26dcdb05cbeb"
      },
      "source": [
        "sorted([5,2,3,4,1])"
      ],
      "execution_count": 86,
      "outputs": [
        {
          "output_type": "execute_result",
          "data": {
            "text/plain": [
              "[1, 2, 3, 4, 5]"
            ]
          },
          "metadata": {},
          "execution_count": 86
        }
      ]
    },
    {
      "cell_type": "markdown",
      "metadata": {
        "id": "omfWeNhigoBN"
      },
      "source": [
        "**My code:**"
      ]
    },
    {
      "cell_type": "code",
      "metadata": {
        "colab": {
          "base_uri": "https://localhost:8080/"
        },
        "id": "WtyypvEKgqgp",
        "outputId": "0eb16b4c-f4fa-4222-a924-40ad03936018"
      },
      "source": [
        "sorted([-5,-2,-3,4,-1])"
      ],
      "execution_count": 87,
      "outputs": [
        {
          "output_type": "execute_result",
          "data": {
            "text/plain": [
              "[-5, -3, -2, -1, 4]"
            ]
          },
          "metadata": {},
          "execution_count": 87
        }
      ]
    },
    {
      "cell_type": "markdown",
      "metadata": {
        "id": "sTzyg-YAguYt"
      },
      "source": [
        "**9.** We can add a \"key\" parameter to specify a function to be called on each list element prior to making comparisons. For example:"
      ]
    },
    {
      "cell_type": "code",
      "metadata": {
        "colab": {
          "base_uri": "https://localhost:8080/"
        },
        "id": "7dGIEEJ5nLnz",
        "outputId": "dbfffe26-ecec-48a9-afd3-4322fd8be91c"
      },
      "source": [
        "price_list = [('AAPL', 144.09), ('GOOGL', 911.71), ('MSFT', 69), ('FB', 150), ('WMT', 75.32)]\n",
        "sorted(price_list, key = lambda x: x[1])"
      ],
      "execution_count": 88,
      "outputs": [
        {
          "output_type": "execute_result",
          "data": {
            "text/plain": [
              "[('MSFT', 69),\n",
              " ('WMT', 75.32),\n",
              " ('AAPL', 144.09),\n",
              " ('FB', 150),\n",
              " ('GOOGL', 911.71)]"
            ]
          },
          "metadata": {},
          "execution_count": 88
        }
      ]
    },
    {
      "cell_type": "markdown",
      "metadata": {
        "id": "hwoVkTnKnRK2"
      },
      "source": [
        "**My code:**"
      ]
    },
    {
      "cell_type": "code",
      "metadata": {
        "colab": {
          "base_uri": "https://localhost:8080/"
        },
        "id": "lxQu6ZJSnUrY",
        "outputId": "1822c06f-59a7-4def-f201-3861e71b3ae9"
      },
      "source": [
        "price_list = [('UNAL', 144.09), ('DISTRITAL', 911.71), ('PEDAGOGICA', 69), ('UNIVALLE', 150), ('UIS', 75.32)]\n",
        "sorted(price_list, key = lambda x: x[1])"
      ],
      "execution_count": 89,
      "outputs": [
        {
          "output_type": "execute_result",
          "data": {
            "text/plain": [
              "[('PEDAGOGICA', 69),\n",
              " ('UIS', 75.32),\n",
              " ('UNAL', 144.09),\n",
              " ('UNIVALLE', 150),\n",
              " ('DISTRITAL', 911.71)]"
            ]
          },
          "metadata": {},
          "execution_count": 89
        }
      ]
    },
    {
      "cell_type": "markdown",
      "metadata": {
        "id": "OQbsw7oTnpGc"
      },
      "source": [
        "**10.** By default the values are sorted by ascending order. We can change it to descending by adding an optional parameter \"reverse'."
      ]
    },
    {
      "cell_type": "code",
      "metadata": {
        "colab": {
          "base_uri": "https://localhost:8080/"
        },
        "id": "lLXHMz5s0IvR",
        "outputId": "937c8c08-993e-4a9e-d73f-d80c49521bed"
      },
      "source": [
        "price_list = [('AAPL', 144.09), ('GOOGL', 911.71), ('MSFT', 69), ('FB', 150), ('WMT', 75.32)]\n",
        "sorted(price_list, key = lambda x: x[1], reverse = True)"
      ],
      "execution_count": 90,
      "outputs": [
        {
          "output_type": "execute_result",
          "data": {
            "text/plain": [
              "[('GOOGL', 911.71),\n",
              " ('FB', 150),\n",
              " ('AAPL', 144.09),\n",
              " ('WMT', 75.32),\n",
              " ('MSFT', 69)]"
            ]
          },
          "metadata": {},
          "execution_count": 90
        }
      ]
    },
    {
      "cell_type": "markdown",
      "metadata": {
        "id": "oBfKZP_H0KSZ"
      },
      "source": [
        "**My code:**"
      ]
    },
    {
      "cell_type": "code",
      "metadata": {
        "colab": {
          "base_uri": "https://localhost:8080/"
        },
        "id": "y1laKNON0Nyp",
        "outputId": "2be84410-2d97-475c-c4b4-e83e9b4e5cc4"
      },
      "source": [
        "price_list = [('UNAL', 144.09), ('DISTRITAL', 911.71), ('PEDAGOGICA', 69), ('UNIVALLE', 150), ('UIS', 75.32)]\n",
        "sorted(price_list, key = lambda x: x[1], reverse = True)"
      ],
      "execution_count": 91,
      "outputs": [
        {
          "output_type": "execute_result",
          "data": {
            "text/plain": [
              "[('DISTRITAL', 911.71),\n",
              " ('UNIVALLE', 150),\n",
              " ('UNAL', 144.09),\n",
              " ('UIS', 75.32),\n",
              " ('PEDAGOGICA', 69)]"
            ]
          },
          "metadata": {},
          "execution_count": 91
        }
      ]
    },
    {
      "cell_type": "markdown",
      "metadata": {
        "id": "vUomSg0W0xM6"
      },
      "source": [
        "**11.** Lists also have a function list.sort(). This function takes the same \"key\" and \"reverse\" arguments as sorted(), but it doesn't return a new list."
      ]
    },
    {
      "cell_type": "code",
      "metadata": {
        "colab": {
          "base_uri": "https://localhost:8080/"
        },
        "id": "R37sHGU200rR",
        "outputId": "a4a7c99b-6e81-4590-b0d0-38530112abfc"
      },
      "source": [
        "price_list = [('AAPL', 144.09), ('GOOGL', 911.71), ('MSFT', 69), ('FB', 150), ('WMT', 75.32)]\n",
        "price_list.sort(key = lambda x: x[1])\n",
        "print (price_list)"
      ],
      "execution_count": 92,
      "outputs": [
        {
          "output_type": "stream",
          "name": "stdout",
          "text": [
            "[('MSFT', 69), ('WMT', 75.32), ('AAPL', 144.09), ('FB', 150), ('GOOGL', 911.71)]\n"
          ]
        }
      ]
    },
    {
      "cell_type": "markdown",
      "metadata": {
        "id": "KVHQQj_C08vZ"
      },
      "source": [
        "**My code:**"
      ]
    },
    {
      "cell_type": "code",
      "metadata": {
        "colab": {
          "base_uri": "https://localhost:8080/"
        },
        "id": "-vlfvw091AO5",
        "outputId": "2364827e-a254-4744-943f-7db345394462"
      },
      "source": [
        "price_list = [('UNAL', 144.09), ('DISTRITAL', 911.71), ('PEDAGOGICA', 69), ('UNIVALLE', 150), ('UIS', 75.32)]\n",
        "price_list.sort(key = lambda x: x[1])\n",
        "print (price_list)"
      ],
      "execution_count": 93,
      "outputs": [
        {
          "output_type": "stream",
          "name": "stdout",
          "text": [
            "[('PEDAGOGICA', 69), ('UIS', 75.32), ('UNAL', 144.09), ('UNIVALLE', 150), ('DISTRITAL', 911.71)]\n"
          ]
        }
      ]
    },
    {
      "cell_type": "markdown",
      "metadata": {
        "id": "-LzY-wht1QX_"
      },
      "source": [
        "**12. Object-Oriented Programming**\n",
        "\n",
        "Python is an object-oriented programming language. It's important to understand the concept of \"objects\" because almost every kind of data from QuantConnect API is an object."
      ]
    },
    {
      "cell_type": "markdown",
      "metadata": {
        "id": "R1exA_Zf1d98"
      },
      "source": [
        "**Class**\n",
        "\n",
        "A class is a type of data, just like a string, float, or list. When we create an object of that data type, we call it an instance of a class.\n",
        "\n",
        "In Python, everything is an object - everything is an instance of some class. The data stored inside an object are called attributes, and the functions which are associated with the object are called methods.\n",
        "\n",
        "For example, as mentioned above, a list is an object of the \"list\" class, and it has a method list.sort().\n",
        "\n",
        "We can create our own objects by defining a class. We would do this when it's helpful to group certain functions together. For example, we define a class named \"Stock\" here:"
      ]
    },
    {
      "cell_type": "code",
      "metadata": {
        "id": "NsYyOZfm21Pw"
      },
      "source": [
        "class Stock:\n",
        "    def __init__(self, ticker, open, close, volume):\n",
        "        self.ticker = ticker\n",
        "        self.open = open\n",
        "        self.close = close\n",
        "        self.volume = volume\n",
        "        self.rate_return = float(close)/open - 1\n",
        "\n",
        "    def update(self, open, close):\n",
        "        self.open = open\n",
        "        self.close = close\n",
        "        self.rate_return = float(self.close)/self.open - 1\n",
        "\n",
        "    def print_return(self):\n",
        "        print (self.rate_return)"
      ],
      "execution_count": 95,
      "outputs": []
    },
    {
      "cell_type": "markdown",
      "metadata": {
        "id": "OKYjbjAm27XM"
      },
      "source": [
        "**My code:**"
      ]
    },
    {
      "cell_type": "code",
      "metadata": {
        "id": "foOCm6R33AHe"
      },
      "source": [
        "class Stock1:\n",
        "    def __init__(self, var1, var2, var3, var4):\n",
        "        self.var1 = var1\n",
        "        self.var2 = var2\n",
        "        self.var3 = var3\n",
        "        self.var4 = var4\n",
        "        self.rate_return = float(var3)/var2 - 1\n",
        "\n",
        "    def method1(self, var2, var3):\n",
        "        self.var2 = var2\n",
        "        self.var3 = var3\n",
        "        self.rate_return = float(self.var3)/self.var2 - 1\n",
        "\n",
        "    def print_return(self):\n",
        "        print (self.rate_return)"
      ],
      "execution_count": 112,
      "outputs": []
    },
    {
      "cell_type": "markdown",
      "metadata": {
        "id": "Ge4maens32S5"
      },
      "source": [
        "**13.** The \"Stock\" class has attributes \"ticker\", \"open\", \"close\", \"volume\" and \"rate_return\". Inside the class body, the first method is called __init__, which is a special method. When we create a new instance of the class, the __init__ method is immediately executed with all the parameters that we pass to the \"Stock\" object. The purpose of this method is to set up a new \"Stock\" object using data we have provided.\n",
        "\n",
        "Here we create two Stock objects named \"apple\" and \"google\"."
      ]
    },
    {
      "cell_type": "code",
      "metadata": {
        "id": "-ilzpzri36mI"
      },
      "source": [
        "apple  = Stock('AAPL', 143.69, 144.09, 20109375)\n",
        "google = Stock('GOOGL', 898.7, 911.7, 1561616)"
      ],
      "execution_count": 99,
      "outputs": []
    },
    {
      "cell_type": "markdown",
      "metadata": {
        "id": "RhYqPcso3-eI"
      },
      "source": [
        "**My code:**"
      ]
    },
    {
      "cell_type": "code",
      "metadata": {
        "id": "tyk7qLMx4Ar4"
      },
      "source": [
        "unal  = Stock1('UNAL', 143.69, 144.09, 20109375)\n",
        "uis = Stock1('UIS', 898.7, 911.7, 1561616)"
      ],
      "execution_count": 113,
      "outputs": []
    },
    {
      "cell_type": "markdown",
      "metadata": {
        "id": "B2bkTy8Q4QKh"
      },
      "source": [
        "**14.** Stock objects also have two other methods: update() and print_return(). We can access the attribues of a Stock object and call its methods"
      ]
    },
    {
      "cell_type": "code",
      "metadata": {
        "colab": {
          "base_uri": "https://localhost:8080/"
        },
        "id": "cSL9fZ9O4S7y",
        "outputId": "d1b0aceb-7c36-4e6d-c3b1-b9a990423714"
      },
      "source": [
        "apple.ticker\n",
        "google.print_return()\n",
        "google.update(912.8,913.4)\n",
        "google.print_return()"
      ],
      "execution_count": 101,
      "outputs": [
        {
          "output_type": "stream",
          "name": "stdout",
          "text": [
            "0.014465338822744034\n",
            "0.0006573181419806673\n"
          ]
        }
      ]
    },
    {
      "cell_type": "markdown",
      "metadata": {
        "id": "4WiD-3Vm4fHP"
      },
      "source": [
        "**My code (in my code the method1() is update()):**"
      ]
    },
    {
      "cell_type": "code",
      "metadata": {
        "colab": {
          "base_uri": "https://localhost:8080/"
        },
        "id": "xaaN6V2E4w6F",
        "outputId": "81a5a8d1-6575-4db4-b62c-7c12ede0639d"
      },
      "source": [
        "unal.var1\n",
        "uis.print_return()\n",
        "uis.method1(912.8,913.4)\n",
        "uis.print_return()"
      ],
      "execution_count": 115,
      "outputs": [
        {
          "output_type": "stream",
          "name": "stdout",
          "text": [
            "0.014465338822744034\n",
            "0.0006573181419806673\n"
          ]
        }
      ]
    },
    {
      "cell_type": "markdown",
      "metadata": {
        "id": "SPT7SNyW48lp"
      },
      "source": [
        "**15.** By calling the update() function, we updated the open and close prices of a stock. Please note that when we use the attributes or call the methods inside a class, we need to specify them as self.attribute or self.method(), otherwise Python will deem them as global variables and thus raise an error.\n",
        "\n",
        "We can add an attribute to an object anywhere:"
      ]
    },
    {
      "cell_type": "code",
      "metadata": {
        "colab": {
          "base_uri": "https://localhost:8080/",
          "height": 35
        },
        "id": "f29ePyEn5nRt",
        "outputId": "a3a746c8-a634-4241-9c89-273f8b9af306"
      },
      "source": [
        "apple.ceo = 'Tim Cook'\n",
        "apple.ceo"
      ],
      "execution_count": 104,
      "outputs": [
        {
          "output_type": "execute_result",
          "data": {
            "application/vnd.google.colaboratory.intrinsic+json": {
              "type": "string"
            },
            "text/plain": [
              "'Tim Cook'"
            ]
          },
          "metadata": {},
          "execution_count": 104
        }
      ]
    },
    {
      "cell_type": "markdown",
      "metadata": {
        "id": "xscq4qBj5p2-"
      },
      "source": [
        "**My code:**"
      ]
    },
    {
      "cell_type": "code",
      "metadata": {
        "colab": {
          "base_uri": "https://localhost:8080/",
          "height": 35
        },
        "id": "xW5ZN6Lg5smh",
        "outputId": "609f3b2d-8137-49fb-e8d5-447c93e9621f"
      },
      "source": [
        "unal.campus = 'Manizales'\n",
        "unal.campus"
      ],
      "execution_count": 110,
      "outputs": [
        {
          "output_type": "execute_result",
          "data": {
            "application/vnd.google.colaboratory.intrinsic+json": {
              "type": "string"
            },
            "text/plain": [
              "'Manizales'"
            ]
          },
          "metadata": {},
          "execution_count": 110
        }
      ]
    },
    {
      "cell_type": "markdown",
      "metadata": {
        "id": "8xhIUeZS59OJ"
      },
      "source": [
        "**16.** We can check what names (i.e. attributes and methods) are defined on an object using the dir() function:"
      ]
    },
    {
      "cell_type": "code",
      "metadata": {
        "colab": {
          "base_uri": "https://localhost:8080/"
        },
        "id": "T9E09FHq6EgR",
        "outputId": "c9683aaa-cefa-4517-aa85-447c43091d1d"
      },
      "source": [
        "dir(apple)"
      ],
      "execution_count": 106,
      "outputs": [
        {
          "output_type": "execute_result",
          "data": {
            "text/plain": [
              "['__class__',\n",
              " '__delattr__',\n",
              " '__dict__',\n",
              " '__dir__',\n",
              " '__doc__',\n",
              " '__eq__',\n",
              " '__format__',\n",
              " '__ge__',\n",
              " '__getattribute__',\n",
              " '__gt__',\n",
              " '__hash__',\n",
              " '__init__',\n",
              " '__init_subclass__',\n",
              " '__le__',\n",
              " '__lt__',\n",
              " '__module__',\n",
              " '__ne__',\n",
              " '__new__',\n",
              " '__reduce__',\n",
              " '__reduce_ex__',\n",
              " '__repr__',\n",
              " '__setattr__',\n",
              " '__sizeof__',\n",
              " '__str__',\n",
              " '__subclasshook__',\n",
              " '__weakref__',\n",
              " 'ceo',\n",
              " 'close',\n",
              " 'open',\n",
              " 'print_return',\n",
              " 'rate_return',\n",
              " 'ticker',\n",
              " 'update',\n",
              " 'volume']"
            ]
          },
          "metadata": {},
          "execution_count": 106
        }
      ]
    },
    {
      "cell_type": "markdown",
      "metadata": {
        "id": "QoSB_Vn36ONq"
      },
      "source": [
        "**My code:**"
      ]
    },
    {
      "cell_type": "code",
      "metadata": {
        "colab": {
          "base_uri": "https://localhost:8080/"
        },
        "id": "pfjxiLAg6QtO",
        "outputId": "825cdf4b-0435-4d21-acf9-9dfdff7629e7"
      },
      "source": [
        "dir(unal)"
      ],
      "execution_count": 116,
      "outputs": [
        {
          "output_type": "execute_result",
          "data": {
            "text/plain": [
              "['__class__',\n",
              " '__delattr__',\n",
              " '__dict__',\n",
              " '__dir__',\n",
              " '__doc__',\n",
              " '__eq__',\n",
              " '__format__',\n",
              " '__ge__',\n",
              " '__getattribute__',\n",
              " '__gt__',\n",
              " '__hash__',\n",
              " '__init__',\n",
              " '__init_subclass__',\n",
              " '__le__',\n",
              " '__lt__',\n",
              " '__module__',\n",
              " '__ne__',\n",
              " '__new__',\n",
              " '__reduce__',\n",
              " '__reduce_ex__',\n",
              " '__repr__',\n",
              " '__setattr__',\n",
              " '__sizeof__',\n",
              " '__str__',\n",
              " '__subclasshook__',\n",
              " '__weakref__',\n",
              " 'method1',\n",
              " 'print_return',\n",
              " 'rate_return',\n",
              " 'var1',\n",
              " 'var2',\n",
              " 'var3',\n",
              " 'var4']"
            ]
          },
          "metadata": {},
          "execution_count": 116
        }
      ]
    },
    {
      "cell_type": "markdown",
      "metadata": {
        "id": "Au9qH_yy86WF"
      },
      "source": [
        "**17. Inheritance**\n",
        "\n",
        "Inheritance is a way of arranging classes in a hierarchy from the most general to the most specific. A \"child\" class is a more specific type of a \"parent\" class because a child class will inherit all the attribues and methods of its parent. For example, we define a class named \"Child\" which inherits \"Stock\":"
      ]
    },
    {
      "cell_type": "code",
      "metadata": {
        "id": "Oq5mOw5R9AGR"
      },
      "source": [
        "class Child(Stock):\n",
        "    def __init__(self, name):\n",
        "        self.name = name"
      ],
      "execution_count": 117,
      "outputs": []
    },
    {
      "cell_type": "markdown",
      "metadata": {
        "id": "xRDt7nTh9Hc_"
      },
      "source": [
        "**My code:**"
      ]
    },
    {
      "cell_type": "code",
      "metadata": {
        "id": "Lj1JQmEr9KSi"
      },
      "source": [
        "class Unal_Child(Stock1):\n",
        "    def __init__(self, name):\n",
        "        self.name = name"
      ],
      "execution_count": 118,
      "outputs": []
    },
    {
      "cell_type": "markdown",
      "metadata": {
        "id": "yMHFMgjk9Vcg"
      },
      "source": [
        "**18.** Then we create an object:"
      ]
    },
    {
      "cell_type": "code",
      "metadata": {
        "colab": {
          "base_uri": "https://localhost:8080/"
        },
        "id": "nnGF4hr59cio",
        "outputId": "bd5158a0-7a59-4ab5-cae0-38fec64321b9"
      },
      "source": [
        "aa = Child('AA')\n",
        "print (aa.name)\n",
        "aa.update(100, 102)\n",
        "print (aa.open)\n",
        "print (aa.close)\n",
        "aa.print_return()"
      ],
      "execution_count": 121,
      "outputs": [
        {
          "output_type": "stream",
          "name": "stdout",
          "text": [
            "AA\n",
            "100\n",
            "102\n",
            "0.020000000000000018\n"
          ]
        }
      ]
    },
    {
      "cell_type": "markdown",
      "metadata": {
        "id": "5suGTsC89t4n"
      },
      "source": [
        "**My code:**"
      ]
    },
    {
      "cell_type": "code",
      "metadata": {
        "colab": {
          "base_uri": "https://localhost:8080/"
        },
        "id": "92yAzILV9v-c",
        "outputId": "72242f61-f15a-471b-fd67-4d8fc1b78e9f"
      },
      "source": [
        "aa = Unal_Child('Ingenieria')\n",
        "print (aa.name)\n",
        "aa.method1(100, 102)\n",
        "print (aa.var2)\n",
        "print (aa.var3)\n",
        "aa.print_return()"
      ],
      "execution_count": 122,
      "outputs": [
        {
          "output_type": "stream",
          "name": "stdout",
          "text": [
            "Ingenieria\n",
            "100\n",
            "102\n",
            "0.020000000000000018\n"
          ]
        }
      ]
    },
    {
      "cell_type": "markdown",
      "metadata": {
        "id": "oyRYzJUA-qUM"
      },
      "source": [
        "## **NumPy and Basic Pandas (Tutorial #4)**"
      ]
    },
    {
      "cell_type": "markdown",
      "metadata": {
        "id": "hR6cQB1e-1Og"
      },
      "source": [
        "**Introduction**\n",
        "\n",
        "Now that we have introduced the fundamentals of Python, it's time to learn about NumPy and Pandas.\n",
        "\n",
        "**1. NumPy**\n",
        "\n",
        "NumPy is the core library for scientific computing in Python. It provides a high-performance multidimensional array object, and tools for working with these arrays. It also has strong integration with Pandas, which is another powerful tool for manipulating financial data.\n",
        "\n",
        "Python packages like NumPy and Pandas contain classes and methods which we can use by importing the package:"
      ]
    },
    {
      "cell_type": "code",
      "metadata": {
        "id": "ynrH4vn1-9SO"
      },
      "source": [
        "import numpy as np"
      ],
      "execution_count": 123,
      "outputs": []
    },
    {
      "cell_type": "markdown",
      "metadata": {
        "id": "NA57lOvNBJd4"
      },
      "source": [
        "**My code:**"
      ]
    },
    {
      "cell_type": "code",
      "metadata": {
        "id": "4d8xhi-HBLoH"
      },
      "source": [
        "import numpy as nump"
      ],
      "execution_count": 124,
      "outputs": []
    },
    {
      "cell_type": "markdown",
      "metadata": {
        "id": "DK7Sj1wtBOu9"
      },
      "source": [
        "**2.** **Basic NumPy Arrays**\n",
        "\n",
        "A NumPy array is a grid of values, all of the same type, and is indexed by a tuple of nonnegative integers. Here we make an array by passing a list of Apple stock prices:"
      ]
    },
    {
      "cell_type": "code",
      "metadata": {
        "colab": {
          "base_uri": "https://localhost:8080/"
        },
        "id": "18IwTGEkBZds",
        "outputId": "4d7ea9d5-3242-45a5-eae9-025241bb559b"
      },
      "source": [
        "price_list = [143.73, 145.83, 143.68, 144.02, 143.5, 142.62]\n",
        "price_array = np.array(price_list)\n",
        "print (price_array, type(price_array))"
      ],
      "execution_count": 126,
      "outputs": [
        {
          "output_type": "stream",
          "name": "stdout",
          "text": [
            "[143.73 145.83 143.68 144.02 143.5  142.62] <class 'numpy.ndarray'>\n"
          ]
        }
      ]
    },
    {
      "cell_type": "markdown",
      "metadata": {
        "id": "Xw7qDVheBeo4"
      },
      "source": [
        "**My code:**"
      ]
    },
    {
      "cell_type": "code",
      "metadata": {
        "colab": {
          "base_uri": "https://localhost:8080/"
        },
        "id": "s7D8gQYHBgf3",
        "outputId": "15e939fe-b3ed-4416-e336-815040d626a0"
      },
      "source": [
        "list1 = [143.73, 145.83, 143.68, 144.02, 143.5, 142.62]\n",
        "array1 = nump.array(list1)\n",
        "print (array1, type(array1))"
      ],
      "execution_count": 127,
      "outputs": [
        {
          "output_type": "stream",
          "name": "stdout",
          "text": [
            "[143.73 145.83 143.68 144.02 143.5  142.62] <class 'numpy.ndarray'>\n"
          ]
        }
      ]
    },
    {
      "cell_type": "markdown",
      "metadata": {
        "id": "JzAQ1VXkB6V4"
      },
      "source": [
        "**3.** Notice that the type of array is \"ndarray\" which is a multi-dimensional array. If we pass np.array() a list of lists, it will create a 2-dimensional array."
      ]
    },
    {
      "cell_type": "code",
      "metadata": {
        "colab": {
          "base_uri": "https://localhost:8080/"
        },
        "id": "DGoLiUVMB-UW",
        "outputId": "6cdc120e-5f19-4a4c-8b29-130fe3b87875"
      },
      "source": [
        "Ar = np.array([[1,3], [2,4]])\n",
        "print (Ar, type(Ar))"
      ],
      "execution_count": 129,
      "outputs": [
        {
          "output_type": "stream",
          "name": "stdout",
          "text": [
            "[[1 3]\n",
            " [2 4]] <class 'numpy.ndarray'>\n"
          ]
        }
      ]
    },
    {
      "cell_type": "markdown",
      "metadata": {
        "id": "PXzWB07HCDgv"
      },
      "source": [
        "**My code:**"
      ]
    },
    {
      "cell_type": "code",
      "metadata": {
        "colab": {
          "base_uri": "https://localhost:8080/"
        },
        "id": "7BgI0xR2CGn6",
        "outputId": "ede553a4-4d7d-4a53-9743-c94b173763de"
      },
      "source": [
        "numpAr = nump.array([[-1,-3], [-2,-4]])\n",
        "print (numpAr, type(numpAr))"
      ],
      "execution_count": 132,
      "outputs": [
        {
          "output_type": "stream",
          "name": "stdout",
          "text": [
            "[[-1 -3]\n",
            " [-2 -4]] <class 'numpy.ndarray'>\n"
          ]
        }
      ]
    },
    {
      "cell_type": "markdown",
      "metadata": {
        "id": "_aCd3U6HCZAO"
      },
      "source": [
        "**4.** We get the dimensions of an ndarray using the .shape attribute:"
      ]
    },
    {
      "cell_type": "code",
      "metadata": {
        "colab": {
          "base_uri": "https://localhost:8080/"
        },
        "id": "TjWSBXlICgJv",
        "outputId": "6c9e417e-a4e8-4c3f-ba75-1daf6a38ed88"
      },
      "source": [
        "print (Ar.shape)"
      ],
      "execution_count": 133,
      "outputs": [
        {
          "output_type": "stream",
          "name": "stdout",
          "text": [
            "(2, 2)\n"
          ]
        }
      ]
    },
    {
      "cell_type": "markdown",
      "metadata": {
        "id": "D4ZvpCZ_CjSK"
      },
      "source": [
        "**My code:**"
      ]
    },
    {
      "cell_type": "code",
      "metadata": {
        "colab": {
          "base_uri": "https://localhost:8080/"
        },
        "id": "aL09YRsQClPo",
        "outputId": "619284f3-bd40-4e56-a7e6-6e15656c7253"
      },
      "source": [
        "print (numpAr.shape)"
      ],
      "execution_count": 134,
      "outputs": [
        {
          "output_type": "stream",
          "name": "stdout",
          "text": [
            "(2, 2)\n"
          ]
        }
      ]
    },
    {
      "cell_type": "markdown",
      "metadata": {
        "id": "q06dO_uFCqBH"
      },
      "source": [
        "**5.** If we create an 2-dimensional array (i.e. matrix), each row can be accessed by index:"
      ]
    },
    {
      "cell_type": "code",
      "metadata": {
        "colab": {
          "base_uri": "https://localhost:8080/"
        },
        "id": "fUmppmSzC0u9",
        "outputId": "961edf70-92dc-4c55-e09e-e789c381193e"
      },
      "source": [
        "print (Ar[0])\n",
        "print (Ar[1])"
      ],
      "execution_count": 135,
      "outputs": [
        {
          "output_type": "stream",
          "name": "stdout",
          "text": [
            "[1 3]\n",
            "[2 4]\n"
          ]
        }
      ]
    },
    {
      "cell_type": "markdown",
      "metadata": {
        "id": "z_pGrSLXC7jg"
      },
      "source": [
        "**My code:**"
      ]
    },
    {
      "cell_type": "code",
      "metadata": {
        "colab": {
          "base_uri": "https://localhost:8080/"
        },
        "id": "Xp3dIxqSC9hz",
        "outputId": "62788854-0eb5-4a97-82b6-d66c16ad3b82"
      },
      "source": [
        "print (numpAr[0])\n",
        "print (numpAr[1])"
      ],
      "execution_count": 136,
      "outputs": [
        {
          "output_type": "stream",
          "name": "stdout",
          "text": [
            "[-1 -3]\n",
            "[-2 -4]\n"
          ]
        }
      ]
    },
    {
      "cell_type": "markdown",
      "metadata": {
        "id": "TxgAdXxHDAnQ"
      },
      "source": [
        "**6.** If we want to access the matrix by column instead:"
      ]
    },
    {
      "cell_type": "code",
      "metadata": {
        "colab": {
          "base_uri": "https://localhost:8080/"
        },
        "id": "BWfNQFmIDQWW",
        "outputId": "1e597377-3378-40f0-e8a5-08c914cc23bb"
      },
      "source": [
        "print ('First column:', Ar[:,0])\n",
        "print ('Second column:', Ar[:,1])"
      ],
      "execution_count": 138,
      "outputs": [
        {
          "output_type": "stream",
          "name": "stdout",
          "text": [
            "First column: [1 2]\n",
            "Second column: [3 4]\n"
          ]
        }
      ]
    },
    {
      "cell_type": "markdown",
      "metadata": {
        "id": "YVeMmrJ4Dftv"
      },
      "source": [
        "**My code:**"
      ]
    },
    {
      "cell_type": "code",
      "metadata": {
        "colab": {
          "base_uri": "https://localhost:8080/"
        },
        "id": "kka71DE5Dk1O",
        "outputId": "1272ca64-796a-41e8-9c4d-7fa1b10f0cdc"
      },
      "source": [
        "print ('First column:', numpAr[:,0])\n",
        "print ('Second column:', numpAr[:,1])"
      ],
      "execution_count": 142,
      "outputs": [
        {
          "output_type": "stream",
          "name": "stdout",
          "text": [
            "First column: [-1 -2]\n",
            "Second column: [-3 -4]\n"
          ]
        }
      ]
    },
    {
      "cell_type": "markdown",
      "metadata": {
        "id": "fqnT7iEbD0Jg"
      },
      "source": [
        "**7.** **Array Functions**\n",
        "\n",
        "Some functions built in NumPy that allow us to perform calculations on arrays. For example, we can apply the natural logarithm to each element of an array:"
      ]
    },
    {
      "cell_type": "code",
      "metadata": {
        "colab": {
          "base_uri": "https://localhost:8080/"
        },
        "id": "ulqfQNlWD4Or",
        "outputId": "840abf04-5438-41c9-8097-72ecdbf9ae7b"
      },
      "source": [
        "np.log(price_array)"
      ],
      "execution_count": 143,
      "outputs": [
        {
          "output_type": "execute_result",
          "data": {
            "text/plain": [
              "array([4.96793654, 4.98244156, 4.9675886 , 4.96995218, 4.96633504,\n",
              "       4.96018375])"
            ]
          },
          "metadata": {},
          "execution_count": 143
        }
      ]
    },
    {
      "cell_type": "markdown",
      "metadata": {
        "id": "5D1ArzedD-82"
      },
      "source": [
        "**My code:**"
      ]
    },
    {
      "cell_type": "code",
      "metadata": {
        "colab": {
          "base_uri": "https://localhost:8080/"
        },
        "id": "y_84tUjZEBJt",
        "outputId": "75a38b8b-aa9c-457e-8857-8e12e0e316dd"
      },
      "source": [
        "nump.log(array1)"
      ],
      "execution_count": 145,
      "outputs": [
        {
          "output_type": "execute_result",
          "data": {
            "text/plain": [
              "array([4.96793654, 4.98244156, 4.9675886 , 4.96995218, 4.96633504,\n",
              "       4.96018375])"
            ]
          },
          "metadata": {},
          "execution_count": 145
        }
      ]
    },
    {
      "cell_type": "markdown",
      "metadata": {
        "id": "oo1WDVFcEPfv"
      },
      "source": [
        "**8.** Other functions return a single value:"
      ]
    },
    {
      "cell_type": "code",
      "metadata": {
        "colab": {
          "base_uri": "https://localhost:8080/"
        },
        "id": "5tlfmfr_Ea3T",
        "outputId": "e5dacbef-fa6c-4a94-a07c-6075ab61109c"
      },
      "source": [
        "print (np.mean(price_array))\n",
        "print (np.std(price_array))\n",
        "print (np.sum(price_array))\n",
        "print (np.max(price_array))"
      ],
      "execution_count": 147,
      "outputs": [
        {
          "output_type": "stream",
          "name": "stdout",
          "text": [
            "143.89666666666668\n",
            "0.9673790478515796\n",
            "863.38\n",
            "145.83\n"
          ]
        }
      ]
    },
    {
      "cell_type": "markdown",
      "metadata": {
        "id": "gXGekmj3E1l9"
      },
      "source": [
        "**My code:**"
      ]
    },
    {
      "cell_type": "code",
      "metadata": {
        "colab": {
          "base_uri": "https://localhost:8080/"
        },
        "id": "GNgtksO7E44i",
        "outputId": "4bf1b1aa-fe5f-4261-bedd-c92053e6bd23"
      },
      "source": [
        "print (nump.mean(array1))\n",
        "print (nump.std(array1))\n",
        "print (nump.sum(array1))\n",
        "print (nump.max(array1))"
      ],
      "execution_count": 148,
      "outputs": [
        {
          "output_type": "stream",
          "name": "stdout",
          "text": [
            "143.89666666666668\n",
            "0.9673790478515796\n",
            "863.38\n",
            "145.83\n"
          ]
        }
      ]
    },
    {
      "cell_type": "markdown",
      "metadata": {
        "id": "ApdVJVnPFNFg"
      },
      "source": [
        "The functions above return the mean, standard deviation, total and maximum value of an array."
      ]
    },
    {
      "cell_type": "markdown",
      "metadata": {
        "id": "mnIwPLF6FG4F"
      },
      "source": [
        "**9.** **Pandas**\n",
        "\n",
        "Pandas is one of the most powerful tools for dealing with financial data. First we need to import Pandas:"
      ]
    },
    {
      "cell_type": "code",
      "metadata": {
        "id": "k2jK0jN2FgQp"
      },
      "source": [
        "import pandas as pd"
      ],
      "execution_count": 203,
      "outputs": []
    },
    {
      "cell_type": "markdown",
      "metadata": {
        "id": "-nBcenVMFhVf"
      },
      "source": [
        "**My code:**"
      ]
    },
    {
      "cell_type": "code",
      "metadata": {
        "id": "aMKzpPHBFjg3"
      },
      "source": [
        "import pandas as pand"
      ],
      "execution_count": 204,
      "outputs": []
    },
    {
      "cell_type": "markdown",
      "metadata": {
        "id": "1FteqNArFlt2"
      },
      "source": [
        "**10.** **Series**\n",
        "\n",
        "Series is a one-dimensional labeled array capable of holding any data type (integers, strings, float, Python object, etc.)\n",
        "\n",
        "We create a Series by calling pd.Series(data), where data can be a dictionary, an array or just a scalar value."
      ]
    },
    {
      "cell_type": "code",
      "metadata": {
        "colab": {
          "base_uri": "https://localhost:8080/"
        },
        "id": "HWcG9O6IJVi6",
        "outputId": "6a3ba612-c263-45cd-c75d-c7defce892e4"
      },
      "source": [
        "price = [143.73, 145.83, 143.68, 144.02, 143.5, 142.62]\n",
        "s = pd.Series(price)\n",
        "print (s)"
      ],
      "execution_count": 205,
      "outputs": [
        {
          "output_type": "stream",
          "name": "stdout",
          "text": [
            "0    143.73\n",
            "1    145.83\n",
            "2    143.68\n",
            "3    144.02\n",
            "4    143.50\n",
            "5    142.62\n",
            "dtype: float64\n"
          ]
        }
      ]
    },
    {
      "cell_type": "markdown",
      "metadata": {
        "id": "rHeOTKzzJdTa"
      },
      "source": [
        "**My code:**"
      ]
    },
    {
      "cell_type": "code",
      "metadata": {
        "colab": {
          "base_uri": "https://localhost:8080/"
        },
        "id": "lxOa9DusJgR3",
        "outputId": "f93a981d-2f2c-47ec-b552-a666a13c3385"
      },
      "source": [
        "height = [143.73, 145.83, 143.68, 144.02, 143.5, 142.62]\n",
        "height_series = pand.Series(height)\n",
        "print (height_series)"
      ],
      "execution_count": 206,
      "outputs": [
        {
          "output_type": "stream",
          "name": "stdout",
          "text": [
            "0    143.73\n",
            "1    145.83\n",
            "2    143.68\n",
            "3    144.02\n",
            "4    143.50\n",
            "5    142.62\n",
            "dtype: float64\n"
          ]
        }
      ]
    },
    {
      "cell_type": "markdown",
      "metadata": {
        "id": "l5tBVdzQKPzd"
      },
      "source": [
        "**11.** We can customize the indices of a new Series:"
      ]
    },
    {
      "cell_type": "code",
      "metadata": {
        "colab": {
          "base_uri": "https://localhost:8080/"
        },
        "id": "cslTcbaEKhpL",
        "outputId": "6d4efa0d-32a5-4ef5-f73b-60a7c1ec549b"
      },
      "source": [
        "s = pd.Series(price, index = ['a', 'b', 'c', 'd', 'e', 'f'])\n",
        "print (s)"
      ],
      "execution_count": 207,
      "outputs": [
        {
          "output_type": "stream",
          "name": "stdout",
          "text": [
            "a    143.73\n",
            "b    145.83\n",
            "c    143.68\n",
            "d    144.02\n",
            "e    143.50\n",
            "f    142.62\n",
            "dtype: float64\n"
          ]
        }
      ]
    },
    {
      "cell_type": "markdown",
      "metadata": {
        "id": "ni3RdfNwKqB5"
      },
      "source": [
        "**My code:**"
      ]
    },
    {
      "cell_type": "code",
      "metadata": {
        "colab": {
          "base_uri": "https://localhost:8080/"
        },
        "id": "wZQ8cherKr8T",
        "outputId": "abcb383a-0aea-4e66-d9f2-e9f5774cade2"
      },
      "source": [
        "height_series = pd.Series(price, index = ['a', 'b', 'c', 'd', 'e', 'f'])\n",
        "print (height_series)"
      ],
      "execution_count": 208,
      "outputs": [
        {
          "output_type": "stream",
          "name": "stdout",
          "text": [
            "a    143.73\n",
            "b    145.83\n",
            "c    143.68\n",
            "d    144.02\n",
            "e    143.50\n",
            "f    142.62\n",
            "dtype: float64\n"
          ]
        }
      ]
    },
    {
      "cell_type": "markdown",
      "metadata": {
        "id": "q11tRH8_K5PP"
      },
      "source": [
        "**12.** Or we can change the indices of an existing Series:"
      ]
    },
    {
      "cell_type": "code",
      "metadata": {
        "colab": {
          "base_uri": "https://localhost:8080/"
        },
        "id": "vWTyLvt4LEdh",
        "outputId": "6466b416-8bab-442b-fa08-2bbb285b8a99"
      },
      "source": [
        "s.index = [6,5,4,3,2,1]\n",
        "print (s)"
      ],
      "execution_count": 209,
      "outputs": [
        {
          "output_type": "stream",
          "name": "stdout",
          "text": [
            "6    143.73\n",
            "5    145.83\n",
            "4    143.68\n",
            "3    144.02\n",
            "2    143.50\n",
            "1    142.62\n",
            "dtype: float64\n"
          ]
        }
      ]
    },
    {
      "cell_type": "markdown",
      "metadata": {
        "id": "5i3iV9ZbLpuu"
      },
      "source": [
        "**My code:**"
      ]
    },
    {
      "cell_type": "code",
      "metadata": {
        "colab": {
          "base_uri": "https://localhost:8080/"
        },
        "id": "LSmc2heYLsVU",
        "outputId": "c5b673b2-6b26-4845-ab39-f579eafb3b40"
      },
      "source": [
        "height_series.index = [6,5,4,3,2,1]\n",
        "print (height_series)"
      ],
      "execution_count": 210,
      "outputs": [
        {
          "output_type": "stream",
          "name": "stdout",
          "text": [
            "6    143.73\n",
            "5    145.83\n",
            "4    143.68\n",
            "3    144.02\n",
            "2    143.50\n",
            "1    142.62\n",
            "dtype: float64\n"
          ]
        }
      ]
    },
    {
      "cell_type": "markdown",
      "metadata": {
        "id": "p5JTgKw1Lygm"
      },
      "source": [
        "**13.** Series is like a list since it can be sliced by index:\n",
        "\n"
      ]
    },
    {
      "cell_type": "code",
      "metadata": {
        "colab": {
          "base_uri": "https://localhost:8080/"
        },
        "id": "JXqNuwtSMGoY",
        "outputId": "894ed3ac-9bd9-4d49-f656-875223f7fb44"
      },
      "source": [
        "print (s[1:])\n",
        "print (s[:-2])"
      ],
      "execution_count": 211,
      "outputs": [
        {
          "output_type": "stream",
          "name": "stdout",
          "text": [
            "5    145.83\n",
            "4    143.68\n",
            "3    144.02\n",
            "2    143.50\n",
            "1    142.62\n",
            "dtype: float64\n",
            "6    143.73\n",
            "5    145.83\n",
            "4    143.68\n",
            "3    144.02\n",
            "dtype: float64\n"
          ]
        }
      ]
    },
    {
      "cell_type": "markdown",
      "metadata": {
        "id": "zeEC2Qh8MLGU"
      },
      "source": [
        "**My date:**"
      ]
    },
    {
      "cell_type": "code",
      "metadata": {
        "colab": {
          "base_uri": "https://localhost:8080/"
        },
        "id": "mjAq85kNMNIB",
        "outputId": "299a16cc-f1a3-4e89-9148-96fa1bd01eba"
      },
      "source": [
        "print (height_series[1:])\n",
        "print (height_series[:-2])"
      ],
      "execution_count": 212,
      "outputs": [
        {
          "output_type": "stream",
          "name": "stdout",
          "text": [
            "5    145.83\n",
            "4    143.68\n",
            "3    144.02\n",
            "2    143.50\n",
            "1    142.62\n",
            "dtype: float64\n",
            "6    143.73\n",
            "5    145.83\n",
            "4    143.68\n",
            "3    144.02\n",
            "dtype: float64\n"
          ]
        }
      ]
    },
    {
      "cell_type": "markdown",
      "metadata": {
        "id": "31aOdymMMRJY"
      },
      "source": [
        "**14.** Series is also like a dictionary whose values can be set or fetched by index label:"
      ]
    },
    {
      "cell_type": "code",
      "metadata": {
        "colab": {
          "base_uri": "https://localhost:8080/"
        },
        "id": "V8CXmx6lMcA4",
        "outputId": "7ad48de5-585e-431a-ba91-70302a3e361d"
      },
      "source": [
        "print (s[4])\n",
        "s[4] = 0\n",
        "print (s)"
      ],
      "execution_count": 213,
      "outputs": [
        {
          "output_type": "stream",
          "name": "stdout",
          "text": [
            "143.68\n",
            "6    143.73\n",
            "5    145.83\n",
            "4      0.00\n",
            "3    144.02\n",
            "2    143.50\n",
            "1    142.62\n",
            "dtype: float64\n"
          ]
        }
      ]
    },
    {
      "cell_type": "markdown",
      "metadata": {
        "id": "VkAqD-oGMgDh"
      },
      "source": [
        "**My code:**"
      ]
    },
    {
      "cell_type": "code",
      "metadata": {
        "colab": {
          "base_uri": "https://localhost:8080/"
        },
        "id": "OpW1TV7sMi91",
        "outputId": "91c99714-671a-4d17-f2b2-4b74d5ba4e52"
      },
      "source": [
        "print (height_series[4])\n",
        "height_series[4] = 0\n",
        "print (height_series)"
      ],
      "execution_count": 214,
      "outputs": [
        {
          "output_type": "stream",
          "name": "stdout",
          "text": [
            "143.68\n",
            "6    143.73\n",
            "5    145.83\n",
            "4      0.00\n",
            "3    144.02\n",
            "2    143.50\n",
            "1    142.62\n",
            "dtype: float64\n"
          ]
        }
      ]
    },
    {
      "cell_type": "markdown",
      "metadata": {
        "id": "DKtoqyFYXkx7"
      },
      "source": [
        "**15.** Series can also have a name attribute, which will be used when we make up a Pandas DataFrame using several series."
      ]
    },
    {
      "cell_type": "code",
      "metadata": {
        "colab": {
          "base_uri": "https://localhost:8080/"
        },
        "id": "OYA7KQ8ZXoww",
        "outputId": "c164b946-554d-4a51-af27-b42c8429ae57"
      },
      "source": [
        "s = pd.Series(price, name = 'Apple Prices')\n",
        "print (s)\n",
        "print (s.name)"
      ],
      "execution_count": 215,
      "outputs": [
        {
          "output_type": "stream",
          "name": "stdout",
          "text": [
            "0    143.73\n",
            "1    145.83\n",
            "2    143.68\n",
            "3    144.02\n",
            "4    143.50\n",
            "5    142.62\n",
            "Name: Apple Prices, dtype: float64\n",
            "Apple Prices\n"
          ]
        }
      ]
    },
    {
      "cell_type": "markdown",
      "metadata": {
        "id": "3jz5jtrBXx3M"
      },
      "source": [
        "**My code:**"
      ]
    },
    {
      "cell_type": "code",
      "metadata": {
        "colab": {
          "base_uri": "https://localhost:8080/"
        },
        "id": "vZ4g4VvoX293",
        "outputId": "805fb395-eafd-4c6d-db12-200a68779117"
      },
      "source": [
        "height_series = pd.Series(height_series, name = \"UNAL Student's Heights\")\n",
        "print (height_series)\n",
        "print (height_series.name)"
      ],
      "execution_count": 216,
      "outputs": [
        {
          "output_type": "stream",
          "name": "stdout",
          "text": [
            "6    143.73\n",
            "5    145.83\n",
            "4      0.00\n",
            "3    144.02\n",
            "2    143.50\n",
            "1    142.62\n",
            "Name: UNAL Student's Heights, dtype: float64\n",
            "UNAL Student's Heights\n"
          ]
        }
      ]
    },
    {
      "cell_type": "markdown",
      "metadata": {
        "id": "h91r_0VrYJkf"
      },
      "source": [
        "**16.** We can get the statistical summaries of a Series:"
      ]
    },
    {
      "cell_type": "code",
      "metadata": {
        "colab": {
          "base_uri": "https://localhost:8080/"
        },
        "id": "89AlVkOdYthn",
        "outputId": "8479b589-5899-47c1-d0ce-0c389b577503"
      },
      "source": [
        "print (s.describe())"
      ],
      "execution_count": 217,
      "outputs": [
        {
          "output_type": "stream",
          "name": "stdout",
          "text": [
            "count      6.000000\n",
            "mean     143.896667\n",
            "std        1.059711\n",
            "min      142.620000\n",
            "25%      143.545000\n",
            "50%      143.705000\n",
            "75%      143.947500\n",
            "max      145.830000\n",
            "Name: Apple Prices, dtype: float64\n"
          ]
        }
      ]
    },
    {
      "cell_type": "markdown",
      "metadata": {
        "id": "scxHunxAY0fz"
      },
      "source": [
        "**My code:**"
      ]
    },
    {
      "cell_type": "code",
      "metadata": {
        "colab": {
          "base_uri": "https://localhost:8080/"
        },
        "id": "lPsZ2Bx0Y22k",
        "outputId": "7122cbb5-4d62-4b4f-a02d-5ba0d93ff944"
      },
      "source": [
        "print (height_series.describe())"
      ],
      "execution_count": 218,
      "outputs": [
        {
          "output_type": "stream",
          "name": "stdout",
          "text": [
            "count      6.000000\n",
            "mean     119.950000\n",
            "std       58.772717\n",
            "min        0.000000\n",
            "25%      142.840000\n",
            "50%      143.615000\n",
            "75%      143.947500\n",
            "max      145.830000\n",
            "Name: UNAL Student's Heights, dtype: float64\n"
          ]
        }
      ]
    },
    {
      "cell_type": "markdown",
      "metadata": {
        "id": "kS8ux3doY8G0"
      },
      "source": [
        "**17.** **Time Index**\n",
        "\n",
        "Pandas has a built-in function specifically for creating date indices: pd.date_range(). We use it to create a new index for our Series:"
      ]
    },
    {
      "cell_type": "code",
      "metadata": {
        "colab": {
          "base_uri": "https://localhost:8080/"
        },
        "id": "rdNpuYoRZno4",
        "outputId": "b9ab578b-73e2-4292-fe65-7764b0801245"
      },
      "source": [
        "time_index = pd.date_range('2017-01-01', periods = len(s), freq = 'D')\n",
        "print (time_index)\n",
        "s.index = time_index\n",
        "print (s)"
      ],
      "execution_count": 219,
      "outputs": [
        {
          "output_type": "stream",
          "name": "stdout",
          "text": [
            "DatetimeIndex(['2017-01-01', '2017-01-02', '2017-01-03', '2017-01-04',\n",
            "               '2017-01-05', '2017-01-06'],\n",
            "              dtype='datetime64[ns]', freq='D')\n",
            "2017-01-01    143.73\n",
            "2017-01-02    145.83\n",
            "2017-01-03    143.68\n",
            "2017-01-04    144.02\n",
            "2017-01-05    143.50\n",
            "2017-01-06    142.62\n",
            "Freq: D, Name: Apple Prices, dtype: float64\n"
          ]
        }
      ]
    },
    {
      "cell_type": "markdown",
      "metadata": {
        "id": "v3c9S4SoaDjs"
      },
      "source": [
        "**My code:**"
      ]
    },
    {
      "cell_type": "code",
      "metadata": {
        "colab": {
          "base_uri": "https://localhost:8080/"
        },
        "id": "Pv_rqZI9aGq2",
        "outputId": "aeb5605f-afd6-4356-cb1c-e78ff2a74356"
      },
      "source": [
        "indexes = pd.date_range('2017-01-01', periods = len(s), freq = 'Y')\n",
        "print (indexes)\n",
        "height_series.index = indexes\n",
        "print (height_series)"
      ],
      "execution_count": 220,
      "outputs": [
        {
          "output_type": "stream",
          "name": "stdout",
          "text": [
            "DatetimeIndex(['2017-12-31', '2018-12-31', '2019-12-31', '2020-12-31',\n",
            "               '2021-12-31', '2022-12-31'],\n",
            "              dtype='datetime64[ns]', freq='A-DEC')\n",
            "2017-12-31    143.73\n",
            "2018-12-31    145.83\n",
            "2019-12-31      0.00\n",
            "2020-12-31    144.02\n",
            "2021-12-31    143.50\n",
            "2022-12-31    142.62\n",
            "Freq: A-DEC, Name: UNAL Student's Heights, dtype: float64\n"
          ]
        }
      ]
    },
    {
      "cell_type": "markdown",
      "metadata": {
        "id": "FTkOm9u4aZim"
      },
      "source": [
        "**18.** Series are usually accessed using the iloc[] and loc[] methods. iloc[] is used to access elements by integer index, and loc[] is used to access the index of the series.\n",
        "\n",
        "iloc[] is necessary when the index of a series are integers, take our previous defined series as example:"
      ]
    },
    {
      "cell_type": "code",
      "metadata": {
        "colab": {
          "base_uri": "https://localhost:8080/"
        },
        "id": "6sm57nh9bf81",
        "outputId": "7f64182b-6541-49b3-d843-7b7646e95527"
      },
      "source": [
        "s.index = [6,5,4,3,2,1]\n",
        "print (s)\n",
        "print (s[1])"
      ],
      "execution_count": 221,
      "outputs": [
        {
          "output_type": "stream",
          "name": "stdout",
          "text": [
            "6    143.73\n",
            "5    145.83\n",
            "4    143.68\n",
            "3    144.02\n",
            "2    143.50\n",
            "1    142.62\n",
            "Name: Apple Prices, dtype: float64\n",
            "142.62\n"
          ]
        }
      ]
    },
    {
      "cell_type": "markdown",
      "metadata": {
        "id": "KKPWx7dzblak"
      },
      "source": [
        "**My code:**"
      ]
    },
    {
      "cell_type": "code",
      "metadata": {
        "colab": {
          "base_uri": "https://localhost:8080/"
        },
        "id": "saF8undIbnqq",
        "outputId": "971aec89-d209-4c6a-ebf3-f42238969d46"
      },
      "source": [
        "height_series.index = [6,5,4,3,2,1]\n",
        "print (height_series)\n",
        "print (height_series[2])"
      ],
      "execution_count": 222,
      "outputs": [
        {
          "output_type": "stream",
          "name": "stdout",
          "text": [
            "6    143.73\n",
            "5    145.83\n",
            "4      0.00\n",
            "3    144.02\n",
            "2    143.50\n",
            "1    142.62\n",
            "Name: UNAL Student's Heights, dtype: float64\n",
            "143.5\n"
          ]
        }
      ]
    },
    {
      "cell_type": "markdown",
      "metadata": {
        "id": "2oy63TUEb7i6"
      },
      "source": [
        "**19.** If we intended to take the second element of the series, we would make a mistake here, because the index are integers. In order to access to the element we want, we use iloc[] here:"
      ]
    },
    {
      "cell_type": "code",
      "metadata": {
        "colab": {
          "base_uri": "https://localhost:8080/"
        },
        "id": "VXGvLrKBcASz",
        "outputId": "39a0c37b-2168-4e90-bbdf-537aed0349ff"
      },
      "source": [
        "print (s.iloc[1])"
      ],
      "execution_count": 223,
      "outputs": [
        {
          "output_type": "stream",
          "name": "stdout",
          "text": [
            "145.83\n"
          ]
        }
      ]
    },
    {
      "cell_type": "markdown",
      "metadata": {
        "id": "6TxWHRc5cJt_"
      },
      "source": [
        "**My code:**"
      ]
    },
    {
      "cell_type": "code",
      "metadata": {
        "colab": {
          "base_uri": "https://localhost:8080/"
        },
        "id": "V_n1_StocLgu",
        "outputId": "45bd79cf-a780-4a73-fa61-7b41066d60e5"
      },
      "source": [
        "print (height_series.iloc[2])"
      ],
      "execution_count": 224,
      "outputs": [
        {
          "output_type": "stream",
          "name": "stdout",
          "text": [
            "0.0\n"
          ]
        }
      ]
    },
    {
      "cell_type": "markdown",
      "metadata": {
        "id": "zWiE0MeycmoV"
      },
      "source": [
        "**20.** While working with time series data, we often use time as the index. Pandas provides us with various methods to access the data by time index."
      ]
    },
    {
      "cell_type": "code",
      "metadata": {
        "colab": {
          "base_uri": "https://localhost:8080/"
        },
        "id": "LqS141H4crEU",
        "outputId": "959d27f1-e89d-4836-9bab-636ddc21a509"
      },
      "source": [
        "s.index = time_index\n",
        "print (s['2017-01-03'])"
      ],
      "execution_count": 185,
      "outputs": [
        {
          "output_type": "stream",
          "name": "stdout",
          "text": [
            "143.68\n"
          ]
        }
      ]
    },
    {
      "cell_type": "markdown",
      "metadata": {
        "id": "hcB8W-u8cz51"
      },
      "source": [
        "**My code:**"
      ]
    },
    {
      "cell_type": "code",
      "metadata": {
        "colab": {
          "base_uri": "https://localhost:8080/"
        },
        "id": "wAx41qW7c1yx",
        "outputId": "a4562463-b1d0-4979-f7d4-64773cd913d2"
      },
      "source": [
        "height_series.index = indexes\n",
        "print (height_series['2017-12-31'])"
      ],
      "execution_count": 187,
      "outputs": [
        {
          "output_type": "stream",
          "name": "stdout",
          "text": [
            "143.73\n"
          ]
        }
      ]
    },
    {
      "cell_type": "markdown",
      "metadata": {
        "id": "A8ab6TAndN81"
      },
      "source": [
        "**21.** We can even access to a range of dates:"
      ]
    },
    {
      "cell_type": "code",
      "metadata": {
        "colab": {
          "base_uri": "https://localhost:8080/"
        },
        "id": "q4I3hATrdRC_",
        "outputId": "f43b874c-25a1-4778-e4e1-e37d50ba2b81"
      },
      "source": [
        "print (s['2017-01-02':'2017-01-05'])"
      ],
      "execution_count": 189,
      "outputs": [
        {
          "output_type": "stream",
          "name": "stdout",
          "text": [
            "2017-01-02    145.83\n",
            "2017-01-03    143.68\n",
            "2017-01-04    144.02\n",
            "2017-01-05    143.50\n",
            "Freq: D, Name: Apple Prices, dtype: float64\n"
          ]
        }
      ]
    },
    {
      "cell_type": "markdown",
      "metadata": {
        "id": "aEWESb_EdVVD"
      },
      "source": [
        "**My code:**"
      ]
    },
    {
      "cell_type": "code",
      "metadata": {
        "colab": {
          "base_uri": "https://localhost:8080/"
        },
        "id": "OxD-e2X_dXWU",
        "outputId": "9682cdd8-b0f7-4229-e2d3-1b7e07c6b36f"
      },
      "source": [
        "print (height_series['2017-12-31':'2019-12-31'])"
      ],
      "execution_count": 191,
      "outputs": [
        {
          "output_type": "stream",
          "name": "stdout",
          "text": [
            "2017-12-31    143.73\n",
            "2018-12-31    145.83\n",
            "2019-12-31    143.68\n",
            "Freq: A-DEC, Name: UNAL Student's Heights, dtype: float64\n"
          ]
        }
      ]
    },
    {
      "cell_type": "markdown",
      "metadata": {
        "id": "LV9wxhsDdska"
      },
      "source": [
        "**22.** Series[] provides us a very flexible way to index data. We can add any condition in the square brackets:"
      ]
    },
    {
      "cell_type": "code",
      "metadata": {
        "colab": {
          "base_uri": "https://localhost:8080/"
        },
        "id": "I_WhrZi-d-wo",
        "outputId": "31532142-ea4c-4fec-cc68-8987c77fd339"
      },
      "source": [
        "print (s[s < np.mean(s)])\n",
        "print (s[(s > np.mean(s)) & (s < np.mean(s) + 1.64*np.std(s))])"
      ],
      "execution_count": 192,
      "outputs": [
        {
          "output_type": "stream",
          "name": "stdout",
          "text": [
            "2017-01-01    143.73\n",
            "2017-01-03    143.68\n",
            "2017-01-05    143.50\n",
            "2017-01-06    142.62\n",
            "Name: Apple Prices, dtype: float64\n",
            "2017-01-04    144.02\n",
            "Freq: D, Name: Apple Prices, dtype: float64\n"
          ]
        }
      ]
    },
    {
      "cell_type": "markdown",
      "metadata": {
        "id": "5I5Wffe7eGH1"
      },
      "source": [
        "**My code:**"
      ]
    },
    {
      "cell_type": "code",
      "metadata": {
        "colab": {
          "base_uri": "https://localhost:8080/"
        },
        "id": "TTF51fcSeH8Z",
        "outputId": "87214c5a-b1e0-45f6-ff21-024b83bace8f"
      },
      "source": [
        "print (height_series[height_series < nump.mean(s)])\n",
        "print (height_series[(height_series > nump.mean(height_series)) & (height_series < nump.mean(height_series) + 1.64*nump.std(height_series))])"
      ],
      "execution_count": 194,
      "outputs": [
        {
          "output_type": "stream",
          "name": "stdout",
          "text": [
            "2017-12-31    143.73\n",
            "2019-12-31    143.68\n",
            "2021-12-31    143.50\n",
            "2022-12-31    142.62\n",
            "Name: UNAL Student's Heights, dtype: float64\n",
            "2020-12-31    144.02\n",
            "Freq: A-DEC, Name: UNAL Student's Heights, dtype: float64\n"
          ]
        }
      ]
    },
    {
      "cell_type": "markdown",
      "metadata": {
        "id": "KXbHSqFoe3F7"
      },
      "source": [
        "As demonstrated, we can use logical operators like & (and), | (or) and ~ (not) to group multiple conditions."
      ]
    }
  ]
}